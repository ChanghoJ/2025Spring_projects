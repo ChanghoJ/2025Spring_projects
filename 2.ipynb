{
 "cells": [
  {
   "cell_type": "markdown",
   "id": "c8f9256af98115d3",
   "metadata": {},
   "source": [
    "- The financial crisis in 2008 may impact the investment in products, which is also likely to see a decrease in patent applications overall. The U.S. was the ground zero of the crisis and was probably mostly impacted by the crisis. Therefore, we expect to see an overall decrease in patent applications between 2007 to 2009, compared to the previous and post-financial crisis.\n",
    "- - Datasets: g_location_disambiguated.tsv, g_application.tsv, g_inventor_disambiguated.tsv\n",
    "- University dataset from https://hifld-geoplatform.hub.arcgis.com/datasets/geoplatform::colleges-and-universities/about"
   ]
  },
  {
   "cell_type": "code",
   "execution_count": 1,
   "id": "initial_id",
   "metadata": {
    "ExecuteTime": {
     "end_time": "2025-05-07T05:50:42.497487Z",
     "start_time": "2025-05-07T05:50:41.322562Z"
    },
    "collapsed": true
   },
   "outputs": [],
   "source": [
    "import pandas as pd\n",
    "import plotly.graph_objects as go\n",
    "import plotly.express as px\n",
    "import plotly.io as pio\n",
    "import json\n",
    "import requests"
   ]
  },
  {
   "cell_type": "code",
   "execution_count": 2,
   "id": "df046824ca20e984",
   "metadata": {
    "ExecuteTime": {
     "end_time": "2025-05-07T05:50:42.839525Z",
     "start_time": "2025-05-07T05:50:42.512869Z"
    }
   },
   "outputs": [],
   "source": [
    "loc_df = pd.read_csv(\"g_location_disambiguated.tsv\", sep=\"\\t\", header=0)"
   ]
  },
  {
   "cell_type": "code",
   "execution_count": 3,
   "id": "74ce259c124fc31f",
   "metadata": {
    "ExecuteTime": {
     "end_time": "2025-05-07T05:53:14.997981Z",
     "start_time": "2025-05-07T05:50:43.221996Z"
    }
   },
   "outputs": [],
   "source": [
    "inv_df = pd.read_csv(\"g_inventor_disambiguated.tsv\", sep=\"\\t\", header=0)"
   ]
  },
  {
   "cell_type": "code",
   "execution_count": 4,
   "id": "e8815c4f11043cd6",
   "metadata": {
    "ExecuteTime": {
     "end_time": "2025-05-07T05:53:15.775861Z",
     "start_time": "2025-05-07T05:53:15.560706Z"
    }
   },
   "outputs": [],
   "source": [
    "univ_df = pd.read_csv(\"Colleges_and_Universities_-3122497483864735259.csv\")"
   ]
  },
  {
   "cell_type": "code",
   "execution_count": 5,
   "id": "4b6832fd64af36a6",
   "metadata": {
    "ExecuteTime": {
     "end_time": "2025-05-07T05:53:19.894273Z",
     "start_time": "2025-05-07T05:53:15.870832Z"
    }
   },
   "outputs": [],
   "source": [
    "# https://carnegieclassifications.acenet.edu/carnegie-classification/classification-methodology/2025-institutional-classification/\n",
    "research_df = pd.read_excel(\"2025-Public-Data-File.xlsx\", sheet_name=\"data\")"
   ]
  },
  {
   "cell_type": "code",
   "execution_count": 6,
   "id": "947a4cba3231c13",
   "metadata": {
    "ExecuteTime": {
     "end_time": "2025-05-07T05:53:51.472677Z",
     "start_time": "2025-05-07T05:53:19.940512Z"
    }
   },
   "outputs": [],
   "source": [
    "# The merge code from chatgpt, I asked how to add location data to the inventor table\n",
    "inv_loc_df = inv_df.merge(\n",
    "    loc_df[['location_id', 'latitude', 'longitude', 'state_fips', 'county_fips', 'disambig_country']],\n",
    "    on=\"location_id\",\n",
    "    how=\"left\")"
   ]
  },
  {
   "cell_type": "code",
   "execution_count": 7,
   "id": "feb867ead3ab355",
   "metadata": {
    "ExecuteTime": {
     "end_time": "2025-05-07T05:53:51.909196Z",
     "start_time": "2025-05-07T05:53:51.792154Z"
    }
   },
   "outputs": [],
   "source": [
    "research_df = research_df[research_df['research2025'] == 1]\n",
    "reseach_uni_df = research_df.merge(\n",
    "    univ_df[[\"IPEDSID\", 'COUNTYFIPS', 'LATITUDE', 'LONGITUDE']],\n",
    "    left_on=\"unitid\",\n",
    "    right_on=\"IPEDSID\",\n",
    "    how=\"left\"\n",
    ")\n",
    "reseach_uni_df = reseach_uni_df.drop(columns=[\"IPEDSID\"])"
   ]
  },
  {
   "cell_type": "code",
   "execution_count": 8,
   "id": "ed841db5b87063fa",
   "metadata": {
    "ExecuteTime": {
     "end_time": "2025-05-07T05:54:21.400623Z",
     "start_time": "2025-05-07T05:53:52.198976Z"
    }
   },
   "outputs": [
    {
     "name": "stdout",
     "output_type": "stream",
     "text": [
      "11296809\n",
      "500000\n"
     ]
    }
   ],
   "source": [
    "us_inv_loc_df = inv_loc_df[inv_loc_df['disambig_country'] == 'US']\n",
    "# https://pandas.pydata.org/docs/reference/api/pandas.DataFrame.sample.html\n",
    "loc_sample_df = us_inv_loc_df.sample(n=500000, random_state=42)\n",
    "print(len(us_inv_loc_df))\n",
    "print(len(loc_sample_df))"
   ]
  },
  {
   "cell_type": "code",
   "execution_count": 9,
   "id": "3d8e5b1d5f573e3e",
   "metadata": {
    "ExecuteTime": {
     "end_time": "2025-05-07T05:54:39.750822Z",
     "start_time": "2025-05-07T05:54:22.478610Z"
    }
   },
   "outputs": [],
   "source": [
    "fig = go.Figure()\n",
    "\n",
    "# 🟦 Add individuals\n",
    "fig.add_trace(go.Scattergeo(\n",
    "    lon = loc_sample_df['longitude'],\n",
    "    lat = loc_sample_df['latitude'],\n",
    "    hovertext = loc_sample_df['location_id'],  # or individual ID\n",
    "    mode = 'markers',\n",
    "    marker=dict(\n",
    "        size=4,\n",
    "        color='blue',\n",
    "        opacity=0.6\n",
    "    ),\n",
    "    name='Patent'\n",
    "))\n",
    "\n",
    "# 🟥 Add universities\n",
    "fig.add_trace(go.Scattergeo(\n",
    "    lon = reseach_uni_df['LONGITUDE'],\n",
    "    lat = reseach_uni_df['LATITUDE'],\n",
    "    hovertext = reseach_uni_df['instnm'],\n",
    "    mode = 'markers',\n",
    "    marker=dict(\n",
    "        size=7,\n",
    "        color='red',\n",
    "        symbol='star'\n",
    "    ),\n",
    "    textposition='top center',\n",
    "    name='Universities'\n",
    "))\n",
    "\n",
    "# 🌎 Map layout\n",
    "fig.update_layout(\n",
    "    title='Individuals and Universities on USA Map',\n",
    "    geo=dict(\n",
    "        scope='usa',\n",
    "        showland=True,\n",
    "        landcolor='lightgray',\n",
    "        showlakes=True,\n",
    "        lakecolor='lightblue',\n",
    "    ),\n",
    "    legend=dict(\n",
    "        yanchor=\"top\",\n",
    "        y=0.99,\n",
    "        xanchor=\"left\",\n",
    "        x=0.01\n",
    "    )\n",
    ")\n",
    "\n",
    "pio.renderers.default = 'browser'\n",
    "fig.show()"
   ]
  },
  {
   "cell_type": "code",
   "execution_count": 10,
   "id": "1ba14736a7d9093a",
   "metadata": {
    "ExecuteTime": {
     "end_time": "2025-05-07T05:58:20.258805Z",
     "start_time": "2025-05-07T05:54:59.598269Z"
    }
   },
   "outputs": [
    {
     "name": "stderr",
     "output_type": "stream",
     "text": [
      "/var/folders/p9/bgpcjxgn0rz4pvkjs39ch9740000gn/T/ipykernel_2999/3531112622.py:5: SettingWithCopyWarning:\n",
      "\n",
      "\n",
      "A value is trying to be set on a copy of a slice from a DataFrame.\n",
      "Try using .loc[row_indexer,col_indexer] = value instead\n",
      "\n",
      "See the caveats in the documentation: https://pandas.pydata.org/pandas-docs/stable/user_guide/indexing.html#returning-a-view-versus-a-copy\n",
      "\n",
      "/var/folders/p9/bgpcjxgn0rz4pvkjs39ch9740000gn/T/ipykernel_2999/3531112622.py:6: SettingWithCopyWarning:\n",
      "\n",
      "\n",
      "A value is trying to be set on a copy of a slice from a DataFrame.\n",
      "Try using .loc[row_indexer,col_indexer] = value instead\n",
      "\n",
      "See the caveats in the documentation: https://pandas.pydata.org/pandas-docs/stable/user_guide/indexing.html#returning-a-view-versus-a-copy\n",
      "\n",
      "/var/folders/p9/bgpcjxgn0rz4pvkjs39ch9740000gn/T/ipykernel_2999/3531112622.py:9: SettingWithCopyWarning:\n",
      "\n",
      "\n",
      "A value is trying to be set on a copy of a slice from a DataFrame.\n",
      "Try using .loc[row_indexer,col_indexer] = value instead\n",
      "\n",
      "See the caveats in the documentation: https://pandas.pydata.org/pandas-docs/stable/user_guide/indexing.html#returning-a-view-versus-a-copy\n",
      "\n"
     ]
    },
    {
     "data": {
      "text/html": [
       "<div>\n",
       "<style scoped>\n",
       "    .dataframe tbody tr th:only-of-type {\n",
       "        vertical-align: middle;\n",
       "    }\n",
       "\n",
       "    .dataframe tbody tr th {\n",
       "        vertical-align: top;\n",
       "    }\n",
       "\n",
       "    .dataframe thead th {\n",
       "        text-align: right;\n",
       "    }\n",
       "</style>\n",
       "<table border=\"1\" class=\"dataframe\">\n",
       "  <thead>\n",
       "    <tr style=\"text-align: right;\">\n",
       "      <th></th>\n",
       "      <th>county_fips</th>\n",
       "      <th>count</th>\n",
       "    </tr>\n",
       "  </thead>\n",
       "  <tbody>\n",
       "    <tr>\n",
       "      <th>0</th>\n",
       "      <td>06085</td>\n",
       "      <td>962585</td>\n",
       "    </tr>\n",
       "    <tr>\n",
       "      <th>1</th>\n",
       "      <td>53033</td>\n",
       "      <td>377284</td>\n",
       "    </tr>\n",
       "    <tr>\n",
       "      <th>2</th>\n",
       "      <td>06073</td>\n",
       "      <td>356272</td>\n",
       "    </tr>\n",
       "    <tr>\n",
       "      <th>3</th>\n",
       "      <td>25017</td>\n",
       "      <td>297127</td>\n",
       "    </tr>\n",
       "    <tr>\n",
       "      <th>4</th>\n",
       "      <td>06037</td>\n",
       "      <td>296847</td>\n",
       "    </tr>\n",
       "  </tbody>\n",
       "</table>\n",
       "</div>"
      ],
      "text/plain": [
       "  county_fips   count\n",
       "0       06085  962585\n",
       "1       53033  377284\n",
       "2       06073  356272\n",
       "3       25017  297127\n",
       "4       06037  296847"
      ]
     },
     "execution_count": 10,
     "metadata": {},
     "output_type": "execute_result"
    }
   ],
   "source": [
    "## Drop rows with missing FIPS values\n",
    "clean_df = inv_loc_df.dropna(subset=['state_fips', 'county_fips'])\n",
    "\n",
    "# Convert to integers (handle float like 17.0 → 17)\n",
    "clean_df['state_fips'] = clean_df['state_fips'].astype(int)\n",
    "clean_df['county_fips'] = clean_df['county_fips'].astype(int)\n",
    "\n",
    "# Combine to full 5-digit county FIPS code (e.g., 17031 for Cook County, IL)\n",
    "clean_df['county_fips'] = (\n",
    "    clean_df['state_fips'].astype(str).str.zfill(2) +\n",
    "    clean_df['county_fips'].astype(str).str.zfill(3)\n",
    ")\n",
    "\n",
    "# Count individuals per county\n",
    "county_counts = clean_df['county_fips'].value_counts().reset_index()\n",
    "county_counts.columns = ['county_fips', 'count']\n",
    "county_counts[:5]"
   ]
  },
  {
   "cell_type": "code",
   "execution_count": 11,
   "id": "6fb49a7e0a614b44",
   "metadata": {
    "ExecuteTime": {
     "end_time": "2025-05-07T05:58:29.355805Z",
     "start_time": "2025-05-07T05:58:27.152189Z"
    }
   },
   "outputs": [],
   "source": [
    "# Download U.S. counties GeoJSON (simplified)\n",
    "geojson_url = \"https://raw.githubusercontent.com/plotly/datasets/master/geojson-counties-fips.json\"\n",
    "counties_geo = requests.get(geojson_url).json()"
   ]
  },
  {
   "cell_type": "code",
   "execution_count": 12,
   "id": "8822de696eba2a71",
   "metadata": {
    "ExecuteTime": {
     "end_time": "2025-05-07T05:58:45.515189Z",
     "start_time": "2025-05-07T05:58:31.953699Z"
    }
   },
   "outputs": [],
   "source": [
    "# Choropleth for individual density\n",
    "fig = px.choropleth(\n",
    "    county_counts,\n",
    "    geojson=counties_geo,\n",
    "    locations='county_fips',\n",
    "    color='count',\n",
    "    color_continuous_scale=\"Blues\",\n",
    "   # range_color=(0, 12),\n",
    "    scope=\"usa\",\n",
    "    labels={'count': 'Patents'},\n",
    "    title=\"Patent Density per County with Universities\"\n",
    ")\n",
    "\n",
    "# Add universities as points\n",
    "fig.add_trace(go.Scattergeo(\n",
    "    lon = reseach_uni_df['LONGITUDE'],\n",
    "    lat = reseach_uni_df['LATITUDE'],\n",
    "    hovertext = reseach_uni_df['instnm'],\n",
    "    mode = 'markers',\n",
    "    marker=dict(\n",
    "        size=7,\n",
    "        color='red',\n",
    "        symbol='star'\n",
    "    ),\n",
    "    name='Universities'\n",
    "))\n",
    "\n",
    "# Update layout for map styling\n",
    "#fig.update_geos(fitbounds=\"locations\", visible=False)\n",
    "fig.update_layout(margin={\"r\":0,\"t\":40,\"l\":0,\"b\":0})\n",
    "\n",
    "pio.renderers.default = 'browser'\n",
    "fig.show()"
   ]
  },
  {
   "cell_type": "code",
   "execution_count": 13,
   "id": "68b7d24d43a66d5",
   "metadata": {
    "ExecuteTime": {
     "end_time": "2025-05-07T05:59:10.293519Z",
     "start_time": "2025-05-07T05:59:10.106527Z"
    }
   },
   "outputs": [
    {
     "name": "stdout",
     "output_type": "stream",
     "text": [
      "                 count          mean           std    min     25%      50%  \\\n",
      "has_university                                                               \n",
      "False           3022.0   1623.593977   7647.321405    1.0    31.0    124.0   \n",
      "True             153.0  41576.032680  98580.299467  530.0  4368.0  13235.0   \n",
      "\n",
      "                    75%       max  \n",
      "has_university                     \n",
      "False             544.5  213359.0  \n",
      "True            35304.0  962585.0  \n"
     ]
    }
   ],
   "source": [
    "# 1. mean density of patent application count for university counties\n",
    "# - Add (total patent count for the county / total patent applications) for university counties\n",
    "# - Divided by number of counties occupied with universities\n",
    "# 2. mean density of patent application count for other than university counties\n",
    "\n",
    "univ_counties = set(reseach_uni_df['COUNTYFIPS'])\n",
    "\n",
    "# Flag whether each county has a university\n",
    "county_counts['has_university'] = county_counts['county_fips'].isin(univ_counties)\n",
    "\n",
    "# Compare average density\n",
    "summary = county_counts.groupby('has_university')['count'].describe()\n",
    "print(summary)"
   ]
  },
  {
   "cell_type": "code",
   "execution_count": 14,
   "id": "4fbb2111a1be6a41",
   "metadata": {
    "ExecuteTime": {
     "end_time": "2025-05-07T05:59:19.298408Z",
     "start_time": "2025-05-07T05:59:19.168056Z"
    }
   },
   "outputs": [
    {
     "data": {
      "text/html": [
       "<div>\n",
       "<style scoped>\n",
       "    .dataframe tbody tr th:only-of-type {\n",
       "        vertical-align: middle;\n",
       "    }\n",
       "\n",
       "    .dataframe tbody tr th {\n",
       "        vertical-align: top;\n",
       "    }\n",
       "\n",
       "    .dataframe thead th {\n",
       "        text-align: right;\n",
       "    }\n",
       "</style>\n",
       "<table border=\"1\" class=\"dataframe\">\n",
       "  <thead>\n",
       "    <tr style=\"text-align: right;\">\n",
       "      <th></th>\n",
       "      <th>count</th>\n",
       "      <th>mean</th>\n",
       "      <th>std</th>\n",
       "      <th>min</th>\n",
       "      <th>25%</th>\n",
       "      <th>50%</th>\n",
       "      <th>75%</th>\n",
       "      <th>max</th>\n",
       "    </tr>\n",
       "    <tr>\n",
       "      <th>has_university</th>\n",
       "      <th></th>\n",
       "      <th></th>\n",
       "      <th></th>\n",
       "      <th></th>\n",
       "      <th></th>\n",
       "      <th></th>\n",
       "      <th></th>\n",
       "      <th></th>\n",
       "    </tr>\n",
       "  </thead>\n",
       "  <tbody>\n",
       "    <tr>\n",
       "      <th>False</th>\n",
       "      <td>3022.0</td>\n",
       "      <td>1623.593977</td>\n",
       "      <td>7647.321405</td>\n",
       "      <td>1.0</td>\n",
       "      <td>31.0</td>\n",
       "      <td>124.0</td>\n",
       "      <td>544.5</td>\n",
       "      <td>213359.0</td>\n",
       "    </tr>\n",
       "    <tr>\n",
       "      <th>True</th>\n",
       "      <td>153.0</td>\n",
       "      <td>41576.032680</td>\n",
       "      <td>98580.299467</td>\n",
       "      <td>530.0</td>\n",
       "      <td>4368.0</td>\n",
       "      <td>13235.0</td>\n",
       "      <td>35304.0</td>\n",
       "      <td>962585.0</td>\n",
       "    </tr>\n",
       "  </tbody>\n",
       "</table>\n",
       "</div>"
      ],
      "text/plain": [
       "                 count          mean           std    min     25%      50%  \\\n",
       "has_university                                                               \n",
       "False           3022.0   1623.593977   7647.321405    1.0    31.0    124.0   \n",
       "True             153.0  41576.032680  98580.299467  530.0  4368.0  13235.0   \n",
       "\n",
       "                    75%       max  \n",
       "has_university                     \n",
       "False             544.5  213359.0  \n",
       "True            35304.0  962585.0  "
      ]
     },
     "execution_count": 14,
     "metadata": {},
     "output_type": "execute_result"
    }
   ],
   "source": [
    "summary"
   ]
  },
  {
   "cell_type": "code",
   "execution_count": null,
   "id": "db0ff8e218ef494e",
   "metadata": {
    "jupyter": {
     "is_executing": true
    }
   },
   "outputs": [],
   "source": []
  }
 ],
 "metadata": {
  "kernelspec": {
   "display_name": "Python 3",
   "language": "python",
   "name": "python3"
  },
  "language_info": {
   "codemirror_mode": {
    "name": "ipython",
    "version": 3
   },
   "file_extension": ".py",
   "mimetype": "text/x-python",
   "name": "python",
   "nbconvert_exporter": "python",
   "pygments_lexer": "ipython3",
   "version": "3.13.1"
  }
 },
 "nbformat": 4,
 "nbformat_minor": 5
}
