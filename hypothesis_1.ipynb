{
 "cells": [
  {
   "cell_type": "markdown",
   "id": "b87cbca0",
   "metadata": {},
   "source": [
    "# Hypothesis 1: Post-COVID Spatial Dispersion of Innovation\n",
    "- We hypothesize that the geographic distribution of patent filings in the U.S. became more dispersed after the COVID-19 pandemic (2020–2021). \n",
    "- This may be due to increased remote work flexibility, allowing inventors to file from less traditional, non-urban tech hubs. We expect to observe more filings from rural or non-coastal counties in the post-2021 period.\n",
    "- Datasets used here: ai_model_predictions.csv, g+inventor_disambiguated.tsv, g+location_disambiguated.tsv, g_application.tsv\n",
    "- We received some suggestions to state the threshold value selection: so we calculated the average papents each year and then used that as the threshold for calculations\n",
    "- We decided to approach it using graphs and statistical calculations.\n",
    "\n",
    "- We used ChatGPT and Stack Overflow along with documentations from [https://www.geeksforgeeks.org/python-plotly-tutorial/] and [https://www.google.com/url?sa=t&source=web&rct=j&opi=89978449&url=https://plotly.com/python/getting-started/&ved=2ahUKEwiEqbnAsKONAxXXjIkEHQyRGpAQFnoECBoQAQ&usg=AOvVaw1mJED6uweZJlLxt7sGXcz8] and [https://www.google.com/url?sa=t&source=web&rct=j&opi=89978449&url=https://www.datacamp.com/tutorial/python-plotly-express-tutorial&ved=2ahUKEwiEqbnAsKONAxXXjIkEHQyRGpAQFnoECEcQAQ&usg=AOvVaw1mxneo8ymr1SG5IvWA-ZmC]"
   ]
  },
  {
   "cell_type": "code",
   "execution_count": 1,
   "id": "8d45527d",
   "metadata": {},
   "outputs": [],
   "source": [
    "import geopandas as gpd\n",
    "import pandas as pd\n",
    "import matplotlib.pyplot as plt\n",
    "from shapely.geometry import Point\n",
    "import plotly.express as px\n",
    "from collections import Counter\n"
   ]
  },
  {
   "cell_type": "markdown",
   "id": "294d5665",
   "metadata": {},
   "source": [
    "# Import Files\n",
    "- All files have been imported in the /Data folder using the data_preparation.py python notebook code.\n"
   ]
  },
  {
   "cell_type": "code",
   "execution_count": 2,
   "id": "0d7aa8c1",
   "metadata": {},
   "outputs": [
    {
     "name": "stderr",
     "output_type": "stream",
     "text": [
      "/var/folders/p9/bgpcjxgn0rz4pvkjs39ch9740000gn/T/ipykernel_80897/2729122210.py:1: DtypeWarning: Columns (0) have mixed types. Specify dtype option on import or set low_memory=False.\n",
      "  ai_df = pd.read_csv(\"./Data/ai_model_predictions.csv\")\n",
      "/var/folders/p9/bgpcjxgn0rz4pvkjs39ch9740000gn/T/ipykernel_80897/2729122210.py:4: DtypeWarning: Columns (0,2,4) have mixed types. Specify dtype option on import or set low_memory=False.\n",
      "  application_df = pd.read_csv(\"./Data/g_application.tsv\", sep=\"\\t\")\n"
     ]
    }
   ],
   "source": [
    "ai_df = pd.read_csv(\"./Data/ai_model_predictions.csv\")\n",
    "inventor_df = pd.read_csv(\"./Data/g_inventor_disambiguated.tsv\", sep=\"\\t\")\n",
    "location_df = pd.read_csv(\"./Data/g_location_disambiguated.tsv\", sep=\"\\t\")\n",
    "application_df = pd.read_csv(\"./Data/g_application.tsv\", sep=\"\\t\")"
   ]
  },
  {
   "cell_type": "code",
   "execution_count": 3,
   "id": "d7664144",
   "metadata": {},
   "outputs": [],
   "source": [
    "ai_df = ai_df[ai_df[\"flag_patent\"] == 1].copy()\n",
    "ai_df[\"pub_dt\"] = pd.to_datetime(ai_df[\"pub_dt\"])\n",
    "ai_df[\"year\"] = ai_df[\"pub_dt\"].dt.year"
   ]
  },
  {
   "cell_type": "code",
   "execution_count": 4,
   "id": "002b403a",
   "metadata": {},
   "outputs": [
    {
     "data": {
      "text/html": [
       "<div>\n",
       "<style scoped>\n",
       "    .dataframe tbody tr th:only-of-type {\n",
       "        vertical-align: middle;\n",
       "    }\n",
       "\n",
       "    .dataframe tbody tr th {\n",
       "        vertical-align: top;\n",
       "    }\n",
       "\n",
       "    .dataframe thead th {\n",
       "        text-align: right;\n",
       "    }\n",
       "</style>\n",
       "<table border=\"1\" class=\"dataframe\">\n",
       "  <thead>\n",
       "    <tr style=\"text-align: right;\">\n",
       "      <th></th>\n",
       "      <th>doc_id</th>\n",
       "      <th>flag_patent</th>\n",
       "      <th>pub_dt</th>\n",
       "      <th>appl_id</th>\n",
       "      <th>predict50_any_ai</th>\n",
       "      <th>predict86_any_ai</th>\n",
       "      <th>predict93_any_ai</th>\n",
       "      <th>predict50_ml</th>\n",
       "      <th>predict86_ml</th>\n",
       "      <th>predict93_ml</th>\n",
       "      <th>...</th>\n",
       "      <th>predict86_hardware</th>\n",
       "      <th>predict93_hardware</th>\n",
       "      <th>ai_score_hardware</th>\n",
       "      <th>year</th>\n",
       "      <th>application_id</th>\n",
       "      <th>patent_id</th>\n",
       "      <th>patent_application_type</th>\n",
       "      <th>filing_date</th>\n",
       "      <th>series_code</th>\n",
       "      <th>rule_47_flag</th>\n",
       "    </tr>\n",
       "  </thead>\n",
       "  <tbody>\n",
       "    <tr>\n",
       "      <th>7898398</th>\n",
       "      <td>RE49766</td>\n",
       "      <td>1</td>\n",
       "      <td>2023-12-26</td>\n",
       "      <td>16560513</td>\n",
       "      <td>0</td>\n",
       "      <td>0</td>\n",
       "      <td>0</td>\n",
       "      <td>0</td>\n",
       "      <td>0</td>\n",
       "      <td>0</td>\n",
       "      <td>...</td>\n",
       "      <td>0</td>\n",
       "      <td>0</td>\n",
       "      <td>0.000016</td>\n",
       "      <td>2023</td>\n",
       "      <td>16560513</td>\n",
       "      <td>RE49766</td>\n",
       "      <td>16</td>\n",
       "      <td>2019-09-04</td>\n",
       "      <td>16</td>\n",
       "      <td>0.0</td>\n",
       "    </tr>\n",
       "    <tr>\n",
       "      <th>7898399</th>\n",
       "      <td>RE49767</td>\n",
       "      <td>1</td>\n",
       "      <td>2023-12-26</td>\n",
       "      <td>17396023</td>\n",
       "      <td>1</td>\n",
       "      <td>1</td>\n",
       "      <td>1</td>\n",
       "      <td>0</td>\n",
       "      <td>0</td>\n",
       "      <td>0</td>\n",
       "      <td>...</td>\n",
       "      <td>0</td>\n",
       "      <td>0</td>\n",
       "      <td>0.000361</td>\n",
       "      <td>2023</td>\n",
       "      <td>17396023</td>\n",
       "      <td>RE49767</td>\n",
       "      <td>17</td>\n",
       "      <td>2021-08-06</td>\n",
       "      <td>17</td>\n",
       "      <td>0.0</td>\n",
       "    </tr>\n",
       "    <tr>\n",
       "      <th>7898400</th>\n",
       "      <td>RE49768</td>\n",
       "      <td>1</td>\n",
       "      <td>2023-12-26</td>\n",
       "      <td>16902934</td>\n",
       "      <td>0</td>\n",
       "      <td>0</td>\n",
       "      <td>0</td>\n",
       "      <td>0</td>\n",
       "      <td>0</td>\n",
       "      <td>0</td>\n",
       "      <td>...</td>\n",
       "      <td>0</td>\n",
       "      <td>0</td>\n",
       "      <td>0.000984</td>\n",
       "      <td>2023</td>\n",
       "      <td>16902934</td>\n",
       "      <td>RE49768</td>\n",
       "      <td>16</td>\n",
       "      <td>2020-06-16</td>\n",
       "      <td>16</td>\n",
       "      <td>0.0</td>\n",
       "    </tr>\n",
       "    <tr>\n",
       "      <th>7898401</th>\n",
       "      <td>RE49769</td>\n",
       "      <td>1</td>\n",
       "      <td>2023-12-26</td>\n",
       "      <td>16850934</td>\n",
       "      <td>1</td>\n",
       "      <td>1</td>\n",
       "      <td>1</td>\n",
       "      <td>0</td>\n",
       "      <td>0</td>\n",
       "      <td>0</td>\n",
       "      <td>...</td>\n",
       "      <td>0</td>\n",
       "      <td>0</td>\n",
       "      <td>0.001543</td>\n",
       "      <td>2023</td>\n",
       "      <td>16850934</td>\n",
       "      <td>RE49769</td>\n",
       "      <td>16</td>\n",
       "      <td>2020-04-16</td>\n",
       "      <td>16</td>\n",
       "      <td>0.0</td>\n",
       "    </tr>\n",
       "    <tr>\n",
       "      <th>7898402</th>\n",
       "      <td>RE49770</td>\n",
       "      <td>1</td>\n",
       "      <td>2023-12-26</td>\n",
       "      <td>17241197</td>\n",
       "      <td>0</td>\n",
       "      <td>0</td>\n",
       "      <td>0</td>\n",
       "      <td>0</td>\n",
       "      <td>0</td>\n",
       "      <td>0</td>\n",
       "      <td>...</td>\n",
       "      <td>0</td>\n",
       "      <td>0</td>\n",
       "      <td>0.001013</td>\n",
       "      <td>2023</td>\n",
       "      <td>17241197</td>\n",
       "      <td>RE49770</td>\n",
       "      <td>17</td>\n",
       "      <td>2021-04-27</td>\n",
       "      <td>17</td>\n",
       "      <td>0.0</td>\n",
       "    </tr>\n",
       "  </tbody>\n",
       "</table>\n",
       "<p>5 rows × 46 columns</p>\n",
       "</div>"
      ],
      "text/plain": [
       "          doc_id  flag_patent     pub_dt   appl_id  predict50_any_ai  \\\n",
       "7898398  RE49766            1 2023-12-26  16560513                 0   \n",
       "7898399  RE49767            1 2023-12-26  17396023                 1   \n",
       "7898400  RE49768            1 2023-12-26  16902934                 0   \n",
       "7898401  RE49769            1 2023-12-26  16850934                 1   \n",
       "7898402  RE49770            1 2023-12-26  17241197                 0   \n",
       "\n",
       "         predict86_any_ai  predict93_any_ai  predict50_ml  predict86_ml  \\\n",
       "7898398                 0                 0             0             0   \n",
       "7898399                 1                 1             0             0   \n",
       "7898400                 0                 0             0             0   \n",
       "7898401                 1                 1             0             0   \n",
       "7898402                 0                 0             0             0   \n",
       "\n",
       "         predict93_ml  ...  predict86_hardware  predict93_hardware  \\\n",
       "7898398             0  ...                   0                   0   \n",
       "7898399             0  ...                   0                   0   \n",
       "7898400             0  ...                   0                   0   \n",
       "7898401             0  ...                   0                   0   \n",
       "7898402             0  ...                   0                   0   \n",
       "\n",
       "         ai_score_hardware  year  application_id  patent_id  \\\n",
       "7898398           0.000016  2023        16560513    RE49766   \n",
       "7898399           0.000361  2023        17396023    RE49767   \n",
       "7898400           0.000984  2023        16902934    RE49768   \n",
       "7898401           0.001543  2023        16850934    RE49769   \n",
       "7898402           0.001013  2023        17241197    RE49770   \n",
       "\n",
       "         patent_application_type  filing_date  series_code  rule_47_flag  \n",
       "7898398                       16   2019-09-04           16           0.0  \n",
       "7898399                       17   2021-08-06           17           0.0  \n",
       "7898400                       16   2020-06-16           16           0.0  \n",
       "7898401                       16   2020-04-16           16           0.0  \n",
       "7898402                       17   2021-04-27           17           0.0  \n",
       "\n",
       "[5 rows x 46 columns]"
      ]
     },
     "execution_count": 4,
     "metadata": {},
     "output_type": "execute_result"
    }
   ],
   "source": [
    "merged_df = pd.merge(ai_df, application_df, left_on='appl_id', right_on='application_id', how='left')\n",
    "merged_df[-5:]"
   ]
  },
  {
   "cell_type": "code",
   "execution_count": 5,
   "id": "fea7949e",
   "metadata": {},
   "outputs": [
    {
     "data": {
      "text/html": [
       "<div>\n",
       "<style scoped>\n",
       "    .dataframe tbody tr th:only-of-type {\n",
       "        vertical-align: middle;\n",
       "    }\n",
       "\n",
       "    .dataframe tbody tr th {\n",
       "        vertical-align: top;\n",
       "    }\n",
       "\n",
       "    .dataframe thead th {\n",
       "        text-align: right;\n",
       "    }\n",
       "</style>\n",
       "<table border=\"1\" class=\"dataframe\">\n",
       "  <thead>\n",
       "    <tr style=\"text-align: right;\">\n",
       "      <th></th>\n",
       "      <th>doc_id</th>\n",
       "      <th>flag_patent</th>\n",
       "      <th>pub_dt</th>\n",
       "      <th>predict50_any_ai</th>\n",
       "      <th>predict86_any_ai</th>\n",
       "      <th>predict93_any_ai</th>\n",
       "      <th>predict50_ml</th>\n",
       "      <th>predict86_ml</th>\n",
       "      <th>predict93_ml</th>\n",
       "      <th>ai_score_ml</th>\n",
       "      <th>...</th>\n",
       "      <th>predict86_hardware</th>\n",
       "      <th>predict93_hardware</th>\n",
       "      <th>ai_score_hardware</th>\n",
       "      <th>year</th>\n",
       "      <th>application_id</th>\n",
       "      <th>patent_id</th>\n",
       "      <th>patent_application_type</th>\n",
       "      <th>filing_date</th>\n",
       "      <th>series_code</th>\n",
       "      <th>rule_47_flag</th>\n",
       "    </tr>\n",
       "  </thead>\n",
       "  <tbody>\n",
       "    <tr>\n",
       "      <th>0</th>\n",
       "      <td>10000000</td>\n",
       "      <td>1</td>\n",
       "      <td>2018-06-19</td>\n",
       "      <td>0</td>\n",
       "      <td>0</td>\n",
       "      <td>0</td>\n",
       "      <td>0</td>\n",
       "      <td>0</td>\n",
       "      <td>0</td>\n",
       "      <td>0.000036</td>\n",
       "      <td>...</td>\n",
       "      <td>0</td>\n",
       "      <td>0</td>\n",
       "      <td>0.001062</td>\n",
       "      <td>2018</td>\n",
       "      <td>14643719</td>\n",
       "      <td>10000000</td>\n",
       "      <td>14</td>\n",
       "      <td>2015-03-10</td>\n",
       "      <td>14</td>\n",
       "      <td>0.0</td>\n",
       "    </tr>\n",
       "    <tr>\n",
       "      <th>1</th>\n",
       "      <td>10000001</td>\n",
       "      <td>1</td>\n",
       "      <td>2018-06-19</td>\n",
       "      <td>0</td>\n",
       "      <td>0</td>\n",
       "      <td>0</td>\n",
       "      <td>0</td>\n",
       "      <td>0</td>\n",
       "      <td>0</td>\n",
       "      <td>0.000183</td>\n",
       "      <td>...</td>\n",
       "      <td>0</td>\n",
       "      <td>0</td>\n",
       "      <td>0.000073</td>\n",
       "      <td>2018</td>\n",
       "      <td>14962323</td>\n",
       "      <td>10000001</td>\n",
       "      <td>14</td>\n",
       "      <td>2015-12-08</td>\n",
       "      <td>14</td>\n",
       "      <td>0.0</td>\n",
       "    </tr>\n",
       "    <tr>\n",
       "      <th>2</th>\n",
       "      <td>10000002</td>\n",
       "      <td>1</td>\n",
       "      <td>2018-06-19</td>\n",
       "      <td>1</td>\n",
       "      <td>1</td>\n",
       "      <td>1</td>\n",
       "      <td>0</td>\n",
       "      <td>0</td>\n",
       "      <td>0</td>\n",
       "      <td>0.000987</td>\n",
       "      <td>...</td>\n",
       "      <td>0</td>\n",
       "      <td>0</td>\n",
       "      <td>0.000369</td>\n",
       "      <td>2018</td>\n",
       "      <td>15107519</td>\n",
       "      <td>10000002</td>\n",
       "      <td>15</td>\n",
       "      <td>2014-12-30</td>\n",
       "      <td>15</td>\n",
       "      <td>0.0</td>\n",
       "    </tr>\n",
       "    <tr>\n",
       "      <th>3</th>\n",
       "      <td>10000003</td>\n",
       "      <td>1</td>\n",
       "      <td>2018-06-19</td>\n",
       "      <td>0</td>\n",
       "      <td>0</td>\n",
       "      <td>0</td>\n",
       "      <td>0</td>\n",
       "      <td>0</td>\n",
       "      <td>0</td>\n",
       "      <td>0.000066</td>\n",
       "      <td>...</td>\n",
       "      <td>0</td>\n",
       "      <td>0</td>\n",
       "      <td>0.000518</td>\n",
       "      <td>2018</td>\n",
       "      <td>14437961</td>\n",
       "      <td>10000003</td>\n",
       "      <td>14</td>\n",
       "      <td>2013-03-12</td>\n",
       "      <td>14</td>\n",
       "      <td>0.0</td>\n",
       "    </tr>\n",
       "    <tr>\n",
       "      <th>4</th>\n",
       "      <td>10000004</td>\n",
       "      <td>1</td>\n",
       "      <td>2018-06-19</td>\n",
       "      <td>0</td>\n",
       "      <td>0</td>\n",
       "      <td>0</td>\n",
       "      <td>0</td>\n",
       "      <td>0</td>\n",
       "      <td>0</td>\n",
       "      <td>0.000163</td>\n",
       "      <td>...</td>\n",
       "      <td>0</td>\n",
       "      <td>0</td>\n",
       "      <td>0.000068</td>\n",
       "      <td>2018</td>\n",
       "      <td>14973198</td>\n",
       "      <td>10000004</td>\n",
       "      <td>14</td>\n",
       "      <td>2015-12-17</td>\n",
       "      <td>14</td>\n",
       "      <td>0.0</td>\n",
       "    </tr>\n",
       "  </tbody>\n",
       "</table>\n",
       "<p>5 rows × 45 columns</p>\n",
       "</div>"
      ],
      "text/plain": [
       "     doc_id  flag_patent     pub_dt  predict50_any_ai  predict86_any_ai  \\\n",
       "0  10000000            1 2018-06-19                 0                 0   \n",
       "1  10000001            1 2018-06-19                 0                 0   \n",
       "2  10000002            1 2018-06-19                 1                 1   \n",
       "3  10000003            1 2018-06-19                 0                 0   \n",
       "4  10000004            1 2018-06-19                 0                 0   \n",
       "\n",
       "   predict93_any_ai  predict50_ml  predict86_ml  predict93_ml  ai_score_ml  \\\n",
       "0                 0             0             0             0     0.000036   \n",
       "1                 0             0             0             0     0.000183   \n",
       "2                 1             0             0             0     0.000987   \n",
       "3                 0             0             0             0     0.000066   \n",
       "4                 0             0             0             0     0.000163   \n",
       "\n",
       "   ...  predict86_hardware  predict93_hardware  ai_score_hardware  year  \\\n",
       "0  ...                   0                   0           0.001062  2018   \n",
       "1  ...                   0                   0           0.000073  2018   \n",
       "2  ...                   0                   0           0.000369  2018   \n",
       "3  ...                   0                   0           0.000518  2018   \n",
       "4  ...                   0                   0           0.000068  2018   \n",
       "\n",
       "   application_id  patent_id  patent_application_type  filing_date  \\\n",
       "0        14643719   10000000                       14   2015-03-10   \n",
       "1        14962323   10000001                       14   2015-12-08   \n",
       "2        15107519   10000002                       15   2014-12-30   \n",
       "3        14437961   10000003                       14   2013-03-12   \n",
       "4        14973198   10000004                       14   2015-12-17   \n",
       "\n",
       "   series_code  rule_47_flag  \n",
       "0           14           0.0  \n",
       "1           14           0.0  \n",
       "2           15           0.0  \n",
       "3           14           0.0  \n",
       "4           14           0.0  \n",
       "\n",
       "[5 rows x 45 columns]"
      ]
     },
     "execution_count": 5,
     "metadata": {},
     "output_type": "execute_result"
    }
   ],
   "source": [
    "merged_df.drop(columns=['appl_id'], inplace=True)\n",
    "merged_df[:5]"
   ]
  },
  {
   "cell_type": "code",
   "execution_count": 6,
   "id": "2f0e1e58",
   "metadata": {},
   "outputs": [
    {
     "data": {
      "text/html": [
       "<div>\n",
       "<style scoped>\n",
       "    .dataframe tbody tr th:only-of-type {\n",
       "        vertical-align: middle;\n",
       "    }\n",
       "\n",
       "    .dataframe tbody tr th {\n",
       "        vertical-align: top;\n",
       "    }\n",
       "\n",
       "    .dataframe thead th {\n",
       "        text-align: right;\n",
       "    }\n",
       "</style>\n",
       "<table border=\"1\" class=\"dataframe\">\n",
       "  <thead>\n",
       "    <tr style=\"text-align: right;\">\n",
       "      <th></th>\n",
       "      <th>doc_id</th>\n",
       "      <th>flag_patent</th>\n",
       "      <th>pub_dt</th>\n",
       "      <th>predict50_any_ai</th>\n",
       "      <th>predict86_any_ai</th>\n",
       "      <th>predict93_any_ai</th>\n",
       "      <th>predict50_ml</th>\n",
       "      <th>predict86_ml</th>\n",
       "      <th>predict93_ml</th>\n",
       "      <th>ai_score_ml</th>\n",
       "      <th>...</th>\n",
       "      <th>predict93_hardware</th>\n",
       "      <th>ai_score_hardware</th>\n",
       "      <th>year</th>\n",
       "      <th>application_id</th>\n",
       "      <th>patent_id</th>\n",
       "      <th>patent_application_type</th>\n",
       "      <th>filing_date</th>\n",
       "      <th>series_code</th>\n",
       "      <th>rule_47_flag</th>\n",
       "      <th>location_id</th>\n",
       "    </tr>\n",
       "  </thead>\n",
       "  <tbody>\n",
       "    <tr>\n",
       "      <th>18278673</th>\n",
       "      <td>RE49768</td>\n",
       "      <td>1</td>\n",
       "      <td>2023-12-26</td>\n",
       "      <td>0</td>\n",
       "      <td>0</td>\n",
       "      <td>0</td>\n",
       "      <td>0</td>\n",
       "      <td>0</td>\n",
       "      <td>0</td>\n",
       "      <td>0.000028</td>\n",
       "      <td>...</td>\n",
       "      <td>0</td>\n",
       "      <td>0.000984</td>\n",
       "      <td>2023</td>\n",
       "      <td>16902934</td>\n",
       "      <td>RE49768</td>\n",
       "      <td>16</td>\n",
       "      <td>2020-06-16</td>\n",
       "      <td>16</td>\n",
       "      <td>0.0</td>\n",
       "      <td>907f3ef5-16c8-11ed-9b5f-1234bde3cd05</td>\n",
       "    </tr>\n",
       "    <tr>\n",
       "      <th>18278674</th>\n",
       "      <td>RE49768</td>\n",
       "      <td>1</td>\n",
       "      <td>2023-12-26</td>\n",
       "      <td>0</td>\n",
       "      <td>0</td>\n",
       "      <td>0</td>\n",
       "      <td>0</td>\n",
       "      <td>0</td>\n",
       "      <td>0</td>\n",
       "      <td>0.000028</td>\n",
       "      <td>...</td>\n",
       "      <td>0</td>\n",
       "      <td>0.000984</td>\n",
       "      <td>2023</td>\n",
       "      <td>16902934</td>\n",
       "      <td>RE49768</td>\n",
       "      <td>16</td>\n",
       "      <td>2020-06-16</td>\n",
       "      <td>16</td>\n",
       "      <td>0.0</td>\n",
       "      <td>907f3ef5-16c8-11ed-9b5f-1234bde3cd05</td>\n",
       "    </tr>\n",
       "    <tr>\n",
       "      <th>18278675</th>\n",
       "      <td>RE49768</td>\n",
       "      <td>1</td>\n",
       "      <td>2023-12-26</td>\n",
       "      <td>0</td>\n",
       "      <td>0</td>\n",
       "      <td>0</td>\n",
       "      <td>0</td>\n",
       "      <td>0</td>\n",
       "      <td>0</td>\n",
       "      <td>0.000028</td>\n",
       "      <td>...</td>\n",
       "      <td>0</td>\n",
       "      <td>0.000984</td>\n",
       "      <td>2023</td>\n",
       "      <td>16902934</td>\n",
       "      <td>RE49768</td>\n",
       "      <td>16</td>\n",
       "      <td>2020-06-16</td>\n",
       "      <td>16</td>\n",
       "      <td>0.0</td>\n",
       "      <td>907f3ef5-16c8-11ed-9b5f-1234bde3cd05</td>\n",
       "    </tr>\n",
       "    <tr>\n",
       "      <th>18278676</th>\n",
       "      <td>RE49769</td>\n",
       "      <td>1</td>\n",
       "      <td>2023-12-26</td>\n",
       "      <td>1</td>\n",
       "      <td>1</td>\n",
       "      <td>1</td>\n",
       "      <td>0</td>\n",
       "      <td>0</td>\n",
       "      <td>0</td>\n",
       "      <td>0.000178</td>\n",
       "      <td>...</td>\n",
       "      <td>0</td>\n",
       "      <td>0.001543</td>\n",
       "      <td>2023</td>\n",
       "      <td>16850934</td>\n",
       "      <td>RE49769</td>\n",
       "      <td>16</td>\n",
       "      <td>2020-04-16</td>\n",
       "      <td>16</td>\n",
       "      <td>0.0</td>\n",
       "      <td>c1fc51de-16c7-11ed-9b5f-1234bde3cd05</td>\n",
       "    </tr>\n",
       "    <tr>\n",
       "      <th>18278677</th>\n",
       "      <td>RE49770</td>\n",
       "      <td>1</td>\n",
       "      <td>2023-12-26</td>\n",
       "      <td>0</td>\n",
       "      <td>0</td>\n",
       "      <td>0</td>\n",
       "      <td>0</td>\n",
       "      <td>0</td>\n",
       "      <td>0</td>\n",
       "      <td>0.000188</td>\n",
       "      <td>...</td>\n",
       "      <td>0</td>\n",
       "      <td>0.001013</td>\n",
       "      <td>2023</td>\n",
       "      <td>17241197</td>\n",
       "      <td>RE49770</td>\n",
       "      <td>17</td>\n",
       "      <td>2021-04-27</td>\n",
       "      <td>17</td>\n",
       "      <td>0.0</td>\n",
       "      <td>6e639a55-49af-11ed-9879-1234bde3cd05</td>\n",
       "    </tr>\n",
       "  </tbody>\n",
       "</table>\n",
       "<p>5 rows × 46 columns</p>\n",
       "</div>"
      ],
      "text/plain": [
       "           doc_id  flag_patent     pub_dt  predict50_any_ai  predict86_any_ai  \\\n",
       "18278673  RE49768            1 2023-12-26                 0                 0   \n",
       "18278674  RE49768            1 2023-12-26                 0                 0   \n",
       "18278675  RE49768            1 2023-12-26                 0                 0   \n",
       "18278676  RE49769            1 2023-12-26                 1                 1   \n",
       "18278677  RE49770            1 2023-12-26                 0                 0   \n",
       "\n",
       "          predict93_any_ai  predict50_ml  predict86_ml  predict93_ml  \\\n",
       "18278673                 0             0             0             0   \n",
       "18278674                 0             0             0             0   \n",
       "18278675                 0             0             0             0   \n",
       "18278676                 1             0             0             0   \n",
       "18278677                 0             0             0             0   \n",
       "\n",
       "          ai_score_ml  ...  predict93_hardware  ai_score_hardware  year  \\\n",
       "18278673     0.000028  ...                   0           0.000984  2023   \n",
       "18278674     0.000028  ...                   0           0.000984  2023   \n",
       "18278675     0.000028  ...                   0           0.000984  2023   \n",
       "18278676     0.000178  ...                   0           0.001543  2023   \n",
       "18278677     0.000188  ...                   0           0.001013  2023   \n",
       "\n",
       "          application_id  patent_id  patent_application_type  filing_date  \\\n",
       "18278673        16902934    RE49768                       16   2020-06-16   \n",
       "18278674        16902934    RE49768                       16   2020-06-16   \n",
       "18278675        16902934    RE49768                       16   2020-06-16   \n",
       "18278676        16850934    RE49769                       16   2020-04-16   \n",
       "18278677        17241197    RE49770                       17   2021-04-27   \n",
       "\n",
       "          series_code  rule_47_flag                           location_id  \n",
       "18278673           16           0.0  907f3ef5-16c8-11ed-9b5f-1234bde3cd05  \n",
       "18278674           16           0.0  907f3ef5-16c8-11ed-9b5f-1234bde3cd05  \n",
       "18278675           16           0.0  907f3ef5-16c8-11ed-9b5f-1234bde3cd05  \n",
       "18278676           16           0.0  c1fc51de-16c7-11ed-9b5f-1234bde3cd05  \n",
       "18278677           17           0.0  6e639a55-49af-11ed-9879-1234bde3cd05  \n",
       "\n",
       "[5 rows x 46 columns]"
      ]
     },
     "execution_count": 6,
     "metadata": {},
     "output_type": "execute_result"
    }
   ],
   "source": [
    "#merge for getting location_id in this merged dataset using the inventor dataset\n",
    "new_df = pd.merge(merged_df, inventor_df[['patent_id', 'location_id']], on='patent_id', how='left')\n",
    "new_df[-5:]"
   ]
  },
  {
   "cell_type": "code",
   "execution_count": 7,
   "id": "5e7132d0",
   "metadata": {},
   "outputs": [],
   "source": [
    "new_merged_df = pd.merge(new_df, location_df, on='location_id', how='left')\n"
   ]
  },
  {
   "cell_type": "code",
   "execution_count": 8,
   "id": "c1be0cc4",
   "metadata": {},
   "outputs": [
    {
     "data": {
      "text/html": [
       "<div>\n",
       "<style scoped>\n",
       "    .dataframe tbody tr th:only-of-type {\n",
       "        vertical-align: middle;\n",
       "    }\n",
       "\n",
       "    .dataframe tbody tr th {\n",
       "        vertical-align: top;\n",
       "    }\n",
       "\n",
       "    .dataframe thead th {\n",
       "        text-align: right;\n",
       "    }\n",
       "</style>\n",
       "<table border=\"1\" class=\"dataframe\">\n",
       "  <thead>\n",
       "    <tr style=\"text-align: right;\">\n",
       "      <th></th>\n",
       "      <th>doc_id</th>\n",
       "      <th>flag_patent</th>\n",
       "      <th>pub_dt</th>\n",
       "      <th>predict50_any_ai</th>\n",
       "      <th>predict86_any_ai</th>\n",
       "      <th>predict93_any_ai</th>\n",
       "      <th>predict50_ml</th>\n",
       "      <th>predict86_ml</th>\n",
       "      <th>predict93_ml</th>\n",
       "      <th>ai_score_ml</th>\n",
       "      <th>...</th>\n",
       "      <th>rule_47_flag</th>\n",
       "      <th>location_id</th>\n",
       "      <th>disambig_city</th>\n",
       "      <th>disambig_state</th>\n",
       "      <th>disambig_country</th>\n",
       "      <th>latitude</th>\n",
       "      <th>longitude</th>\n",
       "      <th>county</th>\n",
       "      <th>state_fips</th>\n",
       "      <th>county_fips</th>\n",
       "    </tr>\n",
       "  </thead>\n",
       "  <tbody>\n",
       "    <tr>\n",
       "      <th>0</th>\n",
       "      <td>10000000</td>\n",
       "      <td>1</td>\n",
       "      <td>2018-06-19</td>\n",
       "      <td>0</td>\n",
       "      <td>0</td>\n",
       "      <td>0</td>\n",
       "      <td>0</td>\n",
       "      <td>0</td>\n",
       "      <td>0</td>\n",
       "      <td>0.000036</td>\n",
       "      <td>...</td>\n",
       "      <td>0.0</td>\n",
       "      <td>198b0471-16c8-11ed-9b5f-1234bde3cd05</td>\n",
       "      <td>Manhattan Beach</td>\n",
       "      <td>CA</td>\n",
       "      <td>US</td>\n",
       "      <td>33.891599</td>\n",
       "      <td>-118.395124</td>\n",
       "      <td>Los Angeles</td>\n",
       "      <td>6.0</td>\n",
       "      <td>37.0</td>\n",
       "    </tr>\n",
       "    <tr>\n",
       "      <th>1</th>\n",
       "      <td>10000001</td>\n",
       "      <td>1</td>\n",
       "      <td>2018-06-19</td>\n",
       "      <td>0</td>\n",
       "      <td>0</td>\n",
       "      <td>0</td>\n",
       "      <td>0</td>\n",
       "      <td>0</td>\n",
       "      <td>0</td>\n",
       "      <td>0.000183</td>\n",
       "      <td>...</td>\n",
       "      <td>0.0</td>\n",
       "      <td>3eb37495-16c8-11ed-9b5f-1234bde3cd05</td>\n",
       "      <td>Ansan-si</td>\n",
       "      <td>NaN</td>\n",
       "      <td>KR</td>\n",
       "      <td>37.321715</td>\n",
       "      <td>126.830860</td>\n",
       "      <td>NaN</td>\n",
       "      <td>NaN</td>\n",
       "      <td>NaN</td>\n",
       "    </tr>\n",
       "    <tr>\n",
       "      <th>2</th>\n",
       "      <td>10000001</td>\n",
       "      <td>1</td>\n",
       "      <td>2018-06-19</td>\n",
       "      <td>0</td>\n",
       "      <td>0</td>\n",
       "      <td>0</td>\n",
       "      <td>0</td>\n",
       "      <td>0</td>\n",
       "      <td>0</td>\n",
       "      <td>0.000183</td>\n",
       "      <td>...</td>\n",
       "      <td>0.0</td>\n",
       "      <td>6c4ba08f-16c8-11ed-9b5f-1234bde3cd05</td>\n",
       "      <td>Gunpo-si</td>\n",
       "      <td>NaN</td>\n",
       "      <td>KR</td>\n",
       "      <td>37.361523</td>\n",
       "      <td>126.934903</td>\n",
       "      <td>NaN</td>\n",
       "      <td>NaN</td>\n",
       "      <td>NaN</td>\n",
       "    </tr>\n",
       "    <tr>\n",
       "      <th>3</th>\n",
       "      <td>10000002</td>\n",
       "      <td>1</td>\n",
       "      <td>2018-06-19</td>\n",
       "      <td>1</td>\n",
       "      <td>1</td>\n",
       "      <td>1</td>\n",
       "      <td>0</td>\n",
       "      <td>0</td>\n",
       "      <td>0</td>\n",
       "      <td>0.000987</td>\n",
       "      <td>...</td>\n",
       "      <td>0.0</td>\n",
       "      <td>755a6338-16c8-11ed-9b5f-1234bde3cd05</td>\n",
       "      <td>Yongin-si</td>\n",
       "      <td>NaN</td>\n",
       "      <td>KR</td>\n",
       "      <td>37.240574</td>\n",
       "      <td>127.178557</td>\n",
       "      <td>NaN</td>\n",
       "      <td>NaN</td>\n",
       "      <td>NaN</td>\n",
       "    </tr>\n",
       "    <tr>\n",
       "      <th>4</th>\n",
       "      <td>10000002</td>\n",
       "      <td>1</td>\n",
       "      <td>2018-06-19</td>\n",
       "      <td>1</td>\n",
       "      <td>1</td>\n",
       "      <td>1</td>\n",
       "      <td>0</td>\n",
       "      <td>0</td>\n",
       "      <td>0</td>\n",
       "      <td>0.000987</td>\n",
       "      <td>...</td>\n",
       "      <td>0.0</td>\n",
       "      <td>755a6338-16c8-11ed-9b5f-1234bde3cd05</td>\n",
       "      <td>Yongin-si</td>\n",
       "      <td>NaN</td>\n",
       "      <td>KR</td>\n",
       "      <td>37.240574</td>\n",
       "      <td>127.178557</td>\n",
       "      <td>NaN</td>\n",
       "      <td>NaN</td>\n",
       "      <td>NaN</td>\n",
       "    </tr>\n",
       "  </tbody>\n",
       "</table>\n",
       "<p>5 rows × 54 columns</p>\n",
       "</div>"
      ],
      "text/plain": [
       "     doc_id  flag_patent     pub_dt  predict50_any_ai  predict86_any_ai  \\\n",
       "0  10000000            1 2018-06-19                 0                 0   \n",
       "1  10000001            1 2018-06-19                 0                 0   \n",
       "2  10000001            1 2018-06-19                 0                 0   \n",
       "3  10000002            1 2018-06-19                 1                 1   \n",
       "4  10000002            1 2018-06-19                 1                 1   \n",
       "\n",
       "   predict93_any_ai  predict50_ml  predict86_ml  predict93_ml  ai_score_ml  \\\n",
       "0                 0             0             0             0     0.000036   \n",
       "1                 0             0             0             0     0.000183   \n",
       "2                 0             0             0             0     0.000183   \n",
       "3                 1             0             0             0     0.000987   \n",
       "4                 1             0             0             0     0.000987   \n",
       "\n",
       "   ...  rule_47_flag                           location_id    disambig_city  \\\n",
       "0  ...           0.0  198b0471-16c8-11ed-9b5f-1234bde3cd05  Manhattan Beach   \n",
       "1  ...           0.0  3eb37495-16c8-11ed-9b5f-1234bde3cd05         Ansan-si   \n",
       "2  ...           0.0  6c4ba08f-16c8-11ed-9b5f-1234bde3cd05         Gunpo-si   \n",
       "3  ...           0.0  755a6338-16c8-11ed-9b5f-1234bde3cd05        Yongin-si   \n",
       "4  ...           0.0  755a6338-16c8-11ed-9b5f-1234bde3cd05        Yongin-si   \n",
       "\n",
       "   disambig_state  disambig_country   latitude   longitude       county  \\\n",
       "0              CA                US  33.891599 -118.395124  Los Angeles   \n",
       "1             NaN                KR  37.321715  126.830860          NaN   \n",
       "2             NaN                KR  37.361523  126.934903          NaN   \n",
       "3             NaN                KR  37.240574  127.178557          NaN   \n",
       "4             NaN                KR  37.240574  127.178557          NaN   \n",
       "\n",
       "   state_fips  county_fips  \n",
       "0         6.0         37.0  \n",
       "1         NaN          NaN  \n",
       "2         NaN          NaN  \n",
       "3         NaN          NaN  \n",
       "4         NaN          NaN  \n",
       "\n",
       "[5 rows x 54 columns]"
      ]
     },
     "execution_count": 8,
     "metadata": {},
     "output_type": "execute_result"
    }
   ],
   "source": [
    "new_merged_df[:5]"
   ]
  },
  {
   "cell_type": "code",
   "execution_count": 9,
   "id": "f2813eaf",
   "metadata": {},
   "outputs": [
    {
     "data": {
      "text/html": [
       "<div>\n",
       "<style scoped>\n",
       "    .dataframe tbody tr th:only-of-type {\n",
       "        vertical-align: middle;\n",
       "    }\n",
       "\n",
       "    .dataframe tbody tr th {\n",
       "        vertical-align: top;\n",
       "    }\n",
       "\n",
       "    .dataframe thead th {\n",
       "        text-align: right;\n",
       "    }\n",
       "</style>\n",
       "<table border=\"1\" class=\"dataframe\">\n",
       "  <thead>\n",
       "    <tr style=\"text-align: right;\">\n",
       "      <th></th>\n",
       "      <th>doc_id</th>\n",
       "      <th>flag_patent</th>\n",
       "      <th>pub_dt</th>\n",
       "      <th>predict50_any_ai</th>\n",
       "      <th>predict86_any_ai</th>\n",
       "      <th>predict93_any_ai</th>\n",
       "      <th>predict50_ml</th>\n",
       "      <th>predict86_ml</th>\n",
       "      <th>predict93_ml</th>\n",
       "      <th>ai_score_ml</th>\n",
       "      <th>...</th>\n",
       "      <th>rule_47_flag</th>\n",
       "      <th>location_id</th>\n",
       "      <th>disambig_city</th>\n",
       "      <th>disambig_state</th>\n",
       "      <th>disambig_country</th>\n",
       "      <th>latitude</th>\n",
       "      <th>longitude</th>\n",
       "      <th>county</th>\n",
       "      <th>state_fips</th>\n",
       "      <th>county_fips</th>\n",
       "    </tr>\n",
       "  </thead>\n",
       "  <tbody>\n",
       "    <tr>\n",
       "      <th>18278673</th>\n",
       "      <td>RE49768</td>\n",
       "      <td>1</td>\n",
       "      <td>2023-12-26</td>\n",
       "      <td>0</td>\n",
       "      <td>0</td>\n",
       "      <td>0</td>\n",
       "      <td>0</td>\n",
       "      <td>0</td>\n",
       "      <td>0</td>\n",
       "      <td>0.000028</td>\n",
       "      <td>...</td>\n",
       "      <td>0.0</td>\n",
       "      <td>907f3ef5-16c8-11ed-9b5f-1234bde3cd05</td>\n",
       "      <td>Taoyuan</td>\n",
       "      <td>NaN</td>\n",
       "      <td>TW</td>\n",
       "      <td>24.992999</td>\n",
       "      <td>121.301000</td>\n",
       "      <td>NaN</td>\n",
       "      <td>NaN</td>\n",
       "      <td>NaN</td>\n",
       "    </tr>\n",
       "    <tr>\n",
       "      <th>18278674</th>\n",
       "      <td>RE49768</td>\n",
       "      <td>1</td>\n",
       "      <td>2023-12-26</td>\n",
       "      <td>0</td>\n",
       "      <td>0</td>\n",
       "      <td>0</td>\n",
       "      <td>0</td>\n",
       "      <td>0</td>\n",
       "      <td>0</td>\n",
       "      <td>0.000028</td>\n",
       "      <td>...</td>\n",
       "      <td>0.0</td>\n",
       "      <td>907f3ef5-16c8-11ed-9b5f-1234bde3cd05</td>\n",
       "      <td>Taoyuan</td>\n",
       "      <td>NaN</td>\n",
       "      <td>TW</td>\n",
       "      <td>24.992999</td>\n",
       "      <td>121.301000</td>\n",
       "      <td>NaN</td>\n",
       "      <td>NaN</td>\n",
       "      <td>NaN</td>\n",
       "    </tr>\n",
       "    <tr>\n",
       "      <th>18278675</th>\n",
       "      <td>RE49768</td>\n",
       "      <td>1</td>\n",
       "      <td>2023-12-26</td>\n",
       "      <td>0</td>\n",
       "      <td>0</td>\n",
       "      <td>0</td>\n",
       "      <td>0</td>\n",
       "      <td>0</td>\n",
       "      <td>0</td>\n",
       "      <td>0.000028</td>\n",
       "      <td>...</td>\n",
       "      <td>0.0</td>\n",
       "      <td>907f3ef5-16c8-11ed-9b5f-1234bde3cd05</td>\n",
       "      <td>Taoyuan</td>\n",
       "      <td>NaN</td>\n",
       "      <td>TW</td>\n",
       "      <td>24.992999</td>\n",
       "      <td>121.301000</td>\n",
       "      <td>NaN</td>\n",
       "      <td>NaN</td>\n",
       "      <td>NaN</td>\n",
       "    </tr>\n",
       "    <tr>\n",
       "      <th>18278676</th>\n",
       "      <td>RE49769</td>\n",
       "      <td>1</td>\n",
       "      <td>2023-12-26</td>\n",
       "      <td>1</td>\n",
       "      <td>1</td>\n",
       "      <td>1</td>\n",
       "      <td>0</td>\n",
       "      <td>0</td>\n",
       "      <td>0</td>\n",
       "      <td>0.000178</td>\n",
       "      <td>...</td>\n",
       "      <td>0.0</td>\n",
       "      <td>c1fc51de-16c7-11ed-9b5f-1234bde3cd05</td>\n",
       "      <td>Encinitas</td>\n",
       "      <td>CA</td>\n",
       "      <td>US</td>\n",
       "      <td>33.036987</td>\n",
       "      <td>-117.291982</td>\n",
       "      <td>San Diego</td>\n",
       "      <td>6.0</td>\n",
       "      <td>73.0</td>\n",
       "    </tr>\n",
       "    <tr>\n",
       "      <th>18278677</th>\n",
       "      <td>RE49770</td>\n",
       "      <td>1</td>\n",
       "      <td>2023-12-26</td>\n",
       "      <td>0</td>\n",
       "      <td>0</td>\n",
       "      <td>0</td>\n",
       "      <td>0</td>\n",
       "      <td>0</td>\n",
       "      <td>0</td>\n",
       "      <td>0.000188</td>\n",
       "      <td>...</td>\n",
       "      <td>0.0</td>\n",
       "      <td>6e639a55-49af-11ed-9879-1234bde3cd05</td>\n",
       "      <td>Nam-dong</td>\n",
       "      <td>NaN</td>\n",
       "      <td>KR</td>\n",
       "      <td>37.224092</td>\n",
       "      <td>127.201236</td>\n",
       "      <td>NaN</td>\n",
       "      <td>NaN</td>\n",
       "      <td>NaN</td>\n",
       "    </tr>\n",
       "  </tbody>\n",
       "</table>\n",
       "<p>5 rows × 54 columns</p>\n",
       "</div>"
      ],
      "text/plain": [
       "           doc_id  flag_patent     pub_dt  predict50_any_ai  predict86_any_ai  \\\n",
       "18278673  RE49768            1 2023-12-26                 0                 0   \n",
       "18278674  RE49768            1 2023-12-26                 0                 0   \n",
       "18278675  RE49768            1 2023-12-26                 0                 0   \n",
       "18278676  RE49769            1 2023-12-26                 1                 1   \n",
       "18278677  RE49770            1 2023-12-26                 0                 0   \n",
       "\n",
       "          predict93_any_ai  predict50_ml  predict86_ml  predict93_ml  \\\n",
       "18278673                 0             0             0             0   \n",
       "18278674                 0             0             0             0   \n",
       "18278675                 0             0             0             0   \n",
       "18278676                 1             0             0             0   \n",
       "18278677                 0             0             0             0   \n",
       "\n",
       "          ai_score_ml  ...  rule_47_flag  \\\n",
       "18278673     0.000028  ...           0.0   \n",
       "18278674     0.000028  ...           0.0   \n",
       "18278675     0.000028  ...           0.0   \n",
       "18278676     0.000178  ...           0.0   \n",
       "18278677     0.000188  ...           0.0   \n",
       "\n",
       "                                   location_id  disambig_city  disambig_state  \\\n",
       "18278673  907f3ef5-16c8-11ed-9b5f-1234bde3cd05        Taoyuan             NaN   \n",
       "18278674  907f3ef5-16c8-11ed-9b5f-1234bde3cd05        Taoyuan             NaN   \n",
       "18278675  907f3ef5-16c8-11ed-9b5f-1234bde3cd05        Taoyuan             NaN   \n",
       "18278676  c1fc51de-16c7-11ed-9b5f-1234bde3cd05      Encinitas              CA   \n",
       "18278677  6e639a55-49af-11ed-9879-1234bde3cd05       Nam-dong             NaN   \n",
       "\n",
       "          disambig_country   latitude   longitude     county  state_fips  \\\n",
       "18278673                TW  24.992999  121.301000        NaN         NaN   \n",
       "18278674                TW  24.992999  121.301000        NaN         NaN   \n",
       "18278675                TW  24.992999  121.301000        NaN         NaN   \n",
       "18278676                US  33.036987 -117.291982  San Diego         6.0   \n",
       "18278677                KR  37.224092  127.201236        NaN         NaN   \n",
       "\n",
       "          county_fips  \n",
       "18278673          NaN  \n",
       "18278674          NaN  \n",
       "18278675          NaN  \n",
       "18278676         73.0  \n",
       "18278677          NaN  \n",
       "\n",
       "[5 rows x 54 columns]"
      ]
     },
     "execution_count": 9,
     "metadata": {},
     "output_type": "execute_result"
    }
   ],
   "source": [
    "new_merged_df[-5:]"
   ]
  },
  {
   "cell_type": "code",
   "execution_count": 10,
   "id": "3ca005c0",
   "metadata": {},
   "outputs": [
    {
     "name": "stderr",
     "output_type": "stream",
     "text": [
      "/var/folders/p9/bgpcjxgn0rz4pvkjs39ch9740000gn/T/ipykernel_80897/3921035098.py:2: SettingWithCopyWarning: \n",
      "A value is trying to be set on a copy of a slice from a DataFrame\n",
      "\n",
      "See the caveats in the documentation: https://pandas.pydata.org/pandas-docs/stable/user_guide/indexing.html#returning-a-view-versus-a-copy\n",
      "  df.dropna(subset=[\"county\",\"state_fips\", \"county_fips\", \"year\"], inplace=True)\n"
     ]
    }
   ],
   "source": [
    "df = new_merged_df[new_merged_df['disambig_country'] == 'US']\n",
    "df.dropna(subset=[\"county\",\"state_fips\", \"county_fips\", \"year\"], inplace=True)"
   ]
  },
  {
   "cell_type": "code",
   "execution_count": 11,
   "id": "a9ce38a1",
   "metadata": {},
   "outputs": [
    {
     "data": {
      "text/html": [
       "<div>\n",
       "<style scoped>\n",
       "    .dataframe tbody tr th:only-of-type {\n",
       "        vertical-align: middle;\n",
       "    }\n",
       "\n",
       "    .dataframe tbody tr th {\n",
       "        vertical-align: top;\n",
       "    }\n",
       "\n",
       "    .dataframe thead th {\n",
       "        text-align: right;\n",
       "    }\n",
       "</style>\n",
       "<table border=\"1\" class=\"dataframe\">\n",
       "  <thead>\n",
       "    <tr style=\"text-align: right;\">\n",
       "      <th></th>\n",
       "      <th>doc_id</th>\n",
       "      <th>flag_patent</th>\n",
       "      <th>pub_dt</th>\n",
       "      <th>predict50_any_ai</th>\n",
       "      <th>predict86_any_ai</th>\n",
       "      <th>predict93_any_ai</th>\n",
       "      <th>predict50_ml</th>\n",
       "      <th>predict86_ml</th>\n",
       "      <th>predict93_ml</th>\n",
       "      <th>ai_score_ml</th>\n",
       "      <th>...</th>\n",
       "      <th>rule_47_flag</th>\n",
       "      <th>location_id</th>\n",
       "      <th>disambig_city</th>\n",
       "      <th>disambig_state</th>\n",
       "      <th>disambig_country</th>\n",
       "      <th>latitude</th>\n",
       "      <th>longitude</th>\n",
       "      <th>county</th>\n",
       "      <th>state_fips</th>\n",
       "      <th>county_fips</th>\n",
       "    </tr>\n",
       "  </thead>\n",
       "  <tbody>\n",
       "    <tr>\n",
       "      <th>0</th>\n",
       "      <td>10000000</td>\n",
       "      <td>1</td>\n",
       "      <td>2018-06-19</td>\n",
       "      <td>0</td>\n",
       "      <td>0</td>\n",
       "      <td>0</td>\n",
       "      <td>0</td>\n",
       "      <td>0</td>\n",
       "      <td>0</td>\n",
       "      <td>0.000036</td>\n",
       "      <td>...</td>\n",
       "      <td>0.0</td>\n",
       "      <td>198b0471-16c8-11ed-9b5f-1234bde3cd05</td>\n",
       "      <td>Manhattan Beach</td>\n",
       "      <td>CA</td>\n",
       "      <td>US</td>\n",
       "      <td>33.891599</td>\n",
       "      <td>-118.395124</td>\n",
       "      <td>Los Angeles</td>\n",
       "      <td>6.0</td>\n",
       "      <td>37.0</td>\n",
       "    </tr>\n",
       "    <tr>\n",
       "      <th>15</th>\n",
       "      <td>10000007</td>\n",
       "      <td>1</td>\n",
       "      <td>2018-06-19</td>\n",
       "      <td>0</td>\n",
       "      <td>0</td>\n",
       "      <td>0</td>\n",
       "      <td>0</td>\n",
       "      <td>0</td>\n",
       "      <td>0</td>\n",
       "      <td>0.000137</td>\n",
       "      <td>...</td>\n",
       "      <td>0.0</td>\n",
       "      <td>e8c44888-16c7-11ed-9b5f-1234bde3cd05</td>\n",
       "      <td>Brookfield</td>\n",
       "      <td>WI</td>\n",
       "      <td>US</td>\n",
       "      <td>43.057848</td>\n",
       "      <td>-88.126198</td>\n",
       "      <td>Waukesha</td>\n",
       "      <td>55.0</td>\n",
       "      <td>133.0</td>\n",
       "    </tr>\n",
       "    <tr>\n",
       "      <th>16</th>\n",
       "      <td>10000007</td>\n",
       "      <td>1</td>\n",
       "      <td>2018-06-19</td>\n",
       "      <td>0</td>\n",
       "      <td>0</td>\n",
       "      <td>0</td>\n",
       "      <td>0</td>\n",
       "      <td>0</td>\n",
       "      <td>0</td>\n",
       "      <td>0.000137</td>\n",
       "      <td>...</td>\n",
       "      <td>0.0</td>\n",
       "      <td>e0d46bcd-16c7-11ed-9b5f-1234bde3cd05</td>\n",
       "      <td>Grafton</td>\n",
       "      <td>WI</td>\n",
       "      <td>US</td>\n",
       "      <td>43.319727</td>\n",
       "      <td>-87.953423</td>\n",
       "      <td>Ozaukee</td>\n",
       "      <td>55.0</td>\n",
       "      <td>89.0</td>\n",
       "    </tr>\n",
       "    <tr>\n",
       "      <th>17</th>\n",
       "      <td>10000007</td>\n",
       "      <td>1</td>\n",
       "      <td>2018-06-19</td>\n",
       "      <td>0</td>\n",
       "      <td>0</td>\n",
       "      <td>0</td>\n",
       "      <td>0</td>\n",
       "      <td>0</td>\n",
       "      <td>0</td>\n",
       "      <td>0.000137</td>\n",
       "      <td>...</td>\n",
       "      <td>0.0</td>\n",
       "      <td>ea7e63b4-16c7-11ed-9b5f-1234bde3cd05</td>\n",
       "      <td>Cedarburg</td>\n",
       "      <td>WI</td>\n",
       "      <td>US</td>\n",
       "      <td>43.296655</td>\n",
       "      <td>-87.987535</td>\n",
       "      <td>Ozaukee</td>\n",
       "      <td>55.0</td>\n",
       "      <td>89.0</td>\n",
       "    </tr>\n",
       "    <tr>\n",
       "      <th>18</th>\n",
       "      <td>10000007</td>\n",
       "      <td>1</td>\n",
       "      <td>2018-06-19</td>\n",
       "      <td>0</td>\n",
       "      <td>0</td>\n",
       "      <td>0</td>\n",
       "      <td>0</td>\n",
       "      <td>0</td>\n",
       "      <td>0</td>\n",
       "      <td>0.000137</td>\n",
       "      <td>...</td>\n",
       "      <td>0.0</td>\n",
       "      <td>eba77012-16c7-11ed-9b5f-1234bde3cd05</td>\n",
       "      <td>West Allis</td>\n",
       "      <td>WI</td>\n",
       "      <td>US</td>\n",
       "      <td>43.016681</td>\n",
       "      <td>-88.007031</td>\n",
       "      <td>Milwaukee</td>\n",
       "      <td>55.0</td>\n",
       "      <td>79.0</td>\n",
       "    </tr>\n",
       "  </tbody>\n",
       "</table>\n",
       "<p>5 rows × 54 columns</p>\n",
       "</div>"
      ],
      "text/plain": [
       "      doc_id  flag_patent     pub_dt  predict50_any_ai  predict86_any_ai  \\\n",
       "0   10000000            1 2018-06-19                 0                 0   \n",
       "15  10000007            1 2018-06-19                 0                 0   \n",
       "16  10000007            1 2018-06-19                 0                 0   \n",
       "17  10000007            1 2018-06-19                 0                 0   \n",
       "18  10000007            1 2018-06-19                 0                 0   \n",
       "\n",
       "    predict93_any_ai  predict50_ml  predict86_ml  predict93_ml  ai_score_ml  \\\n",
       "0                  0             0             0             0     0.000036   \n",
       "15                 0             0             0             0     0.000137   \n",
       "16                 0             0             0             0     0.000137   \n",
       "17                 0             0             0             0     0.000137   \n",
       "18                 0             0             0             0     0.000137   \n",
       "\n",
       "    ...  rule_47_flag                           location_id    disambig_city  \\\n",
       "0   ...           0.0  198b0471-16c8-11ed-9b5f-1234bde3cd05  Manhattan Beach   \n",
       "15  ...           0.0  e8c44888-16c7-11ed-9b5f-1234bde3cd05       Brookfield   \n",
       "16  ...           0.0  e0d46bcd-16c7-11ed-9b5f-1234bde3cd05          Grafton   \n",
       "17  ...           0.0  ea7e63b4-16c7-11ed-9b5f-1234bde3cd05        Cedarburg   \n",
       "18  ...           0.0  eba77012-16c7-11ed-9b5f-1234bde3cd05       West Allis   \n",
       "\n",
       "    disambig_state  disambig_country   latitude   longitude       county  \\\n",
       "0               CA                US  33.891599 -118.395124  Los Angeles   \n",
       "15              WI                US  43.057848  -88.126198     Waukesha   \n",
       "16              WI                US  43.319727  -87.953423      Ozaukee   \n",
       "17              WI                US  43.296655  -87.987535      Ozaukee   \n",
       "18              WI                US  43.016681  -88.007031    Milwaukee   \n",
       "\n",
       "    state_fips  county_fips  \n",
       "0          6.0         37.0  \n",
       "15        55.0        133.0  \n",
       "16        55.0         89.0  \n",
       "17        55.0         89.0  \n",
       "18        55.0         79.0  \n",
       "\n",
       "[5 rows x 54 columns]"
      ]
     },
     "execution_count": 11,
     "metadata": {},
     "output_type": "execute_result"
    }
   ],
   "source": [
    "df[:5]"
   ]
  },
  {
   "cell_type": "code",
   "execution_count": 12,
   "id": "f82975f0",
   "metadata": {},
   "outputs": [
    {
     "data": {
      "text/html": [
       "<div>\n",
       "<style scoped>\n",
       "    .dataframe tbody tr th:only-of-type {\n",
       "        vertical-align: middle;\n",
       "    }\n",
       "\n",
       "    .dataframe tbody tr th {\n",
       "        vertical-align: top;\n",
       "    }\n",
       "\n",
       "    .dataframe thead th {\n",
       "        text-align: right;\n",
       "    }\n",
       "</style>\n",
       "<table border=\"1\" class=\"dataframe\">\n",
       "  <thead>\n",
       "    <tr style=\"text-align: right;\">\n",
       "      <th></th>\n",
       "      <th>doc_id</th>\n",
       "      <th>flag_patent</th>\n",
       "      <th>pub_dt</th>\n",
       "      <th>predict50_any_ai</th>\n",
       "      <th>predict86_any_ai</th>\n",
       "      <th>predict93_any_ai</th>\n",
       "      <th>predict50_ml</th>\n",
       "      <th>predict86_ml</th>\n",
       "      <th>predict93_ml</th>\n",
       "      <th>ai_score_ml</th>\n",
       "      <th>...</th>\n",
       "      <th>rule_47_flag</th>\n",
       "      <th>location_id</th>\n",
       "      <th>disambig_city</th>\n",
       "      <th>disambig_state</th>\n",
       "      <th>disambig_country</th>\n",
       "      <th>latitude</th>\n",
       "      <th>longitude</th>\n",
       "      <th>county</th>\n",
       "      <th>state_fips</th>\n",
       "      <th>county_fips</th>\n",
       "    </tr>\n",
       "  </thead>\n",
       "  <tbody>\n",
       "    <tr>\n",
       "      <th>18278665</th>\n",
       "      <td>RE49765</td>\n",
       "      <td>1</td>\n",
       "      <td>2023-12-26</td>\n",
       "      <td>0</td>\n",
       "      <td>0</td>\n",
       "      <td>0</td>\n",
       "      <td>0</td>\n",
       "      <td>0</td>\n",
       "      <td>0</td>\n",
       "      <td>0.000181</td>\n",
       "      <td>...</td>\n",
       "      <td>0.0</td>\n",
       "      <td>ef60d2b3-16c7-11ed-9b5f-1234bde3cd05</td>\n",
       "      <td>Melbourne</td>\n",
       "      <td>FL</td>\n",
       "      <td>US</td>\n",
       "      <td>28.106471</td>\n",
       "      <td>-80.637151</td>\n",
       "      <td>Brevard</td>\n",
       "      <td>12.0</td>\n",
       "      <td>9.0</td>\n",
       "    </tr>\n",
       "    <tr>\n",
       "      <th>18278670</th>\n",
       "      <td>RE49767</td>\n",
       "      <td>1</td>\n",
       "      <td>2023-12-26</td>\n",
       "      <td>1</td>\n",
       "      <td>1</td>\n",
       "      <td>1</td>\n",
       "      <td>0</td>\n",
       "      <td>0</td>\n",
       "      <td>0</td>\n",
       "      <td>0.000031</td>\n",
       "      <td>...</td>\n",
       "      <td>0.0</td>\n",
       "      <td>1893009c-16c8-11ed-9b5f-1234bde3cd05</td>\n",
       "      <td>San Diego</td>\n",
       "      <td>CA</td>\n",
       "      <td>US</td>\n",
       "      <td>32.717420</td>\n",
       "      <td>-117.162773</td>\n",
       "      <td>San Diego</td>\n",
       "      <td>6.0</td>\n",
       "      <td>73.0</td>\n",
       "    </tr>\n",
       "    <tr>\n",
       "      <th>18278671</th>\n",
       "      <td>RE49767</td>\n",
       "      <td>1</td>\n",
       "      <td>2023-12-26</td>\n",
       "      <td>1</td>\n",
       "      <td>1</td>\n",
       "      <td>1</td>\n",
       "      <td>0</td>\n",
       "      <td>0</td>\n",
       "      <td>0</td>\n",
       "      <td>0.000031</td>\n",
       "      <td>...</td>\n",
       "      <td>0.0</td>\n",
       "      <td>06a6c203-16c8-11ed-9b5f-1234bde3cd05</td>\n",
       "      <td>Hollis</td>\n",
       "      <td>NH</td>\n",
       "      <td>US</td>\n",
       "      <td>42.743162</td>\n",
       "      <td>-71.591333</td>\n",
       "      <td>Hillsborough County</td>\n",
       "      <td>33.0</td>\n",
       "      <td>11.0</td>\n",
       "    </tr>\n",
       "    <tr>\n",
       "      <th>18278672</th>\n",
       "      <td>RE49767</td>\n",
       "      <td>1</td>\n",
       "      <td>2023-12-26</td>\n",
       "      <td>1</td>\n",
       "      <td>1</td>\n",
       "      <td>1</td>\n",
       "      <td>0</td>\n",
       "      <td>0</td>\n",
       "      <td>0</td>\n",
       "      <td>0.000031</td>\n",
       "      <td>...</td>\n",
       "      <td>0.0</td>\n",
       "      <td>0e1a2668-16c8-11ed-9b5f-1234bde3cd05</td>\n",
       "      <td>Merrimack</td>\n",
       "      <td>NH</td>\n",
       "      <td>US</td>\n",
       "      <td>42.865086</td>\n",
       "      <td>-71.493400</td>\n",
       "      <td>Hillsborough County</td>\n",
       "      <td>33.0</td>\n",
       "      <td>11.0</td>\n",
       "    </tr>\n",
       "    <tr>\n",
       "      <th>18278676</th>\n",
       "      <td>RE49769</td>\n",
       "      <td>1</td>\n",
       "      <td>2023-12-26</td>\n",
       "      <td>1</td>\n",
       "      <td>1</td>\n",
       "      <td>1</td>\n",
       "      <td>0</td>\n",
       "      <td>0</td>\n",
       "      <td>0</td>\n",
       "      <td>0.000178</td>\n",
       "      <td>...</td>\n",
       "      <td>0.0</td>\n",
       "      <td>c1fc51de-16c7-11ed-9b5f-1234bde3cd05</td>\n",
       "      <td>Encinitas</td>\n",
       "      <td>CA</td>\n",
       "      <td>US</td>\n",
       "      <td>33.036987</td>\n",
       "      <td>-117.291982</td>\n",
       "      <td>San Diego</td>\n",
       "      <td>6.0</td>\n",
       "      <td>73.0</td>\n",
       "    </tr>\n",
       "  </tbody>\n",
       "</table>\n",
       "<p>5 rows × 54 columns</p>\n",
       "</div>"
      ],
      "text/plain": [
       "           doc_id  flag_patent     pub_dt  predict50_any_ai  predict86_any_ai  \\\n",
       "18278665  RE49765            1 2023-12-26                 0                 0   \n",
       "18278670  RE49767            1 2023-12-26                 1                 1   \n",
       "18278671  RE49767            1 2023-12-26                 1                 1   \n",
       "18278672  RE49767            1 2023-12-26                 1                 1   \n",
       "18278676  RE49769            1 2023-12-26                 1                 1   \n",
       "\n",
       "          predict93_any_ai  predict50_ml  predict86_ml  predict93_ml  \\\n",
       "18278665                 0             0             0             0   \n",
       "18278670                 1             0             0             0   \n",
       "18278671                 1             0             0             0   \n",
       "18278672                 1             0             0             0   \n",
       "18278676                 1             0             0             0   \n",
       "\n",
       "          ai_score_ml  ...  rule_47_flag  \\\n",
       "18278665     0.000181  ...           0.0   \n",
       "18278670     0.000031  ...           0.0   \n",
       "18278671     0.000031  ...           0.0   \n",
       "18278672     0.000031  ...           0.0   \n",
       "18278676     0.000178  ...           0.0   \n",
       "\n",
       "                                   location_id  disambig_city  disambig_state  \\\n",
       "18278665  ef60d2b3-16c7-11ed-9b5f-1234bde3cd05      Melbourne              FL   \n",
       "18278670  1893009c-16c8-11ed-9b5f-1234bde3cd05      San Diego              CA   \n",
       "18278671  06a6c203-16c8-11ed-9b5f-1234bde3cd05         Hollis              NH   \n",
       "18278672  0e1a2668-16c8-11ed-9b5f-1234bde3cd05      Merrimack              NH   \n",
       "18278676  c1fc51de-16c7-11ed-9b5f-1234bde3cd05      Encinitas              CA   \n",
       "\n",
       "          disambig_country   latitude   longitude               county  \\\n",
       "18278665                US  28.106471  -80.637151              Brevard   \n",
       "18278670                US  32.717420 -117.162773            San Diego   \n",
       "18278671                US  42.743162  -71.591333  Hillsborough County   \n",
       "18278672                US  42.865086  -71.493400  Hillsborough County   \n",
       "18278676                US  33.036987 -117.291982            San Diego   \n",
       "\n",
       "          state_fips  county_fips  \n",
       "18278665        12.0          9.0  \n",
       "18278670         6.0         73.0  \n",
       "18278671        33.0         11.0  \n",
       "18278672        33.0         11.0  \n",
       "18278676         6.0         73.0  \n",
       "\n",
       "[5 rows x 54 columns]"
      ]
     },
     "execution_count": 12,
     "metadata": {},
     "output_type": "execute_result"
    }
   ],
   "source": [
    "df[-5:]"
   ]
  },
  {
   "cell_type": "code",
   "execution_count": 13,
   "id": "f9567313",
   "metadata": {},
   "outputs": [
    {
     "name": "stderr",
     "output_type": "stream",
     "text": [
      "/var/folders/p9/bgpcjxgn0rz4pvkjs39ch9740000gn/T/ipykernel_80897/4089402681.py:1: SettingWithCopyWarning: \n",
      "A value is trying to be set on a copy of a slice from a DataFrame.\n",
      "Try using .loc[row_indexer,col_indexer] = value instead\n",
      "\n",
      "See the caveats in the documentation: https://pandas.pydata.org/pandas-docs/stable/user_guide/indexing.html#returning-a-view-versus-a-copy\n",
      "  df['state_fips'] = df['state_fips'].astype(int).astype(str).str.zfill(2)\n",
      "/var/folders/p9/bgpcjxgn0rz4pvkjs39ch9740000gn/T/ipykernel_80897/4089402681.py:2: SettingWithCopyWarning: \n",
      "A value is trying to be set on a copy of a slice from a DataFrame.\n",
      "Try using .loc[row_indexer,col_indexer] = value instead\n",
      "\n",
      "See the caveats in the documentation: https://pandas.pydata.org/pandas-docs/stable/user_guide/indexing.html#returning-a-view-versus-a-copy\n",
      "  df['county_fips'] = df['county_fips'].astype(int).astype(str).str.zfill(3)\n"
     ]
    }
   ],
   "source": [
    "df['state_fips'] = df['state_fips'].astype(int).astype(str).str.zfill(2)\n",
    "df['county_fips'] = df['county_fips'].astype(int).astype(str).str.zfill(3)"
   ]
  },
  {
   "cell_type": "code",
   "execution_count": 14,
   "id": "c2a5f86d",
   "metadata": {},
   "outputs": [
    {
     "data": {
      "text/html": [
       "<div>\n",
       "<style scoped>\n",
       "    .dataframe tbody tr th:only-of-type {\n",
       "        vertical-align: middle;\n",
       "    }\n",
       "\n",
       "    .dataframe tbody tr th {\n",
       "        vertical-align: top;\n",
       "    }\n",
       "\n",
       "    .dataframe thead th {\n",
       "        text-align: right;\n",
       "    }\n",
       "</style>\n",
       "<table border=\"1\" class=\"dataframe\">\n",
       "  <thead>\n",
       "    <tr style=\"text-align: right;\">\n",
       "      <th></th>\n",
       "      <th>doc_id</th>\n",
       "      <th>flag_patent</th>\n",
       "      <th>pub_dt</th>\n",
       "      <th>predict50_any_ai</th>\n",
       "      <th>predict86_any_ai</th>\n",
       "      <th>predict93_any_ai</th>\n",
       "      <th>predict50_ml</th>\n",
       "      <th>predict86_ml</th>\n",
       "      <th>predict93_ml</th>\n",
       "      <th>ai_score_ml</th>\n",
       "      <th>...</th>\n",
       "      <th>rule_47_flag</th>\n",
       "      <th>location_id</th>\n",
       "      <th>disambig_city</th>\n",
       "      <th>disambig_state</th>\n",
       "      <th>disambig_country</th>\n",
       "      <th>latitude</th>\n",
       "      <th>longitude</th>\n",
       "      <th>county</th>\n",
       "      <th>state_fips</th>\n",
       "      <th>county_fips</th>\n",
       "    </tr>\n",
       "  </thead>\n",
       "  <tbody>\n",
       "    <tr>\n",
       "      <th>18278665</th>\n",
       "      <td>RE49765</td>\n",
       "      <td>1</td>\n",
       "      <td>2023-12-26</td>\n",
       "      <td>0</td>\n",
       "      <td>0</td>\n",
       "      <td>0</td>\n",
       "      <td>0</td>\n",
       "      <td>0</td>\n",
       "      <td>0</td>\n",
       "      <td>0.000181</td>\n",
       "      <td>...</td>\n",
       "      <td>0.0</td>\n",
       "      <td>ef60d2b3-16c7-11ed-9b5f-1234bde3cd05</td>\n",
       "      <td>Melbourne</td>\n",
       "      <td>FL</td>\n",
       "      <td>US</td>\n",
       "      <td>28.106471</td>\n",
       "      <td>-80.637151</td>\n",
       "      <td>Brevard</td>\n",
       "      <td>12</td>\n",
       "      <td>009</td>\n",
       "    </tr>\n",
       "    <tr>\n",
       "      <th>18278670</th>\n",
       "      <td>RE49767</td>\n",
       "      <td>1</td>\n",
       "      <td>2023-12-26</td>\n",
       "      <td>1</td>\n",
       "      <td>1</td>\n",
       "      <td>1</td>\n",
       "      <td>0</td>\n",
       "      <td>0</td>\n",
       "      <td>0</td>\n",
       "      <td>0.000031</td>\n",
       "      <td>...</td>\n",
       "      <td>0.0</td>\n",
       "      <td>1893009c-16c8-11ed-9b5f-1234bde3cd05</td>\n",
       "      <td>San Diego</td>\n",
       "      <td>CA</td>\n",
       "      <td>US</td>\n",
       "      <td>32.717420</td>\n",
       "      <td>-117.162773</td>\n",
       "      <td>San Diego</td>\n",
       "      <td>06</td>\n",
       "      <td>073</td>\n",
       "    </tr>\n",
       "    <tr>\n",
       "      <th>18278671</th>\n",
       "      <td>RE49767</td>\n",
       "      <td>1</td>\n",
       "      <td>2023-12-26</td>\n",
       "      <td>1</td>\n",
       "      <td>1</td>\n",
       "      <td>1</td>\n",
       "      <td>0</td>\n",
       "      <td>0</td>\n",
       "      <td>0</td>\n",
       "      <td>0.000031</td>\n",
       "      <td>...</td>\n",
       "      <td>0.0</td>\n",
       "      <td>06a6c203-16c8-11ed-9b5f-1234bde3cd05</td>\n",
       "      <td>Hollis</td>\n",
       "      <td>NH</td>\n",
       "      <td>US</td>\n",
       "      <td>42.743162</td>\n",
       "      <td>-71.591333</td>\n",
       "      <td>Hillsborough County</td>\n",
       "      <td>33</td>\n",
       "      <td>011</td>\n",
       "    </tr>\n",
       "    <tr>\n",
       "      <th>18278672</th>\n",
       "      <td>RE49767</td>\n",
       "      <td>1</td>\n",
       "      <td>2023-12-26</td>\n",
       "      <td>1</td>\n",
       "      <td>1</td>\n",
       "      <td>1</td>\n",
       "      <td>0</td>\n",
       "      <td>0</td>\n",
       "      <td>0</td>\n",
       "      <td>0.000031</td>\n",
       "      <td>...</td>\n",
       "      <td>0.0</td>\n",
       "      <td>0e1a2668-16c8-11ed-9b5f-1234bde3cd05</td>\n",
       "      <td>Merrimack</td>\n",
       "      <td>NH</td>\n",
       "      <td>US</td>\n",
       "      <td>42.865086</td>\n",
       "      <td>-71.493400</td>\n",
       "      <td>Hillsborough County</td>\n",
       "      <td>33</td>\n",
       "      <td>011</td>\n",
       "    </tr>\n",
       "    <tr>\n",
       "      <th>18278676</th>\n",
       "      <td>RE49769</td>\n",
       "      <td>1</td>\n",
       "      <td>2023-12-26</td>\n",
       "      <td>1</td>\n",
       "      <td>1</td>\n",
       "      <td>1</td>\n",
       "      <td>0</td>\n",
       "      <td>0</td>\n",
       "      <td>0</td>\n",
       "      <td>0.000178</td>\n",
       "      <td>...</td>\n",
       "      <td>0.0</td>\n",
       "      <td>c1fc51de-16c7-11ed-9b5f-1234bde3cd05</td>\n",
       "      <td>Encinitas</td>\n",
       "      <td>CA</td>\n",
       "      <td>US</td>\n",
       "      <td>33.036987</td>\n",
       "      <td>-117.291982</td>\n",
       "      <td>San Diego</td>\n",
       "      <td>06</td>\n",
       "      <td>073</td>\n",
       "    </tr>\n",
       "  </tbody>\n",
       "</table>\n",
       "<p>5 rows × 54 columns</p>\n",
       "</div>"
      ],
      "text/plain": [
       "           doc_id  flag_patent     pub_dt  predict50_any_ai  predict86_any_ai  \\\n",
       "18278665  RE49765            1 2023-12-26                 0                 0   \n",
       "18278670  RE49767            1 2023-12-26                 1                 1   \n",
       "18278671  RE49767            1 2023-12-26                 1                 1   \n",
       "18278672  RE49767            1 2023-12-26                 1                 1   \n",
       "18278676  RE49769            1 2023-12-26                 1                 1   \n",
       "\n",
       "          predict93_any_ai  predict50_ml  predict86_ml  predict93_ml  \\\n",
       "18278665                 0             0             0             0   \n",
       "18278670                 1             0             0             0   \n",
       "18278671                 1             0             0             0   \n",
       "18278672                 1             0             0             0   \n",
       "18278676                 1             0             0             0   \n",
       "\n",
       "          ai_score_ml  ...  rule_47_flag  \\\n",
       "18278665     0.000181  ...           0.0   \n",
       "18278670     0.000031  ...           0.0   \n",
       "18278671     0.000031  ...           0.0   \n",
       "18278672     0.000031  ...           0.0   \n",
       "18278676     0.000178  ...           0.0   \n",
       "\n",
       "                                   location_id  disambig_city  disambig_state  \\\n",
       "18278665  ef60d2b3-16c7-11ed-9b5f-1234bde3cd05      Melbourne              FL   \n",
       "18278670  1893009c-16c8-11ed-9b5f-1234bde3cd05      San Diego              CA   \n",
       "18278671  06a6c203-16c8-11ed-9b5f-1234bde3cd05         Hollis              NH   \n",
       "18278672  0e1a2668-16c8-11ed-9b5f-1234bde3cd05      Merrimack              NH   \n",
       "18278676  c1fc51de-16c7-11ed-9b5f-1234bde3cd05      Encinitas              CA   \n",
       "\n",
       "          disambig_country   latitude   longitude               county  \\\n",
       "18278665                US  28.106471  -80.637151              Brevard   \n",
       "18278670                US  32.717420 -117.162773            San Diego   \n",
       "18278671                US  42.743162  -71.591333  Hillsborough County   \n",
       "18278672                US  42.865086  -71.493400  Hillsborough County   \n",
       "18278676                US  33.036987 -117.291982            San Diego   \n",
       "\n",
       "          state_fips  county_fips  \n",
       "18278665          12          009  \n",
       "18278670          06          073  \n",
       "18278671          33          011  \n",
       "18278672          33          011  \n",
       "18278676          06          073  \n",
       "\n",
       "[5 rows x 54 columns]"
      ]
     },
     "execution_count": 14,
     "metadata": {},
     "output_type": "execute_result"
    }
   ],
   "source": [
    "df[-5:]"
   ]
  },
  {
   "cell_type": "code",
   "execution_count": 15,
   "id": "aee5f418",
   "metadata": {},
   "outputs": [
    {
     "name": "stdout",
     "output_type": "stream",
     "text": [
      "['doc_id', 'flag_patent', 'pub_dt', 'predict50_any_ai', 'predict86_any_ai', 'predict93_any_ai', 'predict50_ml', 'predict86_ml', 'predict93_ml', 'ai_score_ml', 'predict50_evo', 'predict86_evo', 'predict93_evo', 'ai_score_evo', 'predict50_nlp', 'predict86_nlp', 'predict93_nlp', 'ai_score_nlp', 'predict50_speech', 'predict86_speech', 'predict93_speech', 'ai_score_speech', 'predict50_vision', 'predict86_vision', 'predict93_vision', 'ai_score_vision', 'predict50_planning', 'predict86_planning', 'predict93_planning', 'ai_score_planning', 'predict50_kr', 'predict86_kr', 'predict93_kr', 'ai_score_kr', 'predict50_hardware', 'predict86_hardware', 'predict93_hardware', 'ai_score_hardware', 'year', 'application_id', 'patent_id', 'patent_application_type', 'filing_date', 'series_code', 'rule_47_flag', 'location_id', 'disambig_city', 'disambig_state', 'disambig_country', 'latitude', 'longitude', 'county', 'state_fips', 'county_fips']\n"
     ]
    }
   ],
   "source": [
    "print(df.columns.tolist())\n"
   ]
  },
  {
   "cell_type": "code",
   "execution_count": 16,
   "id": "35e2c7a4",
   "metadata": {},
   "outputs": [
    {
     "data": {
      "text/html": [
       "<div>\n",
       "<style scoped>\n",
       "    .dataframe tbody tr th:only-of-type {\n",
       "        vertical-align: middle;\n",
       "    }\n",
       "\n",
       "    .dataframe tbody tr th {\n",
       "        vertical-align: top;\n",
       "    }\n",
       "\n",
       "    .dataframe thead th {\n",
       "        text-align: right;\n",
       "    }\n",
       "</style>\n",
       "<table border=\"1\" class=\"dataframe\">\n",
       "  <thead>\n",
       "    <tr style=\"text-align: right;\">\n",
       "      <th></th>\n",
       "      <th>doc_id</th>\n",
       "      <th>flag_patent</th>\n",
       "      <th>pub_dt</th>\n",
       "      <th>predict50_any_ai</th>\n",
       "      <th>predict86_any_ai</th>\n",
       "      <th>predict93_any_ai</th>\n",
       "      <th>predict50_ml</th>\n",
       "      <th>predict86_ml</th>\n",
       "      <th>predict93_ml</th>\n",
       "      <th>ai_score_ml</th>\n",
       "      <th>...</th>\n",
       "      <th>rule_47_flag</th>\n",
       "      <th>location_id</th>\n",
       "      <th>disambig_city</th>\n",
       "      <th>disambig_state</th>\n",
       "      <th>disambig_country</th>\n",
       "      <th>latitude</th>\n",
       "      <th>longitude</th>\n",
       "      <th>county</th>\n",
       "      <th>state_fips</th>\n",
       "      <th>county_fips</th>\n",
       "    </tr>\n",
       "  </thead>\n",
       "  <tbody>\n",
       "    <tr>\n",
       "      <th>0</th>\n",
       "      <td>10000000</td>\n",
       "      <td>1</td>\n",
       "      <td>2018-06-19</td>\n",
       "      <td>0</td>\n",
       "      <td>0</td>\n",
       "      <td>0</td>\n",
       "      <td>0</td>\n",
       "      <td>0</td>\n",
       "      <td>0</td>\n",
       "      <td>0.000036</td>\n",
       "      <td>...</td>\n",
       "      <td>0.0</td>\n",
       "      <td>198b0471-16c8-11ed-9b5f-1234bde3cd05</td>\n",
       "      <td>Manhattan Beach</td>\n",
       "      <td>CA</td>\n",
       "      <td>US</td>\n",
       "      <td>33.891599</td>\n",
       "      <td>-118.395124</td>\n",
       "      <td>Los Angeles</td>\n",
       "      <td>06</td>\n",
       "      <td>037</td>\n",
       "    </tr>\n",
       "    <tr>\n",
       "      <th>15</th>\n",
       "      <td>10000007</td>\n",
       "      <td>1</td>\n",
       "      <td>2018-06-19</td>\n",
       "      <td>0</td>\n",
       "      <td>0</td>\n",
       "      <td>0</td>\n",
       "      <td>0</td>\n",
       "      <td>0</td>\n",
       "      <td>0</td>\n",
       "      <td>0.000137</td>\n",
       "      <td>...</td>\n",
       "      <td>0.0</td>\n",
       "      <td>e8c44888-16c7-11ed-9b5f-1234bde3cd05</td>\n",
       "      <td>Brookfield</td>\n",
       "      <td>WI</td>\n",
       "      <td>US</td>\n",
       "      <td>43.057848</td>\n",
       "      <td>-88.126198</td>\n",
       "      <td>Waukesha</td>\n",
       "      <td>55</td>\n",
       "      <td>133</td>\n",
       "    </tr>\n",
       "    <tr>\n",
       "      <th>16</th>\n",
       "      <td>10000007</td>\n",
       "      <td>1</td>\n",
       "      <td>2018-06-19</td>\n",
       "      <td>0</td>\n",
       "      <td>0</td>\n",
       "      <td>0</td>\n",
       "      <td>0</td>\n",
       "      <td>0</td>\n",
       "      <td>0</td>\n",
       "      <td>0.000137</td>\n",
       "      <td>...</td>\n",
       "      <td>0.0</td>\n",
       "      <td>e0d46bcd-16c7-11ed-9b5f-1234bde3cd05</td>\n",
       "      <td>Grafton</td>\n",
       "      <td>WI</td>\n",
       "      <td>US</td>\n",
       "      <td>43.319727</td>\n",
       "      <td>-87.953423</td>\n",
       "      <td>Ozaukee</td>\n",
       "      <td>55</td>\n",
       "      <td>089</td>\n",
       "    </tr>\n",
       "    <tr>\n",
       "      <th>17</th>\n",
       "      <td>10000007</td>\n",
       "      <td>1</td>\n",
       "      <td>2018-06-19</td>\n",
       "      <td>0</td>\n",
       "      <td>0</td>\n",
       "      <td>0</td>\n",
       "      <td>0</td>\n",
       "      <td>0</td>\n",
       "      <td>0</td>\n",
       "      <td>0.000137</td>\n",
       "      <td>...</td>\n",
       "      <td>0.0</td>\n",
       "      <td>ea7e63b4-16c7-11ed-9b5f-1234bde3cd05</td>\n",
       "      <td>Cedarburg</td>\n",
       "      <td>WI</td>\n",
       "      <td>US</td>\n",
       "      <td>43.296655</td>\n",
       "      <td>-87.987535</td>\n",
       "      <td>Ozaukee</td>\n",
       "      <td>55</td>\n",
       "      <td>089</td>\n",
       "    </tr>\n",
       "    <tr>\n",
       "      <th>18</th>\n",
       "      <td>10000007</td>\n",
       "      <td>1</td>\n",
       "      <td>2018-06-19</td>\n",
       "      <td>0</td>\n",
       "      <td>0</td>\n",
       "      <td>0</td>\n",
       "      <td>0</td>\n",
       "      <td>0</td>\n",
       "      <td>0</td>\n",
       "      <td>0.000137</td>\n",
       "      <td>...</td>\n",
       "      <td>0.0</td>\n",
       "      <td>eba77012-16c7-11ed-9b5f-1234bde3cd05</td>\n",
       "      <td>West Allis</td>\n",
       "      <td>WI</td>\n",
       "      <td>US</td>\n",
       "      <td>43.016681</td>\n",
       "      <td>-88.007031</td>\n",
       "      <td>Milwaukee</td>\n",
       "      <td>55</td>\n",
       "      <td>079</td>\n",
       "    </tr>\n",
       "    <tr>\n",
       "      <th>...</th>\n",
       "      <td>...</td>\n",
       "      <td>...</td>\n",
       "      <td>...</td>\n",
       "      <td>...</td>\n",
       "      <td>...</td>\n",
       "      <td>...</td>\n",
       "      <td>...</td>\n",
       "      <td>...</td>\n",
       "      <td>...</td>\n",
       "      <td>...</td>\n",
       "      <td>...</td>\n",
       "      <td>...</td>\n",
       "      <td>...</td>\n",
       "      <td>...</td>\n",
       "      <td>...</td>\n",
       "      <td>...</td>\n",
       "      <td>...</td>\n",
       "      <td>...</td>\n",
       "      <td>...</td>\n",
       "      <td>...</td>\n",
       "      <td>...</td>\n",
       "    </tr>\n",
       "    <tr>\n",
       "      <th>18271193</th>\n",
       "      <td>RE47177</td>\n",
       "      <td>1</td>\n",
       "      <td>2018-12-25</td>\n",
       "      <td>0</td>\n",
       "      <td>0</td>\n",
       "      <td>0</td>\n",
       "      <td>0</td>\n",
       "      <td>0</td>\n",
       "      <td>0</td>\n",
       "      <td>0.000537</td>\n",
       "      <td>...</td>\n",
       "      <td>0.0</td>\n",
       "      <td>c7e001c0-16c7-11ed-9b5f-1234bde3cd05</td>\n",
       "      <td>Los Altos Hills</td>\n",
       "      <td>CA</td>\n",
       "      <td>US</td>\n",
       "      <td>37.379663</td>\n",
       "      <td>-122.137464</td>\n",
       "      <td>Santa Clara</td>\n",
       "      <td>06</td>\n",
       "      <td>085</td>\n",
       "    </tr>\n",
       "    <tr>\n",
       "      <th>18271194</th>\n",
       "      <td>RE47178</td>\n",
       "      <td>1</td>\n",
       "      <td>2018-12-25</td>\n",
       "      <td>0</td>\n",
       "      <td>0</td>\n",
       "      <td>0</td>\n",
       "      <td>0</td>\n",
       "      <td>0</td>\n",
       "      <td>0</td>\n",
       "      <td>0.000089</td>\n",
       "      <td>...</td>\n",
       "      <td>0.0</td>\n",
       "      <td>02bfdd25-16c8-11ed-9b5f-1234bde3cd05</td>\n",
       "      <td>Charlottesville</td>\n",
       "      <td>VA</td>\n",
       "      <td>US</td>\n",
       "      <td>38.029306</td>\n",
       "      <td>-78.476678</td>\n",
       "      <td>Charlottesville (city)</td>\n",
       "      <td>51</td>\n",
       "      <td>540</td>\n",
       "    </tr>\n",
       "    <tr>\n",
       "      <th>18271195</th>\n",
       "      <td>RE47178</td>\n",
       "      <td>1</td>\n",
       "      <td>2018-12-25</td>\n",
       "      <td>0</td>\n",
       "      <td>0</td>\n",
       "      <td>0</td>\n",
       "      <td>0</td>\n",
       "      <td>0</td>\n",
       "      <td>0</td>\n",
       "      <td>0.000089</td>\n",
       "      <td>...</td>\n",
       "      <td>0.0</td>\n",
       "      <td>02bfdd25-16c8-11ed-9b5f-1234bde3cd05</td>\n",
       "      <td>Charlottesville</td>\n",
       "      <td>VA</td>\n",
       "      <td>US</td>\n",
       "      <td>38.029306</td>\n",
       "      <td>-78.476678</td>\n",
       "      <td>Charlottesville (city)</td>\n",
       "      <td>51</td>\n",
       "      <td>540</td>\n",
       "    </tr>\n",
       "    <tr>\n",
       "      <th>18271209</th>\n",
       "      <td>RE47182</td>\n",
       "      <td>1</td>\n",
       "      <td>2018-12-25</td>\n",
       "      <td>0</td>\n",
       "      <td>0</td>\n",
       "      <td>0</td>\n",
       "      <td>0</td>\n",
       "      <td>0</td>\n",
       "      <td>0</td>\n",
       "      <td>0.000291</td>\n",
       "      <td>...</td>\n",
       "      <td>0.0</td>\n",
       "      <td>c8ea0862-16c7-11ed-9b5f-1234bde3cd05</td>\n",
       "      <td>Plano</td>\n",
       "      <td>TX</td>\n",
       "      <td>US</td>\n",
       "      <td>33.013676</td>\n",
       "      <td>-96.692510</td>\n",
       "      <td>Collin</td>\n",
       "      <td>48</td>\n",
       "      <td>085</td>\n",
       "    </tr>\n",
       "    <tr>\n",
       "      <th>18271210</th>\n",
       "      <td>RE47182</td>\n",
       "      <td>1</td>\n",
       "      <td>2018-12-25</td>\n",
       "      <td>0</td>\n",
       "      <td>0</td>\n",
       "      <td>0</td>\n",
       "      <td>0</td>\n",
       "      <td>0</td>\n",
       "      <td>0</td>\n",
       "      <td>0.000291</td>\n",
       "      <td>...</td>\n",
       "      <td>0.0</td>\n",
       "      <td>0964f81d-16c8-11ed-9b5f-1234bde3cd05</td>\n",
       "      <td>Bound Brook</td>\n",
       "      <td>NJ</td>\n",
       "      <td>US</td>\n",
       "      <td>40.568436</td>\n",
       "      <td>-74.538489</td>\n",
       "      <td>Somerset</td>\n",
       "      <td>34</td>\n",
       "      <td>035</td>\n",
       "    </tr>\n",
       "  </tbody>\n",
       "</table>\n",
       "<p>418044 rows × 54 columns</p>\n",
       "</div>"
      ],
      "text/plain": [
       "            doc_id  flag_patent     pub_dt  predict50_any_ai  \\\n",
       "0         10000000            1 2018-06-19                 0   \n",
       "15        10000007            1 2018-06-19                 0   \n",
       "16        10000007            1 2018-06-19                 0   \n",
       "17        10000007            1 2018-06-19                 0   \n",
       "18        10000007            1 2018-06-19                 0   \n",
       "...            ...          ...        ...               ...   \n",
       "18271193   RE47177            1 2018-12-25                 0   \n",
       "18271194   RE47178            1 2018-12-25                 0   \n",
       "18271195   RE47178            1 2018-12-25                 0   \n",
       "18271209   RE47182            1 2018-12-25                 0   \n",
       "18271210   RE47182            1 2018-12-25                 0   \n",
       "\n",
       "          predict86_any_ai  predict93_any_ai  predict50_ml  predict86_ml  \\\n",
       "0                        0                 0             0             0   \n",
       "15                       0                 0             0             0   \n",
       "16                       0                 0             0             0   \n",
       "17                       0                 0             0             0   \n",
       "18                       0                 0             0             0   \n",
       "...                    ...               ...           ...           ...   \n",
       "18271193                 0                 0             0             0   \n",
       "18271194                 0                 0             0             0   \n",
       "18271195                 0                 0             0             0   \n",
       "18271209                 0                 0             0             0   \n",
       "18271210                 0                 0             0             0   \n",
       "\n",
       "          predict93_ml  ai_score_ml  ...  rule_47_flag  \\\n",
       "0                    0     0.000036  ...           0.0   \n",
       "15                   0     0.000137  ...           0.0   \n",
       "16                   0     0.000137  ...           0.0   \n",
       "17                   0     0.000137  ...           0.0   \n",
       "18                   0     0.000137  ...           0.0   \n",
       "...                ...          ...  ...           ...   \n",
       "18271193             0     0.000537  ...           0.0   \n",
       "18271194             0     0.000089  ...           0.0   \n",
       "18271195             0     0.000089  ...           0.0   \n",
       "18271209             0     0.000291  ...           0.0   \n",
       "18271210             0     0.000291  ...           0.0   \n",
       "\n",
       "                                   location_id    disambig_city  \\\n",
       "0         198b0471-16c8-11ed-9b5f-1234bde3cd05  Manhattan Beach   \n",
       "15        e8c44888-16c7-11ed-9b5f-1234bde3cd05       Brookfield   \n",
       "16        e0d46bcd-16c7-11ed-9b5f-1234bde3cd05          Grafton   \n",
       "17        ea7e63b4-16c7-11ed-9b5f-1234bde3cd05        Cedarburg   \n",
       "18        eba77012-16c7-11ed-9b5f-1234bde3cd05       West Allis   \n",
       "...                                        ...              ...   \n",
       "18271193  c7e001c0-16c7-11ed-9b5f-1234bde3cd05  Los Altos Hills   \n",
       "18271194  02bfdd25-16c8-11ed-9b5f-1234bde3cd05  Charlottesville   \n",
       "18271195  02bfdd25-16c8-11ed-9b5f-1234bde3cd05  Charlottesville   \n",
       "18271209  c8ea0862-16c7-11ed-9b5f-1234bde3cd05            Plano   \n",
       "18271210  0964f81d-16c8-11ed-9b5f-1234bde3cd05      Bound Brook   \n",
       "\n",
       "          disambig_state  disambig_country   latitude   longitude  \\\n",
       "0                     CA                US  33.891599 -118.395124   \n",
       "15                    WI                US  43.057848  -88.126198   \n",
       "16                    WI                US  43.319727  -87.953423   \n",
       "17                    WI                US  43.296655  -87.987535   \n",
       "18                    WI                US  43.016681  -88.007031   \n",
       "...                  ...               ...        ...         ...   \n",
       "18271193              CA                US  37.379663 -122.137464   \n",
       "18271194              VA                US  38.029306  -78.476678   \n",
       "18271195              VA                US  38.029306  -78.476678   \n",
       "18271209              TX                US  33.013676  -96.692510   \n",
       "18271210              NJ                US  40.568436  -74.538489   \n",
       "\n",
       "                          county  state_fips  county_fips  \n",
       "0                    Los Angeles          06          037  \n",
       "15                      Waukesha          55          133  \n",
       "16                       Ozaukee          55          089  \n",
       "17                       Ozaukee          55          089  \n",
       "18                     Milwaukee          55          079  \n",
       "...                          ...         ...          ...  \n",
       "18271193             Santa Clara          06          085  \n",
       "18271194  Charlottesville (city)          51          540  \n",
       "18271195  Charlottesville (city)          51          540  \n",
       "18271209                  Collin          48          085  \n",
       "18271210                Somerset          34          035  \n",
       "\n",
       "[418044 rows x 54 columns]"
      ]
     },
     "execution_count": 16,
     "metadata": {},
     "output_type": "execute_result"
    }
   ],
   "source": [
    "df_2018  = df[df['year'] == 2018].copy()\n",
    "df_2018\n"
   ]
  },
  {
   "cell_type": "code",
   "execution_count": 17,
   "id": "098d73d7",
   "metadata": {},
   "outputs": [
    {
     "data": {
      "text/html": [
       "<div>\n",
       "<style scoped>\n",
       "    .dataframe tbody tr th:only-of-type {\n",
       "        vertical-align: middle;\n",
       "    }\n",
       "\n",
       "    .dataframe tbody tr th {\n",
       "        vertical-align: top;\n",
       "    }\n",
       "\n",
       "    .dataframe thead th {\n",
       "        text-align: right;\n",
       "    }\n",
       "</style>\n",
       "<table border=\"1\" class=\"dataframe\">\n",
       "  <thead>\n",
       "    <tr style=\"text-align: right;\">\n",
       "      <th></th>\n",
       "      <th>doc_id</th>\n",
       "      <th>flag_patent</th>\n",
       "      <th>pub_dt</th>\n",
       "      <th>predict50_any_ai</th>\n",
       "      <th>predict86_any_ai</th>\n",
       "      <th>predict93_any_ai</th>\n",
       "      <th>predict50_ml</th>\n",
       "      <th>predict86_ml</th>\n",
       "      <th>predict93_ml</th>\n",
       "      <th>ai_score_ml</th>\n",
       "      <th>...</th>\n",
       "      <th>rule_47_flag</th>\n",
       "      <th>location_id</th>\n",
       "      <th>disambig_city</th>\n",
       "      <th>disambig_state</th>\n",
       "      <th>disambig_country</th>\n",
       "      <th>latitude</th>\n",
       "      <th>longitude</th>\n",
       "      <th>county</th>\n",
       "      <th>state_fips</th>\n",
       "      <th>county_fips</th>\n",
       "    </tr>\n",
       "  </thead>\n",
       "  <tbody>\n",
       "    <tr>\n",
       "      <th>3572841</th>\n",
       "      <td>11212952</td>\n",
       "      <td>1</td>\n",
       "      <td>2022-01-04</td>\n",
       "      <td>0</td>\n",
       "      <td>0</td>\n",
       "      <td>0</td>\n",
       "      <td>0</td>\n",
       "      <td>0</td>\n",
       "      <td>0</td>\n",
       "      <td>0.000160</td>\n",
       "      <td>...</td>\n",
       "      <td>0.0</td>\n",
       "      <td>f69d8c9b-16c7-11ed-9b5f-1234bde3cd05</td>\n",
       "      <td>Statesboro</td>\n",
       "      <td>GA</td>\n",
       "      <td>US</td>\n",
       "      <td>32.449014</td>\n",
       "      <td>-81.783291</td>\n",
       "      <td>Bulloch</td>\n",
       "      <td>13</td>\n",
       "      <td>031</td>\n",
       "    </tr>\n",
       "    <tr>\n",
       "      <th>3572842</th>\n",
       "      <td>11212953</td>\n",
       "      <td>1</td>\n",
       "      <td>2022-01-04</td>\n",
       "      <td>1</td>\n",
       "      <td>0</td>\n",
       "      <td>0</td>\n",
       "      <td>0</td>\n",
       "      <td>0</td>\n",
       "      <td>0</td>\n",
       "      <td>0.000265</td>\n",
       "      <td>...</td>\n",
       "      <td>0.0</td>\n",
       "      <td>cca4eec9-16c7-11ed-9b5f-1234bde3cd05</td>\n",
       "      <td>Geneseo</td>\n",
       "      <td>IL</td>\n",
       "      <td>US</td>\n",
       "      <td>41.452517</td>\n",
       "      <td>-90.154836</td>\n",
       "      <td>Henry</td>\n",
       "      <td>17</td>\n",
       "      <td>073</td>\n",
       "    </tr>\n",
       "    <tr>\n",
       "      <th>3572843</th>\n",
       "      <td>11212953</td>\n",
       "      <td>1</td>\n",
       "      <td>2022-01-04</td>\n",
       "      <td>1</td>\n",
       "      <td>0</td>\n",
       "      <td>0</td>\n",
       "      <td>0</td>\n",
       "      <td>0</td>\n",
       "      <td>0</td>\n",
       "      <td>0.000265</td>\n",
       "      <td>...</td>\n",
       "      <td>0.0</td>\n",
       "      <td>cca4eec9-16c7-11ed-9b5f-1234bde3cd05</td>\n",
       "      <td>Geneseo</td>\n",
       "      <td>IL</td>\n",
       "      <td>US</td>\n",
       "      <td>41.452517</td>\n",
       "      <td>-90.154836</td>\n",
       "      <td>Henry</td>\n",
       "      <td>17</td>\n",
       "      <td>073</td>\n",
       "    </tr>\n",
       "    <tr>\n",
       "      <th>3572844</th>\n",
       "      <td>11212953</td>\n",
       "      <td>1</td>\n",
       "      <td>2022-01-04</td>\n",
       "      <td>1</td>\n",
       "      <td>0</td>\n",
       "      <td>0</td>\n",
       "      <td>0</td>\n",
       "      <td>0</td>\n",
       "      <td>0</td>\n",
       "      <td>0.000265</td>\n",
       "      <td>...</td>\n",
       "      <td>0.0</td>\n",
       "      <td>e95c053b-16c7-11ed-9b5f-1234bde3cd05</td>\n",
       "      <td>Kewanee</td>\n",
       "      <td>IL</td>\n",
       "      <td>US</td>\n",
       "      <td>41.245593</td>\n",
       "      <td>-89.924830</td>\n",
       "      <td>Henry</td>\n",
       "      <td>17</td>\n",
       "      <td>073</td>\n",
       "    </tr>\n",
       "    <tr>\n",
       "      <th>3572845</th>\n",
       "      <td>11212953</td>\n",
       "      <td>1</td>\n",
       "      <td>2022-01-04</td>\n",
       "      <td>1</td>\n",
       "      <td>0</td>\n",
       "      <td>0</td>\n",
       "      <td>0</td>\n",
       "      <td>0</td>\n",
       "      <td>0</td>\n",
       "      <td>0.000265</td>\n",
       "      <td>...</td>\n",
       "      <td>0.0</td>\n",
       "      <td>df626b52-16c7-11ed-9b5f-1234bde3cd05</td>\n",
       "      <td>Bettendorf</td>\n",
       "      <td>IA</td>\n",
       "      <td>US</td>\n",
       "      <td>41.525276</td>\n",
       "      <td>-90.509639</td>\n",
       "      <td>Scott</td>\n",
       "      <td>19</td>\n",
       "      <td>163</td>\n",
       "    </tr>\n",
       "    <tr>\n",
       "      <th>...</th>\n",
       "      <td>...</td>\n",
       "      <td>...</td>\n",
       "      <td>...</td>\n",
       "      <td>...</td>\n",
       "      <td>...</td>\n",
       "      <td>...</td>\n",
       "      <td>...</td>\n",
       "      <td>...</td>\n",
       "      <td>...</td>\n",
       "      <td>...</td>\n",
       "      <td>...</td>\n",
       "      <td>...</td>\n",
       "      <td>...</td>\n",
       "      <td>...</td>\n",
       "      <td>...</td>\n",
       "      <td>...</td>\n",
       "      <td>...</td>\n",
       "      <td>...</td>\n",
       "      <td>...</td>\n",
       "      <td>...</td>\n",
       "      <td>...</td>\n",
       "    </tr>\n",
       "    <tr>\n",
       "      <th>18277427</th>\n",
       "      <td>RE49348</td>\n",
       "      <td>1</td>\n",
       "      <td>2022-12-27</td>\n",
       "      <td>0</td>\n",
       "      <td>0</td>\n",
       "      <td>0</td>\n",
       "      <td>0</td>\n",
       "      <td>0</td>\n",
       "      <td>0</td>\n",
       "      <td>0.000027</td>\n",
       "      <td>...</td>\n",
       "      <td>0.0</td>\n",
       "      <td>d5b79841-16c7-11ed-9b5f-1234bde3cd05</td>\n",
       "      <td>Duncan</td>\n",
       "      <td>OK</td>\n",
       "      <td>US</td>\n",
       "      <td>34.502303</td>\n",
       "      <td>-97.957813</td>\n",
       "      <td>Stephens</td>\n",
       "      <td>40</td>\n",
       "      <td>137</td>\n",
       "    </tr>\n",
       "    <tr>\n",
       "      <th>18277428</th>\n",
       "      <td>RE49348</td>\n",
       "      <td>1</td>\n",
       "      <td>2022-12-27</td>\n",
       "      <td>0</td>\n",
       "      <td>0</td>\n",
       "      <td>0</td>\n",
       "      <td>0</td>\n",
       "      <td>0</td>\n",
       "      <td>0</td>\n",
       "      <td>0.000027</td>\n",
       "      <td>...</td>\n",
       "      <td>0.0</td>\n",
       "      <td>d20d9c12-16c7-11ed-9b5f-1234bde3cd05</td>\n",
       "      <td>Hastings</td>\n",
       "      <td>OK</td>\n",
       "      <td>US</td>\n",
       "      <td>34.226758</td>\n",
       "      <td>-98.110040</td>\n",
       "      <td>Jefferson</td>\n",
       "      <td>40</td>\n",
       "      <td>067</td>\n",
       "    </tr>\n",
       "    <tr>\n",
       "      <th>18277429</th>\n",
       "      <td>RE49349</td>\n",
       "      <td>1</td>\n",
       "      <td>2022-12-27</td>\n",
       "      <td>0</td>\n",
       "      <td>0</td>\n",
       "      <td>0</td>\n",
       "      <td>0</td>\n",
       "      <td>0</td>\n",
       "      <td>0</td>\n",
       "      <td>0.000032</td>\n",
       "      <td>...</td>\n",
       "      <td>0.0</td>\n",
       "      <td>08419561-16c8-11ed-9b5f-1234bde3cd05</td>\n",
       "      <td>Bolton</td>\n",
       "      <td>MA</td>\n",
       "      <td>US</td>\n",
       "      <td>42.434234</td>\n",
       "      <td>-71.609774</td>\n",
       "      <td>Worcester County</td>\n",
       "      <td>25</td>\n",
       "      <td>027</td>\n",
       "    </tr>\n",
       "    <tr>\n",
       "      <th>18277430</th>\n",
       "      <td>RE49349</td>\n",
       "      <td>1</td>\n",
       "      <td>2022-12-27</td>\n",
       "      <td>0</td>\n",
       "      <td>0</td>\n",
       "      <td>0</td>\n",
       "      <td>0</td>\n",
       "      <td>0</td>\n",
       "      <td>0</td>\n",
       "      <td>0.000032</td>\n",
       "      <td>...</td>\n",
       "      <td>0.0</td>\n",
       "      <td>0e5b67a1-16c8-11ed-9b5f-1234bde3cd05</td>\n",
       "      <td>North Andover</td>\n",
       "      <td>MA</td>\n",
       "      <td>US</td>\n",
       "      <td>42.683989</td>\n",
       "      <td>-71.112707</td>\n",
       "      <td>Essex County</td>\n",
       "      <td>25</td>\n",
       "      <td>009</td>\n",
       "    </tr>\n",
       "    <tr>\n",
       "      <th>18277431</th>\n",
       "      <td>RE49349</td>\n",
       "      <td>1</td>\n",
       "      <td>2022-12-27</td>\n",
       "      <td>0</td>\n",
       "      <td>0</td>\n",
       "      <td>0</td>\n",
       "      <td>0</td>\n",
       "      <td>0</td>\n",
       "      <td>0</td>\n",
       "      <td>0.000032</td>\n",
       "      <td>...</td>\n",
       "      <td>0.0</td>\n",
       "      <td>07155f0a-16c8-11ed-9b5f-1234bde3cd05</td>\n",
       "      <td>Sudbury</td>\n",
       "      <td>MA</td>\n",
       "      <td>US</td>\n",
       "      <td>42.383428</td>\n",
       "      <td>-71.416173</td>\n",
       "      <td>Middlesex County</td>\n",
       "      <td>25</td>\n",
       "      <td>017</td>\n",
       "    </tr>\n",
       "  </tbody>\n",
       "</table>\n",
       "<p>439531 rows × 54 columns</p>\n",
       "</div>"
      ],
      "text/plain": [
       "            doc_id  flag_patent     pub_dt  predict50_any_ai  \\\n",
       "3572841   11212952            1 2022-01-04                 0   \n",
       "3572842   11212953            1 2022-01-04                 1   \n",
       "3572843   11212953            1 2022-01-04                 1   \n",
       "3572844   11212953            1 2022-01-04                 1   \n",
       "3572845   11212953            1 2022-01-04                 1   \n",
       "...            ...          ...        ...               ...   \n",
       "18277427   RE49348            1 2022-12-27                 0   \n",
       "18277428   RE49348            1 2022-12-27                 0   \n",
       "18277429   RE49349            1 2022-12-27                 0   \n",
       "18277430   RE49349            1 2022-12-27                 0   \n",
       "18277431   RE49349            1 2022-12-27                 0   \n",
       "\n",
       "          predict86_any_ai  predict93_any_ai  predict50_ml  predict86_ml  \\\n",
       "3572841                  0                 0             0             0   \n",
       "3572842                  0                 0             0             0   \n",
       "3572843                  0                 0             0             0   \n",
       "3572844                  0                 0             0             0   \n",
       "3572845                  0                 0             0             0   \n",
       "...                    ...               ...           ...           ...   \n",
       "18277427                 0                 0             0             0   \n",
       "18277428                 0                 0             0             0   \n",
       "18277429                 0                 0             0             0   \n",
       "18277430                 0                 0             0             0   \n",
       "18277431                 0                 0             0             0   \n",
       "\n",
       "          predict93_ml  ai_score_ml  ...  rule_47_flag  \\\n",
       "3572841              0     0.000160  ...           0.0   \n",
       "3572842              0     0.000265  ...           0.0   \n",
       "3572843              0     0.000265  ...           0.0   \n",
       "3572844              0     0.000265  ...           0.0   \n",
       "3572845              0     0.000265  ...           0.0   \n",
       "...                ...          ...  ...           ...   \n",
       "18277427             0     0.000027  ...           0.0   \n",
       "18277428             0     0.000027  ...           0.0   \n",
       "18277429             0     0.000032  ...           0.0   \n",
       "18277430             0     0.000032  ...           0.0   \n",
       "18277431             0     0.000032  ...           0.0   \n",
       "\n",
       "                                   location_id  disambig_city  disambig_state  \\\n",
       "3572841   f69d8c9b-16c7-11ed-9b5f-1234bde3cd05     Statesboro              GA   \n",
       "3572842   cca4eec9-16c7-11ed-9b5f-1234bde3cd05        Geneseo              IL   \n",
       "3572843   cca4eec9-16c7-11ed-9b5f-1234bde3cd05        Geneseo              IL   \n",
       "3572844   e95c053b-16c7-11ed-9b5f-1234bde3cd05        Kewanee              IL   \n",
       "3572845   df626b52-16c7-11ed-9b5f-1234bde3cd05     Bettendorf              IA   \n",
       "...                                        ...            ...             ...   \n",
       "18277427  d5b79841-16c7-11ed-9b5f-1234bde3cd05         Duncan              OK   \n",
       "18277428  d20d9c12-16c7-11ed-9b5f-1234bde3cd05       Hastings              OK   \n",
       "18277429  08419561-16c8-11ed-9b5f-1234bde3cd05         Bolton              MA   \n",
       "18277430  0e5b67a1-16c8-11ed-9b5f-1234bde3cd05  North Andover              MA   \n",
       "18277431  07155f0a-16c8-11ed-9b5f-1234bde3cd05        Sudbury              MA   \n",
       "\n",
       "          disambig_country   latitude  longitude            county  \\\n",
       "3572841                 US  32.449014 -81.783291           Bulloch   \n",
       "3572842                 US  41.452517 -90.154836             Henry   \n",
       "3572843                 US  41.452517 -90.154836             Henry   \n",
       "3572844                 US  41.245593 -89.924830             Henry   \n",
       "3572845                 US  41.525276 -90.509639             Scott   \n",
       "...                    ...        ...        ...               ...   \n",
       "18277427                US  34.502303 -97.957813          Stephens   \n",
       "18277428                US  34.226758 -98.110040         Jefferson   \n",
       "18277429                US  42.434234 -71.609774  Worcester County   \n",
       "18277430                US  42.683989 -71.112707      Essex County   \n",
       "18277431                US  42.383428 -71.416173  Middlesex County   \n",
       "\n",
       "          state_fips  county_fips  \n",
       "3572841           13          031  \n",
       "3572842           17          073  \n",
       "3572843           17          073  \n",
       "3572844           17          073  \n",
       "3572845           19          163  \n",
       "...              ...          ...  \n",
       "18277427          40          137  \n",
       "18277428          40          067  \n",
       "18277429          25          027  \n",
       "18277430          25          009  \n",
       "18277431          25          017  \n",
       "\n",
       "[439531 rows x 54 columns]"
      ]
     },
     "execution_count": 17,
     "metadata": {},
     "output_type": "execute_result"
    }
   ],
   "source": [
    "df_2022  = df[df['year'] == 2022].copy()\n",
    "df_2022"
   ]
  },
  {
   "cell_type": "code",
   "execution_count": 18,
   "id": "8b976eb3",
   "metadata": {},
   "outputs": [
    {
     "data": {
      "text/html": [
       "<div>\n",
       "<style scoped>\n",
       "    .dataframe tbody tr th:only-of-type {\n",
       "        vertical-align: middle;\n",
       "    }\n",
       "\n",
       "    .dataframe tbody tr th {\n",
       "        vertical-align: top;\n",
       "    }\n",
       "\n",
       "    .dataframe thead th {\n",
       "        text-align: right;\n",
       "    }\n",
       "</style>\n",
       "<table border=\"1\" class=\"dataframe\">\n",
       "  <thead>\n",
       "    <tr style=\"text-align: right;\">\n",
       "      <th></th>\n",
       "      <th>disambig_state</th>\n",
       "      <th>patent_count</th>\n",
       "    </tr>\n",
       "  </thead>\n",
       "  <tbody>\n",
       "    <tr>\n",
       "      <th>0</th>\n",
       "      <td>AK</td>\n",
       "      <td>92</td>\n",
       "    </tr>\n",
       "    <tr>\n",
       "      <th>1</th>\n",
       "      <td>AL</td>\n",
       "      <td>1122</td>\n",
       "    </tr>\n",
       "    <tr>\n",
       "      <th>2</th>\n",
       "      <td>AR</td>\n",
       "      <td>894</td>\n",
       "    </tr>\n",
       "    <tr>\n",
       "      <th>3</th>\n",
       "      <td>AZ</td>\n",
       "      <td>7044</td>\n",
       "    </tr>\n",
       "    <tr>\n",
       "      <th>4</th>\n",
       "      <td>CA</td>\n",
       "      <td>119783</td>\n",
       "    </tr>\n",
       "    <tr>\n",
       "      <th>5</th>\n",
       "      <td>CO</td>\n",
       "      <td>7509</td>\n",
       "    </tr>\n",
       "    <tr>\n",
       "      <th>6</th>\n",
       "      <td>CT</td>\n",
       "      <td>7737</td>\n",
       "    </tr>\n",
       "    <tr>\n",
       "      <th>7</th>\n",
       "      <td>DC</td>\n",
       "      <td>576</td>\n",
       "    </tr>\n",
       "    <tr>\n",
       "      <th>8</th>\n",
       "      <td>DE</td>\n",
       "      <td>923</td>\n",
       "    </tr>\n",
       "    <tr>\n",
       "      <th>9</th>\n",
       "      <td>FL</td>\n",
       "      <td>9158</td>\n",
       "    </tr>\n",
       "    <tr>\n",
       "      <th>10</th>\n",
       "      <td>GA</td>\n",
       "      <td>6629</td>\n",
       "    </tr>\n",
       "    <tr>\n",
       "      <th>11</th>\n",
       "      <td>GU</td>\n",
       "      <td>1</td>\n",
       "    </tr>\n",
       "    <tr>\n",
       "      <th>12</th>\n",
       "      <td>HI</td>\n",
       "      <td>232</td>\n",
       "    </tr>\n",
       "    <tr>\n",
       "      <th>13</th>\n",
       "      <td>IA</td>\n",
       "      <td>2582</td>\n",
       "    </tr>\n",
       "    <tr>\n",
       "      <th>14</th>\n",
       "      <td>ID</td>\n",
       "      <td>1866</td>\n",
       "    </tr>\n",
       "    <tr>\n",
       "      <th>15</th>\n",
       "      <td>IL</td>\n",
       "      <td>13558</td>\n",
       "    </tr>\n",
       "    <tr>\n",
       "      <th>16</th>\n",
       "      <td>IN</td>\n",
       "      <td>5687</td>\n",
       "    </tr>\n",
       "    <tr>\n",
       "      <th>17</th>\n",
       "      <td>KS</td>\n",
       "      <td>1845</td>\n",
       "    </tr>\n",
       "    <tr>\n",
       "      <th>18</th>\n",
       "      <td>KY</td>\n",
       "      <td>1724</td>\n",
       "    </tr>\n",
       "    <tr>\n",
       "      <th>19</th>\n",
       "      <td>LA</td>\n",
       "      <td>835</td>\n",
       "    </tr>\n",
       "    <tr>\n",
       "      <th>20</th>\n",
       "      <td>MA</td>\n",
       "      <td>22834</td>\n",
       "    </tr>\n",
       "    <tr>\n",
       "      <th>21</th>\n",
       "      <td>MD</td>\n",
       "      <td>5288</td>\n",
       "    </tr>\n",
       "    <tr>\n",
       "      <th>22</th>\n",
       "      <td>ME</td>\n",
       "      <td>728</td>\n",
       "    </tr>\n",
       "    <tr>\n",
       "      <th>23</th>\n",
       "      <td>MI</td>\n",
       "      <td>18371</td>\n",
       "    </tr>\n",
       "    <tr>\n",
       "      <th>24</th>\n",
       "      <td>MN</td>\n",
       "      <td>12539</td>\n",
       "    </tr>\n",
       "    <tr>\n",
       "      <th>25</th>\n",
       "      <td>MO</td>\n",
       "      <td>3300</td>\n",
       "    </tr>\n",
       "    <tr>\n",
       "      <th>26</th>\n",
       "      <td>MS</td>\n",
       "      <td>365</td>\n",
       "    </tr>\n",
       "    <tr>\n",
       "      <th>27</th>\n",
       "      <td>MT</td>\n",
       "      <td>316</td>\n",
       "    </tr>\n",
       "    <tr>\n",
       "      <th>28</th>\n",
       "      <td>NC</td>\n",
       "      <td>10664</td>\n",
       "    </tr>\n",
       "    <tr>\n",
       "      <th>29</th>\n",
       "      <td>ND</td>\n",
       "      <td>316</td>\n",
       "    </tr>\n",
       "    <tr>\n",
       "      <th>30</th>\n",
       "      <td>NE</td>\n",
       "      <td>746</td>\n",
       "    </tr>\n",
       "    <tr>\n",
       "      <th>31</th>\n",
       "      <td>NH</td>\n",
       "      <td>2597</td>\n",
       "    </tr>\n",
       "    <tr>\n",
       "      <th>32</th>\n",
       "      <td>NJ</td>\n",
       "      <td>12159</td>\n",
       "    </tr>\n",
       "    <tr>\n",
       "      <th>33</th>\n",
       "      <td>NM</td>\n",
       "      <td>1336</td>\n",
       "    </tr>\n",
       "    <tr>\n",
       "      <th>34</th>\n",
       "      <td>NV</td>\n",
       "      <td>1385</td>\n",
       "    </tr>\n",
       "    <tr>\n",
       "      <th>35</th>\n",
       "      <td>NY</td>\n",
       "      <td>26110</td>\n",
       "    </tr>\n",
       "    <tr>\n",
       "      <th>36</th>\n",
       "      <td>OH</td>\n",
       "      <td>11439</td>\n",
       "    </tr>\n",
       "    <tr>\n",
       "      <th>37</th>\n",
       "      <td>OK</td>\n",
       "      <td>1382</td>\n",
       "    </tr>\n",
       "    <tr>\n",
       "      <th>38</th>\n",
       "      <td>OR</td>\n",
       "      <td>8576</td>\n",
       "    </tr>\n",
       "    <tr>\n",
       "      <th>39</th>\n",
       "      <td>PA</td>\n",
       "      <td>11626</td>\n",
       "    </tr>\n",
       "    <tr>\n",
       "      <th>40</th>\n",
       "      <td>PR</td>\n",
       "      <td>92</td>\n",
       "    </tr>\n",
       "    <tr>\n",
       "      <th>41</th>\n",
       "      <td>RI</td>\n",
       "      <td>957</td>\n",
       "    </tr>\n",
       "    <tr>\n",
       "      <th>42</th>\n",
       "      <td>SC</td>\n",
       "      <td>2987</td>\n",
       "    </tr>\n",
       "    <tr>\n",
       "      <th>43</th>\n",
       "      <td>SD</td>\n",
       "      <td>280</td>\n",
       "    </tr>\n",
       "    <tr>\n",
       "      <th>44</th>\n",
       "      <td>TN</td>\n",
       "      <td>2959</td>\n",
       "    </tr>\n",
       "    <tr>\n",
       "      <th>45</th>\n",
       "      <td>TX</td>\n",
       "      <td>27812</td>\n",
       "    </tr>\n",
       "    <tr>\n",
       "      <th>46</th>\n",
       "      <td>UT</td>\n",
       "      <td>3980</td>\n",
       "    </tr>\n",
       "    <tr>\n",
       "      <th>47</th>\n",
       "      <td>VA</td>\n",
       "      <td>6281</td>\n",
       "    </tr>\n",
       "    <tr>\n",
       "      <th>48</th>\n",
       "      <td>VI</td>\n",
       "      <td>1</td>\n",
       "    </tr>\n",
       "    <tr>\n",
       "      <th>49</th>\n",
       "      <td>VT</td>\n",
       "      <td>1193</td>\n",
       "    </tr>\n",
       "    <tr>\n",
       "      <th>50</th>\n",
       "      <td>WA</td>\n",
       "      <td>22668</td>\n",
       "    </tr>\n",
       "    <tr>\n",
       "      <th>51</th>\n",
       "      <td>WI</td>\n",
       "      <td>6440</td>\n",
       "    </tr>\n",
       "    <tr>\n",
       "      <th>52</th>\n",
       "      <td>WV</td>\n",
       "      <td>306</td>\n",
       "    </tr>\n",
       "    <tr>\n",
       "      <th>53</th>\n",
       "      <td>WY</td>\n",
       "      <td>214</td>\n",
       "    </tr>\n",
       "  </tbody>\n",
       "</table>\n",
       "</div>"
      ],
      "text/plain": [
       "   disambig_state  patent_count\n",
       "0              AK            92\n",
       "1              AL          1122\n",
       "2              AR           894\n",
       "3              AZ          7044\n",
       "4              CA        119783\n",
       "5              CO          7509\n",
       "6              CT          7737\n",
       "7              DC           576\n",
       "8              DE           923\n",
       "9              FL          9158\n",
       "10             GA          6629\n",
       "11             GU             1\n",
       "12             HI           232\n",
       "13             IA          2582\n",
       "14             ID          1866\n",
       "15             IL         13558\n",
       "16             IN          5687\n",
       "17             KS          1845\n",
       "18             KY          1724\n",
       "19             LA           835\n",
       "20             MA         22834\n",
       "21             MD          5288\n",
       "22             ME           728\n",
       "23             MI         18371\n",
       "24             MN         12539\n",
       "25             MO          3300\n",
       "26             MS           365\n",
       "27             MT           316\n",
       "28             NC         10664\n",
       "29             ND           316\n",
       "30             NE           746\n",
       "31             NH          2597\n",
       "32             NJ         12159\n",
       "33             NM          1336\n",
       "34             NV          1385\n",
       "35             NY         26110\n",
       "36             OH         11439\n",
       "37             OK          1382\n",
       "38             OR          8576\n",
       "39             PA         11626\n",
       "40             PR            92\n",
       "41             RI           957\n",
       "42             SC          2987\n",
       "43             SD           280\n",
       "44             TN          2959\n",
       "45             TX         27812\n",
       "46             UT          3980\n",
       "47             VA          6281\n",
       "48             VI             1\n",
       "49             VT          1193\n",
       "50             WA         22668\n",
       "51             WI          6440\n",
       "52             WV           306\n",
       "53             WY           214"
      ]
     },
     "execution_count": 18,
     "metadata": {},
     "output_type": "execute_result"
    }
   ],
   "source": [
    "grouped_2018 = df_2018.groupby('disambig_state').size().reset_index(name='patent_count')\n",
    "grouped_2018"
   ]
  },
  {
   "cell_type": "code",
   "execution_count": 19,
   "id": "58aa7051",
   "metadata": {},
   "outputs": [
    {
     "data": {
      "text/html": [
       "<div>\n",
       "<style scoped>\n",
       "    .dataframe tbody tr th:only-of-type {\n",
       "        vertical-align: middle;\n",
       "    }\n",
       "\n",
       "    .dataframe tbody tr th {\n",
       "        vertical-align: top;\n",
       "    }\n",
       "\n",
       "    .dataframe thead th {\n",
       "        text-align: right;\n",
       "    }\n",
       "</style>\n",
       "<table border=\"1\" class=\"dataframe\">\n",
       "  <thead>\n",
       "    <tr style=\"text-align: right;\">\n",
       "      <th></th>\n",
       "      <th>disambig_state</th>\n",
       "      <th>patent_count</th>\n",
       "    </tr>\n",
       "  </thead>\n",
       "  <tbody>\n",
       "    <tr>\n",
       "      <th>0</th>\n",
       "      <td>AK</td>\n",
       "      <td>88</td>\n",
       "    </tr>\n",
       "    <tr>\n",
       "      <th>1</th>\n",
       "      <td>AL</td>\n",
       "      <td>1174</td>\n",
       "    </tr>\n",
       "    <tr>\n",
       "      <th>2</th>\n",
       "      <td>AR</td>\n",
       "      <td>773</td>\n",
       "    </tr>\n",
       "    <tr>\n",
       "      <th>3</th>\n",
       "      <td>AZ</td>\n",
       "      <td>7575</td>\n",
       "    </tr>\n",
       "    <tr>\n",
       "      <th>4</th>\n",
       "      <td>CA</td>\n",
       "      <td>135782</td>\n",
       "    </tr>\n",
       "    <tr>\n",
       "      <th>5</th>\n",
       "      <td>CO</td>\n",
       "      <td>8262</td>\n",
       "    </tr>\n",
       "    <tr>\n",
       "      <th>6</th>\n",
       "      <td>CT</td>\n",
       "      <td>7202</td>\n",
       "    </tr>\n",
       "    <tr>\n",
       "      <th>7</th>\n",
       "      <td>DC</td>\n",
       "      <td>756</td>\n",
       "    </tr>\n",
       "    <tr>\n",
       "      <th>8</th>\n",
       "      <td>DE</td>\n",
       "      <td>905</td>\n",
       "    </tr>\n",
       "    <tr>\n",
       "      <th>9</th>\n",
       "      <td>FL</td>\n",
       "      <td>10174</td>\n",
       "    </tr>\n",
       "    <tr>\n",
       "      <th>10</th>\n",
       "      <td>GA</td>\n",
       "      <td>6617</td>\n",
       "    </tr>\n",
       "    <tr>\n",
       "      <th>11</th>\n",
       "      <td>HI</td>\n",
       "      <td>282</td>\n",
       "    </tr>\n",
       "    <tr>\n",
       "      <th>12</th>\n",
       "      <td>IA</td>\n",
       "      <td>2804</td>\n",
       "    </tr>\n",
       "    <tr>\n",
       "      <th>13</th>\n",
       "      <td>ID</td>\n",
       "      <td>3246</td>\n",
       "    </tr>\n",
       "    <tr>\n",
       "      <th>14</th>\n",
       "      <td>IL</td>\n",
       "      <td>13538</td>\n",
       "    </tr>\n",
       "    <tr>\n",
       "      <th>15</th>\n",
       "      <td>IN</td>\n",
       "      <td>5319</td>\n",
       "    </tr>\n",
       "    <tr>\n",
       "      <th>16</th>\n",
       "      <td>KS</td>\n",
       "      <td>1841</td>\n",
       "    </tr>\n",
       "    <tr>\n",
       "      <th>17</th>\n",
       "      <td>KY</td>\n",
       "      <td>1700</td>\n",
       "    </tr>\n",
       "    <tr>\n",
       "      <th>18</th>\n",
       "      <td>LA</td>\n",
       "      <td>786</td>\n",
       "    </tr>\n",
       "    <tr>\n",
       "      <th>19</th>\n",
       "      <td>MA</td>\n",
       "      <td>24071</td>\n",
       "    </tr>\n",
       "    <tr>\n",
       "      <th>20</th>\n",
       "      <td>MD</td>\n",
       "      <td>5530</td>\n",
       "    </tr>\n",
       "    <tr>\n",
       "      <th>21</th>\n",
       "      <td>ME</td>\n",
       "      <td>698</td>\n",
       "    </tr>\n",
       "    <tr>\n",
       "      <th>22</th>\n",
       "      <td>MI</td>\n",
       "      <td>15556</td>\n",
       "    </tr>\n",
       "    <tr>\n",
       "      <th>23</th>\n",
       "      <td>MN</td>\n",
       "      <td>11404</td>\n",
       "    </tr>\n",
       "    <tr>\n",
       "      <th>24</th>\n",
       "      <td>MO</td>\n",
       "      <td>3212</td>\n",
       "    </tr>\n",
       "    <tr>\n",
       "      <th>25</th>\n",
       "      <td>MS</td>\n",
       "      <td>400</td>\n",
       "    </tr>\n",
       "    <tr>\n",
       "      <th>26</th>\n",
       "      <td>MT</td>\n",
       "      <td>521</td>\n",
       "    </tr>\n",
       "    <tr>\n",
       "      <th>27</th>\n",
       "      <td>NC</td>\n",
       "      <td>10200</td>\n",
       "    </tr>\n",
       "    <tr>\n",
       "      <th>28</th>\n",
       "      <td>ND</td>\n",
       "      <td>287</td>\n",
       "    </tr>\n",
       "    <tr>\n",
       "      <th>29</th>\n",
       "      <td>NE</td>\n",
       "      <td>744</td>\n",
       "    </tr>\n",
       "    <tr>\n",
       "      <th>30</th>\n",
       "      <td>NH</td>\n",
       "      <td>2613</td>\n",
       "    </tr>\n",
       "    <tr>\n",
       "      <th>31</th>\n",
       "      <td>NJ</td>\n",
       "      <td>12306</td>\n",
       "    </tr>\n",
       "    <tr>\n",
       "      <th>32</th>\n",
       "      <td>NM</td>\n",
       "      <td>1194</td>\n",
       "    </tr>\n",
       "    <tr>\n",
       "      <th>33</th>\n",
       "      <td>NV</td>\n",
       "      <td>1675</td>\n",
       "    </tr>\n",
       "    <tr>\n",
       "      <th>34</th>\n",
       "      <td>NY</td>\n",
       "      <td>21414</td>\n",
       "    </tr>\n",
       "    <tr>\n",
       "      <th>35</th>\n",
       "      <td>OH</td>\n",
       "      <td>11986</td>\n",
       "    </tr>\n",
       "    <tr>\n",
       "      <th>36</th>\n",
       "      <td>OK</td>\n",
       "      <td>1654</td>\n",
       "    </tr>\n",
       "    <tr>\n",
       "      <th>37</th>\n",
       "      <td>OR</td>\n",
       "      <td>10309</td>\n",
       "    </tr>\n",
       "    <tr>\n",
       "      <th>38</th>\n",
       "      <td>PA</td>\n",
       "      <td>12490</td>\n",
       "    </tr>\n",
       "    <tr>\n",
       "      <th>39</th>\n",
       "      <td>PR</td>\n",
       "      <td>95</td>\n",
       "    </tr>\n",
       "    <tr>\n",
       "      <th>40</th>\n",
       "      <td>RI</td>\n",
       "      <td>906</td>\n",
       "    </tr>\n",
       "    <tr>\n",
       "      <th>41</th>\n",
       "      <td>SC</td>\n",
       "      <td>2541</td>\n",
       "    </tr>\n",
       "    <tr>\n",
       "      <th>42</th>\n",
       "      <td>SD</td>\n",
       "      <td>281</td>\n",
       "    </tr>\n",
       "    <tr>\n",
       "      <th>43</th>\n",
       "      <td>TN</td>\n",
       "      <td>3404</td>\n",
       "    </tr>\n",
       "    <tr>\n",
       "      <th>44</th>\n",
       "      <td>TX</td>\n",
       "      <td>31229</td>\n",
       "    </tr>\n",
       "    <tr>\n",
       "      <th>45</th>\n",
       "      <td>UT</td>\n",
       "      <td>3772</td>\n",
       "    </tr>\n",
       "    <tr>\n",
       "      <th>46</th>\n",
       "      <td>VA</td>\n",
       "      <td>8062</td>\n",
       "    </tr>\n",
       "    <tr>\n",
       "      <th>47</th>\n",
       "      <td>VI</td>\n",
       "      <td>5</td>\n",
       "    </tr>\n",
       "    <tr>\n",
       "      <th>48</th>\n",
       "      <td>VT</td>\n",
       "      <td>871</td>\n",
       "    </tr>\n",
       "    <tr>\n",
       "      <th>49</th>\n",
       "      <td>WA</td>\n",
       "      <td>23558</td>\n",
       "    </tr>\n",
       "    <tr>\n",
       "      <th>50</th>\n",
       "      <td>WI</td>\n",
       "      <td>7297</td>\n",
       "    </tr>\n",
       "    <tr>\n",
       "      <th>51</th>\n",
       "      <td>WV</td>\n",
       "      <td>214</td>\n",
       "    </tr>\n",
       "    <tr>\n",
       "      <th>52</th>\n",
       "      <td>WY</td>\n",
       "      <td>208</td>\n",
       "    </tr>\n",
       "  </tbody>\n",
       "</table>\n",
       "</div>"
      ],
      "text/plain": [
       "   disambig_state  patent_count\n",
       "0              AK            88\n",
       "1              AL          1174\n",
       "2              AR           773\n",
       "3              AZ          7575\n",
       "4              CA        135782\n",
       "5              CO          8262\n",
       "6              CT          7202\n",
       "7              DC           756\n",
       "8              DE           905\n",
       "9              FL         10174\n",
       "10             GA          6617\n",
       "11             HI           282\n",
       "12             IA          2804\n",
       "13             ID          3246\n",
       "14             IL         13538\n",
       "15             IN          5319\n",
       "16             KS          1841\n",
       "17             KY          1700\n",
       "18             LA           786\n",
       "19             MA         24071\n",
       "20             MD          5530\n",
       "21             ME           698\n",
       "22             MI         15556\n",
       "23             MN         11404\n",
       "24             MO          3212\n",
       "25             MS           400\n",
       "26             MT           521\n",
       "27             NC         10200\n",
       "28             ND           287\n",
       "29             NE           744\n",
       "30             NH          2613\n",
       "31             NJ         12306\n",
       "32             NM          1194\n",
       "33             NV          1675\n",
       "34             NY         21414\n",
       "35             OH         11986\n",
       "36             OK          1654\n",
       "37             OR         10309\n",
       "38             PA         12490\n",
       "39             PR            95\n",
       "40             RI           906\n",
       "41             SC          2541\n",
       "42             SD           281\n",
       "43             TN          3404\n",
       "44             TX         31229\n",
       "45             UT          3772\n",
       "46             VA          8062\n",
       "47             VI             5\n",
       "48             VT           871\n",
       "49             WA         23558\n",
       "50             WI          7297\n",
       "51             WV           214\n",
       "52             WY           208"
      ]
     },
     "execution_count": 19,
     "metadata": {},
     "output_type": "execute_result"
    }
   ],
   "source": [
    "grouped_2022 = df_2022.groupby('disambig_state').size().reset_index(name='patent_count')\n",
    "grouped_2022"
   ]
  },
  {
   "cell_type": "code",
   "execution_count": 20,
   "id": "df3ce8fb",
   "metadata": {},
   "outputs": [
    {
     "data": {
      "application/vnd.plotly.v1+json": {
       "config": {
        "plotlyServerURL": "https://plot.ly"
       },
       "data": [
        {
         "geo": "geo",
         "hovertemplate": "<b>%{hovertext}</b><br><br>patent_count=%{marker.color}<br>disambig_state=%{location}<extra></extra>",
         "hovertext": [
          "AK",
          "AL",
          "AR",
          "AZ",
          "CA",
          "CO",
          "CT",
          "DC",
          "DE",
          "FL",
          "GA",
          "GU",
          "HI",
          "IA",
          "ID",
          "IL",
          "IN",
          "KS",
          "KY",
          "LA",
          "MA",
          "MD",
          "ME",
          "MI",
          "MN",
          "MO",
          "MS",
          "MT",
          "NC",
          "ND",
          "NE",
          "NH",
          "NJ",
          "NM",
          "NV",
          "NY",
          "OH",
          "OK",
          "OR",
          "PA",
          "PR",
          "RI",
          "SC",
          "SD",
          "TN",
          "TX",
          "UT",
          "VA",
          "VI",
          "VT",
          "WA",
          "WI",
          "WV",
          "WY"
         ],
         "legendgroup": "",
         "locationmode": "USA-states",
         "locations": [
          "AK",
          "AL",
          "AR",
          "AZ",
          "CA",
          "CO",
          "CT",
          "DC",
          "DE",
          "FL",
          "GA",
          "GU",
          "HI",
          "IA",
          "ID",
          "IL",
          "IN",
          "KS",
          "KY",
          "LA",
          "MA",
          "MD",
          "ME",
          "MI",
          "MN",
          "MO",
          "MS",
          "MT",
          "NC",
          "ND",
          "NE",
          "NH",
          "NJ",
          "NM",
          "NV",
          "NY",
          "OH",
          "OK",
          "OR",
          "PA",
          "PR",
          "RI",
          "SC",
          "SD",
          "TN",
          "TX",
          "UT",
          "VA",
          "VI",
          "VT",
          "WA",
          "WI",
          "WV",
          "WY"
         ],
         "marker": {
          "color": {
           "bdata": "XAAAAGIEAAB+AwAAhBsAAOfTAQBVHQAAOR4AAEACAACbAwAAxiMAAOUZAAABAAAA6AAAABYKAABKBwAA9jQAADcWAAA1BwAAvAYAAEMDAAAyWQAAqBQAANgCAADDRwAA+zAAAOQMAABtAQAAPAEAAKgpAAA8AQAA6gIAACUKAAB/LwAAOAUAAGkFAAD+ZQAArywAAGYFAACAIQAAai0AAFwAAAC9AwAAqwsAABgBAACPCwAApGwAAIwPAACJGAAAAQAAAKkEAACMWAAAKBkAADIBAADWAAAA",
           "dtype": "i4"
          },
          "coloraxis": "coloraxis",
          "size": {
           "bdata": "XAAAAGIEAAB+AwAAhBsAAOfTAQBVHQAAOR4AAEACAACbAwAAxiMAAOUZAAABAAAA6AAAABYKAABKBwAA9jQAADcWAAA1BwAAvAYAAEMDAAAyWQAAqBQAANgCAADDRwAA+zAAAOQMAABtAQAAPAEAAKgpAAA8AQAA6gIAACUKAAB/LwAAOAUAAGkFAAD+ZQAArywAAGYFAACAIQAAai0AAFwAAAC9AwAAqwsAABgBAACPCwAApGwAAIwPAACJGAAAAQAAAKkEAACMWAAAKBkAADIBAADWAAAA",
           "dtype": "i4"
          },
          "sizemode": "area",
          "sizeref": 47.9132,
          "symbol": "circle"
         },
         "mode": "markers",
         "name": "",
         "showlegend": false,
         "type": "scattergeo"
        }
       ],
       "layout": {
        "coloraxis": {
         "colorbar": {
          "title": {
           "text": "patent_count"
          }
         },
         "colorscale": [
          [
           0,
           "#0d0887"
          ],
          [
           0.1111111111111111,
           "#46039f"
          ],
          [
           0.2222222222222222,
           "#7201a8"
          ],
          [
           0.3333333333333333,
           "#9c179e"
          ],
          [
           0.4444444444444444,
           "#bd3786"
          ],
          [
           0.5555555555555556,
           "#d8576b"
          ],
          [
           0.6666666666666666,
           "#ed7953"
          ],
          [
           0.7777777777777778,
           "#fb9f3a"
          ],
          [
           0.8888888888888888,
           "#fdca26"
          ],
          [
           1,
           "#f0f921"
          ]
         ]
        },
        "geo": {
         "center": {},
         "domain": {
          "x": [
           0,
           1
          ],
          "y": [
           0,
           1
          ]
         },
         "projection": {
          "type": "albers usa"
         },
         "scope": "usa"
        },
        "legend": {
         "itemsizing": "constant",
         "tracegroupgap": 0
        },
        "template": {
         "data": {
          "bar": [
           {
            "error_x": {
             "color": "#2a3f5f"
            },
            "error_y": {
             "color": "#2a3f5f"
            },
            "marker": {
             "line": {
              "color": "#E5ECF6",
              "width": 0.5
             },
             "pattern": {
              "fillmode": "overlay",
              "size": 10,
              "solidity": 0.2
             }
            },
            "type": "bar"
           }
          ],
          "barpolar": [
           {
            "marker": {
             "line": {
              "color": "#E5ECF6",
              "width": 0.5
             },
             "pattern": {
              "fillmode": "overlay",
              "size": 10,
              "solidity": 0.2
             }
            },
            "type": "barpolar"
           }
          ],
          "carpet": [
           {
            "aaxis": {
             "endlinecolor": "#2a3f5f",
             "gridcolor": "white",
             "linecolor": "white",
             "minorgridcolor": "white",
             "startlinecolor": "#2a3f5f"
            },
            "baxis": {
             "endlinecolor": "#2a3f5f",
             "gridcolor": "white",
             "linecolor": "white",
             "minorgridcolor": "white",
             "startlinecolor": "#2a3f5f"
            },
            "type": "carpet"
           }
          ],
          "choropleth": [
           {
            "colorbar": {
             "outlinewidth": 0,
             "ticks": ""
            },
            "type": "choropleth"
           }
          ],
          "contour": [
           {
            "colorbar": {
             "outlinewidth": 0,
             "ticks": ""
            },
            "colorscale": [
             [
              0,
              "#0d0887"
             ],
             [
              0.1111111111111111,
              "#46039f"
             ],
             [
              0.2222222222222222,
              "#7201a8"
             ],
             [
              0.3333333333333333,
              "#9c179e"
             ],
             [
              0.4444444444444444,
              "#bd3786"
             ],
             [
              0.5555555555555556,
              "#d8576b"
             ],
             [
              0.6666666666666666,
              "#ed7953"
             ],
             [
              0.7777777777777778,
              "#fb9f3a"
             ],
             [
              0.8888888888888888,
              "#fdca26"
             ],
             [
              1,
              "#f0f921"
             ]
            ],
            "type": "contour"
           }
          ],
          "contourcarpet": [
           {
            "colorbar": {
             "outlinewidth": 0,
             "ticks": ""
            },
            "type": "contourcarpet"
           }
          ],
          "heatmap": [
           {
            "colorbar": {
             "outlinewidth": 0,
             "ticks": ""
            },
            "colorscale": [
             [
              0,
              "#0d0887"
             ],
             [
              0.1111111111111111,
              "#46039f"
             ],
             [
              0.2222222222222222,
              "#7201a8"
             ],
             [
              0.3333333333333333,
              "#9c179e"
             ],
             [
              0.4444444444444444,
              "#bd3786"
             ],
             [
              0.5555555555555556,
              "#d8576b"
             ],
             [
              0.6666666666666666,
              "#ed7953"
             ],
             [
              0.7777777777777778,
              "#fb9f3a"
             ],
             [
              0.8888888888888888,
              "#fdca26"
             ],
             [
              1,
              "#f0f921"
             ]
            ],
            "type": "heatmap"
           }
          ],
          "histogram": [
           {
            "marker": {
             "pattern": {
              "fillmode": "overlay",
              "size": 10,
              "solidity": 0.2
             }
            },
            "type": "histogram"
           }
          ],
          "histogram2d": [
           {
            "colorbar": {
             "outlinewidth": 0,
             "ticks": ""
            },
            "colorscale": [
             [
              0,
              "#0d0887"
             ],
             [
              0.1111111111111111,
              "#46039f"
             ],
             [
              0.2222222222222222,
              "#7201a8"
             ],
             [
              0.3333333333333333,
              "#9c179e"
             ],
             [
              0.4444444444444444,
              "#bd3786"
             ],
             [
              0.5555555555555556,
              "#d8576b"
             ],
             [
              0.6666666666666666,
              "#ed7953"
             ],
             [
              0.7777777777777778,
              "#fb9f3a"
             ],
             [
              0.8888888888888888,
              "#fdca26"
             ],
             [
              1,
              "#f0f921"
             ]
            ],
            "type": "histogram2d"
           }
          ],
          "histogram2dcontour": [
           {
            "colorbar": {
             "outlinewidth": 0,
             "ticks": ""
            },
            "colorscale": [
             [
              0,
              "#0d0887"
             ],
             [
              0.1111111111111111,
              "#46039f"
             ],
             [
              0.2222222222222222,
              "#7201a8"
             ],
             [
              0.3333333333333333,
              "#9c179e"
             ],
             [
              0.4444444444444444,
              "#bd3786"
             ],
             [
              0.5555555555555556,
              "#d8576b"
             ],
             [
              0.6666666666666666,
              "#ed7953"
             ],
             [
              0.7777777777777778,
              "#fb9f3a"
             ],
             [
              0.8888888888888888,
              "#fdca26"
             ],
             [
              1,
              "#f0f921"
             ]
            ],
            "type": "histogram2dcontour"
           }
          ],
          "mesh3d": [
           {
            "colorbar": {
             "outlinewidth": 0,
             "ticks": ""
            },
            "type": "mesh3d"
           }
          ],
          "parcoords": [
           {
            "line": {
             "colorbar": {
              "outlinewidth": 0,
              "ticks": ""
             }
            },
            "type": "parcoords"
           }
          ],
          "pie": [
           {
            "automargin": true,
            "type": "pie"
           }
          ],
          "scatter": [
           {
            "fillpattern": {
             "fillmode": "overlay",
             "size": 10,
             "solidity": 0.2
            },
            "type": "scatter"
           }
          ],
          "scatter3d": [
           {
            "line": {
             "colorbar": {
              "outlinewidth": 0,
              "ticks": ""
             }
            },
            "marker": {
             "colorbar": {
              "outlinewidth": 0,
              "ticks": ""
             }
            },
            "type": "scatter3d"
           }
          ],
          "scattercarpet": [
           {
            "marker": {
             "colorbar": {
              "outlinewidth": 0,
              "ticks": ""
             }
            },
            "type": "scattercarpet"
           }
          ],
          "scattergeo": [
           {
            "marker": {
             "colorbar": {
              "outlinewidth": 0,
              "ticks": ""
             }
            },
            "type": "scattergeo"
           }
          ],
          "scattergl": [
           {
            "marker": {
             "colorbar": {
              "outlinewidth": 0,
              "ticks": ""
             }
            },
            "type": "scattergl"
           }
          ],
          "scattermap": [
           {
            "marker": {
             "colorbar": {
              "outlinewidth": 0,
              "ticks": ""
             }
            },
            "type": "scattermap"
           }
          ],
          "scattermapbox": [
           {
            "marker": {
             "colorbar": {
              "outlinewidth": 0,
              "ticks": ""
             }
            },
            "type": "scattermapbox"
           }
          ],
          "scatterpolar": [
           {
            "marker": {
             "colorbar": {
              "outlinewidth": 0,
              "ticks": ""
             }
            },
            "type": "scatterpolar"
           }
          ],
          "scatterpolargl": [
           {
            "marker": {
             "colorbar": {
              "outlinewidth": 0,
              "ticks": ""
             }
            },
            "type": "scatterpolargl"
           }
          ],
          "scatterternary": [
           {
            "marker": {
             "colorbar": {
              "outlinewidth": 0,
              "ticks": ""
             }
            },
            "type": "scatterternary"
           }
          ],
          "surface": [
           {
            "colorbar": {
             "outlinewidth": 0,
             "ticks": ""
            },
            "colorscale": [
             [
              0,
              "#0d0887"
             ],
             [
              0.1111111111111111,
              "#46039f"
             ],
             [
              0.2222222222222222,
              "#7201a8"
             ],
             [
              0.3333333333333333,
              "#9c179e"
             ],
             [
              0.4444444444444444,
              "#bd3786"
             ],
             [
              0.5555555555555556,
              "#d8576b"
             ],
             [
              0.6666666666666666,
              "#ed7953"
             ],
             [
              0.7777777777777778,
              "#fb9f3a"
             ],
             [
              0.8888888888888888,
              "#fdca26"
             ],
             [
              1,
              "#f0f921"
             ]
            ],
            "type": "surface"
           }
          ],
          "table": [
           {
            "cells": {
             "fill": {
              "color": "#EBF0F8"
             },
             "line": {
              "color": "white"
             }
            },
            "header": {
             "fill": {
              "color": "#C8D4E3"
             },
             "line": {
              "color": "white"
             }
            },
            "type": "table"
           }
          ]
         },
         "layout": {
          "annotationdefaults": {
           "arrowcolor": "#2a3f5f",
           "arrowhead": 0,
           "arrowwidth": 1
          },
          "autotypenumbers": "strict",
          "coloraxis": {
           "colorbar": {
            "outlinewidth": 0,
            "ticks": ""
           }
          },
          "colorscale": {
           "diverging": [
            [
             0,
             "#8e0152"
            ],
            [
             0.1,
             "#c51b7d"
            ],
            [
             0.2,
             "#de77ae"
            ],
            [
             0.3,
             "#f1b6da"
            ],
            [
             0.4,
             "#fde0ef"
            ],
            [
             0.5,
             "#f7f7f7"
            ],
            [
             0.6,
             "#e6f5d0"
            ],
            [
             0.7,
             "#b8e186"
            ],
            [
             0.8,
             "#7fbc41"
            ],
            [
             0.9,
             "#4d9221"
            ],
            [
             1,
             "#276419"
            ]
           ],
           "sequential": [
            [
             0,
             "#0d0887"
            ],
            [
             0.1111111111111111,
             "#46039f"
            ],
            [
             0.2222222222222222,
             "#7201a8"
            ],
            [
             0.3333333333333333,
             "#9c179e"
            ],
            [
             0.4444444444444444,
             "#bd3786"
            ],
            [
             0.5555555555555556,
             "#d8576b"
            ],
            [
             0.6666666666666666,
             "#ed7953"
            ],
            [
             0.7777777777777778,
             "#fb9f3a"
            ],
            [
             0.8888888888888888,
             "#fdca26"
            ],
            [
             1,
             "#f0f921"
            ]
           ],
           "sequentialminus": [
            [
             0,
             "#0d0887"
            ],
            [
             0.1111111111111111,
             "#46039f"
            ],
            [
             0.2222222222222222,
             "#7201a8"
            ],
            [
             0.3333333333333333,
             "#9c179e"
            ],
            [
             0.4444444444444444,
             "#bd3786"
            ],
            [
             0.5555555555555556,
             "#d8576b"
            ],
            [
             0.6666666666666666,
             "#ed7953"
            ],
            [
             0.7777777777777778,
             "#fb9f3a"
            ],
            [
             0.8888888888888888,
             "#fdca26"
            ],
            [
             1,
             "#f0f921"
            ]
           ]
          },
          "colorway": [
           "#636efa",
           "#EF553B",
           "#00cc96",
           "#ab63fa",
           "#FFA15A",
           "#19d3f3",
           "#FF6692",
           "#B6E880",
           "#FF97FF",
           "#FECB52"
          ],
          "font": {
           "color": "#2a3f5f"
          },
          "geo": {
           "bgcolor": "white",
           "lakecolor": "white",
           "landcolor": "#E5ECF6",
           "showlakes": true,
           "showland": true,
           "subunitcolor": "white"
          },
          "hoverlabel": {
           "align": "left"
          },
          "hovermode": "closest",
          "mapbox": {
           "style": "light"
          },
          "paper_bgcolor": "white",
          "plot_bgcolor": "#E5ECF6",
          "polar": {
           "angularaxis": {
            "gridcolor": "white",
            "linecolor": "white",
            "ticks": ""
           },
           "bgcolor": "#E5ECF6",
           "radialaxis": {
            "gridcolor": "white",
            "linecolor": "white",
            "ticks": ""
           }
          },
          "scene": {
           "xaxis": {
            "backgroundcolor": "#E5ECF6",
            "gridcolor": "white",
            "gridwidth": 2,
            "linecolor": "white",
            "showbackground": true,
            "ticks": "",
            "zerolinecolor": "white"
           },
           "yaxis": {
            "backgroundcolor": "#E5ECF6",
            "gridcolor": "white",
            "gridwidth": 2,
            "linecolor": "white",
            "showbackground": true,
            "ticks": "",
            "zerolinecolor": "white"
           },
           "zaxis": {
            "backgroundcolor": "#E5ECF6",
            "gridcolor": "white",
            "gridwidth": 2,
            "linecolor": "white",
            "showbackground": true,
            "ticks": "",
            "zerolinecolor": "white"
           }
          },
          "shapedefaults": {
           "line": {
            "color": "#2a3f5f"
           }
          },
          "ternary": {
           "aaxis": {
            "gridcolor": "white",
            "linecolor": "white",
            "ticks": ""
           },
           "baxis": {
            "gridcolor": "white",
            "linecolor": "white",
            "ticks": ""
           },
           "bgcolor": "#E5ECF6",
           "caxis": {
            "gridcolor": "white",
            "linecolor": "white",
            "ticks": ""
           }
          },
          "title": {
           "x": 0.05
          },
          "xaxis": {
           "automargin": true,
           "gridcolor": "white",
           "linecolor": "white",
           "ticks": "",
           "title": {
            "standoff": 15
           },
           "zerolinecolor": "white",
           "zerolinewidth": 2
          },
          "yaxis": {
           "automargin": true,
           "gridcolor": "white",
           "linecolor": "white",
           "ticks": "",
           "title": {
            "standoff": 15
           },
           "zerolinecolor": "white",
           "zerolinewidth": 2
          }
         }
        },
        "title": {
         "text": "Patent Count by U.S. State for 2018"
        }
       }
      }
     },
     "metadata": {},
     "output_type": "display_data"
    }
   ],
   "source": [
    "fig = px.scatter_geo(grouped_2018,\n",
    "                     locations=\"disambig_state\",\n",
    "                     locationmode=\"USA-states\",\n",
    "                     size=\"patent_count\",\n",
    "                     color=\"patent_count\",\n",
    "                     scope=\"usa\",\n",
    "                     title=\"Patent Count by U.S. State for 2018\",\n",
    "                     size_max=50,\n",
    "                     hover_name=\"disambig_state\",\n",
    "                     projection=\"albers usa\")\n",
    "\n",
    "fig.show()"
   ]
  },
  {
   "cell_type": "code",
   "execution_count": 21,
   "id": "827c355a",
   "metadata": {},
   "outputs": [
    {
     "data": {
      "application/vnd.plotly.v1+json": {
       "config": {
        "plotlyServerURL": "https://plot.ly"
       },
       "data": [
        {
         "geo": "geo",
         "hovertemplate": "<b>%{hovertext}</b><br><br>patent_count=%{marker.color}<br>disambig_state=%{location}<extra></extra>",
         "hovertext": [
          "AK",
          "AL",
          "AR",
          "AZ",
          "CA",
          "CO",
          "CT",
          "DC",
          "DE",
          "FL",
          "GA",
          "HI",
          "IA",
          "ID",
          "IL",
          "IN",
          "KS",
          "KY",
          "LA",
          "MA",
          "MD",
          "ME",
          "MI",
          "MN",
          "MO",
          "MS",
          "MT",
          "NC",
          "ND",
          "NE",
          "NH",
          "NJ",
          "NM",
          "NV",
          "NY",
          "OH",
          "OK",
          "OR",
          "PA",
          "PR",
          "RI",
          "SC",
          "SD",
          "TN",
          "TX",
          "UT",
          "VA",
          "VI",
          "VT",
          "WA",
          "WI",
          "WV",
          "WY"
         ],
         "legendgroup": "",
         "locationmode": "USA-states",
         "locations": [
          "AK",
          "AL",
          "AR",
          "AZ",
          "CA",
          "CO",
          "CT",
          "DC",
          "DE",
          "FL",
          "GA",
          "HI",
          "IA",
          "ID",
          "IL",
          "IN",
          "KS",
          "KY",
          "LA",
          "MA",
          "MD",
          "ME",
          "MI",
          "MN",
          "MO",
          "MS",
          "MT",
          "NC",
          "ND",
          "NE",
          "NH",
          "NJ",
          "NM",
          "NV",
          "NY",
          "OH",
          "OK",
          "OR",
          "PA",
          "PR",
          "RI",
          "SC",
          "SD",
          "TN",
          "TX",
          "UT",
          "VA",
          "VI",
          "VT",
          "WA",
          "WI",
          "WV",
          "WY"
         ],
         "marker": {
          "color": {
           "bdata": "WAAAAJYEAAAFAwAAlx0AAGYSAgBGIAAAIhwAAPQCAACJAwAAvicAANkZAAAaAQAA9AoAAK4MAADiNAAAxxQAADEHAACkBgAAEgMAAAdeAACaFQAAugIAAMQ8AACMLAAAjAwAAJABAAAJAgAA2CcAAB8BAADoAgAANQoAABIwAACqBAAAiwYAAKZTAADSLgAAdgYAAEUoAADKMAAAXwAAAIoDAADtCQAAGQEAAEwNAAD9eQAAvA4AAH4fAAAFAAAAZwMAAAZcAACBHAAA1gAAANAAAAA=",
           "dtype": "i4"
          },
          "coloraxis": "coloraxis",
          "size": {
           "bdata": "WAAAAJYEAAAFAwAAlx0AAGYSAgBGIAAAIhwAAPQCAACJAwAAvicAANkZAAAaAQAA9AoAAK4MAADiNAAAxxQAADEHAACkBgAAEgMAAAdeAACaFQAAugIAAMQ8AACMLAAAjAwAAJABAAAJAgAA2CcAAB8BAADoAgAANQoAABIwAACqBAAAiwYAAKZTAADSLgAAdgYAAEUoAADKMAAAXwAAAIoDAADtCQAAGQEAAEwNAAD9eQAAvA4AAH4fAAAFAAAAZwMAAAZcAACBHAAA1gAAANAAAAA=",
           "dtype": "i4"
          },
          "sizemode": "area",
          "sizeref": 54.3128,
          "symbol": "circle"
         },
         "mode": "markers",
         "name": "",
         "showlegend": false,
         "type": "scattergeo"
        }
       ],
       "layout": {
        "coloraxis": {
         "colorbar": {
          "title": {
           "text": "patent_count"
          }
         },
         "colorscale": [
          [
           0,
           "#0d0887"
          ],
          [
           0.1111111111111111,
           "#46039f"
          ],
          [
           0.2222222222222222,
           "#7201a8"
          ],
          [
           0.3333333333333333,
           "#9c179e"
          ],
          [
           0.4444444444444444,
           "#bd3786"
          ],
          [
           0.5555555555555556,
           "#d8576b"
          ],
          [
           0.6666666666666666,
           "#ed7953"
          ],
          [
           0.7777777777777778,
           "#fb9f3a"
          ],
          [
           0.8888888888888888,
           "#fdca26"
          ],
          [
           1,
           "#f0f921"
          ]
         ]
        },
        "geo": {
         "center": {},
         "domain": {
          "x": [
           0,
           1
          ],
          "y": [
           0,
           1
          ]
         },
         "projection": {
          "type": "albers usa"
         },
         "scope": "usa"
        },
        "legend": {
         "itemsizing": "constant",
         "tracegroupgap": 0
        },
        "template": {
         "data": {
          "bar": [
           {
            "error_x": {
             "color": "#2a3f5f"
            },
            "error_y": {
             "color": "#2a3f5f"
            },
            "marker": {
             "line": {
              "color": "#E5ECF6",
              "width": 0.5
             },
             "pattern": {
              "fillmode": "overlay",
              "size": 10,
              "solidity": 0.2
             }
            },
            "type": "bar"
           }
          ],
          "barpolar": [
           {
            "marker": {
             "line": {
              "color": "#E5ECF6",
              "width": 0.5
             },
             "pattern": {
              "fillmode": "overlay",
              "size": 10,
              "solidity": 0.2
             }
            },
            "type": "barpolar"
           }
          ],
          "carpet": [
           {
            "aaxis": {
             "endlinecolor": "#2a3f5f",
             "gridcolor": "white",
             "linecolor": "white",
             "minorgridcolor": "white",
             "startlinecolor": "#2a3f5f"
            },
            "baxis": {
             "endlinecolor": "#2a3f5f",
             "gridcolor": "white",
             "linecolor": "white",
             "minorgridcolor": "white",
             "startlinecolor": "#2a3f5f"
            },
            "type": "carpet"
           }
          ],
          "choropleth": [
           {
            "colorbar": {
             "outlinewidth": 0,
             "ticks": ""
            },
            "type": "choropleth"
           }
          ],
          "contour": [
           {
            "colorbar": {
             "outlinewidth": 0,
             "ticks": ""
            },
            "colorscale": [
             [
              0,
              "#0d0887"
             ],
             [
              0.1111111111111111,
              "#46039f"
             ],
             [
              0.2222222222222222,
              "#7201a8"
             ],
             [
              0.3333333333333333,
              "#9c179e"
             ],
             [
              0.4444444444444444,
              "#bd3786"
             ],
             [
              0.5555555555555556,
              "#d8576b"
             ],
             [
              0.6666666666666666,
              "#ed7953"
             ],
             [
              0.7777777777777778,
              "#fb9f3a"
             ],
             [
              0.8888888888888888,
              "#fdca26"
             ],
             [
              1,
              "#f0f921"
             ]
            ],
            "type": "contour"
           }
          ],
          "contourcarpet": [
           {
            "colorbar": {
             "outlinewidth": 0,
             "ticks": ""
            },
            "type": "contourcarpet"
           }
          ],
          "heatmap": [
           {
            "colorbar": {
             "outlinewidth": 0,
             "ticks": ""
            },
            "colorscale": [
             [
              0,
              "#0d0887"
             ],
             [
              0.1111111111111111,
              "#46039f"
             ],
             [
              0.2222222222222222,
              "#7201a8"
             ],
             [
              0.3333333333333333,
              "#9c179e"
             ],
             [
              0.4444444444444444,
              "#bd3786"
             ],
             [
              0.5555555555555556,
              "#d8576b"
             ],
             [
              0.6666666666666666,
              "#ed7953"
             ],
             [
              0.7777777777777778,
              "#fb9f3a"
             ],
             [
              0.8888888888888888,
              "#fdca26"
             ],
             [
              1,
              "#f0f921"
             ]
            ],
            "type": "heatmap"
           }
          ],
          "histogram": [
           {
            "marker": {
             "pattern": {
              "fillmode": "overlay",
              "size": 10,
              "solidity": 0.2
             }
            },
            "type": "histogram"
           }
          ],
          "histogram2d": [
           {
            "colorbar": {
             "outlinewidth": 0,
             "ticks": ""
            },
            "colorscale": [
             [
              0,
              "#0d0887"
             ],
             [
              0.1111111111111111,
              "#46039f"
             ],
             [
              0.2222222222222222,
              "#7201a8"
             ],
             [
              0.3333333333333333,
              "#9c179e"
             ],
             [
              0.4444444444444444,
              "#bd3786"
             ],
             [
              0.5555555555555556,
              "#d8576b"
             ],
             [
              0.6666666666666666,
              "#ed7953"
             ],
             [
              0.7777777777777778,
              "#fb9f3a"
             ],
             [
              0.8888888888888888,
              "#fdca26"
             ],
             [
              1,
              "#f0f921"
             ]
            ],
            "type": "histogram2d"
           }
          ],
          "histogram2dcontour": [
           {
            "colorbar": {
             "outlinewidth": 0,
             "ticks": ""
            },
            "colorscale": [
             [
              0,
              "#0d0887"
             ],
             [
              0.1111111111111111,
              "#46039f"
             ],
             [
              0.2222222222222222,
              "#7201a8"
             ],
             [
              0.3333333333333333,
              "#9c179e"
             ],
             [
              0.4444444444444444,
              "#bd3786"
             ],
             [
              0.5555555555555556,
              "#d8576b"
             ],
             [
              0.6666666666666666,
              "#ed7953"
             ],
             [
              0.7777777777777778,
              "#fb9f3a"
             ],
             [
              0.8888888888888888,
              "#fdca26"
             ],
             [
              1,
              "#f0f921"
             ]
            ],
            "type": "histogram2dcontour"
           }
          ],
          "mesh3d": [
           {
            "colorbar": {
             "outlinewidth": 0,
             "ticks": ""
            },
            "type": "mesh3d"
           }
          ],
          "parcoords": [
           {
            "line": {
             "colorbar": {
              "outlinewidth": 0,
              "ticks": ""
             }
            },
            "type": "parcoords"
           }
          ],
          "pie": [
           {
            "automargin": true,
            "type": "pie"
           }
          ],
          "scatter": [
           {
            "fillpattern": {
             "fillmode": "overlay",
             "size": 10,
             "solidity": 0.2
            },
            "type": "scatter"
           }
          ],
          "scatter3d": [
           {
            "line": {
             "colorbar": {
              "outlinewidth": 0,
              "ticks": ""
             }
            },
            "marker": {
             "colorbar": {
              "outlinewidth": 0,
              "ticks": ""
             }
            },
            "type": "scatter3d"
           }
          ],
          "scattercarpet": [
           {
            "marker": {
             "colorbar": {
              "outlinewidth": 0,
              "ticks": ""
             }
            },
            "type": "scattercarpet"
           }
          ],
          "scattergeo": [
           {
            "marker": {
             "colorbar": {
              "outlinewidth": 0,
              "ticks": ""
             }
            },
            "type": "scattergeo"
           }
          ],
          "scattergl": [
           {
            "marker": {
             "colorbar": {
              "outlinewidth": 0,
              "ticks": ""
             }
            },
            "type": "scattergl"
           }
          ],
          "scattermap": [
           {
            "marker": {
             "colorbar": {
              "outlinewidth": 0,
              "ticks": ""
             }
            },
            "type": "scattermap"
           }
          ],
          "scattermapbox": [
           {
            "marker": {
             "colorbar": {
              "outlinewidth": 0,
              "ticks": ""
             }
            },
            "type": "scattermapbox"
           }
          ],
          "scatterpolar": [
           {
            "marker": {
             "colorbar": {
              "outlinewidth": 0,
              "ticks": ""
             }
            },
            "type": "scatterpolar"
           }
          ],
          "scatterpolargl": [
           {
            "marker": {
             "colorbar": {
              "outlinewidth": 0,
              "ticks": ""
             }
            },
            "type": "scatterpolargl"
           }
          ],
          "scatterternary": [
           {
            "marker": {
             "colorbar": {
              "outlinewidth": 0,
              "ticks": ""
             }
            },
            "type": "scatterternary"
           }
          ],
          "surface": [
           {
            "colorbar": {
             "outlinewidth": 0,
             "ticks": ""
            },
            "colorscale": [
             [
              0,
              "#0d0887"
             ],
             [
              0.1111111111111111,
              "#46039f"
             ],
             [
              0.2222222222222222,
              "#7201a8"
             ],
             [
              0.3333333333333333,
              "#9c179e"
             ],
             [
              0.4444444444444444,
              "#bd3786"
             ],
             [
              0.5555555555555556,
              "#d8576b"
             ],
             [
              0.6666666666666666,
              "#ed7953"
             ],
             [
              0.7777777777777778,
              "#fb9f3a"
             ],
             [
              0.8888888888888888,
              "#fdca26"
             ],
             [
              1,
              "#f0f921"
             ]
            ],
            "type": "surface"
           }
          ],
          "table": [
           {
            "cells": {
             "fill": {
              "color": "#EBF0F8"
             },
             "line": {
              "color": "white"
             }
            },
            "header": {
             "fill": {
              "color": "#C8D4E3"
             },
             "line": {
              "color": "white"
             }
            },
            "type": "table"
           }
          ]
         },
         "layout": {
          "annotationdefaults": {
           "arrowcolor": "#2a3f5f",
           "arrowhead": 0,
           "arrowwidth": 1
          },
          "autotypenumbers": "strict",
          "coloraxis": {
           "colorbar": {
            "outlinewidth": 0,
            "ticks": ""
           }
          },
          "colorscale": {
           "diverging": [
            [
             0,
             "#8e0152"
            ],
            [
             0.1,
             "#c51b7d"
            ],
            [
             0.2,
             "#de77ae"
            ],
            [
             0.3,
             "#f1b6da"
            ],
            [
             0.4,
             "#fde0ef"
            ],
            [
             0.5,
             "#f7f7f7"
            ],
            [
             0.6,
             "#e6f5d0"
            ],
            [
             0.7,
             "#b8e186"
            ],
            [
             0.8,
             "#7fbc41"
            ],
            [
             0.9,
             "#4d9221"
            ],
            [
             1,
             "#276419"
            ]
           ],
           "sequential": [
            [
             0,
             "#0d0887"
            ],
            [
             0.1111111111111111,
             "#46039f"
            ],
            [
             0.2222222222222222,
             "#7201a8"
            ],
            [
             0.3333333333333333,
             "#9c179e"
            ],
            [
             0.4444444444444444,
             "#bd3786"
            ],
            [
             0.5555555555555556,
             "#d8576b"
            ],
            [
             0.6666666666666666,
             "#ed7953"
            ],
            [
             0.7777777777777778,
             "#fb9f3a"
            ],
            [
             0.8888888888888888,
             "#fdca26"
            ],
            [
             1,
             "#f0f921"
            ]
           ],
           "sequentialminus": [
            [
             0,
             "#0d0887"
            ],
            [
             0.1111111111111111,
             "#46039f"
            ],
            [
             0.2222222222222222,
             "#7201a8"
            ],
            [
             0.3333333333333333,
             "#9c179e"
            ],
            [
             0.4444444444444444,
             "#bd3786"
            ],
            [
             0.5555555555555556,
             "#d8576b"
            ],
            [
             0.6666666666666666,
             "#ed7953"
            ],
            [
             0.7777777777777778,
             "#fb9f3a"
            ],
            [
             0.8888888888888888,
             "#fdca26"
            ],
            [
             1,
             "#f0f921"
            ]
           ]
          },
          "colorway": [
           "#636efa",
           "#EF553B",
           "#00cc96",
           "#ab63fa",
           "#FFA15A",
           "#19d3f3",
           "#FF6692",
           "#B6E880",
           "#FF97FF",
           "#FECB52"
          ],
          "font": {
           "color": "#2a3f5f"
          },
          "geo": {
           "bgcolor": "white",
           "lakecolor": "white",
           "landcolor": "#E5ECF6",
           "showlakes": true,
           "showland": true,
           "subunitcolor": "white"
          },
          "hoverlabel": {
           "align": "left"
          },
          "hovermode": "closest",
          "mapbox": {
           "style": "light"
          },
          "paper_bgcolor": "white",
          "plot_bgcolor": "#E5ECF6",
          "polar": {
           "angularaxis": {
            "gridcolor": "white",
            "linecolor": "white",
            "ticks": ""
           },
           "bgcolor": "#E5ECF6",
           "radialaxis": {
            "gridcolor": "white",
            "linecolor": "white",
            "ticks": ""
           }
          },
          "scene": {
           "xaxis": {
            "backgroundcolor": "#E5ECF6",
            "gridcolor": "white",
            "gridwidth": 2,
            "linecolor": "white",
            "showbackground": true,
            "ticks": "",
            "zerolinecolor": "white"
           },
           "yaxis": {
            "backgroundcolor": "#E5ECF6",
            "gridcolor": "white",
            "gridwidth": 2,
            "linecolor": "white",
            "showbackground": true,
            "ticks": "",
            "zerolinecolor": "white"
           },
           "zaxis": {
            "backgroundcolor": "#E5ECF6",
            "gridcolor": "white",
            "gridwidth": 2,
            "linecolor": "white",
            "showbackground": true,
            "ticks": "",
            "zerolinecolor": "white"
           }
          },
          "shapedefaults": {
           "line": {
            "color": "#2a3f5f"
           }
          },
          "ternary": {
           "aaxis": {
            "gridcolor": "white",
            "linecolor": "white",
            "ticks": ""
           },
           "baxis": {
            "gridcolor": "white",
            "linecolor": "white",
            "ticks": ""
           },
           "bgcolor": "#E5ECF6",
           "caxis": {
            "gridcolor": "white",
            "linecolor": "white",
            "ticks": ""
           }
          },
          "title": {
           "x": 0.05
          },
          "xaxis": {
           "automargin": true,
           "gridcolor": "white",
           "linecolor": "white",
           "ticks": "",
           "title": {
            "standoff": 15
           },
           "zerolinecolor": "white",
           "zerolinewidth": 2
          },
          "yaxis": {
           "automargin": true,
           "gridcolor": "white",
           "linecolor": "white",
           "ticks": "",
           "title": {
            "standoff": 15
           },
           "zerolinecolor": "white",
           "zerolinewidth": 2
          }
         }
        },
        "title": {
         "text": "Patent Count by U.S. State for 2022"
        }
       }
      }
     },
     "metadata": {},
     "output_type": "display_data"
    }
   ],
   "source": [
    "fig = px.scatter_geo(grouped_2022,\n",
    "                     locations=\"disambig_state\",\n",
    "                     locationmode=\"USA-states\",\n",
    "                     size=\"patent_count\",\n",
    "                     color=\"patent_count\",\n",
    "                     scope=\"usa\",\n",
    "                     title=\"Patent Count by U.S. State for 2022\",\n",
    "                     size_max=50,\n",
    "                     hover_name=\"disambig_state\",\n",
    "                     projection=\"albers usa\")\n",
    "\n",
    "fig.show()"
   ]
  },
  {
   "cell_type": "code",
   "execution_count": 22,
   "id": "3f4736f1",
   "metadata": {},
   "outputs": [
    {
     "data": {
      "text/html": [
       "<div>\n",
       "<style scoped>\n",
       "    .dataframe tbody tr th:only-of-type {\n",
       "        vertical-align: middle;\n",
       "    }\n",
       "\n",
       "    .dataframe tbody tr th {\n",
       "        vertical-align: top;\n",
       "    }\n",
       "\n",
       "    .dataframe thead th {\n",
       "        text-align: right;\n",
       "    }\n",
       "</style>\n",
       "<table border=\"1\" class=\"dataframe\">\n",
       "  <thead>\n",
       "    <tr style=\"text-align: right;\">\n",
       "      <th></th>\n",
       "      <th>year</th>\n",
       "      <th>disambig_state</th>\n",
       "      <th>patent_count</th>\n",
       "    </tr>\n",
       "  </thead>\n",
       "  <tbody>\n",
       "    <tr>\n",
       "      <th>0</th>\n",
       "      <td>1976</td>\n",
       "      <td>AL</td>\n",
       "      <td>2</td>\n",
       "    </tr>\n",
       "    <tr>\n",
       "      <th>1</th>\n",
       "      <td>1976</td>\n",
       "      <td>AZ</td>\n",
       "      <td>2</td>\n",
       "    </tr>\n",
       "    <tr>\n",
       "      <th>2</th>\n",
       "      <td>1976</td>\n",
       "      <td>CA</td>\n",
       "      <td>35</td>\n",
       "    </tr>\n",
       "    <tr>\n",
       "      <th>3</th>\n",
       "      <td>1976</td>\n",
       "      <td>CO</td>\n",
       "      <td>1</td>\n",
       "    </tr>\n",
       "    <tr>\n",
       "      <th>4</th>\n",
       "      <td>1976</td>\n",
       "      <td>CT</td>\n",
       "      <td>10</td>\n",
       "    </tr>\n",
       "    <tr>\n",
       "      <th>...</th>\n",
       "      <td>...</td>\n",
       "      <td>...</td>\n",
       "      <td>...</td>\n",
       "    </tr>\n",
       "    <tr>\n",
       "      <th>2468</th>\n",
       "      <td>2023</td>\n",
       "      <td>VT</td>\n",
       "      <td>1098</td>\n",
       "    </tr>\n",
       "    <tr>\n",
       "      <th>2469</th>\n",
       "      <td>2023</td>\n",
       "      <td>WA</td>\n",
       "      <td>22670</td>\n",
       "    </tr>\n",
       "    <tr>\n",
       "      <th>2470</th>\n",
       "      <td>2023</td>\n",
       "      <td>WI</td>\n",
       "      <td>7802</td>\n",
       "    </tr>\n",
       "    <tr>\n",
       "      <th>2471</th>\n",
       "      <td>2023</td>\n",
       "      <td>WV</td>\n",
       "      <td>216</td>\n",
       "    </tr>\n",
       "    <tr>\n",
       "      <th>2472</th>\n",
       "      <td>2023</td>\n",
       "      <td>WY</td>\n",
       "      <td>225</td>\n",
       "    </tr>\n",
       "  </tbody>\n",
       "</table>\n",
       "<p>2473 rows × 3 columns</p>\n",
       "</div>"
      ],
      "text/plain": [
       "      year disambig_state  patent_count\n",
       "0     1976             AL             2\n",
       "1     1976             AZ             2\n",
       "2     1976             CA            35\n",
       "3     1976             CO             1\n",
       "4     1976             CT            10\n",
       "...    ...            ...           ...\n",
       "2468  2023             VT          1098\n",
       "2469  2023             WA         22670\n",
       "2470  2023             WI          7802\n",
       "2471  2023             WV           216\n",
       "2472  2023             WY           225\n",
       "\n",
       "[2473 rows x 3 columns]"
      ]
     },
     "execution_count": 22,
     "metadata": {},
     "output_type": "execute_result"
    }
   ],
   "source": [
    "grouped_full_df = df.groupby(['year', 'disambig_state']).size().reset_index(name='patent_count')\n",
    "grouped_full_df"
   ]
  },
  {
   "cell_type": "code",
   "execution_count": 23,
   "id": "5b8fa740",
   "metadata": {},
   "outputs": [],
   "source": [
    "fig = px.scatter_geo(\n",
    "    grouped_full_df,\n",
    "    locations=\"disambig_state\",\n",
    "    locationmode=\"USA-states\",\n",
    "    color=\"patent_count\",\n",
    "    size=\"patent_count\",\n",
    "    animation_frame=\"year\",  # Adds the slider!\n",
    "    scope=\"usa\",\n",
    "    size_max=50,\n",
    "    title=\"Patent Count by U.S. State (1976–2023)\",\n",
    "    hover_name=\"disambig_state\"\n",
    ")"
   ]
  },
  {
   "cell_type": "markdown",
   "id": "57046a4c",
   "metadata": {},
   "source": [
    "# Interactive Slider\n",
    "- This slider plot shows the Patent Count for each year form 1976 to 2023 \n",
    "- The density of the bubbles indicate the count of the patent\n",
    "- The scale for measuring also dynamically increases as the count for the patent is increased\n",
    "- Hovering over the states will give more information"
   ]
  },
  {
   "cell_type": "code",
   "execution_count": 24,
   "id": "dcf87f78",
   "metadata": {},
   "outputs": [
    {
     "data": {
      "application/vnd.plotly.v1+json": {
       "config": {
        "plotlyServerURL": "https://plot.ly"
       },
       "data": [
        {
         "geo": "geo",
         "hovertemplate": "<b>%{hovertext}</b><br><br>year=1976<br>patent_count=%{marker.color}<br>disambig_state=%{location}<extra></extra>",
         "hovertext": [
          "AL",
          "AZ",
          "CA",
          "CO",
          "CT",
          "DC",
          "DE",
          "FL",
          "GA",
          "IA",
          "IL",
          "IN",
          "KS",
          "LA",
          "MA",
          "MD",
          "MI",
          "MN",
          "MO",
          "MS",
          "NC",
          "NH",
          "NJ",
          "NY",
          "OH",
          "OK",
          "OR",
          "PA",
          "TN",
          "TX",
          "UT",
          "VA",
          "VT",
          "WA",
          "WI",
          "WV",
          "WY"
         ],
         "legendgroup": "",
         "locationmode": "USA-states",
         "locations": [
          "AL",
          "AZ",
          "CA",
          "CO",
          "CT",
          "DC",
          "DE",
          "FL",
          "GA",
          "IA",
          "IL",
          "IN",
          "KS",
          "LA",
          "MA",
          "MD",
          "MI",
          "MN",
          "MO",
          "MS",
          "NC",
          "NH",
          "NJ",
          "NY",
          "OH",
          "OK",
          "OR",
          "PA",
          "TN",
          "TX",
          "UT",
          "VA",
          "VT",
          "WA",
          "WI",
          "WV",
          "WY"
         ],
         "marker": {
          "color": {
           "bdata": "AgIjAQoBAg8DBygQAwQNBQsHDgMCAyUhFAMDGgQPAwcBAgEBAg==",
           "dtype": "i1"
          },
          "coloraxis": "coloraxis",
          "size": {
           "bdata": "AgIjAQoBAg8DBygQAwQNBQsHDgMCAyUhFAMDGgQPAwcBAgEBAg==",
           "dtype": "i1"
          },
          "sizemode": "area",
          "sizeref": 60.1616,
          "symbol": "circle"
         },
         "mode": "markers",
         "name": "",
         "showlegend": false,
         "type": "scattergeo"
        }
       ],
       "frames": [
        {
         "data": [
          {
           "geo": "geo",
           "hovertemplate": "<b>%{hovertext}</b><br><br>year=1976<br>patent_count=%{marker.color}<br>disambig_state=%{location}<extra></extra>",
           "hovertext": [
            "AL",
            "AZ",
            "CA",
            "CO",
            "CT",
            "DC",
            "DE",
            "FL",
            "GA",
            "IA",
            "IL",
            "IN",
            "KS",
            "LA",
            "MA",
            "MD",
            "MI",
            "MN",
            "MO",
            "MS",
            "NC",
            "NH",
            "NJ",
            "NY",
            "OH",
            "OK",
            "OR",
            "PA",
            "TN",
            "TX",
            "UT",
            "VA",
            "VT",
            "WA",
            "WI",
            "WV",
            "WY"
           ],
           "legendgroup": "",
           "locationmode": "USA-states",
           "locations": [
            "AL",
            "AZ",
            "CA",
            "CO",
            "CT",
            "DC",
            "DE",
            "FL",
            "GA",
            "IA",
            "IL",
            "IN",
            "KS",
            "LA",
            "MA",
            "MD",
            "MI",
            "MN",
            "MO",
            "MS",
            "NC",
            "NH",
            "NJ",
            "NY",
            "OH",
            "OK",
            "OR",
            "PA",
            "TN",
            "TX",
            "UT",
            "VA",
            "VT",
            "WA",
            "WI",
            "WV",
            "WY"
           ],
           "marker": {
            "color": {
             "bdata": "AgIjAQoBAg8DBygQAwQNBQsHDgMCAyUhFAMDGgQPAwcBAgEBAg==",
             "dtype": "i1"
            },
            "coloraxis": "coloraxis",
            "size": {
             "bdata": "AgIjAQoBAg8DBygQAwQNBQsHDgMCAyUhFAMDGgQPAwcBAgEBAg==",
             "dtype": "i1"
            },
            "sizemode": "area",
            "sizeref": 60.1616,
            "symbol": "circle"
           },
           "mode": "markers",
           "name": "",
           "showlegend": false,
           "type": "scattergeo"
          }
         ],
         "name": "1976"
        },
        {
         "data": [
          {
           "geo": "geo",
           "hovertemplate": "<b>%{hovertext}</b><br><br>year=1977<br>patent_count=%{marker.color}<br>disambig_state=%{location}<extra></extra>",
           "hovertext": [
            "AK",
            "AL",
            "AR",
            "AZ",
            "CA",
            "CO",
            "CT",
            "DC",
            "DE",
            "FL",
            "GA",
            "HI",
            "IA",
            "ID",
            "IL",
            "IN",
            "KS",
            "KY",
            "LA",
            "MA",
            "MD",
            "ME",
            "MI",
            "MN",
            "MO",
            "MS",
            "MT",
            "NC",
            "ND",
            "NE",
            "NH",
            "NJ",
            "NM",
            "NV",
            "NY",
            "OH",
            "OK",
            "OR",
            "PA",
            "PR",
            "RI",
            "SC",
            "SD",
            "TN",
            "TX",
            "UT",
            "VA",
            "VT",
            "WA",
            "WI",
            "WV",
            "WY"
           ],
           "legendgroup": "",
           "locationmode": "USA-states",
           "locations": [
            "AK",
            "AL",
            "AR",
            "AZ",
            "CA",
            "CO",
            "CT",
            "DC",
            "DE",
            "FL",
            "GA",
            "HI",
            "IA",
            "ID",
            "IL",
            "IN",
            "KS",
            "KY",
            "LA",
            "MA",
            "MD",
            "ME",
            "MI",
            "MN",
            "MO",
            "MS",
            "MT",
            "NC",
            "ND",
            "NE",
            "NH",
            "NJ",
            "NM",
            "NV",
            "NY",
            "OH",
            "OK",
            "OR",
            "PA",
            "PR",
            "RI",
            "SC",
            "SD",
            "TN",
            "TX",
            "UT",
            "VA",
            "VT",
            "WA",
            "WI",
            "WV",
            "WY"
           ],
           "marker": {
            "color": {
             "bdata": "DABsADQAzgBaCxwB7QIVALcA4gGfABcAzgAvAAgHCwKIAIkAswB5A4sBGwB8BMABIgEVABAADAEQAAEAVAB2CDEANADLCEMFCgGXAOMGCABDAIIAEwDpAMkDWwCTASkACwGMAVIAEAA=",
             "dtype": "i2"
            },
            "coloraxis": "coloraxis",
            "size": {
             "bdata": "DABsADQAzgBaCxwB7QIVALcA4gGfABcAzgAvAAgHCwKIAIkAswB5A4sBGwB8BMABIgEVABAADAEQAAEAVAB2CDEANADLCEMFCgGXAOMGCABDAIIAEwDpAMkDWwCTASkACwGMAVIAEAA=",
             "dtype": "i2"
            },
            "sizemode": "area",
            "sizeref": 60.1616,
            "symbol": "circle"
           },
           "mode": "markers",
           "name": "",
           "showlegend": false,
           "type": "scattergeo"
          }
         ],
         "name": "1977"
        },
        {
         "data": [
          {
           "geo": "geo",
           "hovertemplate": "<b>%{hovertext}</b><br><br>year=1978<br>patent_count=%{marker.color}<br>disambig_state=%{location}<extra></extra>",
           "hovertext": [
            "AK",
            "AL",
            "AR",
            "AZ",
            "CA",
            "CO",
            "CT",
            "DC",
            "DE",
            "FL",
            "GA",
            "HI",
            "IA",
            "ID",
            "IL",
            "IN",
            "KS",
            "KY",
            "LA",
            "MA",
            "MD",
            "ME",
            "MI",
            "MN",
            "MO",
            "MS",
            "MT",
            "NC",
            "ND",
            "NE",
            "NH",
            "NJ",
            "NM",
            "NV",
            "NY",
            "OH",
            "OK",
            "OR",
            "PA",
            "PR",
            "RI",
            "SC",
            "SD",
            "TN",
            "TX",
            "UT",
            "VA",
            "VT",
            "WA",
            "WI",
            "WV",
            "WY"
           ],
           "legendgroup": "",
           "locationmode": "USA-states",
           "locations": [
            "AK",
            "AL",
            "AR",
            "AZ",
            "CA",
            "CO",
            "CT",
            "DC",
            "DE",
            "FL",
            "GA",
            "HI",
            "IA",
            "ID",
            "IL",
            "IN",
            "KS",
            "KY",
            "LA",
            "MA",
            "MD",
            "ME",
            "MI",
            "MN",
            "MO",
            "MS",
            "MT",
            "NC",
            "ND",
            "NE",
            "NH",
            "NJ",
            "NM",
            "NV",
            "NY",
            "OH",
            "OK",
            "OR",
            "PA",
            "PR",
            "RI",
            "SC",
            "SD",
            "TN",
            "TX",
            "UT",
            "VA",
            "VT",
            "WA",
            "WI",
            "WV",
            "WY"
           ],
           "marker": {
            "color": {
             "bdata": "FwARAVsAIwJ9GsYCvAY0AMQBSgTOASwAowFQABoQxgRkAV4BpgHhCKwDZAA9CwYEQgNdAEEAZgI+AEQAuwBZE2gAbgCmFNoMKgN3AZoPCgCpAFgBKwDVAc8JzACqAlUAcwL2A+AAIQA=",
             "dtype": "i2"
            },
            "coloraxis": "coloraxis",
            "size": {
             "bdata": "FwARAVsAIwJ9GsYCvAY0AMQBSgTOASwAowFQABoQxgRkAV4BpgHhCKwDZAA9CwYEQgNdAEEAZgI+AEQAuwBZE2gAbgCmFNoMKgN3AZoPCgCpAFgBKwDVAc8JzACqAlUAcwL2A+AAIQA=",
             "dtype": "i2"
            },
            "sizemode": "area",
            "sizeref": 60.1616,
            "symbol": "circle"
           },
           "mode": "markers",
           "name": "",
           "showlegend": false,
           "type": "scattergeo"
          }
         ],
         "name": "1978"
        },
        {
         "data": [
          {
           "geo": "geo",
           "hovertemplate": "<b>%{hovertext}</b><br><br>year=1979<br>patent_count=%{marker.color}<br>disambig_state=%{location}<extra></extra>",
           "hovertext": [
            "AK",
            "AL",
            "AR",
            "AZ",
            "CA",
            "CO",
            "CT",
            "DC",
            "DE",
            "FL",
            "GA",
            "HI",
            "IA",
            "ID",
            "IL",
            "IN",
            "KS",
            "KY",
            "LA",
            "MA",
            "MD",
            "ME",
            "MI",
            "MN",
            "MO",
            "MS",
            "MT",
            "NC",
            "ND",
            "NE",
            "NH",
            "NJ",
            "NM",
            "NV",
            "NY",
            "OH",
            "OK",
            "OR",
            "PA",
            "PR",
            "RI",
            "SC",
            "SD",
            "TN",
            "TX",
            "UT",
            "VA",
            "VT",
            "WA",
            "WI",
            "WV",
            "WY"
           ],
           "legendgroup": "",
           "locationmode": "USA-states",
           "locations": [
            "AK",
            "AL",
            "AR",
            "AZ",
            "CA",
            "CO",
            "CT",
            "DC",
            "DE",
            "FL",
            "GA",
            "HI",
            "IA",
            "ID",
            "IL",
            "IN",
            "KS",
            "KY",
            "LA",
            "MA",
            "MD",
            "ME",
            "MI",
            "MN",
            "MO",
            "MS",
            "MT",
            "NC",
            "ND",
            "NE",
            "NH",
            "NJ",
            "NM",
            "NV",
            "NY",
            "OH",
            "OK",
            "OR",
            "PA",
            "PR",
            "RI",
            "SC",
            "SD",
            "TN",
            "TX",
            "UT",
            "VA",
            "VT",
            "WA",
            "WI",
            "WV",
            "WY"
           ],
           "marker": {
            "color": {
             "bdata": "FQDsAEYAowHVFggDxAUzAC4BnwN+ASUAOwFMAL8M2gMAAQcBRwFpBzYDQQBrCdwDSgI+ACMAFwIgAIMAlQC3D1gAVACkD3oKhAIyAWwMDwB3AAoBFADaAVEI+QBPAjcAGQJfA8EAIAA=",
             "dtype": "i2"
            },
            "coloraxis": "coloraxis",
            "size": {
             "bdata": "FQDsAEYAowHVFggDxAUzAC4BnwN+ASUAOwFMAL8M2gMAAQcBRwFpBzYDQQBrCdwDSgI+ACMAFwIgAIMAlQC3D1gAVACkD3oKhAIyAWwMDwB3AAoBFADaAVEI+QBPAjcAGQJfA8EAIAA=",
             "dtype": "i2"
            },
            "sizemode": "area",
            "sizeref": 60.1616,
            "symbol": "circle"
           },
           "mode": "markers",
           "name": "",
           "showlegend": false,
           "type": "scattergeo"
          }
         ],
         "name": "1979"
        },
        {
         "data": [
          {
           "geo": "geo",
           "hovertemplate": "<b>%{hovertext}</b><br><br>year=1980<br>patent_count=%{marker.color}<br>disambig_state=%{location}<extra></extra>",
           "hovertext": [
            "AK",
            "AL",
            "AR",
            "AZ",
            "CA",
            "CO",
            "CT",
            "DC",
            "DE",
            "FL",
            "GA",
            "HI",
            "IA",
            "ID",
            "IL",
            "IN",
            "KS",
            "KY",
            "LA",
            "MA",
            "MD",
            "ME",
            "MI",
            "MN",
            "MO",
            "MS",
            "MT",
            "NC",
            "ND",
            "NE",
            "NH",
            "NJ",
            "NM",
            "NV",
            "NY",
            "OH",
            "OK",
            "OR",
            "PA",
            "PR",
            "RI",
            "SC",
            "SD",
            "TN",
            "TX",
            "UT",
            "VA",
            "VT",
            "WA",
            "WI",
            "WV",
            "WY"
           ],
           "legendgroup": "",
           "locationmode": "USA-states",
           "locations": [
            "AK",
            "AL",
            "AR",
            "AZ",
            "CA",
            "CO",
            "CT",
            "DC",
            "DE",
            "FL",
            "GA",
            "HI",
            "IA",
            "ID",
            "IL",
            "IN",
            "KS",
            "KY",
            "LA",
            "MA",
            "MD",
            "ME",
            "MI",
            "MN",
            "MO",
            "MS",
            "MT",
            "NC",
            "ND",
            "NE",
            "NH",
            "NJ",
            "NM",
            "NV",
            "NY",
            "OH",
            "OK",
            "OR",
            "PA",
            "PR",
            "RI",
            "SC",
            "SD",
            "TN",
            "TX",
            "UT",
            "VA",
            "VT",
            "WA",
            "WI",
            "WV",
            "WY"
           ],
           "marker": {
            "color": {
             "bdata": "FQAWAV8AbgI3HP4CbgYyAI8BnwW/AScAzgFvAPQPFwVbAXcBpQFGCfADYQD0C4IEqgNSADkAywIjAHoA6QBME5gAdgBXFKEMVAOUAVQPDQCoADABHgAmAioKIwEZA0oAtAJABOEALwA=",
             "dtype": "i2"
            },
            "coloraxis": "coloraxis",
            "size": {
             "bdata": "FQAWAV8AbgI3HP4CbgYyAI8BnwW/AScAzgFvAPQPFwVbAXcBpQFGCfADYQD0C4IEqgNSADkAywIjAHoA6QBME5gAdgBXFKEMVAOUAVQPDQCoADABHgAmAioKIwEZA0oAtAJABOEALwA=",
             "dtype": "i2"
            },
            "sizemode": "area",
            "sizeref": 60.1616,
            "symbol": "circle"
           },
           "mode": "markers",
           "name": "",
           "showlegend": false,
           "type": "scattergeo"
          }
         ],
         "name": "1980"
        },
        {
         "data": [
          {
           "geo": "geo",
           "hovertemplate": "<b>%{hovertext}</b><br><br>year=1981<br>patent_count=%{marker.color}<br>disambig_state=%{location}<extra></extra>",
           "hovertext": [
            "AK",
            "AL",
            "AR",
            "AZ",
            "CA",
            "CO",
            "CT",
            "DC",
            "DE",
            "FL",
            "GA",
            "HI",
            "IA",
            "ID",
            "IL",
            "IN",
            "KS",
            "KY",
            "LA",
            "MA",
            "MD",
            "ME",
            "MI",
            "MN",
            "MO",
            "MS",
            "MT",
            "NC",
            "ND",
            "NE",
            "NH",
            "NJ",
            "NM",
            "NV",
            "NY",
            "OH",
            "OK",
            "OR",
            "PA",
            "PR",
            "RI",
            "SC",
            "SD",
            "TN",
            "TX",
            "UT",
            "VA",
            "VI",
            "VT",
            "WA",
            "WI",
            "WV",
            "WY"
           ],
           "legendgroup": "",
           "locationmode": "USA-states",
           "locations": [
            "AK",
            "AL",
            "AR",
            "AZ",
            "CA",
            "CO",
            "CT",
            "DC",
            "DE",
            "FL",
            "GA",
            "HI",
            "IA",
            "ID",
            "IL",
            "IN",
            "KS",
            "KY",
            "LA",
            "MA",
            "MD",
            "ME",
            "MI",
            "MN",
            "MO",
            "MS",
            "MT",
            "NC",
            "ND",
            "NE",
            "NH",
            "NJ",
            "NM",
            "NV",
            "NY",
            "OH",
            "OK",
            "OR",
            "PA",
            "PR",
            "RI",
            "SC",
            "SD",
            "TN",
            "TX",
            "UT",
            "VA",
            "VI",
            "VT",
            "WA",
            "WI",
            "WV",
            "WY"
           ],
           "marker": {
            "color": {
             "bdata": "FQAkAWsAiQJMHT4Djgc6AM8BaQYHAigAyAF9AEkPrQU2Aa0B0gFJCkYEigCADFoFsgNgAEcAEAMyAJwACQFDFKgAdwA9FUAOuAOpAVMQEwCTAI0BIgBwAj0LJgE1AwEAdwDzAlkEAgEvAA==",
             "dtype": "i2"
            },
            "coloraxis": "coloraxis",
            "size": {
             "bdata": "FQAkAWsAiQJMHT4Djgc6AM8BaQYHAigAyAF9AEkPrQU2Aa0B0gFJCkYEigCADFoFsgNgAEcAEAMyAJwACQFDFKgAdwA9FUAOuAOpAVMQEwCTAI0BIgBwAj0LJgE1AwEAdwDzAlkEAgEvAA==",
             "dtype": "i2"
            },
            "sizemode": "area",
            "sizeref": 60.1616,
            "symbol": "circle"
           },
           "mode": "markers",
           "name": "",
           "showlegend": false,
           "type": "scattergeo"
          }
         ],
         "name": "1981"
        },
        {
         "data": [
          {
           "geo": "geo",
           "hovertemplate": "<b>%{hovertext}</b><br><br>year=1982<br>patent_count=%{marker.color}<br>disambig_state=%{location}<extra></extra>",
           "hovertext": [
            "AK",
            "AL",
            "AR",
            "AZ",
            "CA",
            "CO",
            "CT",
            "DC",
            "DE",
            "FL",
            "GA",
            "HI",
            "IA",
            "ID",
            "IL",
            "IN",
            "KS",
            "KY",
            "LA",
            "MA",
            "MD",
            "ME",
            "MI",
            "MN",
            "MO",
            "MS",
            "MT",
            "NC",
            "ND",
            "NE",
            "NH",
            "NJ",
            "NM",
            "NV",
            "NY",
            "OH",
            "OK",
            "OR",
            "PA",
            "PR",
            "RI",
            "SC",
            "SD",
            "TN",
            "TX",
            "UT",
            "VA",
            "VT",
            "WA",
            "WI",
            "WV",
            "WY"
           ],
           "legendgroup": "",
           "locationmode": "USA-states",
           "locations": [
            "AK",
            "AL",
            "AR",
            "AZ",
            "CA",
            "CO",
            "CT",
            "DC",
            "DE",
            "FL",
            "GA",
            "HI",
            "IA",
            "ID",
            "IL",
            "IN",
            "KS",
            "KY",
            "LA",
            "MA",
            "MD",
            "ME",
            "MI",
            "MN",
            "MO",
            "MS",
            "MT",
            "NC",
            "ND",
            "NE",
            "NH",
            "NJ",
            "NM",
            "NV",
            "NY",
            "OH",
            "OK",
            "OR",
            "PA",
            "PR",
            "RI",
            "SC",
            "SD",
            "TN",
            "TX",
            "UT",
            "VA",
            "VT",
            "WA",
            "WI",
            "WV",
            "WY"
           ],
           "marker": {
            "color": {
             "bdata": "EQD2AF4ANgIMGtkCkwY8AG4B1QQBAiMAjAFjAAsOVAX+AJYBYQGWCL4DagAQCnwE4gJTADAAbgIjAIwALwGxEZQAdQDaErkM7QJYARoOEACDAEgBLAAmAnsKCAEEA2oAvQIGBMUAHQA=",
             "dtype": "i2"
            },
            "coloraxis": "coloraxis",
            "size": {
             "bdata": "EQD2AF4ANgIMGtkCkwY8AG4B1QQBAiMAjAFjAAsOVAX+AJYBYQGWCL4DagAQCnwE4gJTADAAbgIjAIwALwGxEZQAdQDaErkM7QJYARoOEACDAEgBLAAmAnsKCAEEA2oAvQIGBMUAHQA=",
             "dtype": "i2"
            },
            "sizemode": "area",
            "sizeref": 60.1616,
            "symbol": "circle"
           },
           "mode": "markers",
           "name": "",
           "showlegend": false,
           "type": "scattergeo"
          }
         ],
         "name": "1982"
        },
        {
         "data": [
          {
           "geo": "geo",
           "hovertemplate": "<b>%{hovertext}</b><br><br>year=1983<br>patent_count=%{marker.color}<br>disambig_state=%{location}<extra></extra>",
           "hovertext": [
            "AK",
            "AL",
            "AR",
            "AZ",
            "CA",
            "CO",
            "CT",
            "DC",
            "DE",
            "FL",
            "GA",
            "HI",
            "IA",
            "ID",
            "IL",
            "IN",
            "KS",
            "KY",
            "LA",
            "MA",
            "MD",
            "ME",
            "MI",
            "MN",
            "MO",
            "MS",
            "MT",
            "NC",
            "ND",
            "NE",
            "NH",
            "NJ",
            "NM",
            "NV",
            "NY",
            "OH",
            "OK",
            "OR",
            "PA",
            "PR",
            "RI",
            "SC",
            "SD",
            "TN",
            "TX",
            "UT",
            "VA",
            "VT",
            "WA",
            "WI",
            "WV",
            "WY"
           ],
           "legendgroup": "",
           "locationmode": "USA-states",
           "locations": [
            "AK",
            "AL",
            "AR",
            "AZ",
            "CA",
            "CO",
            "CT",
            "DC",
            "DE",
            "FL",
            "GA",
            "HI",
            "IA",
            "ID",
            "IL",
            "IN",
            "KS",
            "KY",
            "LA",
            "MA",
            "MD",
            "ME",
            "MI",
            "MN",
            "MO",
            "MS",
            "MT",
            "NC",
            "ND",
            "NE",
            "NH",
            "NJ",
            "NM",
            "NV",
            "NY",
            "OH",
            "OK",
            "OR",
            "PA",
            "PR",
            "RI",
            "SC",
            "SD",
            "TN",
            "TX",
            "UT",
            "VA",
            "VT",
            "WA",
            "WI",
            "WV",
            "WY"
           ],
           "marker": {
            "color": {
             "bdata": "EAAXAVQAwgKKGbICuQYwAFgBzwT2ASwAjgFaACYNRAX6AGQBmgGSCMcDaQCfCZwEyQJHACkALQImAIEAAwE9EZcAfwBGEfULVQNKAZ0NDwCNAFMBHgAgAiULCgHrAmwAkQIvBMcAHwA=",
             "dtype": "i2"
            },
            "coloraxis": "coloraxis",
            "size": {
             "bdata": "EAAXAVQAwgKKGbICuQYwAFgBzwT2ASwAjgFaACYNRAX6AGQBmgGSCMcDaQCfCZwEyQJHACkALQImAIEAAwE9EZcAfwBGEfULVQNKAZ0NDwCNAFMBHgAgAiULCgHrAmwAkQIvBMcAHwA=",
             "dtype": "i2"
            },
            "sizemode": "area",
            "sizeref": 60.1616,
            "symbol": "circle"
           },
           "mode": "markers",
           "name": "",
           "showlegend": false,
           "type": "scattergeo"
          }
         ],
         "name": "1983"
        },
        {
         "data": [
          {
           "geo": "geo",
           "hovertemplate": "<b>%{hovertext}</b><br><br>year=1984<br>patent_count=%{marker.color}<br>disambig_state=%{location}<extra></extra>",
           "hovertext": [
            "AK",
            "AL",
            "AR",
            "AS",
            "AZ",
            "CA",
            "CO",
            "CT",
            "DC",
            "DE",
            "FL",
            "GA",
            "HI",
            "IA",
            "ID",
            "IL",
            "IN",
            "KS",
            "KY",
            "LA",
            "MA",
            "MD",
            "ME",
            "MI",
            "MN",
            "MO",
            "MS",
            "MT",
            "NC",
            "ND",
            "NE",
            "NH",
            "NJ",
            "NM",
            "NV",
            "NY",
            "OH",
            "OK",
            "OR",
            "PA",
            "PR",
            "RI",
            "SC",
            "SD",
            "TN",
            "TX",
            "UT",
            "VA",
            "VT",
            "WA",
            "WI",
            "WV",
            "WY"
           ],
           "legendgroup": "",
           "locationmode": "USA-states",
           "locations": [
            "AK",
            "AL",
            "AR",
            "AS",
            "AZ",
            "CA",
            "CO",
            "CT",
            "DC",
            "DE",
            "FL",
            "GA",
            "HI",
            "IA",
            "ID",
            "IL",
            "IN",
            "KS",
            "KY",
            "LA",
            "MA",
            "MD",
            "ME",
            "MI",
            "MN",
            "MO",
            "MS",
            "MT",
            "NC",
            "ND",
            "NE",
            "NH",
            "NJ",
            "NM",
            "NV",
            "NY",
            "OH",
            "OK",
            "OR",
            "PA",
            "PR",
            "RI",
            "SC",
            "SD",
            "TN",
            "TX",
            "UT",
            "VA",
            "VT",
            "WA",
            "WI",
            "WV",
            "WY"
           ],
           "marker": {
            "color": {
             "bdata": "DQAUAVsAAQDOAiEcZANpBykAfAGzBfsBKgDNAU8A7w4uBUYBlQHRAbUJugODAI4LHQXBAmAASADoAj0AnAD1AGsSzABfAMQSaQy+A8IB6g4dALAAegElADMCfg0uATgDiACxAlQEwwAlAA==",
             "dtype": "i2"
            },
            "coloraxis": "coloraxis",
            "size": {
             "bdata": "DQAUAVsAAQDOAiEcZANpBykAfAGzBfsBKgDNAU8A7w4uBUYBlQHRAbUJugODAI4LHQXBAmAASADoAj0AnAD1AGsSzABfAMQSaQy+A8IB6g4dALAAegElADMCfg0uATgDiACxAlQEwwAlAA==",
             "dtype": "i2"
            },
            "sizemode": "area",
            "sizeref": 60.1616,
            "symbol": "circle"
           },
           "mode": "markers",
           "name": "",
           "showlegend": false,
           "type": "scattergeo"
          }
         ],
         "name": "1984"
        },
        {
         "data": [
          {
           "geo": "geo",
           "hovertemplate": "<b>%{hovertext}</b><br><br>year=1985<br>patent_count=%{marker.color}<br>disambig_state=%{location}<extra></extra>",
           "hovertext": [
            "AK",
            "AL",
            "AR",
            "AZ",
            "CA",
            "CO",
            "CT",
            "DC",
            "DE",
            "FL",
            "GA",
            "HI",
            "IA",
            "ID",
            "IL",
            "IN",
            "KS",
            "KY",
            "LA",
            "MA",
            "MD",
            "ME",
            "MI",
            "MN",
            "MO",
            "MS",
            "MT",
            "NC",
            "ND",
            "NE",
            "NH",
            "NJ",
            "NM",
            "NV",
            "NY",
            "OH",
            "OK",
            "OR",
            "PA",
            "PR",
            "RI",
            "SC",
            "SD",
            "TN",
            "TX",
            "UT",
            "VA",
            "VT",
            "WA",
            "WI",
            "WV",
            "WY"
           ],
           "legendgroup": "",
           "locationmode": "USA-states",
           "locations": [
            "AK",
            "AL",
            "AR",
            "AZ",
            "CA",
            "CO",
            "CT",
            "DC",
            "DE",
            "FL",
            "GA",
            "HI",
            "IA",
            "ID",
            "IL",
            "IN",
            "KS",
            "KY",
            "LA",
            "MA",
            "MD",
            "ME",
            "MI",
            "MN",
            "MO",
            "MS",
            "MT",
            "NC",
            "ND",
            "NE",
            "NH",
            "NJ",
            "NM",
            "NV",
            "NY",
            "OH",
            "OK",
            "OR",
            "PA",
            "PR",
            "RI",
            "SC",
            "SD",
            "TN",
            "TX",
            "UT",
            "VA",
            "VT",
            "WA",
            "WI",
            "WV",
            "WY"
           ],
           "marker": {
            "color": {
             "bdata": "DwDAACEA+wFoEhgCGAQiALYAdgNIARUABAEyALAH7AKnAO0A7QAPBocCRQCrBVsDiwEzADIA3wEhAEEAsQC4CZsALwAVC9QG1gFEAeYGCwBHAOEAIQD+AFMHwwAdAjsAAAJzAlIAEAA=",
             "dtype": "i2"
            },
            "coloraxis": "coloraxis",
            "size": {
             "bdata": "DwDAACEA+wFoEhgCGAQiALYAdgNIARUABAEyALAH7AKnAO0A7QAPBocCRQCrBVsDiwEzADIA3wEhAEEAsQC4CZsALwAVC9QG1gFEAeYGCwBHAOEAIQD+AFMHwwAdAjsAAAJzAlIAEAA=",
             "dtype": "i2"
            },
            "sizemode": "area",
            "sizeref": 60.1616,
            "symbol": "circle"
           },
           "mode": "markers",
           "name": "",
           "showlegend": false,
           "type": "scattergeo"
          }
         ],
         "name": "1985"
        },
        {
         "data": [
          {
           "geo": "geo",
           "hovertemplate": "<b>%{hovertext}</b><br><br>year=1986<br>patent_count=%{marker.color}<br>disambig_state=%{location}<extra></extra>",
           "hovertext": [
            "AK",
            "AL",
            "AR",
            "AZ",
            "CA",
            "CO",
            "CT",
            "DC",
            "DE",
            "FL",
            "GA",
            "HI",
            "IA",
            "ID",
            "IL",
            "IN",
            "KS",
            "KY",
            "LA",
            "MA",
            "MD",
            "ME",
            "MI",
            "MN",
            "MO",
            "MS",
            "MT",
            "NC",
            "ND",
            "NE",
            "NH",
            "NJ",
            "NM",
            "NV",
            "NY",
            "OH",
            "OK",
            "OR",
            "PA",
            "PR",
            "RI",
            "SC",
            "SD",
            "TN",
            "TX",
            "UT",
            "VA",
            "VT",
            "WA",
            "WI",
            "WV",
            "WY"
           ],
           "legendgroup": "",
           "locationmode": "USA-states",
           "locations": [
            "AK",
            "AL",
            "AR",
            "AZ",
            "CA",
            "CO",
            "CT",
            "DC",
            "DE",
            "FL",
            "GA",
            "HI",
            "IA",
            "ID",
            "IL",
            "IN",
            "KS",
            "KY",
            "LA",
            "MA",
            "MD",
            "ME",
            "MI",
            "MN",
            "MO",
            "MS",
            "MT",
            "NC",
            "ND",
            "NE",
            "NH",
            "NJ",
            "NM",
            "NV",
            "NY",
            "OH",
            "OK",
            "OR",
            "PA",
            "PR",
            "RI",
            "SC",
            "SD",
            "TN",
            "TX",
            "UT",
            "VA",
            "VT",
            "WA",
            "WI",
            "WV",
            "WY"
           ],
           "marker": {
            "color": {
             "bdata": "BQAwAAQArwAWBaQAawEGACYAGQE9AAEAQgAWALYBhgAYACAALACmAcsADwBLAdMAdwAKAA0AbQAKABEARQB7AiEACwDpAnMBagA5AJ0BBAASACMABgAoABYCMwB2ABYAjACRACoABQA=",
             "dtype": "i2"
            },
            "coloraxis": "coloraxis",
            "size": {
             "bdata": "BQAwAAQArwAWBaQAawEGACYAGQE9AAEAQgAWALYBhgAYACAALACmAcsADwBLAdMAdwAKAA0AbQAKABEARQB7AiEACwDpAnMBagA5AJ0BBAASACMABgAoABYCMwB2ABYAjACRACoABQA=",
             "dtype": "i2"
            },
            "sizemode": "area",
            "sizeref": 60.1616,
            "symbol": "circle"
           },
           "mode": "markers",
           "name": "",
           "showlegend": false,
           "type": "scattergeo"
          }
         ],
         "name": "1986"
        },
        {
         "data": [
          {
           "geo": "geo",
           "hovertemplate": "<b>%{hovertext}</b><br><br>year=1987<br>patent_count=%{marker.color}<br>disambig_state=%{location}<extra></extra>",
           "hovertext": [
            "AL",
            "AR",
            "AZ",
            "CA",
            "CO",
            "CT",
            "DC",
            "DE",
            "FL",
            "GA",
            "HI",
            "IA",
            "ID",
            "IL",
            "IN",
            "KS",
            "KY",
            "LA",
            "MA",
            "MD",
            "ME",
            "MI",
            "MN",
            "MO",
            "MS",
            "MT",
            "NC",
            "ND",
            "NE",
            "NH",
            "NJ",
            "NM",
            "NV",
            "NY",
            "OH",
            "OK",
            "OR",
            "PA",
            "RI",
            "SC",
            "SD",
            "TN",
            "TX",
            "UT",
            "VA",
            "VT",
            "WA",
            "WI",
            "WV",
            "WY"
           ],
           "legendgroup": "",
           "locationmode": "USA-states",
           "locations": [
            "AL",
            "AR",
            "AZ",
            "CA",
            "CO",
            "CT",
            "DC",
            "DE",
            "FL",
            "GA",
            "HI",
            "IA",
            "ID",
            "IL",
            "IN",
            "KS",
            "KY",
            "LA",
            "MA",
            "MD",
            "ME",
            "MI",
            "MN",
            "MO",
            "MS",
            "MT",
            "NC",
            "ND",
            "NE",
            "NH",
            "NJ",
            "NM",
            "NV",
            "NY",
            "OH",
            "OK",
            "OR",
            "PA",
            "RI",
            "SC",
            "SD",
            "TN",
            "TX",
            "UT",
            "VA",
            "VT",
            "WA",
            "WI",
            "WV",
            "WY"
           ],
           "marker": {
            "color": {
             "bdata": "GgACADsAowJLAJQABAAZAJAAMgAEABkAAQAgAUIAEwAYAB0ACgFGAAUA5wCiADsABwAIAEgABAANABkARwELAAUAhgHxAEcAEgAfAQgAHQAIABoA7QAcAEIABwA3AG0ADAACAA==",
             "dtype": "i2"
            },
            "coloraxis": "coloraxis",
            "size": {
             "bdata": "GgACADsAowJLAJQABAAZAJAAMgAEABkAAQAgAUIAEwAYAB0ACgFGAAUA5wCiADsABwAIAEgABAANABkARwELAAUAhgHxAEcAEgAfAQgAHQAIABoA7QAcAEIABwA3AG0ADAACAA==",
             "dtype": "i2"
            },
            "sizemode": "area",
            "sizeref": 60.1616,
            "symbol": "circle"
           },
           "mode": "markers",
           "name": "",
           "showlegend": false,
           "type": "scattergeo"
          }
         ],
         "name": "1987"
        },
        {
         "data": [
          {
           "geo": "geo",
           "hovertemplate": "<b>%{hovertext}</b><br><br>year=1988<br>patent_count=%{marker.color}<br>disambig_state=%{location}<extra></extra>",
           "hovertext": [
            "AK",
            "AL",
            "AR",
            "AZ",
            "CA",
            "CO",
            "CT",
            "DC",
            "DE",
            "FL",
            "GA",
            "HI",
            "IA",
            "ID",
            "IL",
            "IN",
            "KS",
            "KY",
            "LA",
            "MA",
            "MD",
            "ME",
            "MI",
            "MN",
            "MO",
            "MS",
            "MT",
            "NC",
            "ND",
            "NE",
            "NH",
            "NJ",
            "NM",
            "NV",
            "NY",
            "OH",
            "OK",
            "OR",
            "PA",
            "PR",
            "RI",
            "SC",
            "SD",
            "TN",
            "TX",
            "UT",
            "VA",
            "VT",
            "WA",
            "WI",
            "WV",
            "WY"
           ],
           "legendgroup": "",
           "locationmode": "USA-states",
           "locations": [
            "AK",
            "AL",
            "AR",
            "AZ",
            "CA",
            "CO",
            "CT",
            "DC",
            "DE",
            "FL",
            "GA",
            "HI",
            "IA",
            "ID",
            "IL",
            "IN",
            "KS",
            "KY",
            "LA",
            "MA",
            "MD",
            "ME",
            "MI",
            "MN",
            "MO",
            "MS",
            "MT",
            "NC",
            "ND",
            "NE",
            "NH",
            "NJ",
            "NM",
            "NV",
            "NY",
            "OH",
            "OK",
            "OR",
            "PA",
            "PR",
            "RI",
            "SC",
            "SD",
            "TN",
            "TX",
            "UT",
            "VA",
            "VT",
            "WA",
            "WI",
            "WV",
            "WY"
           ],
           "marker": {
            "color": {
             "bdata": "CgDCADgA0QHhD30BSQQSAOgAmQMtASgABQFAAFQH2AK+AN8A8gCNBJcBSQBJB1sDRgFHACAA6gEXAFcApQBkCGwAMgB/ChsHmQFkAS0ICABYAOMAIADCAVoHwwBfAV8AoAETA00AFQA=",
             "dtype": "i2"
            },
            "coloraxis": "coloraxis",
            "size": {
             "bdata": "CgDCADgA0QHhD30BSQQSAOgAmQMtASgABQFAAFQH2AK+AN8A8gCNBJcBSQBJB1sDRgFHACAA6gEXAFcApQBkCGwAMgB/ChsHmQFkAS0ICABYAOMAIADCAVoHwwBfAV8AoAETA00AFQA=",
             "dtype": "i2"
            },
            "sizemode": "area",
            "sizeref": 60.1616,
            "symbol": "circle"
           },
           "mode": "markers",
           "name": "",
           "showlegend": false,
           "type": "scattergeo"
          }
         ],
         "name": "1988"
        },
        {
         "data": [
          {
           "geo": "geo",
           "hovertemplate": "<b>%{hovertext}</b><br><br>year=1989<br>patent_count=%{marker.color}<br>disambig_state=%{location}<extra></extra>",
           "hovertext": [
            "AK",
            "AL",
            "AR",
            "AZ",
            "CA",
            "CO",
            "CT",
            "DC",
            "DE",
            "FL",
            "GA",
            "GU",
            "HI",
            "IA",
            "ID",
            "IL",
            "IN",
            "KS",
            "KY",
            "LA",
            "MA",
            "MD",
            "ME",
            "MI",
            "MN",
            "MO",
            "MS",
            "MT",
            "NC",
            "ND",
            "NE",
            "NH",
            "NJ",
            "NM",
            "NV",
            "NY",
            "OH",
            "OK",
            "OR",
            "PA",
            "PR",
            "RI",
            "SC",
            "SD",
            "TN",
            "TX",
            "UT",
            "VA",
            "VT",
            "WA",
            "WI",
            "WV",
            "WY"
           ],
           "legendgroup": "",
           "locationmode": "USA-states",
           "locations": [
            "AK",
            "AL",
            "AR",
            "AZ",
            "CA",
            "CO",
            "CT",
            "DC",
            "DE",
            "FL",
            "GA",
            "GU",
            "HI",
            "IA",
            "ID",
            "IL",
            "IN",
            "KS",
            "KY",
            "LA",
            "MA",
            "MD",
            "ME",
            "MI",
            "MN",
            "MO",
            "MS",
            "MT",
            "NC",
            "ND",
            "NE",
            "NH",
            "NJ",
            "NM",
            "NV",
            "NY",
            "OH",
            "OK",
            "OR",
            "PA",
            "PR",
            "RI",
            "SC",
            "SD",
            "TN",
            "TX",
            "UT",
            "VA",
            "VT",
            "WA",
            "WI",
            "WV",
            "WY"
           ],
           "marker": {
            "color": {
             "bdata": "JwDaAYUA4QMWKXwEEAk0AHUCigirAwEATgAtAtgAtBCnBYkBagFhAh8LcgS2AJkPOwhhA3sAaADJBE4AqgCqARATLwGFAB4Z6A9nAzQDHxIcAPsATQImACsD3RLMASIE0wCxBCIH8QApAA==",
             "dtype": "i2"
            },
            "coloraxis": "coloraxis",
            "size": {
             "bdata": "JwDaAYUA4QMWKXwEEAk0AHUCigirAwEATgAtAtgAtBCnBYkBagFhAh8LcgS2AJkPOwhhA3sAaADJBE4AqgCqARATLwGFAB4Z6A9nAzQDHxIcAPsATQImACsD3RLMASIE0wCxBCIH8QApAA==",
             "dtype": "i2"
            },
            "sizemode": "area",
            "sizeref": 60.1616,
            "symbol": "circle"
           },
           "mode": "markers",
           "name": "",
           "showlegend": false,
           "type": "scattergeo"
          }
         ],
         "name": "1989"
        },
        {
         "data": [
          {
           "geo": "geo",
           "hovertemplate": "<b>%{hovertext}</b><br><br>year=1990<br>patent_count=%{marker.color}<br>disambig_state=%{location}<extra></extra>",
           "hovertext": [
            "AK",
            "AL",
            "AR",
            "AZ",
            "CA",
            "CO",
            "CT",
            "DC",
            "DE",
            "FL",
            "GA",
            "HI",
            "IA",
            "ID",
            "IL",
            "IN",
            "KS",
            "KY",
            "LA",
            "MA",
            "MD",
            "ME",
            "MI",
            "MN",
            "MO",
            "MS",
            "MT",
            "NC",
            "ND",
            "NE",
            "NH",
            "NJ",
            "NM",
            "NV",
            "NY",
            "OH",
            "OK",
            "OR",
            "PA",
            "PR",
            "RI",
            "SC",
            "SD",
            "TN",
            "TX",
            "UT",
            "VA",
            "VT",
            "WA",
            "WI",
            "WV",
            "WY"
           ],
           "legendgroup": "",
           "locationmode": "USA-states",
           "locations": [
            "AK",
            "AL",
            "AR",
            "AZ",
            "CA",
            "CO",
            "CT",
            "DC",
            "DE",
            "FL",
            "GA",
            "HI",
            "IA",
            "ID",
            "IL",
            "IN",
            "KS",
            "KY",
            "LA",
            "MA",
            "MD",
            "ME",
            "MI",
            "MN",
            "MO",
            "MS",
            "MT",
            "NC",
            "ND",
            "NE",
            "NH",
            "NJ",
            "NM",
            "NV",
            "NY",
            "OH",
            "OK",
            "OR",
            "PA",
            "PR",
            "RI",
            "SC",
            "SD",
            "TN",
            "TX",
            "UT",
            "VA",
            "VT",
            "WA",
            "WI",
            "WV",
            "WY"
           ],
           "marker": {
            "color": {
             "bdata": "IADsAYMAbgMUKDsEXwg6AHYCUgjAA1cA5wHjAKQPVQVHAYwBlgI4DM8EfgBlDncISAOdAEQAvwQ6ALMA2QGcEigBegCKGEYO7ALeApwQDQDeAAwCJwAMA4cQ6wFhBLUABwVlBssAJQA=",
             "dtype": "i2"
            },
            "coloraxis": "coloraxis",
            "size": {
             "bdata": "IADsAYMAbgMUKDsEXwg6AHYCUgjAA1cA5wHjAKQPVQVHAYwBlgI4DM8EfgBlDncISAOdAEQAvwQ6ALMA2QGcEigBegCKGEYO7ALeApwQDQDeAAwCJwAMA4cQ6wFhBLUABwVlBssAJQA=",
             "dtype": "i2"
            },
            "sizemode": "area",
            "sizeref": 60.1616,
            "symbol": "circle"
           },
           "mode": "markers",
           "name": "",
           "showlegend": false,
           "type": "scattergeo"
          }
         ],
         "name": "1990"
        },
        {
         "data": [
          {
           "geo": "geo",
           "hovertemplate": "<b>%{hovertext}</b><br><br>year=1991<br>patent_count=%{marker.color}<br>disambig_state=%{location}<extra></extra>",
           "hovertext": [
            "AK",
            "AL",
            "AR",
            "AZ",
            "CA",
            "CO",
            "CT",
            "DC",
            "DE",
            "FL",
            "GA",
            "HI",
            "IA",
            "ID",
            "IL",
            "IN",
            "KS",
            "KY",
            "LA",
            "MA",
            "MD",
            "ME",
            "MI",
            "MN",
            "MO",
            "MS",
            "MT",
            "NC",
            "ND",
            "NE",
            "NH",
            "NJ",
            "NM",
            "NV",
            "NY",
            "OH",
            "OK",
            "OR",
            "PA",
            "PR",
            "RI",
            "SC",
            "SD",
            "TN",
            "TX",
            "UT",
            "VA",
            "VT",
            "WA",
            "WI",
            "WV",
            "WY"
           ],
           "legendgroup": "",
           "locationmode": "USA-states",
           "locations": [
            "AK",
            "AL",
            "AR",
            "AZ",
            "CA",
            "CO",
            "CT",
            "DC",
            "DE",
            "FL",
            "GA",
            "HI",
            "IA",
            "ID",
            "IL",
            "IN",
            "KS",
            "KY",
            "LA",
            "MA",
            "MD",
            "ME",
            "MI",
            "MN",
            "MO",
            "MS",
            "MT",
            "NC",
            "ND",
            "NE",
            "NH",
            "NJ",
            "NM",
            "NV",
            "NY",
            "OH",
            "OK",
            "OR",
            "PA",
            "PR",
            "RI",
            "SC",
            "SD",
            "TN",
            "TX",
            "UT",
            "VA",
            "VT",
            "WA",
            "WI",
            "WV",
            "WY"
           ],
           "marker": {
            "color": {
             "bdata": "DQDAADoAmQGqFPABUAMqAH0BQQNxARsArgBhANcGVwJ6AOgAAQERB2ACPwB2BYwDnAE6ACIAaAIjAE4AqADkCLcARwBHC2MGAAEpAe4GBABhANsAFAAfAY0H6gAcAlMAlwKHAmIAEAA=",
             "dtype": "i2"
            },
            "coloraxis": "coloraxis",
            "size": {
             "bdata": "DQDAADoAmQGqFPABUAMqAH0BQQNxARsArgBhANcGVwJ6AOgAAQERB2ACPwB2BYwDnAE6ACIAaAIjAE4AqADkCLcARwBHC2MGAAEpAe4GBABhANsAFAAfAY0H6gAcAlMAlwKHAmIAEAA=",
             "dtype": "i2"
            },
            "sizemode": "area",
            "sizeref": 60.1616,
            "symbol": "circle"
           },
           "mode": "markers",
           "name": "",
           "showlegend": false,
           "type": "scattergeo"
          }
         ],
         "name": "1991"
        },
        {
         "data": [
          {
           "geo": "geo",
           "hovertemplate": "<b>%{hovertext}</b><br><br>year=1992<br>patent_count=%{marker.color}<br>disambig_state=%{location}<extra></extra>",
           "hovertext": [
            "AK",
            "AL",
            "AR",
            "AZ",
            "CA",
            "CO",
            "CT",
            "DC",
            "DE",
            "FL",
            "GA",
            "HI",
            "IA",
            "ID",
            "IL",
            "IN",
            "KS",
            "KY",
            "LA",
            "MA",
            "MD",
            "ME",
            "MI",
            "MN",
            "MO",
            "MS",
            "MT",
            "NC",
            "ND",
            "NE",
            "NH",
            "NJ",
            "NM",
            "NV",
            "NY",
            "OH",
            "OK",
            "OR",
            "PA",
            "RI",
            "SC",
            "SD",
            "TN",
            "TX",
            "UT",
            "VA",
            "VT",
            "WA",
            "WI",
            "WV",
            "WY"
           ],
           "legendgroup": "",
           "locationmode": "USA-states",
           "locations": [
            "AK",
            "AL",
            "AR",
            "AZ",
            "CA",
            "CO",
            "CT",
            "DC",
            "DE",
            "FL",
            "GA",
            "HI",
            "IA",
            "ID",
            "IL",
            "IN",
            "KS",
            "KY",
            "LA",
            "MA",
            "MD",
            "ME",
            "MI",
            "MN",
            "MO",
            "MS",
            "MT",
            "NC",
            "ND",
            "NE",
            "NH",
            "NJ",
            "NM",
            "NV",
            "NY",
            "OH",
            "OK",
            "OR",
            "PA",
            "RI",
            "SC",
            "SD",
            "TN",
            "TX",
            "UT",
            "VA",
            "VT",
            "WA",
            "WI",
            "WV",
            "WY"
           ],
           "marker": {
            "color": {
             "bdata": "AQAvAA0AewAhB54A6QAQAFYAKwFqAAcAMwASAMwBsAAjADEAMgBWAwsBDQCHAQEBcwAZAAoAoQAKAAwAQwBTAisADwAEA3IBTABiABQCFQAzAAUASQCFAloAlAASAB4BgAAuAAEA",
             "dtype": "i2"
            },
            "coloraxis": "coloraxis",
            "size": {
             "bdata": "AQAvAA0AewAhB54A6QAQAFYAKwFqAAcAMwASAMwBsAAjADEAMgBWAwsBDQCHAQEBcwAZAAoAoQAKAAwAQwBTAisADwAEA3IBTABiABQCFQAzAAUASQCFAloAlAASAB4BgAAuAAEA",
             "dtype": "i2"
            },
            "sizemode": "area",
            "sizeref": 60.1616,
            "symbol": "circle"
           },
           "mode": "markers",
           "name": "",
           "showlegend": false,
           "type": "scattergeo"
          }
         ],
         "name": "1992"
        },
        {
         "data": [
          {
           "geo": "geo",
           "hovertemplate": "<b>%{hovertext}</b><br><br>year=1993<br>patent_count=%{marker.color}<br>disambig_state=%{location}<extra></extra>",
           "hovertext": [
            "AK",
            "AL",
            "AR",
            "AZ",
            "CA",
            "CO",
            "CT",
            "DC",
            "DE",
            "FL",
            "GA",
            "HI",
            "IA",
            "ID",
            "IL",
            "IN",
            "KS",
            "KY",
            "LA",
            "MA",
            "MD",
            "ME",
            "MI",
            "MN",
            "MO",
            "MS",
            "MT",
            "NC",
            "ND",
            "NE",
            "NH",
            "NJ",
            "NM",
            "NV",
            "NY",
            "OH",
            "OK",
            "OR",
            "PA",
            "RI",
            "SC",
            "TN",
            "TX",
            "UT",
            "VA",
            "VT",
            "WA",
            "WI",
            "WV",
            "WY"
           ],
           "legendgroup": "",
           "locationmode": "USA-states",
           "locations": [
            "AK",
            "AL",
            "AR",
            "AZ",
            "CA",
            "CO",
            "CT",
            "DC",
            "DE",
            "FL",
            "GA",
            "HI",
            "IA",
            "ID",
            "IL",
            "IN",
            "KS",
            "KY",
            "LA",
            "MA",
            "MD",
            "ME",
            "MI",
            "MN",
            "MO",
            "MS",
            "MT",
            "NC",
            "ND",
            "NE",
            "NH",
            "NJ",
            "NM",
            "NV",
            "NY",
            "OH",
            "OK",
            "OR",
            "PA",
            "RI",
            "SC",
            "TN",
            "TX",
            "UT",
            "VA",
            "VT",
            "WA",
            "WI",
            "WV",
            "WY"
           ],
           "marker": {
            "color": {
             "bdata": "AQANAAgAJQBaAiIAWQAGABYAOgAhAAIABQAHAIwALgAMAAcADQDlAHkABQBPAEMAIQAHAAEAWAABAAIAHwCqAAwABwDgAEwADAAiAHsABwAdAAwAygAaABoAAwBWACQAEwABAA==",
             "dtype": "i2"
            },
            "coloraxis": "coloraxis",
            "size": {
             "bdata": "AQANAAgAJQBaAiIAWQAGABYAOgAhAAIABQAHAIwALgAMAAcADQDlAHkABQBPAEMAIQAHAAEAWAABAAIAHwCqAAwABwDgAEwADAAiAHsABwAdAAwAygAaABoAAwBWACQAEwABAA==",
             "dtype": "i2"
            },
            "sizemode": "area",
            "sizeref": 60.1616,
            "symbol": "circle"
           },
           "mode": "markers",
           "name": "",
           "showlegend": false,
           "type": "scattergeo"
          }
         ],
         "name": "1993"
        },
        {
         "data": [
          {
           "geo": "geo",
           "hovertemplate": "<b>%{hovertext}</b><br><br>year=1994<br>patent_count=%{marker.color}<br>disambig_state=%{location}<extra></extra>",
           "hovertext": [
            "AL",
            "AZ",
            "CA",
            "CO",
            "CT",
            "DC",
            "DE",
            "FL",
            "GA",
            "IA",
            "IL",
            "IN",
            "KS",
            "KY",
            "MA",
            "MD",
            "ME",
            "MI",
            "MN",
            "MO",
            "MS",
            "MT",
            "NC",
            "NE",
            "NH",
            "NJ",
            "NM",
            "NY",
            "OH",
            "OK",
            "OR",
            "PA",
            "RI",
            "SC",
            "TX",
            "UT",
            "VA",
            "WA",
            "WI"
           ],
           "legendgroup": "",
           "locationmode": "USA-states",
           "locations": [
            "AL",
            "AZ",
            "CA",
            "CO",
            "CT",
            "DC",
            "DE",
            "FL",
            "GA",
            "IA",
            "IL",
            "IN",
            "KS",
            "KY",
            "MA",
            "MD",
            "ME",
            "MI",
            "MN",
            "MO",
            "MS",
            "MT",
            "NC",
            "NE",
            "NH",
            "NJ",
            "NM",
            "NY",
            "OH",
            "OK",
            "OR",
            "PA",
            "RI",
            "SC",
            "TX",
            "UT",
            "VA",
            "WA",
            "WI"
           ],
           "marker": {
            "color": {
             "bdata": "AQANAOYADQAUAAIACQAfAAIAAgAfAAcAAwACAEIAJQABACUAJAAUAAIAAgARAAUACwA5AAEAWwA1AAgADgA3AAEABQA8AAwAFAAiABUA",
             "dtype": "i2"
            },
            "coloraxis": "coloraxis",
            "size": {
             "bdata": "AQANAOYADQAUAAIACQAfAAIAAgAfAAcAAwACAEIAJQABACUAJAAUAAIAAgARAAUACwA5AAEAWwA1AAgADgA3AAEABQA8AAwAFAAiABUA",
             "dtype": "i2"
            },
            "sizemode": "area",
            "sizeref": 60.1616,
            "symbol": "circle"
           },
           "mode": "markers",
           "name": "",
           "showlegend": false,
           "type": "scattergeo"
          }
         ],
         "name": "1994"
        },
        {
         "data": [
          {
           "geo": "geo",
           "hovertemplate": "<b>%{hovertext}</b><br><br>year=1995<br>patent_count=%{marker.color}<br>disambig_state=%{location}<extra></extra>",
           "hovertext": [
            "AL",
            "AZ",
            "CA",
            "CO",
            "CT",
            "DE",
            "FL",
            "GA",
            "IA",
            "IL",
            "IN",
            "KS",
            "LA",
            "MA",
            "MD",
            "MI",
            "MN",
            "MO",
            "NC",
            "NH",
            "NJ",
            "NM",
            "NV",
            "NY",
            "OH",
            "OK",
            "OR",
            "PA",
            "SC",
            "TX",
            "UT",
            "VA",
            "VT",
            "WA",
            "WI",
            "WV",
            "WY"
           ],
           "legendgroup": "",
           "locationmode": "USA-states",
           "locations": [
            "AL",
            "AZ",
            "CA",
            "CO",
            "CT",
            "DE",
            "FL",
            "GA",
            "IA",
            "IL",
            "IN",
            "KS",
            "LA",
            "MA",
            "MD",
            "MI",
            "MN",
            "MO",
            "NC",
            "NH",
            "NJ",
            "NM",
            "NV",
            "NY",
            "OH",
            "OK",
            "OR",
            "PA",
            "SC",
            "TX",
            "UT",
            "VA",
            "VT",
            "WA",
            "WI",
            "WV",
            "WY"
           ],
           "marker": {
            "color": {
             "bdata": "AwJ0Bw8DBQQDHQUCBhwbBQYFDQQOBQEiEAMFEgIZCAYBCwcBAQ==",
             "dtype": "i1"
            },
            "coloraxis": "coloraxis",
            "size": {
             "bdata": "AwJ0Bw8DBQQDHQUCBhwbBQYFDQQOBQEiEAMFEgIZCAYBCwcBAQ==",
             "dtype": "i1"
            },
            "sizemode": "area",
            "sizeref": 60.1616,
            "symbol": "circle"
           },
           "mode": "markers",
           "name": "",
           "showlegend": false,
           "type": "scattergeo"
          }
         ],
         "name": "1995"
        },
        {
         "data": [
          {
           "geo": "geo",
           "hovertemplate": "<b>%{hovertext}</b><br><br>year=1996<br>patent_count=%{marker.color}<br>disambig_state=%{location}<extra></extra>",
           "hovertext": [
            "AL",
            "AR",
            "AZ",
            "CA",
            "CO",
            "CT",
            "DE",
            "FL",
            "GA",
            "HI",
            "IA",
            "ID",
            "IL",
            "IN",
            "KS",
            "KY",
            "LA",
            "MA",
            "MD",
            "MI",
            "MN",
            "MO",
            "MT",
            "NC",
            "ND",
            "NE",
            "NH",
            "NJ",
            "NM",
            "NV",
            "NY",
            "OH",
            "OK",
            "OR",
            "PA",
            "RI",
            "SC",
            "TN",
            "TX",
            "UT",
            "VA",
            "VT",
            "WA",
            "WI",
            "WY"
           ],
           "legendgroup": "",
           "locationmode": "USA-states",
           "locations": [
            "AL",
            "AR",
            "AZ",
            "CA",
            "CO",
            "CT",
            "DE",
            "FL",
            "GA",
            "HI",
            "IA",
            "ID",
            "IL",
            "IN",
            "KS",
            "KY",
            "LA",
            "MA",
            "MD",
            "MI",
            "MN",
            "MO",
            "MT",
            "NC",
            "ND",
            "NE",
            "NH",
            "NJ",
            "NM",
            "NV",
            "NY",
            "OH",
            "OK",
            "OR",
            "PA",
            "RI",
            "SC",
            "TN",
            "TX",
            "UT",
            "VA",
            "VT",
            "WA",
            "WI",
            "WY"
           ],
           "marker": {
            "color": {
             "bdata": "BAABABIAnQANABMABAAZABEAAQAJAAcALQAMAAQABQAEADkALQAbAA8ACgACAAoAAQACAA8AGAACAAQAYQAqAAoAGwAhAAUABAAOAC4ADAATAAMAEwAOAAEA",
             "dtype": "i2"
            },
            "coloraxis": "coloraxis",
            "size": {
             "bdata": "BAABABIAnQANABMABAAZABEAAQAJAAcALQAMAAQABQAEADkALQAbAA8ACgACAAoAAQACAA8AGAACAAQAYQAqAAoAGwAhAAUABAAOAC4ADAATAAMAEwAOAAEA",
             "dtype": "i2"
            },
            "sizemode": "area",
            "sizeref": 60.1616,
            "symbol": "circle"
           },
           "mode": "markers",
           "name": "",
           "showlegend": false,
           "type": "scattergeo"
          }
         ],
         "name": "1996"
        },
        {
         "data": [
          {
           "geo": "geo",
           "hovertemplate": "<b>%{hovertext}</b><br><br>year=1997<br>patent_count=%{marker.color}<br>disambig_state=%{location}<extra></extra>",
           "hovertext": [
            "AK",
            "AL",
            "AR",
            "AZ",
            "CA",
            "CO",
            "CT",
            "DC",
            "DE",
            "FL",
            "GA",
            "HI",
            "IA",
            "ID",
            "IL",
            "IN",
            "KS",
            "KY",
            "LA",
            "MA",
            "MD",
            "ME",
            "MI",
            "MN",
            "MO",
            "MS",
            "MT",
            "NC",
            "ND",
            "NE",
            "NH",
            "NJ",
            "NM",
            "NV",
            "NY",
            "OH",
            "OK",
            "OR",
            "PA",
            "PR",
            "RI",
            "SC",
            "SD",
            "TN",
            "TX",
            "UT",
            "VA",
            "VT",
            "WA",
            "WI",
            "WV",
            "WY"
           ],
           "legendgroup": "",
           "locationmode": "USA-states",
           "locations": [
            "AK",
            "AL",
            "AR",
            "AZ",
            "CA",
            "CO",
            "CT",
            "DC",
            "DE",
            "FL",
            "GA",
            "HI",
            "IA",
            "ID",
            "IL",
            "IN",
            "KS",
            "KY",
            "LA",
            "MA",
            "MD",
            "ME",
            "MI",
            "MN",
            "MO",
            "MS",
            "MT",
            "NC",
            "ND",
            "NE",
            "NH",
            "NJ",
            "NM",
            "NV",
            "NY",
            "OH",
            "OK",
            "OR",
            "PA",
            "PR",
            "RI",
            "SC",
            "SD",
            "TN",
            "TX",
            "UT",
            "VA",
            "VT",
            "WA",
            "WI",
            "WV",
            "WY"
           ],
           "marker": {
            "color": {
             "bdata": "DwBoACIAxwGBELIBYQIRAJUAEwOsARcAugAbASwFNwJnAJwAnwCLA5YBMQCdBSADNAFSABkAYAIJAEgAsgAVBl8AVQBsCrcFuAAmAdgEAQClAN8AEgBAAVAGOwFFAZIA9wFpAj4AFAA=",
             "dtype": "i2"
            },
            "coloraxis": "coloraxis",
            "size": {
             "bdata": "DwBoACIAxwGBELIBYQIRAJUAEwOsARcAugAbASwFNwJnAJwAnwCLA5YBMQCdBSADNAFSABkAYAIJAEgAsgAVBl8AVQBsCrcFuAAmAdgEAQClAN8AEgBAAVAGOwFFAZIA9wFpAj4AFAA=",
             "dtype": "i2"
            },
            "sizemode": "area",
            "sizeref": 60.1616,
            "symbol": "circle"
           },
           "mode": "markers",
           "name": "",
           "showlegend": false,
           "type": "scattergeo"
          }
         ],
         "name": "1997"
        },
        {
         "data": [
          {
           "geo": "geo",
           "hovertemplate": "<b>%{hovertext}</b><br><br>year=1998<br>patent_count=%{marker.color}<br>disambig_state=%{location}<extra></extra>",
           "hovertext": [
            "AK",
            "AL",
            "AR",
            "AZ",
            "CA",
            "CO",
            "CT",
            "DC",
            "DE",
            "FL",
            "GA",
            "GU",
            "HI",
            "IA",
            "ID",
            "IL",
            "IN",
            "KS",
            "KY",
            "LA",
            "MA",
            "MD",
            "ME",
            "MI",
            "MN",
            "MO",
            "MS",
            "MT",
            "NC",
            "ND",
            "NE",
            "NH",
            "NJ",
            "NM",
            "NV",
            "NY",
            "OH",
            "OK",
            "OR",
            "PA",
            "PR",
            "RI",
            "SC",
            "SD",
            "TN",
            "TX",
            "UT",
            "VA",
            "VT",
            "WA",
            "WI",
            "WV",
            "WY"
           ],
           "legendgroup": "",
           "locationmode": "USA-states",
           "locations": [
            "AK",
            "AL",
            "AR",
            "AZ",
            "CA",
            "CO",
            "CT",
            "DC",
            "DE",
            "FL",
            "GA",
            "GU",
            "HI",
            "IA",
            "ID",
            "IL",
            "IN",
            "KS",
            "KY",
            "LA",
            "MA",
            "MD",
            "ME",
            "MI",
            "MN",
            "MO",
            "MS",
            "MT",
            "NC",
            "ND",
            "NE",
            "NH",
            "NJ",
            "NM",
            "NV",
            "NY",
            "OH",
            "OK",
            "OR",
            "PA",
            "PR",
            "RI",
            "SC",
            "SD",
            "TN",
            "TX",
            "UT",
            "VA",
            "VT",
            "WA",
            "WI",
            "WV",
            "WY"
           ],
           "marker": {
            "color": {
             "bdata": "LQACAYcAFQafNcUFmwYsAIEBMAhIBAQAIABSAugCLg4jBQkBhwFtAUQMQwR+AE4NdwoXA5cAUQA2BjYArwD/AZQOcQHmAPAYBw2yAbUDWQwGABEB9QErAOoCOxTfArUDcQEPBrYFvwApAA==",
             "dtype": "i2"
            },
            "coloraxis": "coloraxis",
            "size": {
             "bdata": "LQACAYcAFQafNcUFmwYsAIEBMAhIBAQAIABSAugCLg4jBQkBhwFtAUQMQwR+AE4NdwoXA5cAUQA2BjYArwD/AZQOcQHmAPAYBw2yAbUDWQwGABEB9QErAOoCOxTfArUDcQEPBrYFvwApAA==",
             "dtype": "i2"
            },
            "sizemode": "area",
            "sizeref": 60.1616,
            "symbol": "circle"
           },
           "mode": "markers",
           "name": "",
           "showlegend": false,
           "type": "scattergeo"
          }
         ],
         "name": "1998"
        },
        {
         "data": [
          {
           "geo": "geo",
           "hovertemplate": "<b>%{hovertext}</b><br><br>year=1999<br>patent_count=%{marker.color}<br>disambig_state=%{location}<extra></extra>",
           "hovertext": [
            "AK",
            "AL",
            "AR",
            "AZ",
            "CA",
            "CO",
            "CT",
            "DC",
            "DE",
            "FL",
            "GA",
            "HI",
            "IA",
            "ID",
            "IL",
            "IN",
            "KS",
            "KY",
            "LA",
            "MA",
            "MD",
            "ME",
            "MI",
            "MN",
            "MO",
            "MS",
            "MT",
            "NC",
            "ND",
            "NE",
            "NH",
            "NJ",
            "NM",
            "NV",
            "NY",
            "OH",
            "OK",
            "OR",
            "PA",
            "PR",
            "RI",
            "SC",
            "SD",
            "TN",
            "TX",
            "UT",
            "VA",
            "VT",
            "WA",
            "WI",
            "WV",
            "WY"
           ],
           "legendgroup": "",
           "locationmode": "USA-states",
           "locations": [
            "AK",
            "AL",
            "AR",
            "AZ",
            "CA",
            "CO",
            "CT",
            "DC",
            "DE",
            "FL",
            "GA",
            "HI",
            "IA",
            "ID",
            "IL",
            "IN",
            "KS",
            "KY",
            "LA",
            "MA",
            "MD",
            "ME",
            "MI",
            "MN",
            "MO",
            "MS",
            "MT",
            "NC",
            "ND",
            "NE",
            "NH",
            "NJ",
            "NM",
            "NV",
            "NY",
            "OH",
            "OK",
            "OR",
            "PA",
            "PR",
            "RI",
            "SC",
            "SD",
            "TN",
            "TX",
            "UT",
            "VA",
            "VT",
            "WA",
            "WI",
            "WV",
            "WY"
           ],
           "marker": {
            "color": {
             "bdata": "CgB7AC8AcQKBH4EDJAMOAKIAAgMgAhgA5QCEAQwG4gFvAKEAmQAYCFMCLACcBHcEbgFUACcAVQMNACsAFQFNB5oAaQBWCUoFkwAgAtwEBQBiAMkAFABYAdsK/QCtAYQAswM6AhkAEAA=",
             "dtype": "i2"
            },
            "coloraxis": "coloraxis",
            "size": {
             "bdata": "CgB7AC8AcQKBH4EDJAMOAKIAAgMgAhgA5QCEAQwG4gFvAKEAmQAYCFMCLACcBHcEbgFUACcAVQMNACsAFQFNB5oAaQBWCUoFkwAgAtwEBQBiAMkAFABYAdsK/QCtAYQAswM6AhkAEAA=",
             "dtype": "i2"
            },
            "sizemode": "area",
            "sizeref": 60.1616,
            "symbol": "circle"
           },
           "mode": "markers",
           "name": "",
           "showlegend": false,
           "type": "scattergeo"
          }
         ],
         "name": "1999"
        },
        {
         "data": [
          {
           "geo": "geo",
           "hovertemplate": "<b>%{hovertext}</b><br><br>year=2000<br>patent_count=%{marker.color}<br>disambig_state=%{location}<extra></extra>",
           "hovertext": [
            "AK",
            "AL",
            "AR",
            "AZ",
            "CA",
            "CO",
            "CT",
            "DC",
            "DE",
            "FL",
            "GA",
            "HI",
            "IA",
            "ID",
            "IL",
            "IN",
            "KS",
            "KY",
            "LA",
            "MA",
            "MD",
            "ME",
            "MI",
            "MN",
            "MO",
            "MS",
            "MT",
            "NC",
            "ND",
            "NE",
            "NH",
            "NJ",
            "NM",
            "NV",
            "NY",
            "OH",
            "OK",
            "OR",
            "PA",
            "PR",
            "RI",
            "SC",
            "SD",
            "TN",
            "TX",
            "UT",
            "VA",
            "VI",
            "VT",
            "WA",
            "WI",
            "WV",
            "WY"
           ],
           "legendgroup": "",
           "locationmode": "USA-states",
           "locations": [
            "AK",
            "AL",
            "AR",
            "AZ",
            "CA",
            "CO",
            "CT",
            "DC",
            "DE",
            "FL",
            "GA",
            "HI",
            "IA",
            "ID",
            "IL",
            "IN",
            "KS",
            "KY",
            "LA",
            "MA",
            "MD",
            "ME",
            "MI",
            "MN",
            "MO",
            "MS",
            "MT",
            "NC",
            "ND",
            "NE",
            "NH",
            "NJ",
            "NM",
            "NV",
            "NY",
            "OH",
            "OK",
            "OR",
            "PA",
            "PR",
            "RI",
            "SC",
            "SD",
            "TN",
            "TX",
            "UT",
            "VA",
            "VI",
            "VT",
            "WA",
            "WI",
            "WV",
            "WY"
           ],
           "marker": {
            "color": {
             "bdata": "EgCPAFUAmgIFIRkDrwMbALkA+ASIAhsAcgEJA4QHRQOYAPkA7wCiBnQCLgAyCGoFvgFqAEwAiAMzAFoAQgE5CKwAlwDtDOcGJgHWAfgHCgC4ABMBIwCkAXkKZQF2AgEAqAArBLIDSwAQAA==",
             "dtype": "i2"
            },
            "coloraxis": "coloraxis",
            "size": {
             "bdata": "EgCPAFUAmgIFIRkDrwMbALkA+ASIAhsAcgEJA4QHRQOYAPkA7wCiBnQCLgAyCGoFvgFqAEwAiAMzAFoAQgE5CKwAlwDtDOcGJgHWAfgHCgC4ABMBIwCkAXkKZQF2AgEAqAArBLIDSwAQAA==",
             "dtype": "i2"
            },
            "sizemode": "area",
            "sizeref": 60.1616,
            "symbol": "circle"
           },
           "mode": "markers",
           "name": "",
           "showlegend": false,
           "type": "scattergeo"
          }
         ],
         "name": "2000"
        },
        {
         "data": [
          {
           "geo": "geo",
           "hovertemplate": "<b>%{hovertext}</b><br><br>year=2001<br>patent_count=%{marker.color}<br>disambig_state=%{location}<extra></extra>",
           "hovertext": [
            "AK",
            "AL",
            "AR",
            "AZ",
            "CA",
            "CO",
            "CT",
            "DC",
            "DE",
            "FL",
            "GA",
            "HI",
            "IA",
            "ID",
            "IL",
            "IN",
            "KS",
            "KY",
            "LA",
            "MA",
            "MD",
            "ME",
            "MI",
            "MN",
            "MO",
            "MS",
            "MT",
            "NC",
            "ND",
            "NE",
            "NH",
            "NJ",
            "NM",
            "NV",
            "NY",
            "OH",
            "OK",
            "OR",
            "PA",
            "PR",
            "RI",
            "SC",
            "SD",
            "TN",
            "TX",
            "UT",
            "VA",
            "VT",
            "WA",
            "WI",
            "WV",
            "WY"
           ],
           "legendgroup": "",
           "locationmode": "USA-states",
           "locations": [
            "AK",
            "AL",
            "AR",
            "AZ",
            "CA",
            "CO",
            "CT",
            "DC",
            "DE",
            "FL",
            "GA",
            "HI",
            "IA",
            "ID",
            "IL",
            "IN",
            "KS",
            "KY",
            "LA",
            "MA",
            "MD",
            "ME",
            "MI",
            "MN",
            "MO",
            "MS",
            "MT",
            "NC",
            "ND",
            "NE",
            "NH",
            "NJ",
            "NM",
            "NV",
            "NY",
            "OH",
            "OK",
            "OR",
            "PA",
            "PR",
            "RI",
            "SC",
            "SD",
            "TN",
            "TX",
            "UT",
            "VA",
            "VT",
            "WA",
            "WI",
            "WV",
            "WY"
           ],
           "marker": {
            "color": {
             "bdata": "LABmAZcA+gRKQT4GfQc2ALkBtwjLBDwAfAKdBWYOiAUWAbgBwQEhDRIFcwA7D6EKJgOVAI0A5wZgALkASQJjDpAB7QBiGE0NQgI4BN0OEAAXAUQCJQB1AxIUTwLWA2oCUAagB4sANAA=",
             "dtype": "i2"
            },
            "coloraxis": "coloraxis",
            "size": {
             "bdata": "LABmAZcA+gRKQT4GfQc2ALkBtwjLBDwAfAKdBWYOiAUWAbgBwQEhDRIFcwA7D6EKJgOVAI0A5wZgALkASQJjDpAB7QBiGE0NQgI4BN0OEAAXAUQCJQB1AxIUTwLWA2oCUAagB4sANAA=",
             "dtype": "i2"
            },
            "sizemode": "area",
            "sizeref": 60.1616,
            "symbol": "circle"
           },
           "mode": "markers",
           "name": "",
           "showlegend": false,
           "type": "scattergeo"
          }
         ],
         "name": "2001"
        },
        {
         "data": [
          {
           "geo": "geo",
           "hovertemplate": "<b>%{hovertext}</b><br><br>year=2002<br>patent_count=%{marker.color}<br>disambig_state=%{location}<extra></extra>",
           "hovertext": [
            "AK",
            "AL",
            "AR",
            "AZ",
            "CA",
            "CO",
            "CT",
            "DC",
            "DE",
            "FL",
            "GA",
            "HI",
            "IA",
            "ID",
            "IL",
            "IN",
            "KS",
            "KY",
            "LA",
            "MA",
            "MD",
            "ME",
            "MI",
            "MN",
            "MO",
            "MS",
            "MT",
            "NC",
            "ND",
            "NE",
            "NH",
            "NJ",
            "NM",
            "NV",
            "NY",
            "OH",
            "OK",
            "OR",
            "PA",
            "PR",
            "RI",
            "SC",
            "SD",
            "TN",
            "TX",
            "UT",
            "VA",
            "VT",
            "WA",
            "WI",
            "WV",
            "WY"
           ],
           "legendgroup": "",
           "locationmode": "USA-states",
           "locations": [
            "AK",
            "AL",
            "AR",
            "AZ",
            "CA",
            "CO",
            "CT",
            "DC",
            "DE",
            "FL",
            "GA",
            "HI",
            "IA",
            "ID",
            "IL",
            "IN",
            "KS",
            "KY",
            "LA",
            "MA",
            "MD",
            "ME",
            "MI",
            "MN",
            "MO",
            "MS",
            "MT",
            "NC",
            "ND",
            "NE",
            "NH",
            "NJ",
            "NM",
            "NV",
            "NY",
            "OH",
            "OK",
            "OR",
            "PA",
            "PR",
            "RI",
            "SC",
            "SD",
            "TN",
            "TX",
            "UT",
            "VA",
            "VT",
            "WA",
            "WI",
            "WV",
            "WY"
           ],
           "marker": {
            "color": {
             "bdata": "IQDBAckAkAb6T5sHmwdFAMQBpggyBTIAkgLlBpcPMwbsAcsBggHAEF4GrwDSETMNOQSZAIkA2gdJALwAsQIEEZsB/wB9Hp4OUwLNBcgOEwArASsCOgDRA9Ma5gJgBH0CAQlJCJsAJAA=",
             "dtype": "i2"
            },
            "coloraxis": "coloraxis",
            "size": {
             "bdata": "IQDBAckAkAb6T5sHmwdFAMQBpggyBTIAkgLlBpcPMwbsAcsBggHAEF4GrwDSETMNOQSZAIkA2gdJALwAsQIEEZsB/wB9Hp4OUwLNBcgOEwArASsCOgDRA9Ma5gJgBH0CAQlJCJsAJAA=",
             "dtype": "i2"
            },
            "sizemode": "area",
            "sizeref": 60.1616,
            "symbol": "circle"
           },
           "mode": "markers",
           "name": "",
           "showlegend": false,
           "type": "scattergeo"
          }
         ],
         "name": "2002"
        },
        {
         "data": [
          {
           "geo": "geo",
           "hovertemplate": "<b>%{hovertext}</b><br><br>year=2003<br>patent_count=%{marker.color}<br>disambig_state=%{location}<extra></extra>",
           "hovertext": [
            "AK",
            "AL",
            "AR",
            "AZ",
            "CA",
            "CO",
            "CT",
            "DC",
            "DE",
            "FL",
            "GA",
            "HI",
            "IA",
            "ID",
            "IL",
            "IN",
            "KS",
            "KY",
            "LA",
            "MA",
            "MD",
            "ME",
            "MI",
            "MN",
            "MO",
            "MS",
            "MT",
            "NC",
            "ND",
            "NE",
            "NH",
            "NJ",
            "NM",
            "NV",
            "NY",
            "OH",
            "OK",
            "OR",
            "PA",
            "PR",
            "RI",
            "SC",
            "SD",
            "TN",
            "TX",
            "UT",
            "VA",
            "VT",
            "WA",
            "WI",
            "WV",
            "WY"
           ],
           "legendgroup": "",
           "locationmode": "USA-states",
           "locations": [
            "AK",
            "AL",
            "AR",
            "AZ",
            "CA",
            "CO",
            "CT",
            "DC",
            "DE",
            "FL",
            "GA",
            "HI",
            "IA",
            "ID",
            "IL",
            "IN",
            "KS",
            "KY",
            "LA",
            "MA",
            "MD",
            "ME",
            "MI",
            "MN",
            "MO",
            "MS",
            "MT",
            "NC",
            "ND",
            "NE",
            "NH",
            "NJ",
            "NM",
            "NV",
            "NY",
            "OH",
            "OK",
            "OR",
            "PA",
            "PR",
            "RI",
            "SC",
            "SD",
            "TN",
            "TX",
            "UT",
            "VA",
            "VT",
            "WA",
            "WI",
            "WV",
            "WY"
           ],
           "marker": {
            "color": {
             "bdata": "KgAWAtEAOAi+Z1gJcQk7ADwCgQtyBjgAhgOpCPsS5gcmAlkCvwGAFYUHAQGyFjoRhgS0AJEAVwpMAMsAYAMhEw0C0QF+JLQR9gIhCJUSJQBMAeMCUwBUBL4eWAMsBeYCuQxRCusASgA=",
             "dtype": "i2"
            },
            "coloraxis": "coloraxis",
            "size": {
             "bdata": "KgAWAtEAOAi+Z1gJcQk7ADwCgQtyBjgAhgOpCPsS5gcmAlkCvwGAFYUHAQGyFjoRhgS0AJEAVwpMAMsAYAMhEw0C0QF+JLQR9gIhCJUSJQBMAeMCUwBUBL4eWAMsBeYCuQxRCusASgA=",
             "dtype": "i2"
            },
            "sizemode": "area",
            "sizeref": 60.1616,
            "symbol": "circle"
           },
           "mode": "markers",
           "name": "",
           "showlegend": false,
           "type": "scattergeo"
          }
         ],
         "name": "2003"
        },
        {
         "data": [
          {
           "geo": "geo",
           "hovertemplate": "<b>%{hovertext}</b><br><br>year=2004<br>patent_count=%{marker.color}<br>disambig_state=%{location}<extra></extra>",
           "hovertext": [
            "AK",
            "AL",
            "AR",
            "AZ",
            "CA",
            "CO",
            "CT",
            "DC",
            "DE",
            "FL",
            "GA",
            "HI",
            "IA",
            "ID",
            "IL",
            "IN",
            "KS",
            "KY",
            "LA",
            "MA",
            "MD",
            "ME",
            "MI",
            "MN",
            "MO",
            "MS",
            "MT",
            "NC",
            "ND",
            "NE",
            "NH",
            "NJ",
            "NM",
            "NV",
            "NY",
            "OH",
            "OK",
            "OR",
            "PA",
            "PR",
            "RI",
            "SC",
            "SD",
            "TN",
            "TX",
            "UT",
            "VA",
            "VT",
            "WA",
            "WI",
            "WV",
            "WY"
           ],
           "legendgroup": "",
           "locationmode": "USA-states",
           "locations": [
            "AK",
            "AL",
            "AR",
            "AZ",
            "CA",
            "CO",
            "CT",
            "DC",
            "DE",
            "FL",
            "GA",
            "HI",
            "IA",
            "ID",
            "IL",
            "IN",
            "KS",
            "KY",
            "LA",
            "MA",
            "MD",
            "ME",
            "MI",
            "MN",
            "MO",
            "MS",
            "MT",
            "NC",
            "ND",
            "NE",
            "NH",
            "NJ",
            "NM",
            "NV",
            "NY",
            "OH",
            "OK",
            "OR",
            "PA",
            "PR",
            "RI",
            "SC",
            "SD",
            "TN",
            "TX",
            "UT",
            "VA",
            "VT",
            "WA",
            "WI",
            "WV",
            "WY"
           ],
           "marker": {
            "color": {
             "bdata": "OAAAAIACAADuAAAAdAsAACeFAADSDAAAuwwAAGYAAAC7AgAA6g4AACAJAABlAAAAhQQAADULAAAuGAAAiQoAAOQCAAAcAwAAIQIAABMbAACCCQAABwEAAJUeAACkFAAAbgYAANgAAACoAAAApQwAAFoAAAArAQAATAQAACUVAAD7AgAAagIAALwtAABwFgAAfAMAACwMAADQFQAAGQAAACwCAAD0AwAAawAAACcFAAAlKQAA8gMAAPAGAAB0AwAAaQ8AAGoNAACvAAAASgAAAA==",
             "dtype": "i4"
            },
            "coloraxis": "coloraxis",
            "size": {
             "bdata": "OAAAAIACAADuAAAAdAsAACeFAADSDAAAuwwAAGYAAAC7AgAA6g4AACAJAABlAAAAhQQAADULAAAuGAAAiQoAAOQCAAAcAwAAIQIAABMbAACCCQAABwEAAJUeAACkFAAAbgYAANgAAACoAAAApQwAAFoAAAArAQAATAQAACUVAAD7AgAAagIAALwtAABwFgAAfAMAACwMAADQFQAAGQAAACwCAAD0AwAAawAAACcFAAAlKQAA8gMAAPAGAAB0AwAAaQ8AAGoNAACvAAAASgAAAA==",
             "dtype": "i4"
            },
            "sizemode": "area",
            "sizeref": 60.1616,
            "symbol": "circle"
           },
           "mode": "markers",
           "name": "",
           "showlegend": false,
           "type": "scattergeo"
          }
         ],
         "name": "2004"
        },
        {
         "data": [
          {
           "geo": "geo",
           "hovertemplate": "<b>%{hovertext}</b><br><br>year=2005<br>patent_count=%{marker.color}<br>disambig_state=%{location}<extra></extra>",
           "hovertext": [
            "AK",
            "AL",
            "AR",
            "AZ",
            "CA",
            "CO",
            "CT",
            "DC",
            "DE",
            "FL",
            "GA",
            "HI",
            "IA",
            "ID",
            "IL",
            "IN",
            "KS",
            "KY",
            "LA",
            "MA",
            "MD",
            "ME",
            "MI",
            "MN",
            "MO",
            "MP",
            "MS",
            "MT",
            "NC",
            "ND",
            "NE",
            "NH",
            "NJ",
            "NM",
            "NV",
            "NY",
            "OH",
            "OK",
            "OR",
            "PA",
            "PR",
            "RI",
            "SC",
            "SD",
            "TN",
            "TX",
            "UT",
            "VA",
            "VI",
            "VT",
            "WA",
            "WI",
            "WV",
            "WY"
           ],
           "legendgroup": "",
           "locationmode": "USA-states",
           "locations": [
            "AK",
            "AL",
            "AR",
            "AZ",
            "CA",
            "CO",
            "CT",
            "DC",
            "DE",
            "FL",
            "GA",
            "HI",
            "IA",
            "ID",
            "IL",
            "IN",
            "KS",
            "KY",
            "LA",
            "MA",
            "MD",
            "ME",
            "MI",
            "MN",
            "MO",
            "MP",
            "MS",
            "MT",
            "NC",
            "ND",
            "NE",
            "NH",
            "NJ",
            "NM",
            "NV",
            "NY",
            "OH",
            "OK",
            "OR",
            "PA",
            "PR",
            "RI",
            "SC",
            "SD",
            "TN",
            "TX",
            "UT",
            "VA",
            "VI",
            "VT",
            "WA",
            "WI",
            "WV",
            "WY"
           ],
           "marker": {
            "color": {
             "bdata": "OQAAAGQCAADnAAAAtwsAAP2PAACJDQAAyw0AAG8AAAD+AgAAnw8AABkJAABAAAAAlgQAAAsKAABqFwAA4gkAAMoCAAAiAwAA0wEAAPIaAAC5CQAANwEAAHUeAAAMFQAAhAUAAAEAAADUAAAAxgAAAMUMAAB+AAAAPgEAACgEAACsFAAAQwIAAHwCAABXKQAAARUAAKQDAADbDAAAlxQAACwAAADOAQAAuQMAAGIAAACyBAAAcyoAACAEAAAgBwAAAQAAAJUDAADIEAAAlQ0AAOQAAABqAAAA",
             "dtype": "i4"
            },
            "coloraxis": "coloraxis",
            "size": {
             "bdata": "OQAAAGQCAADnAAAAtwsAAP2PAACJDQAAyw0AAG8AAAD+AgAAnw8AABkJAABAAAAAlgQAAAsKAABqFwAA4gkAAMoCAAAiAwAA0wEAAPIaAAC5CQAANwEAAHUeAAAMFQAAhAUAAAEAAADUAAAAxgAAAMUMAAB+AAAAPgEAACgEAACsFAAAQwIAAHwCAABXKQAAARUAAKQDAADbDAAAlxQAACwAAADOAQAAuQMAAGIAAACyBAAAcyoAACAEAAAgBwAAAQAAAJUDAADIEAAAlQ0AAOQAAABqAAAA",
             "dtype": "i4"
            },
            "sizemode": "area",
            "sizeref": 60.1616,
            "symbol": "circle"
           },
           "mode": "markers",
           "name": "",
           "showlegend": false,
           "type": "scattergeo"
          }
         ],
         "name": "2005"
        },
        {
         "data": [
          {
           "geo": "geo",
           "hovertemplate": "<b>%{hovertext}</b><br><br>year=2006<br>patent_count=%{marker.color}<br>disambig_state=%{location}<extra></extra>",
           "hovertext": [
            "AK",
            "AL",
            "AR",
            "AZ",
            "CA",
            "CO",
            "CT",
            "DC",
            "DE",
            "FL",
            "GA",
            "HI",
            "IA",
            "ID",
            "IL",
            "IN",
            "KS",
            "KY",
            "LA",
            "MA",
            "MD",
            "ME",
            "MI",
            "MN",
            "MO",
            "MS",
            "MT",
            "NC",
            "ND",
            "NE",
            "NH",
            "NJ",
            "NM",
            "NV",
            "NY",
            "OH",
            "OK",
            "OR",
            "PA",
            "PR",
            "RI",
            "SC",
            "SD",
            "TN",
            "TX",
            "UT",
            "VA",
            "VT",
            "WA",
            "WI",
            "WV",
            "WY"
           ],
           "legendgroup": "",
           "locationmode": "USA-states",
           "locations": [
            "AK",
            "AL",
            "AR",
            "AZ",
            "CA",
            "CO",
            "CT",
            "DC",
            "DE",
            "FL",
            "GA",
            "HI",
            "IA",
            "ID",
            "IL",
            "IN",
            "KS",
            "KY",
            "LA",
            "MA",
            "MD",
            "ME",
            "MI",
            "MN",
            "MO",
            "MS",
            "MT",
            "NC",
            "ND",
            "NE",
            "NH",
            "NJ",
            "NM",
            "NV",
            "NY",
            "OH",
            "OK",
            "OR",
            "PA",
            "PR",
            "RI",
            "SC",
            "SD",
            "TN",
            "TX",
            "UT",
            "VA",
            "VT",
            "WA",
            "WI",
            "WV",
            "WY"
           ],
           "marker": {
            "color": {
             "bdata": "MwAAANoCAAABAQAAzQ4AAFnCAAAWEQAAGxEAAI4AAAChAwAAsxIAAPgLAACfAAAAugUAAMkLAADnHAAALgsAAJwDAADJAwAAeQIAAC0lAABmDAAAaAEAAEgiAAC+HAAADQcAABMBAADdAAAAoxEAAI4AAACXAQAAGwUAAIIcAABBAwAApQIAAGQ2AABVGQAAEQUAADcSAABeGwAANwAAAGICAADvBAAAdQAAAK0FAAD+NgAABAYAAEkJAAD+BAAAthwAANIPAADMAAAAWwAAAA==",
             "dtype": "i4"
            },
            "coloraxis": "coloraxis",
            "size": {
             "bdata": "MwAAANoCAAABAQAAzQ4AAFnCAAAWEQAAGxEAAI4AAAChAwAAsxIAAPgLAACfAAAAugUAAMkLAADnHAAALgsAAJwDAADJAwAAeQIAAC0lAABmDAAAaAEAAEgiAAC+HAAADQcAABMBAADdAAAAoxEAAI4AAACXAQAAGwUAAIIcAABBAwAApQIAAGQ2AABVGQAAEQUAADcSAABeGwAANwAAAGICAADvBAAAdQAAAK0FAAD+NgAABAYAAEkJAAD+BAAAthwAANIPAADMAAAAWwAAAA==",
             "dtype": "i4"
            },
            "sizemode": "area",
            "sizeref": 60.1616,
            "symbol": "circle"
           },
           "mode": "markers",
           "name": "",
           "showlegend": false,
           "type": "scattergeo"
          }
         ],
         "name": "2006"
        },
        {
         "data": [
          {
           "geo": "geo",
           "hovertemplate": "<b>%{hovertext}</b><br><br>year=2007<br>patent_count=%{marker.color}<br>disambig_state=%{location}<extra></extra>",
           "hovertext": [
            "AK",
            "AL",
            "AR",
            "AZ",
            "CA",
            "CO",
            "CT",
            "DC",
            "DE",
            "FL",
            "GA",
            "HI",
            "IA",
            "ID",
            "IL",
            "IN",
            "KS",
            "KY",
            "LA",
            "MA",
            "MD",
            "ME",
            "MI",
            "MN",
            "MO",
            "MS",
            "MT",
            "NC",
            "ND",
            "NE",
            "NH",
            "NJ",
            "NM",
            "NV",
            "NY",
            "OH",
            "OK",
            "OR",
            "PA",
            "PR",
            "RI",
            "SC",
            "SD",
            "TN",
            "TX",
            "UT",
            "VA",
            "VI",
            "VT",
            "WA",
            "WI",
            "WV",
            "WY"
           ],
           "legendgroup": "",
           "locationmode": "USA-states",
           "locations": [
            "AK",
            "AL",
            "AR",
            "AZ",
            "CA",
            "CO",
            "CT",
            "DC",
            "DE",
            "FL",
            "GA",
            "HI",
            "IA",
            "ID",
            "IL",
            "IN",
            "KS",
            "KY",
            "LA",
            "MA",
            "MD",
            "ME",
            "MI",
            "MN",
            "MO",
            "MS",
            "MT",
            "NC",
            "ND",
            "NE",
            "NH",
            "NJ",
            "NM",
            "NV",
            "NY",
            "OH",
            "OK",
            "OR",
            "PA",
            "PR",
            "RI",
            "SC",
            "SD",
            "TN",
            "TX",
            "UT",
            "VA",
            "VI",
            "VT",
            "WA",
            "WI",
            "WV",
            "WY"
           ],
           "marker": {
            "color": {
             "bdata": "HQAAAHwCAADyAAAABQ4AAC67AAAmDwAAKA4AAJwAAADBAwAAuRIAACILAACPAAAAXgUAAEkKAAAbGwAAUwsAAGwDAAA+BAAAIQIAAOwiAAA4CwAAPgEAAJUeAABCGgAAagYAACMBAADWAAAA2hAAAJMAAADIAQAA4gQAAFkbAACBAgAA2gIAAJgyAAATFwAAngQAAB8RAAA8GQAALwAAABYCAADdAwAAWAAAAJUFAACINQAASAYAAMoIAAABAAAAVgUAAHMgAAAWDgAA1wAAAGQAAAA=",
             "dtype": "i4"
            },
            "coloraxis": "coloraxis",
            "size": {
             "bdata": "HQAAAHwCAADyAAAABQ4AAC67AAAmDwAAKA4AAJwAAADBAwAAuRIAACILAACPAAAAXgUAAEkKAAAbGwAAUwsAAGwDAAA+BAAAIQIAAOwiAAA4CwAAPgEAAJUeAABCGgAAagYAACMBAADWAAAA2hAAAJMAAADIAQAA4gQAAFkbAACBAgAA2gIAAJgyAAATFwAAngQAAB8RAAA8GQAALwAAABYCAADdAwAAWAAAAJUFAACINQAASAYAAMoIAAABAAAAVgUAAHMgAAAWDgAA1wAAAGQAAAA=",
             "dtype": "i4"
            },
            "sizemode": "area",
            "sizeref": 60.1616,
            "symbol": "circle"
           },
           "mode": "markers",
           "name": "",
           "showlegend": false,
           "type": "scattergeo"
          }
         ],
         "name": "2007"
        },
        {
         "data": [
          {
           "geo": "geo",
           "hovertemplate": "<b>%{hovertext}</b><br><br>year=2008<br>patent_count=%{marker.color}<br>disambig_state=%{location}<extra></extra>",
           "hovertext": [
            "AK",
            "AL",
            "AR",
            "AZ",
            "CA",
            "CO",
            "CT",
            "DC",
            "DE",
            "FL",
            "GA",
            "GU",
            "HI",
            "IA",
            "ID",
            "IL",
            "IN",
            "KS",
            "KY",
            "LA",
            "MA",
            "MD",
            "ME",
            "MI",
            "MN",
            "MO",
            "MP",
            "MS",
            "MT",
            "NC",
            "ND",
            "NE",
            "NH",
            "NJ",
            "NM",
            "NV",
            "NY",
            "OH",
            "OK",
            "OR",
            "PA",
            "PR",
            "RI",
            "SC",
            "SD",
            "TN",
            "TX",
            "UT",
            "VA",
            "VT",
            "WA",
            "WI",
            "WV",
            "WY"
           ],
           "legendgroup": "",
           "locationmode": "USA-states",
           "locations": [
            "AK",
            "AL",
            "AR",
            "AZ",
            "CA",
            "CO",
            "CT",
            "DC",
            "DE",
            "FL",
            "GA",
            "GU",
            "HI",
            "IA",
            "ID",
            "IL",
            "IN",
            "KS",
            "KY",
            "LA",
            "MA",
            "MD",
            "ME",
            "MI",
            "MN",
            "MO",
            "MP",
            "MS",
            "MT",
            "NC",
            "ND",
            "NE",
            "NH",
            "NJ",
            "NM",
            "NV",
            "NY",
            "OH",
            "OK",
            "OR",
            "PA",
            "PR",
            "RI",
            "SC",
            "SD",
            "TN",
            "TX",
            "UT",
            "VA",
            "VT",
            "WA",
            "WI",
            "WV",
            "WY"
           ],
           "marker": {
            "color": {
             "bdata": "IwAAAFMCAADpAAAAMQ4AABK+AAB1DgAAXg4AAJYAAAAdAwAATxAAALULAAABAAAAqgAAAPwEAACnCAAAhRoAAN8JAABnAwAABwQAACACAADZJQAAoAsAAG8BAAAzHQAA2hoAAMsFAAABAAAAzQAAAM8AAABlEwAAggAAALABAACRBAAARBwAAI0CAAAHAwAAbzQAACsXAAAQBAAAxxEAAM0YAAAcAAAAzQEAAGcDAABUAAAAIwUAAHQ2AAAxBgAALwkAAD8FAAA+JgAAEw4AALkAAABRAAAA",
             "dtype": "i4"
            },
            "coloraxis": "coloraxis",
            "size": {
             "bdata": "IwAAAFMCAADpAAAAMQ4AABK+AAB1DgAAXg4AAJYAAAAdAwAATxAAALULAAABAAAAqgAAAPwEAACnCAAAhRoAAN8JAABnAwAABwQAACACAADZJQAAoAsAAG8BAAAzHQAA2hoAAMsFAAABAAAAzQAAAM8AAABlEwAAggAAALABAACRBAAARBwAAI0CAAAHAwAAbzQAACsXAAAQBAAAxxEAAM0YAAAcAAAAzQEAAGcDAABUAAAAIwUAAHQ2AAAxBgAALwkAAD8FAAA+JgAAEw4AALkAAABRAAAA",
             "dtype": "i4"
            },
            "sizemode": "area",
            "sizeref": 60.1616,
            "symbol": "circle"
           },
           "mode": "markers",
           "name": "",
           "showlegend": false,
           "type": "scattergeo"
          }
         ],
         "name": "2008"
        },
        {
         "data": [
          {
           "geo": "geo",
           "hovertemplate": "<b>%{hovertext}</b><br><br>year=2009<br>patent_count=%{marker.color}<br>disambig_state=%{location}<extra></extra>",
           "hovertext": [
            "AK",
            "AL",
            "AR",
            "AZ",
            "CA",
            "CO",
            "CT",
            "DC",
            "DE",
            "FL",
            "GA",
            "HI",
            "IA",
            "ID",
            "IL",
            "IN",
            "KS",
            "KY",
            "LA",
            "MA",
            "MD",
            "ME",
            "MI",
            "MN",
            "MO",
            "MS",
            "MT",
            "NC",
            "ND",
            "NE",
            "NH",
            "NJ",
            "NM",
            "NV",
            "NY",
            "OH",
            "OK",
            "OR",
            "PA",
            "PR",
            "RI",
            "SC",
            "SD",
            "TN",
            "TX",
            "UT",
            "VA",
            "VT",
            "WA",
            "WI",
            "WV",
            "WY"
           ],
           "legendgroup": "",
           "locationmode": "USA-states",
           "locations": [
            "AK",
            "AL",
            "AR",
            "AZ",
            "CA",
            "CO",
            "CT",
            "DC",
            "DE",
            "FL",
            "GA",
            "HI",
            "IA",
            "ID",
            "IL",
            "IN",
            "KS",
            "KY",
            "LA",
            "MA",
            "MD",
            "ME",
            "MI",
            "MN",
            "MO",
            "MS",
            "MT",
            "NC",
            "ND",
            "NE",
            "NH",
            "NJ",
            "NM",
            "NV",
            "NY",
            "OH",
            "OK",
            "OR",
            "PA",
            "PR",
            "RI",
            "SC",
            "SD",
            "TN",
            "TX",
            "UT",
            "VA",
            "VT",
            "WA",
            "WI",
            "WV",
            "WY"
           ],
           "marker": {
            "color": {
             "bdata": "NAAAAIkCAADaAAAA8Q4AAFzOAACCEAAAiA8AAJMAAABxAwAAjBEAAIIMAACdAAAATgYAAD8HAADHGwAAYAsAALYDAACWAwAAMAIAAI0oAABFDAAAYQEAAI8dAACrGwAAxQYAABcBAACQAAAAxhUAALkAAADLAQAALgUAAMIfAAAoAwAAyQIAAGw5AAA3GAAARwQAAHMRAACGHAAAJAAAAOIBAABpBAAATwAAAPwFAABIOgAApAcAAO8JAABsBQAAPzQAAFIPAADlAAAAdgAAAA==",
             "dtype": "i4"
            },
            "coloraxis": "coloraxis",
            "size": {
             "bdata": "NAAAAIkCAADaAAAA8Q4AAFzOAACCEAAAiA8AAJMAAABxAwAAjBEAAIIMAACdAAAATgYAAD8HAADHGwAAYAsAALYDAACWAwAAMAIAAI0oAABFDAAAYQEAAI8dAACrGwAAxQYAABcBAACQAAAAxhUAALkAAADLAQAALgUAAMIfAAAoAwAAyQIAAGw5AAA3GAAARwQAAHMRAACGHAAAJAAAAOIBAABpBAAATwAAAPwFAABIOgAApAcAAO8JAABsBQAAPzQAAFIPAADlAAAAdgAAAA==",
             "dtype": "i4"
            },
            "sizemode": "area",
            "sizeref": 60.1616,
            "symbol": "circle"
           },
           "mode": "markers",
           "name": "",
           "showlegend": false,
           "type": "scattergeo"
          }
         ],
         "name": "2009"
        },
        {
         "data": [
          {
           "geo": "geo",
           "hovertemplate": "<b>%{hovertext}</b><br><br>year=2010<br>patent_count=%{marker.color}<br>disambig_state=%{location}<extra></extra>",
           "hovertext": [
            "AK",
            "AL",
            "AR",
            "AZ",
            "CA",
            "CO",
            "CT",
            "DC",
            "DE",
            "FL",
            "GA",
            "HI",
            "IA",
            "ID",
            "IL",
            "IN",
            "KS",
            "KY",
            "LA",
            "MA",
            "MD",
            "ME",
            "MI",
            "MN",
            "MO",
            "MS",
            "MT",
            "NC",
            "ND",
            "NE",
            "NH",
            "NJ",
            "NM",
            "NV",
            "NY",
            "OH",
            "OK",
            "OR",
            "PA",
            "PR",
            "RI",
            "SC",
            "SD",
            "TN",
            "TX",
            "UT",
            "VA",
            "VI",
            "VT",
            "WA",
            "WI",
            "WV",
            "WY"
           ],
           "legendgroup": "",
           "locationmode": "USA-states",
           "locations": [
            "AK",
            "AL",
            "AR",
            "AZ",
            "CA",
            "CO",
            "CT",
            "DC",
            "DE",
            "FL",
            "GA",
            "HI",
            "IA",
            "ID",
            "IL",
            "IN",
            "KS",
            "KY",
            "LA",
            "MA",
            "MD",
            "ME",
            "MI",
            "MN",
            "MO",
            "MS",
            "MT",
            "NC",
            "ND",
            "NE",
            "NH",
            "NJ",
            "NM",
            "NV",
            "NY",
            "OH",
            "OK",
            "OR",
            "PA",
            "PR",
            "RI",
            "SC",
            "SD",
            "TN",
            "TX",
            "UT",
            "VA",
            "VI",
            "VT",
            "WA",
            "WI",
            "WV",
            "WY"
           ],
           "marker": {
            "color": {
             "bdata": "NAAAACEEAAAuAQAAQRMAAD4ZAQDhFAAAhxQAANgAAABaBAAA/BcAAF0SAADlAAAA7QYAAIQIAAB6JAAAZw8AAGMFAACuBQAAcAIAANI2AABSEAAAfQIAAKYmAABVJwAAWwkAAF0BAADoAAAAfhwAAO0AAACnAQAAVgcAABUrAAAyBAAArgQAAIxMAAA8IgAACwUAABQUAAAgJAAAOQAAAIUCAAA+BQAAjgAAAOwIAACkSgAAJQoAALcPAAABAAAANQgAAII/AAAvFAAALwEAAKIAAAA=",
             "dtype": "i4"
            },
            "coloraxis": "coloraxis",
            "size": {
             "bdata": "NAAAACEEAAAuAQAAQRMAAD4ZAQDhFAAAhxQAANgAAABaBAAA/BcAAF0SAADlAAAA7QYAAIQIAAB6JAAAZw8AAGMFAACuBQAAcAIAANI2AABSEAAAfQIAAKYmAABVJwAAWwkAAF0BAADoAAAAfhwAAO0AAACnAQAAVgcAABUrAAAyBAAArgQAAIxMAAA8IgAACwUAABQUAAAgJAAAOQAAAIUCAAA+BQAAjgAAAOwIAACkSgAAJQoAALcPAAABAAAANQgAAII/AAAvFAAALwEAAKIAAAA=",
             "dtype": "i4"
            },
            "sizemode": "area",
            "sizeref": 60.1616,
            "symbol": "circle"
           },
           "mode": "markers",
           "name": "",
           "showlegend": false,
           "type": "scattergeo"
          }
         ],
         "name": "2010"
        },
        {
         "data": [
          {
           "geo": "geo",
           "hovertemplate": "<b>%{hovertext}</b><br><br>year=2011<br>patent_count=%{marker.color}<br>disambig_state=%{location}<extra></extra>",
           "hovertext": [
            "AK",
            "AL",
            "AR",
            "AZ",
            "CA",
            "CO",
            "CT",
            "DC",
            "DE",
            "FL",
            "GA",
            "GU",
            "HI",
            "IA",
            "ID",
            "IL",
            "IN",
            "KS",
            "KY",
            "LA",
            "MA",
            "MD",
            "ME",
            "MI",
            "MN",
            "MO",
            "MS",
            "MT",
            "NC",
            "ND",
            "NE",
            "NH",
            "NJ",
            "NM",
            "NV",
            "NY",
            "OH",
            "OK",
            "OR",
            "PA",
            "PR",
            "RI",
            "SC",
            "SD",
            "TN",
            "TX",
            "UT",
            "VA",
            "VT",
            "WA",
            "WI",
            "WV",
            "WY"
           ],
           "legendgroup": "",
           "locationmode": "USA-states",
           "locations": [
            "AK",
            "AL",
            "AR",
            "AZ",
            "CA",
            "CO",
            "CT",
            "DC",
            "DE",
            "FL",
            "GA",
            "GU",
            "HI",
            "IA",
            "ID",
            "IL",
            "IN",
            "KS",
            "KY",
            "LA",
            "MA",
            "MD",
            "ME",
            "MI",
            "MN",
            "MO",
            "MS",
            "MT",
            "NC",
            "ND",
            "NE",
            "NH",
            "NJ",
            "NM",
            "NV",
            "NY",
            "OH",
            "OK",
            "OR",
            "PA",
            "PR",
            "RI",
            "SC",
            "SD",
            "TN",
            "TX",
            "UT",
            "VA",
            "VT",
            "WA",
            "WI",
            "WV",
            "WY"
           ],
           "marker": {
            "color": {
             "bdata": "MQAAAFQDAAAyAQAAdRMAAHEoAQCoFAAAIhUAAAUBAADqBAAAVxkAAGESAAABAAAAwwAAADoIAAAOCAAAWCcAACsPAACLBgAAJQUAAJ4CAAC1OQAAzA8AAEICAAC9KAAAISsAAIkJAABoAQAA8wAAADsdAADvAAAA6AEAAMEHAADNKQAAkAMAAOcEAABtTAAABiIAAMkEAADbEwAAXiMAACgAAACrAgAAagYAANQAAADlCQAAFkwAAJIKAAAcEAAA/QYAAOw4AAA+EwAAAgEAAJEAAAA=",
             "dtype": "i4"
            },
            "coloraxis": "coloraxis",
            "size": {
             "bdata": "MQAAAFQDAAAyAQAAdRMAAHEoAQCoFAAAIhUAAAUBAADqBAAAVxkAAGESAAABAAAAwwAAADoIAAAOCAAAWCcAACsPAACLBgAAJQUAAJ4CAAC1OQAAzA8AAEICAAC9KAAAISsAAIkJAABoAQAA8wAAADsdAADvAAAA6AEAAMEHAADNKQAAkAMAAOcEAABtTAAABiIAAMkEAADbEwAAXiMAACgAAACrAgAAagYAANQAAADlCQAAFkwAAJIKAAAcEAAA/QYAAOw4AAA+EwAAAgEAAJEAAAA=",
             "dtype": "i4"
            },
            "sizemode": "area",
            "sizeref": 60.1616,
            "symbol": "circle"
           },
           "mode": "markers",
           "name": "",
           "showlegend": false,
           "type": "scattergeo"
          }
         ],
         "name": "2011"
        },
        {
         "data": [
          {
           "geo": "geo",
           "hovertemplate": "<b>%{hovertext}</b><br><br>year=2012<br>patent_count=%{marker.color}<br>disambig_state=%{location}<extra></extra>",
           "hovertext": [
            "AK",
            "AL",
            "AR",
            "AZ",
            "CA",
            "CO",
            "CT",
            "DC",
            "DE",
            "FL",
            "GA",
            "HI",
            "IA",
            "ID",
            "IL",
            "IN",
            "KS",
            "KY",
            "LA",
            "MA",
            "MD",
            "ME",
            "MI",
            "MN",
            "MO",
            "MS",
            "MT",
            "NC",
            "ND",
            "NE",
            "NH",
            "NJ",
            "NM",
            "NV",
            "NY",
            "OH",
            "OK",
            "OR",
            "PA",
            "PR",
            "RI",
            "SC",
            "SD",
            "TN",
            "TX",
            "UT",
            "VA",
            "VT",
            "WA",
            "WI",
            "WV",
            "WY"
           ],
           "legendgroup": "",
           "locationmode": "USA-states",
           "locations": [
            "AK",
            "AL",
            "AR",
            "AZ",
            "CA",
            "CO",
            "CT",
            "DC",
            "DE",
            "FL",
            "GA",
            "HI",
            "IA",
            "ID",
            "IL",
            "IN",
            "KS",
            "KY",
            "LA",
            "MA",
            "MD",
            "ME",
            "MI",
            "MN",
            "MO",
            "MS",
            "MT",
            "NC",
            "ND",
            "NE",
            "NH",
            "NJ",
            "NM",
            "NV",
            "NY",
            "OH",
            "OK",
            "OR",
            "PA",
            "PR",
            "RI",
            "SC",
            "SD",
            "TN",
            "TX",
            "UT",
            "VA",
            "VT",
            "WA",
            "WI",
            "WV",
            "WY"
           ],
           "marker": {
            "color": {
             "bdata": "MgAAAPsDAAB6AQAA0hUAAPhVAQD3FwAAnBcAABoBAAD3BAAA7B0AAHUTAADtAAAA2AcAAGkHAABWLQAArhEAAPgJAADrBQAAEQMAAF1BAAC6EAAAggIAAG0wAABeLAAAHQsAADkBAAAjAQAAVSAAANYAAACjAgAAhAcAAM0uAABUBAAAqgYAABxUAAAwJAAAhwQAAJsVAABqJgAATAAAAMsCAAAjCAAACAEAAOQIAAB4VQAAMQsAAP0QAABdBgAAQkIAAB0TAABYAQAAygAAAA==",
             "dtype": "i4"
            },
            "coloraxis": "coloraxis",
            "size": {
             "bdata": "MgAAAPsDAAB6AQAA0hUAAPhVAQD3FwAAnBcAABoBAAD3BAAA7B0AAHUTAADtAAAA2AcAAGkHAABWLQAArhEAAPgJAADrBQAAEQMAAF1BAAC6EAAAggIAAG0wAABeLAAAHQsAADkBAAAjAQAAVSAAANYAAACjAgAAhAcAAM0uAABUBAAAqgYAABxUAAAwJAAAhwQAAJsVAABqJgAATAAAAMsCAAAjCAAACAEAAOQIAAB4VQAAMQsAAP0QAABdBgAAQkIAAB0TAABYAQAAygAAAA==",
             "dtype": "i4"
            },
            "sizemode": "area",
            "sizeref": 60.1616,
            "symbol": "circle"
           },
           "mode": "markers",
           "name": "",
           "showlegend": false,
           "type": "scattergeo"
          }
         ],
         "name": "2012"
        },
        {
         "data": [
          {
           "geo": "geo",
           "hovertemplate": "<b>%{hovertext}</b><br><br>year=2013<br>patent_count=%{marker.color}<br>disambig_state=%{location}<extra></extra>",
           "hovertext": [
            "AK",
            "AL",
            "AR",
            "AZ",
            "CA",
            "CO",
            "CT",
            "DC",
            "DE",
            "FL",
            "GA",
            "GU",
            "HI",
            "IA",
            "ID",
            "IL",
            "IN",
            "KS",
            "KY",
            "LA",
            "MA",
            "MD",
            "ME",
            "MI",
            "MN",
            "MO",
            "MS",
            "MT",
            "NC",
            "ND",
            "NE",
            "NH",
            "NJ",
            "NM",
            "NV",
            "NY",
            "OH",
            "OK",
            "OR",
            "PA",
            "PR",
            "RI",
            "SC",
            "SD",
            "TN",
            "TX",
            "UT",
            "VA",
            "VI",
            "VT",
            "WA",
            "WI",
            "WV",
            "WY"
           ],
           "legendgroup": "",
           "locationmode": "USA-states",
           "locations": [
            "AK",
            "AL",
            "AR",
            "AZ",
            "CA",
            "CO",
            "CT",
            "DC",
            "DE",
            "FL",
            "GA",
            "GU",
            "HI",
            "IA",
            "ID",
            "IL",
            "IN",
            "KS",
            "KY",
            "LA",
            "MA",
            "MD",
            "ME",
            "MI",
            "MN",
            "MO",
            "MS",
            "MT",
            "NC",
            "ND",
            "NE",
            "NH",
            "NJ",
            "NM",
            "NV",
            "NY",
            "OH",
            "OK",
            "OR",
            "PA",
            "PR",
            "RI",
            "SC",
            "SD",
            "TN",
            "TX",
            "UT",
            "VA",
            "VI",
            "VT",
            "WA",
            "WI",
            "WV",
            "WY"
           ],
           "marker": {
            "color": {
             "bdata": "cAAAAN8EAABsAQAA2xUAAHiIAQDIGgAA0RgAAD0BAACmBQAAfSEAABIXAAABAAAA/gAAAP8IAAA+CAAAtTEAAHYTAAATCgAABgYAADoDAAD8SwAAvREAAPoCAAB2NQAAxDEAAOwMAABdAQAAKQEAAFoiAAAMAQAA3QIAAAAJAABVNAAApgQAAPEHAADqXQAA+CgAALUFAAD7FgAA3CsAACsAAAD3AgAAqwgAAEYBAAD/CQAAYF0AAMMMAADuEgAAAgAAAMEGAADARwAADxYAAF4BAADOAAAA",
             "dtype": "i4"
            },
            "coloraxis": "coloraxis",
            "size": {
             "bdata": "cAAAAN8EAABsAQAA2xUAAHiIAQDIGgAA0RgAAD0BAACmBQAAfSEAABIXAAABAAAA/gAAAP8IAAA+CAAAtTEAAHYTAAATCgAABgYAADoDAAD8SwAAvREAAPoCAAB2NQAAxDEAAOwMAABdAQAAKQEAAFoiAAAMAQAA3QIAAAAJAABVNAAApgQAAPEHAADqXQAA+CgAALUFAAD7FgAA3CsAACsAAAD3AgAAqwgAAEYBAAD/CQAAYF0AAMMMAADuEgAAAgAAAMEGAADARwAADxYAAF4BAADOAAAA",
             "dtype": "i4"
            },
            "sizemode": "area",
            "sizeref": 60.1616,
            "symbol": "circle"
           },
           "mode": "markers",
           "name": "",
           "showlegend": false,
           "type": "scattergeo"
          }
         ],
         "name": "2013"
        },
        {
         "data": [
          {
           "geo": "geo",
           "hovertemplate": "<b>%{hovertext}</b><br><br>year=2014<br>patent_count=%{marker.color}<br>disambig_state=%{location}<extra></extra>",
           "hovertext": [
            "AK",
            "AL",
            "AR",
            "AZ",
            "CA",
            "CO",
            "CT",
            "DC",
            "DE",
            "FL",
            "GA",
            "GU",
            "HI",
            "IA",
            "ID",
            "IL",
            "IN",
            "KS",
            "KY",
            "LA",
            "MA",
            "MD",
            "ME",
            "MI",
            "MN",
            "MO",
            "MS",
            "MT",
            "NC",
            "ND",
            "NE",
            "NH",
            "NJ",
            "NM",
            "NV",
            "NY",
            "OH",
            "OK",
            "OR",
            "PA",
            "PR",
            "RI",
            "SC",
            "SD",
            "TN",
            "TX",
            "UT",
            "VA",
            "VI",
            "VT",
            "WA",
            "WI",
            "WV",
            "WY"
           ],
           "legendgroup": "",
           "locationmode": "USA-states",
           "locations": [
            "AK",
            "AL",
            "AR",
            "AZ",
            "CA",
            "CO",
            "CT",
            "DC",
            "DE",
            "FL",
            "GA",
            "GU",
            "HI",
            "IA",
            "ID",
            "IL",
            "IN",
            "KS",
            "KY",
            "LA",
            "MA",
            "MD",
            "ME",
            "MI",
            "MN",
            "MO",
            "MS",
            "MT",
            "NC",
            "ND",
            "NE",
            "NH",
            "NJ",
            "NM",
            "NV",
            "NY",
            "OH",
            "OK",
            "OR",
            "PA",
            "PR",
            "RI",
            "SC",
            "SD",
            "TN",
            "TX",
            "UT",
            "VA",
            "VI",
            "VT",
            "WA",
            "WI",
            "WV",
            "WY"
           ],
           "marker": {
            "color": {
             "bdata": "bAAAANsEAADPAQAAnhgAABnAAQB0HgAAfBoAAI0BAABsBQAAbSQAAAUZAAADAAAAAAEAAMUJAACUCAAA7zYAABUWAAB+CQAA8gYAAJoDAABuTwAAbhQAAMYCAAA6OQAAmzQAAB0NAABwAQAACwEAADMmAADTAAAARQMAAOQJAACXNwAARQQAAJIHAADJYwAAFCkAAJQFAADJGQAArS0AAFEAAABlAwAASQkAADMBAACJCwAAg2UAAKANAABOFQAABQAAABEHAADKUgAAnBYAAFwBAADfAAAA",
             "dtype": "i4"
            },
            "coloraxis": "coloraxis",
            "size": {
             "bdata": "bAAAANsEAADPAQAAnhgAABnAAQB0HgAAfBoAAI0BAABsBQAAbSQAAAUZAAADAAAAAAEAAMUJAACUCAAA7zYAABUWAAB+CQAA8gYAAJoDAABuTwAAbhQAAMYCAAA6OQAAmzQAAB0NAABwAQAACwEAADMmAADTAAAARQMAAOQJAACXNwAARQQAAJIHAADJYwAAFCkAAJQFAADJGQAArS0AAFEAAABlAwAASQkAADMBAACJCwAAg2UAAKANAABOFQAABQAAABEHAADKUgAAnBYAAFwBAADfAAAA",
             "dtype": "i4"
            },
            "sizemode": "area",
            "sizeref": 60.1616,
            "symbol": "circle"
           },
           "mode": "markers",
           "name": "",
           "showlegend": false,
           "type": "scattergeo"
          }
         ],
         "name": "2014"
        },
        {
         "data": [
          {
           "geo": "geo",
           "hovertemplate": "<b>%{hovertext}</b><br><br>year=2015<br>patent_count=%{marker.color}<br>disambig_state=%{location}<extra></extra>",
           "hovertext": [
            "AK",
            "AL",
            "AR",
            "AZ",
            "CA",
            "CO",
            "CT",
            "DC",
            "DE",
            "FL",
            "GA",
            "GU",
            "HI",
            "IA",
            "ID",
            "IL",
            "IN",
            "KS",
            "KY",
            "LA",
            "MA",
            "MD",
            "ME",
            "MI",
            "MN",
            "MO",
            "MS",
            "MT",
            "NC",
            "ND",
            "NE",
            "NH",
            "NJ",
            "NM",
            "NV",
            "NY",
            "OH",
            "OK",
            "OR",
            "PA",
            "PR",
            "RI",
            "SC",
            "SD",
            "TN",
            "TX",
            "UT",
            "VA",
            "VI",
            "VT",
            "WA",
            "WI",
            "WV",
            "WY"
           ],
           "legendgroup": "",
           "locationmode": "USA-states",
           "locations": [
            "AK",
            "AL",
            "AR",
            "AZ",
            "CA",
            "CO",
            "CT",
            "DC",
            "DE",
            "FL",
            "GA",
            "GU",
            "HI",
            "IA",
            "ID",
            "IL",
            "IN",
            "KS",
            "KY",
            "LA",
            "MA",
            "MD",
            "ME",
            "MI",
            "MN",
            "MO",
            "MS",
            "MT",
            "NC",
            "ND",
            "NE",
            "NH",
            "NJ",
            "NM",
            "NV",
            "NY",
            "OH",
            "OK",
            "OR",
            "PA",
            "PR",
            "RI",
            "SC",
            "SD",
            "TN",
            "TX",
            "UT",
            "VA",
            "VI",
            "VT",
            "WA",
            "WI",
            "WV",
            "WY"
           ],
           "marker": {
            "color": {
             "bdata": "RAAAAGEEAADpAQAAYRkAAMrBAQBmHgAAYxcAAHYBAACQBAAAbCIAABoXAAADAAAA+QAAABEKAACYBwAAFDcAAFcWAAAHCQAA3QYAADIDAAANUwAAhBMAAHACAAB4OwAAxDIAAN4LAAAjAQAAJwEAANklAAD3AAAAEwMAAE4JAAB9MgAAjQQAAO0GAACwYQAApCcAAIEFAAAcGgAANSoAAE0AAAAzAwAApQkAAAoBAAAmCgAA6mMAAAwOAACSFQAAAQAAAOsFAAAgUwAACxcAAFQBAADbAAAA",
             "dtype": "i4"
            },
            "coloraxis": "coloraxis",
            "size": {
             "bdata": "RAAAAGEEAADpAQAAYRkAAMrBAQBmHgAAYxcAAHYBAACQBAAAbCIAABoXAAADAAAA+QAAABEKAACYBwAAFDcAAFcWAAAHCQAA3QYAADIDAAANUwAAhBMAAHACAAB4OwAAxDIAAN4LAAAjAQAAJwEAANklAAD3AAAAEwMAAE4JAAB9MgAAjQQAAO0GAACwYQAApCcAAIEFAAAcGgAANSoAAE0AAAAzAwAApQkAAAoBAAAmCgAA6mMAAAwOAACSFQAAAQAAAOsFAAAgUwAACxcAAFQBAADbAAAA",
             "dtype": "i4"
            },
            "sizemode": "area",
            "sizeref": 60.1616,
            "symbol": "circle"
           },
           "mode": "markers",
           "name": "",
           "showlegend": false,
           "type": "scattergeo"
          }
         ],
         "name": "2015"
        },
        {
         "data": [
          {
           "geo": "geo",
           "hovertemplate": "<b>%{hovertext}</b><br><br>year=2016<br>patent_count=%{marker.color}<br>disambig_state=%{location}<extra></extra>",
           "hovertext": [
            "AK",
            "AL",
            "AR",
            "AZ",
            "CA",
            "CO",
            "CT",
            "DC",
            "DE",
            "FL",
            "GA",
            "HI",
            "IA",
            "ID",
            "IL",
            "IN",
            "KS",
            "KY",
            "LA",
            "MA",
            "MD",
            "ME",
            "MI",
            "MN",
            "MO",
            "MS",
            "MT",
            "NC",
            "ND",
            "NE",
            "NH",
            "NJ",
            "NM",
            "NV",
            "NY",
            "OH",
            "OK",
            "OR",
            "PA",
            "PR",
            "RI",
            "SC",
            "SD",
            "TN",
            "TX",
            "UT",
            "VA",
            "VI",
            "VT",
            "WA",
            "WI",
            "WV",
            "WY"
           ],
           "legendgroup": "",
           "locationmode": "USA-states",
           "locations": [
            "AK",
            "AL",
            "AR",
            "AZ",
            "CA",
            "CO",
            "CT",
            "DC",
            "DE",
            "FL",
            "GA",
            "HI",
            "IA",
            "ID",
            "IL",
            "IN",
            "KS",
            "KY",
            "LA",
            "MA",
            "MD",
            "ME",
            "MI",
            "MN",
            "MO",
            "MS",
            "MT",
            "NC",
            "ND",
            "NE",
            "NH",
            "NJ",
            "NM",
            "NV",
            "NY",
            "OH",
            "OK",
            "OR",
            "PA",
            "PR",
            "RI",
            "SC",
            "SD",
            "TN",
            "TX",
            "UT",
            "VA",
            "VI",
            "VT",
            "WA",
            "WI",
            "WV",
            "WY"
           ],
           "marker": {
            "color": {
             "bdata": "bAAAAMAEAAAkAgAAChwAANvNAQCIHgAAwhgAAIUBAAD5AwAALCQAAOQXAAANAQAAYAkAAC4HAABlNQAAPxYAAKEIAABNBwAAlAMAABtVAADqFAAAfQIAAG8/AABqMAAAJAwAAGoBAABWAQAAuigAAPsAAAAFAwAABAoAAHoxAAAyBQAAlQYAAFtoAADgJgAAOQUAAAEgAABMKwAAYwAAAH0DAAB5CgAALQEAAI0KAAAEZwAA2QwAADwVAAADAAAAfgUAAIFWAACfFwAA8AAAAMgAAAA=",
             "dtype": "i4"
            },
            "coloraxis": "coloraxis",
            "size": {
             "bdata": "bAAAAMAEAAAkAgAAChwAANvNAQCIHgAAwhgAAIUBAAD5AwAALCQAAOQXAAANAQAAYAkAAC4HAABlNQAAPxYAAKEIAABNBwAAlAMAABtVAADqFAAAfQIAAG8/AABqMAAAJAwAAGoBAABWAQAAuigAAPsAAAAFAwAABAoAAHoxAAAyBQAAlQYAAFtoAADgJgAAOQUAAAEgAABMKwAAYwAAAH0DAAB5CgAALQEAAI0KAAAEZwAA2QwAADwVAAADAAAAfgUAAIFWAACfFwAA8AAAAMgAAAA=",
             "dtype": "i4"
            },
            "sizemode": "area",
            "sizeref": 60.1616,
            "symbol": "circle"
           },
           "mode": "markers",
           "name": "",
           "showlegend": false,
           "type": "scattergeo"
          }
         ],
         "name": "2016"
        },
        {
         "data": [
          {
           "geo": "geo",
           "hovertemplate": "<b>%{hovertext}</b><br><br>year=2017<br>patent_count=%{marker.color}<br>disambig_state=%{location}<extra></extra>",
           "hovertext": [
            "AK",
            "AL",
            "AR",
            "AZ",
            "CA",
            "CO",
            "CT",
            "DC",
            "DE",
            "FL",
            "GA",
            "GU",
            "HI",
            "IA",
            "ID",
            "IL",
            "IN",
            "KS",
            "KY",
            "LA",
            "MA",
            "MD",
            "ME",
            "MI",
            "MN",
            "MO",
            "MP",
            "MS",
            "MT",
            "NC",
            "ND",
            "NE",
            "NH",
            "NJ",
            "NM",
            "NV",
            "NY",
            "OH",
            "OK",
            "OR",
            "PA",
            "PR",
            "RI",
            "SC",
            "SD",
            "TN",
            "TX",
            "UT",
            "VA",
            "VI",
            "VT",
            "WA",
            "WI",
            "WV",
            "WY"
           ],
           "legendgroup": "",
           "locationmode": "USA-states",
           "locations": [
            "AK",
            "AL",
            "AR",
            "AZ",
            "CA",
            "CO",
            "CT",
            "DC",
            "DE",
            "FL",
            "GA",
            "GU",
            "HI",
            "IA",
            "ID",
            "IL",
            "IN",
            "KS",
            "KY",
            "LA",
            "MA",
            "MD",
            "ME",
            "MI",
            "MN",
            "MO",
            "MP",
            "MS",
            "MT",
            "NC",
            "ND",
            "NE",
            "NH",
            "NJ",
            "NM",
            "NV",
            "NY",
            "OH",
            "OK",
            "OR",
            "PA",
            "PR",
            "RI",
            "SC",
            "SD",
            "TN",
            "TX",
            "UT",
            "VA",
            "VI",
            "VT",
            "WA",
            "WI",
            "WV",
            "WY"
           ],
           "marker": {
            "color": {
             "bdata": "WAAAAKQEAABzAgAAVB0AANLmAQCKHwAAmhsAAMwBAAD+AwAAoCYAAGMZAAAEAAAA9gAAABsLAACBBgAA6jYAAPIYAADLBwAAaQcAAJ4DAAC+XAAAOBUAAL0CAAATRwAA+zQAAOYMAAACAAAAigEAAEgBAAAuKgAALgEAACcDAAA/CwAAMDUAAD0FAABTBgAAs2wAAE0rAADTBQAA3iMAAFEwAABDAAAAzQMAAAQLAABIAQAAXwsAANlrAACuDwAAThYAAAMAAAAjBQAA/l8AADEZAAApAQAAxwAAAA==",
             "dtype": "i4"
            },
            "coloraxis": "coloraxis",
            "size": {
             "bdata": "WAAAAKQEAABzAgAAVB0AANLmAQCKHwAAmhsAAMwBAAD+AwAAoCYAAGMZAAAEAAAA9gAAABsLAACBBgAA6jYAAPIYAADLBwAAaQcAAJ4DAAC+XAAAOBUAAL0CAAATRwAA+zQAAOYMAAACAAAAigEAAEgBAAAuKgAALgEAACcDAAA/CwAAMDUAAD0FAABTBgAAs2wAAE0rAADTBQAA3iMAAFEwAABDAAAAzQMAAAQLAABIAQAAXwsAANlrAACuDwAAThYAAAMAAAAjBQAA/l8AADEZAAApAQAAxwAAAA==",
             "dtype": "i4"
            },
            "sizemode": "area",
            "sizeref": 60.1616,
            "symbol": "circle"
           },
           "mode": "markers",
           "name": "",
           "showlegend": false,
           "type": "scattergeo"
          }
         ],
         "name": "2017"
        },
        {
         "data": [
          {
           "geo": "geo",
           "hovertemplate": "<b>%{hovertext}</b><br><br>year=2018<br>patent_count=%{marker.color}<br>disambig_state=%{location}<extra></extra>",
           "hovertext": [
            "AK",
            "AL",
            "AR",
            "AZ",
            "CA",
            "CO",
            "CT",
            "DC",
            "DE",
            "FL",
            "GA",
            "GU",
            "HI",
            "IA",
            "ID",
            "IL",
            "IN",
            "KS",
            "KY",
            "LA",
            "MA",
            "MD",
            "ME",
            "MI",
            "MN",
            "MO",
            "MS",
            "MT",
            "NC",
            "ND",
            "NE",
            "NH",
            "NJ",
            "NM",
            "NV",
            "NY",
            "OH",
            "OK",
            "OR",
            "PA",
            "PR",
            "RI",
            "SC",
            "SD",
            "TN",
            "TX",
            "UT",
            "VA",
            "VI",
            "VT",
            "WA",
            "WI",
            "WV",
            "WY"
           ],
           "legendgroup": "",
           "locationmode": "USA-states",
           "locations": [
            "AK",
            "AL",
            "AR",
            "AZ",
            "CA",
            "CO",
            "CT",
            "DC",
            "DE",
            "FL",
            "GA",
            "GU",
            "HI",
            "IA",
            "ID",
            "IL",
            "IN",
            "KS",
            "KY",
            "LA",
            "MA",
            "MD",
            "ME",
            "MI",
            "MN",
            "MO",
            "MS",
            "MT",
            "NC",
            "ND",
            "NE",
            "NH",
            "NJ",
            "NM",
            "NV",
            "NY",
            "OH",
            "OK",
            "OR",
            "PA",
            "PR",
            "RI",
            "SC",
            "SD",
            "TN",
            "TX",
            "UT",
            "VA",
            "VI",
            "VT",
            "WA",
            "WI",
            "WV",
            "WY"
           ],
           "marker": {
            "color": {
             "bdata": "XAAAAGIEAAB+AwAAhBsAAOfTAQBVHQAAOR4AAEACAACbAwAAxiMAAOUZAAABAAAA6AAAABYKAABKBwAA9jQAADcWAAA1BwAAvAYAAEMDAAAyWQAAqBQAANgCAADDRwAA+zAAAOQMAABtAQAAPAEAAKgpAAA8AQAA6gIAACUKAAB/LwAAOAUAAGkFAAD+ZQAArywAAGYFAACAIQAAai0AAFwAAAC9AwAAqwsAABgBAACPCwAApGwAAIwPAACJGAAAAQAAAKkEAACMWAAAKBkAADIBAADWAAAA",
             "dtype": "i4"
            },
            "coloraxis": "coloraxis",
            "size": {
             "bdata": "XAAAAGIEAAB+AwAAhBsAAOfTAQBVHQAAOR4AAEACAACbAwAAxiMAAOUZAAABAAAA6AAAABYKAABKBwAA9jQAADcWAAA1BwAAvAYAAEMDAAAyWQAAqBQAANgCAADDRwAA+zAAAOQMAABtAQAAPAEAAKgpAAA8AQAA6gIAACUKAAB/LwAAOAUAAGkFAAD+ZQAArywAAGYFAACAIQAAai0AAFwAAAC9AwAAqwsAABgBAACPCwAApGwAAIwPAACJGAAAAQAAAKkEAACMWAAAKBkAADIBAADWAAAA",
             "dtype": "i4"
            },
            "sizemode": "area",
            "sizeref": 60.1616,
            "symbol": "circle"
           },
           "mode": "markers",
           "name": "",
           "showlegend": false,
           "type": "scattergeo"
          }
         ],
         "name": "2018"
        },
        {
         "data": [
          {
           "geo": "geo",
           "hovertemplate": "<b>%{hovertext}</b><br><br>year=2019<br>patent_count=%{marker.color}<br>disambig_state=%{location}<extra></extra>",
           "hovertext": [
            "AK",
            "AL",
            "AR",
            "AZ",
            "CA",
            "CO",
            "CT",
            "DC",
            "DE",
            "FL",
            "GA",
            "GU",
            "HI",
            "IA",
            "ID",
            "IL",
            "IN",
            "KS",
            "KY",
            "LA",
            "MA",
            "MD",
            "ME",
            "MI",
            "MN",
            "MO",
            "MS",
            "MT",
            "NC",
            "ND",
            "NE",
            "NH",
            "NJ",
            "NM",
            "NV",
            "NY",
            "OH",
            "OK",
            "OR",
            "PA",
            "PR",
            "RI",
            "SC",
            "SD",
            "TN",
            "TX",
            "UT",
            "VA",
            "VI",
            "VT",
            "WA",
            "WI",
            "WV",
            "WY"
           ],
           "legendgroup": "",
           "locationmode": "USA-states",
           "locations": [
            "AK",
            "AL",
            "AR",
            "AZ",
            "CA",
            "CO",
            "CT",
            "DC",
            "DE",
            "FL",
            "GA",
            "GU",
            "HI",
            "IA",
            "ID",
            "IL",
            "IN",
            "KS",
            "KY",
            "LA",
            "MA",
            "MD",
            "ME",
            "MI",
            "MN",
            "MO",
            "MS",
            "MT",
            "NC",
            "ND",
            "NE",
            "NH",
            "NJ",
            "NM",
            "NV",
            "NY",
            "OH",
            "OK",
            "OR",
            "PA",
            "PR",
            "RI",
            "SC",
            "SD",
            "TN",
            "TX",
            "UT",
            "VA",
            "VI",
            "VT",
            "WA",
            "WI",
            "WV",
            "WY"
           ],
           "marker": {
            "color": {
             "bdata": "aAAAACoFAACqBQAA7h4AAOAwAgACIgAAkyQAACYDAABiAwAAaikAAHQdAAACAAAACwEAAJQLAACqCQAA2z8AADgaAABrBwAAGwcAAKgDAADMaAAADRoAAD8DAAACUgAArTUAADcQAADQAQAAvgEAAN8tAABlAQAAxQMAAHQMAADCNgAA2QUAAMsGAACNdAAAzjQAANMFAADiJwAA2jEAAGgAAAAmBAAAXQwAAD0BAADzCwAA44EAAOoSAAAQHgAABgAAAFsEAACwbwAAThwAAEEBAADwAAAA",
             "dtype": "i4"
            },
            "coloraxis": "coloraxis",
            "size": {
             "bdata": "aAAAACoFAACqBQAA7h4AAOAwAgACIgAAkyQAACYDAABiAwAAaikAAHQdAAACAAAACwEAAJQLAACqCQAA2z8AADgaAABrBwAAGwcAAKgDAADMaAAADRoAAD8DAAACUgAArTUAADcQAADQAQAAvgEAAN8tAABlAQAAxQMAAHQMAADCNgAA2QUAAMsGAACNdAAAzjQAANMFAADiJwAA2jEAAGgAAAAmBAAAXQwAAD0BAADzCwAA44EAAOoSAAAQHgAABgAAAFsEAACwbwAAThwAAEEBAADwAAAA",
             "dtype": "i4"
            },
            "sizemode": "area",
            "sizeref": 60.1616,
            "symbol": "circle"
           },
           "mode": "markers",
           "name": "",
           "showlegend": false,
           "type": "scattergeo"
          }
         ],
         "name": "2019"
        },
        {
         "data": [
          {
           "geo": "geo",
           "hovertemplate": "<b>%{hovertext}</b><br><br>year=2020<br>patent_count=%{marker.color}<br>disambig_state=%{location}<extra></extra>",
           "hovertext": [
            "AK",
            "AL",
            "AR",
            "AZ",
            "CA",
            "CO",
            "CT",
            "DC",
            "DE",
            "FL",
            "GA",
            "GU",
            "HI",
            "IA",
            "ID",
            "IL",
            "IN",
            "KS",
            "KY",
            "LA",
            "MA",
            "MD",
            "ME",
            "MI",
            "MN",
            "MO",
            "MS",
            "MT",
            "NC",
            "ND",
            "NE",
            "NH",
            "NJ",
            "NM",
            "NV",
            "NY",
            "OH",
            "OK",
            "OR",
            "PA",
            "PR",
            "RI",
            "SC",
            "SD",
            "TN",
            "TX",
            "UT",
            "VA",
            "VI",
            "VT",
            "WA",
            "WI",
            "WV",
            "WY"
           ],
           "legendgroup": "",
           "locationmode": "USA-states",
           "locations": [
            "AK",
            "AL",
            "AR",
            "AZ",
            "CA",
            "CO",
            "CT",
            "DC",
            "DE",
            "FL",
            "GA",
            "GU",
            "HI",
            "IA",
            "ID",
            "IL",
            "IN",
            "KS",
            "KY",
            "LA",
            "MA",
            "MD",
            "ME",
            "MI",
            "MN",
            "MO",
            "MS",
            "MT",
            "NC",
            "ND",
            "NE",
            "NH",
            "NJ",
            "NM",
            "NV",
            "NY",
            "OH",
            "OK",
            "OR",
            "PA",
            "PR",
            "RI",
            "SC",
            "SD",
            "TN",
            "TX",
            "UT",
            "VA",
            "VI",
            "VT",
            "WA",
            "WI",
            "WV",
            "WY"
           ],
           "marker": {
            "color": {
             "bdata": "ZAAAAMsEAAAPBQAASiAAAIs8AgDEIgAAziQAAD8DAAD4AwAAKioAADEfAAACAAAAFQEAAIYLAAD+CgAAVT8AAMYYAABbBwAAkQcAALgDAAB2aAAAdRoAAFgDAAAwSwAA9zUAAOoPAACbAQAAbwEAAIorAAAwAQAAagMAAPoLAAA2NwAABgUAAFUHAABpcgAANTYAAEsGAACrKAAA/zIAAGwAAAArBAAA1AwAAFcBAADoDAAA0IMAACsSAAB8HwAABQAAAEIEAACKcAAAYhwAAC8BAAD7AAAA",
             "dtype": "i4"
            },
            "coloraxis": "coloraxis",
            "size": {
             "bdata": "ZAAAAMsEAAAPBQAASiAAAIs8AgDEIgAAziQAAD8DAAD4AwAAKioAADEfAAACAAAAFQEAAIYLAAD+CgAAVT8AAMYYAABbBwAAkQcAALgDAAB2aAAAdRoAAFgDAAAwSwAA9zUAAOoPAACbAQAAbwEAAIorAAAwAQAAagMAAPoLAAA2NwAABgUAAFUHAABpcgAANTYAAEsGAACrKAAA/zIAAGwAAAArBAAA1AwAAFcBAADoDAAA0IMAACsSAAB8HwAABQAAAEIEAACKcAAAYhwAAC8BAAD7AAAA",
             "dtype": "i4"
            },
            "sizemode": "area",
            "sizeref": 60.1616,
            "symbol": "circle"
           },
           "mode": "markers",
           "name": "",
           "showlegend": false,
           "type": "scattergeo"
          }
         ],
         "name": "2020"
        },
        {
         "data": [
          {
           "geo": "geo",
           "hovertemplate": "<b>%{hovertext}</b><br><br>year=2021<br>patent_count=%{marker.color}<br>disambig_state=%{location}<extra></extra>",
           "hovertext": [
            "AK",
            "AL",
            "AR",
            "AZ",
            "CA",
            "CO",
            "CT",
            "DC",
            "DE",
            "FL",
            "GA",
            "GU",
            "HI",
            "IA",
            "ID",
            "IL",
            "IN",
            "KS",
            "KY",
            "LA",
            "MA",
            "MD",
            "ME",
            "MI",
            "MN",
            "MO",
            "MS",
            "MT",
            "NC",
            "ND",
            "NE",
            "NH",
            "NJ",
            "NM",
            "NV",
            "NY",
            "OH",
            "OK",
            "OR",
            "PA",
            "PR",
            "RI",
            "SC",
            "SD",
            "TN",
            "TX",
            "UT",
            "VA",
            "VI",
            "VT",
            "WA",
            "WI",
            "WV",
            "WY"
           ],
           "legendgroup": "",
           "locationmode": "USA-states",
           "locations": [
            "AK",
            "AL",
            "AR",
            "AZ",
            "CA",
            "CO",
            "CT",
            "DC",
            "DE",
            "FL",
            "GA",
            "GU",
            "HI",
            "IA",
            "ID",
            "IL",
            "IN",
            "KS",
            "KY",
            "LA",
            "MA",
            "MD",
            "ME",
            "MI",
            "MN",
            "MO",
            "MS",
            "MT",
            "NC",
            "ND",
            "NE",
            "NH",
            "NJ",
            "NM",
            "NV",
            "NY",
            "OH",
            "OK",
            "OR",
            "PA",
            "PR",
            "RI",
            "SC",
            "SD",
            "TN",
            "TX",
            "UT",
            "VA",
            "VI",
            "VT",
            "WA",
            "WI",
            "WV",
            "WY"
           ],
           "marker": {
            "color": {
             "bdata": "WAAAADQFAACOAwAAnx8AABIbAgCKIAAAuB0AAAsDAABhAwAAACkAAIIcAAACAAAA7gAAABcLAABZDAAAIDkAABIXAABSBwAAywYAAFkDAADpYgAAPBgAAFkDAAB+QwAAIy8AAGAOAACdAQAAtAEAAMQqAABTAQAAHgMAAAALAAArMwAAZwQAANEGAABYZgAAzTIAAKAGAAAvJwAAVDAAAHsAAAAWBAAAXQoAAHoBAAADDQAAMHwAAKoPAADgHAAAAgAAAK0DAAAwYwAA3hsAAA8BAADaAAAA",
             "dtype": "i4"
            },
            "coloraxis": "coloraxis",
            "size": {
             "bdata": "WAAAADQFAACOAwAAnx8AABIbAgCKIAAAuB0AAAsDAABhAwAAACkAAIIcAAACAAAA7gAAABcLAABZDAAAIDkAABIXAABSBwAAywYAAFkDAADpYgAAPBgAAFkDAAB+QwAAIy8AAGAOAACdAQAAtAEAAMQqAABTAQAAHgMAAAALAAArMwAAZwQAANEGAABYZgAAzTIAAKAGAAAvJwAAVDAAAHsAAAAWBAAAXQoAAHoBAAADDQAAMHwAAKoPAADgHAAAAgAAAK0DAAAwYwAA3hsAAA8BAADaAAAA",
             "dtype": "i4"
            },
            "sizemode": "area",
            "sizeref": 60.1616,
            "symbol": "circle"
           },
           "mode": "markers",
           "name": "",
           "showlegend": false,
           "type": "scattergeo"
          }
         ],
         "name": "2021"
        },
        {
         "data": [
          {
           "geo": "geo",
           "hovertemplate": "<b>%{hovertext}</b><br><br>year=2022<br>patent_count=%{marker.color}<br>disambig_state=%{location}<extra></extra>",
           "hovertext": [
            "AK",
            "AL",
            "AR",
            "AZ",
            "CA",
            "CO",
            "CT",
            "DC",
            "DE",
            "FL",
            "GA",
            "HI",
            "IA",
            "ID",
            "IL",
            "IN",
            "KS",
            "KY",
            "LA",
            "MA",
            "MD",
            "ME",
            "MI",
            "MN",
            "MO",
            "MS",
            "MT",
            "NC",
            "ND",
            "NE",
            "NH",
            "NJ",
            "NM",
            "NV",
            "NY",
            "OH",
            "OK",
            "OR",
            "PA",
            "PR",
            "RI",
            "SC",
            "SD",
            "TN",
            "TX",
            "UT",
            "VA",
            "VI",
            "VT",
            "WA",
            "WI",
            "WV",
            "WY"
           ],
           "legendgroup": "",
           "locationmode": "USA-states",
           "locations": [
            "AK",
            "AL",
            "AR",
            "AZ",
            "CA",
            "CO",
            "CT",
            "DC",
            "DE",
            "FL",
            "GA",
            "HI",
            "IA",
            "ID",
            "IL",
            "IN",
            "KS",
            "KY",
            "LA",
            "MA",
            "MD",
            "ME",
            "MI",
            "MN",
            "MO",
            "MS",
            "MT",
            "NC",
            "ND",
            "NE",
            "NH",
            "NJ",
            "NM",
            "NV",
            "NY",
            "OH",
            "OK",
            "OR",
            "PA",
            "PR",
            "RI",
            "SC",
            "SD",
            "TN",
            "TX",
            "UT",
            "VA",
            "VI",
            "VT",
            "WA",
            "WI",
            "WV",
            "WY"
           ],
           "marker": {
            "color": {
             "bdata": "WAAAAJYEAAAFAwAAlx0AAGYSAgBGIAAAIhwAAPQCAACJAwAAvicAANkZAAAaAQAA9AoAAK4MAADiNAAAxxQAADEHAACkBgAAEgMAAAdeAACaFQAAugIAAMQ8AACMLAAAjAwAAJABAAAJAgAA2CcAAB8BAADoAgAANQoAABIwAACqBAAAiwYAAKZTAADSLgAAdgYAAEUoAADKMAAAXwAAAIoDAADtCQAAGQEAAEwNAAD9eQAAvA4AAH4fAAAFAAAAZwMAAAZcAACBHAAA1gAAANAAAAA=",
             "dtype": "i4"
            },
            "coloraxis": "coloraxis",
            "size": {
             "bdata": "WAAAAJYEAAAFAwAAlx0AAGYSAgBGIAAAIhwAAPQCAACJAwAAvicAANkZAAAaAQAA9AoAAK4MAADiNAAAxxQAADEHAACkBgAAEgMAAAdeAACaFQAAugIAAMQ8AACMLAAAjAwAAJABAAAJAgAA2CcAAB8BAADoAgAANQoAABIwAACqBAAAiwYAAKZTAADSLgAAdgYAAEUoAADKMAAAXwAAAIoDAADtCQAAGQEAAEwNAAD9eQAAvA4AAH4fAAAFAAAAZwMAAAZcAACBHAAA1gAAANAAAAA=",
             "dtype": "i4"
            },
            "sizemode": "area",
            "sizeref": 60.1616,
            "symbol": "circle"
           },
           "mode": "markers",
           "name": "",
           "showlegend": false,
           "type": "scattergeo"
          }
         ],
         "name": "2022"
        },
        {
         "data": [
          {
           "geo": "geo",
           "hovertemplate": "<b>%{hovertext}</b><br><br>year=2023<br>patent_count=%{marker.color}<br>disambig_state=%{location}<extra></extra>",
           "hovertext": [
            "AK",
            "AL",
            "AR",
            "AZ",
            "CA",
            "CO",
            "CT",
            "DC",
            "DE",
            "FL",
            "GA",
            "HI",
            "IA",
            "ID",
            "IL",
            "IN",
            "KS",
            "KY",
            "LA",
            "MA",
            "MD",
            "ME",
            "MI",
            "MN",
            "MO",
            "MS",
            "MT",
            "NC",
            "ND",
            "NE",
            "NH",
            "NJ",
            "NM",
            "NV",
            "NY",
            "OH",
            "OK",
            "OR",
            "PA",
            "PR",
            "RI",
            "SC",
            "SD",
            "TN",
            "TX",
            "UT",
            "VA",
            "VI",
            "VT",
            "WA",
            "WI",
            "WV",
            "WY"
           ],
           "legendgroup": "",
           "locationmode": "USA-states",
           "locations": [
            "AK",
            "AL",
            "AR",
            "AZ",
            "CA",
            "CO",
            "CT",
            "DC",
            "DE",
            "FL",
            "GA",
            "HI",
            "IA",
            "ID",
            "IL",
            "IN",
            "KS",
            "KY",
            "LA",
            "MA",
            "MD",
            "ME",
            "MI",
            "MN",
            "MO",
            "MS",
            "MT",
            "NC",
            "ND",
            "NE",
            "NH",
            "NJ",
            "NM",
            "NV",
            "NY",
            "OH",
            "OK",
            "OR",
            "PA",
            "PR",
            "RI",
            "SC",
            "SD",
            "TN",
            "TX",
            "UT",
            "VA",
            "VI",
            "VT",
            "WA",
            "WI",
            "WV",
            "WY"
           ],
           "marker": {
            "color": {
             "bdata": "TAAAALcEAACsAwAAKR8AAIRLAgD/IwAAXRoAAJADAACdAwAA5ykAAJMaAAAZAQAAJQsAABYOAACtOAAA5BQAADoHAADVBgAATgMAAANkAACgFgAAsgEAAGJAAADKLQAAVA0AAK4BAAAOAgAA9ScAAIQBAADdAgAANgsAAEMyAAAIBQAAxQcAAG5SAACELwAAtwUAACEoAAAcMQAAdQAAABoEAAB5CgAAQwEAAGYNAACafAAANhAAAIgkAAAOAAAASgQAAI5YAAB6HgAA2AAAAOEAAAA=",
             "dtype": "i4"
            },
            "coloraxis": "coloraxis",
            "size": {
             "bdata": "TAAAALcEAACsAwAAKR8AAIRLAgD/IwAAXRoAAJADAACdAwAA5ykAAJMaAAAZAQAAJQsAABYOAACtOAAA5BQAADoHAADVBgAATgMAAANkAACgFgAAsgEAAGJAAADKLQAAVA0AAK4BAAAOAgAA9ScAAIQBAADdAgAANgsAAEMyAAAIBQAAxQcAAG5SAACELwAAtwUAACEoAAAcMQAAdQAAABoEAAB5CgAAQwEAAGYNAACafAAANhAAAIgkAAAOAAAASgQAAI5YAAB6HgAA2AAAAOEAAAA=",
             "dtype": "i4"
            },
            "sizemode": "area",
            "sizeref": 60.1616,
            "symbol": "circle"
           },
           "mode": "markers",
           "name": "",
           "showlegend": false,
           "type": "scattergeo"
          }
         ],
         "name": "2023"
        }
       ],
       "layout": {
        "coloraxis": {
         "colorbar": {
          "title": {
           "text": "patent_count"
          }
         },
         "colorscale": [
          [
           0,
           "#0d0887"
          ],
          [
           0.1111111111111111,
           "#46039f"
          ],
          [
           0.2222222222222222,
           "#7201a8"
          ],
          [
           0.3333333333333333,
           "#9c179e"
          ],
          [
           0.4444444444444444,
           "#bd3786"
          ],
          [
           0.5555555555555556,
           "#d8576b"
          ],
          [
           0.6666666666666666,
           "#ed7953"
          ],
          [
           0.7777777777777778,
           "#fb9f3a"
          ],
          [
           0.8888888888888888,
           "#fdca26"
          ],
          [
           1,
           "#f0f921"
          ]
         ]
        },
        "geo": {
         "center": {},
         "domain": {
          "x": [
           0,
           1
          ],
          "y": [
           0,
           1
          ]
         },
         "scope": "usa"
        },
        "legend": {
         "itemsizing": "constant",
         "tracegroupgap": 0
        },
        "sliders": [
         {
          "active": 0,
          "currentvalue": {
           "prefix": "year="
          },
          "len": 0.9,
          "pad": {
           "b": 10,
           "t": 60
          },
          "steps": [
           {
            "args": [
             [
              "1976"
             ],
             {
              "frame": {
               "duration": 0,
               "redraw": true
              },
              "fromcurrent": true,
              "mode": "immediate",
              "transition": {
               "duration": 0,
               "easing": "linear"
              }
             }
            ],
            "label": "1976",
            "method": "animate"
           },
           {
            "args": [
             [
              "1977"
             ],
             {
              "frame": {
               "duration": 0,
               "redraw": true
              },
              "fromcurrent": true,
              "mode": "immediate",
              "transition": {
               "duration": 0,
               "easing": "linear"
              }
             }
            ],
            "label": "1977",
            "method": "animate"
           },
           {
            "args": [
             [
              "1978"
             ],
             {
              "frame": {
               "duration": 0,
               "redraw": true
              },
              "fromcurrent": true,
              "mode": "immediate",
              "transition": {
               "duration": 0,
               "easing": "linear"
              }
             }
            ],
            "label": "1978",
            "method": "animate"
           },
           {
            "args": [
             [
              "1979"
             ],
             {
              "frame": {
               "duration": 0,
               "redraw": true
              },
              "fromcurrent": true,
              "mode": "immediate",
              "transition": {
               "duration": 0,
               "easing": "linear"
              }
             }
            ],
            "label": "1979",
            "method": "animate"
           },
           {
            "args": [
             [
              "1980"
             ],
             {
              "frame": {
               "duration": 0,
               "redraw": true
              },
              "fromcurrent": true,
              "mode": "immediate",
              "transition": {
               "duration": 0,
               "easing": "linear"
              }
             }
            ],
            "label": "1980",
            "method": "animate"
           },
           {
            "args": [
             [
              "1981"
             ],
             {
              "frame": {
               "duration": 0,
               "redraw": true
              },
              "fromcurrent": true,
              "mode": "immediate",
              "transition": {
               "duration": 0,
               "easing": "linear"
              }
             }
            ],
            "label": "1981",
            "method": "animate"
           },
           {
            "args": [
             [
              "1982"
             ],
             {
              "frame": {
               "duration": 0,
               "redraw": true
              },
              "fromcurrent": true,
              "mode": "immediate",
              "transition": {
               "duration": 0,
               "easing": "linear"
              }
             }
            ],
            "label": "1982",
            "method": "animate"
           },
           {
            "args": [
             [
              "1983"
             ],
             {
              "frame": {
               "duration": 0,
               "redraw": true
              },
              "fromcurrent": true,
              "mode": "immediate",
              "transition": {
               "duration": 0,
               "easing": "linear"
              }
             }
            ],
            "label": "1983",
            "method": "animate"
           },
           {
            "args": [
             [
              "1984"
             ],
             {
              "frame": {
               "duration": 0,
               "redraw": true
              },
              "fromcurrent": true,
              "mode": "immediate",
              "transition": {
               "duration": 0,
               "easing": "linear"
              }
             }
            ],
            "label": "1984",
            "method": "animate"
           },
           {
            "args": [
             [
              "1985"
             ],
             {
              "frame": {
               "duration": 0,
               "redraw": true
              },
              "fromcurrent": true,
              "mode": "immediate",
              "transition": {
               "duration": 0,
               "easing": "linear"
              }
             }
            ],
            "label": "1985",
            "method": "animate"
           },
           {
            "args": [
             [
              "1986"
             ],
             {
              "frame": {
               "duration": 0,
               "redraw": true
              },
              "fromcurrent": true,
              "mode": "immediate",
              "transition": {
               "duration": 0,
               "easing": "linear"
              }
             }
            ],
            "label": "1986",
            "method": "animate"
           },
           {
            "args": [
             [
              "1987"
             ],
             {
              "frame": {
               "duration": 0,
               "redraw": true
              },
              "fromcurrent": true,
              "mode": "immediate",
              "transition": {
               "duration": 0,
               "easing": "linear"
              }
             }
            ],
            "label": "1987",
            "method": "animate"
           },
           {
            "args": [
             [
              "1988"
             ],
             {
              "frame": {
               "duration": 0,
               "redraw": true
              },
              "fromcurrent": true,
              "mode": "immediate",
              "transition": {
               "duration": 0,
               "easing": "linear"
              }
             }
            ],
            "label": "1988",
            "method": "animate"
           },
           {
            "args": [
             [
              "1989"
             ],
             {
              "frame": {
               "duration": 0,
               "redraw": true
              },
              "fromcurrent": true,
              "mode": "immediate",
              "transition": {
               "duration": 0,
               "easing": "linear"
              }
             }
            ],
            "label": "1989",
            "method": "animate"
           },
           {
            "args": [
             [
              "1990"
             ],
             {
              "frame": {
               "duration": 0,
               "redraw": true
              },
              "fromcurrent": true,
              "mode": "immediate",
              "transition": {
               "duration": 0,
               "easing": "linear"
              }
             }
            ],
            "label": "1990",
            "method": "animate"
           },
           {
            "args": [
             [
              "1991"
             ],
             {
              "frame": {
               "duration": 0,
               "redraw": true
              },
              "fromcurrent": true,
              "mode": "immediate",
              "transition": {
               "duration": 0,
               "easing": "linear"
              }
             }
            ],
            "label": "1991",
            "method": "animate"
           },
           {
            "args": [
             [
              "1992"
             ],
             {
              "frame": {
               "duration": 0,
               "redraw": true
              },
              "fromcurrent": true,
              "mode": "immediate",
              "transition": {
               "duration": 0,
               "easing": "linear"
              }
             }
            ],
            "label": "1992",
            "method": "animate"
           },
           {
            "args": [
             [
              "1993"
             ],
             {
              "frame": {
               "duration": 0,
               "redraw": true
              },
              "fromcurrent": true,
              "mode": "immediate",
              "transition": {
               "duration": 0,
               "easing": "linear"
              }
             }
            ],
            "label": "1993",
            "method": "animate"
           },
           {
            "args": [
             [
              "1994"
             ],
             {
              "frame": {
               "duration": 0,
               "redraw": true
              },
              "fromcurrent": true,
              "mode": "immediate",
              "transition": {
               "duration": 0,
               "easing": "linear"
              }
             }
            ],
            "label": "1994",
            "method": "animate"
           },
           {
            "args": [
             [
              "1995"
             ],
             {
              "frame": {
               "duration": 0,
               "redraw": true
              },
              "fromcurrent": true,
              "mode": "immediate",
              "transition": {
               "duration": 0,
               "easing": "linear"
              }
             }
            ],
            "label": "1995",
            "method": "animate"
           },
           {
            "args": [
             [
              "1996"
             ],
             {
              "frame": {
               "duration": 0,
               "redraw": true
              },
              "fromcurrent": true,
              "mode": "immediate",
              "transition": {
               "duration": 0,
               "easing": "linear"
              }
             }
            ],
            "label": "1996",
            "method": "animate"
           },
           {
            "args": [
             [
              "1997"
             ],
             {
              "frame": {
               "duration": 0,
               "redraw": true
              },
              "fromcurrent": true,
              "mode": "immediate",
              "transition": {
               "duration": 0,
               "easing": "linear"
              }
             }
            ],
            "label": "1997",
            "method": "animate"
           },
           {
            "args": [
             [
              "1998"
             ],
             {
              "frame": {
               "duration": 0,
               "redraw": true
              },
              "fromcurrent": true,
              "mode": "immediate",
              "transition": {
               "duration": 0,
               "easing": "linear"
              }
             }
            ],
            "label": "1998",
            "method": "animate"
           },
           {
            "args": [
             [
              "1999"
             ],
             {
              "frame": {
               "duration": 0,
               "redraw": true
              },
              "fromcurrent": true,
              "mode": "immediate",
              "transition": {
               "duration": 0,
               "easing": "linear"
              }
             }
            ],
            "label": "1999",
            "method": "animate"
           },
           {
            "args": [
             [
              "2000"
             ],
             {
              "frame": {
               "duration": 0,
               "redraw": true
              },
              "fromcurrent": true,
              "mode": "immediate",
              "transition": {
               "duration": 0,
               "easing": "linear"
              }
             }
            ],
            "label": "2000",
            "method": "animate"
           },
           {
            "args": [
             [
              "2001"
             ],
             {
              "frame": {
               "duration": 0,
               "redraw": true
              },
              "fromcurrent": true,
              "mode": "immediate",
              "transition": {
               "duration": 0,
               "easing": "linear"
              }
             }
            ],
            "label": "2001",
            "method": "animate"
           },
           {
            "args": [
             [
              "2002"
             ],
             {
              "frame": {
               "duration": 0,
               "redraw": true
              },
              "fromcurrent": true,
              "mode": "immediate",
              "transition": {
               "duration": 0,
               "easing": "linear"
              }
             }
            ],
            "label": "2002",
            "method": "animate"
           },
           {
            "args": [
             [
              "2003"
             ],
             {
              "frame": {
               "duration": 0,
               "redraw": true
              },
              "fromcurrent": true,
              "mode": "immediate",
              "transition": {
               "duration": 0,
               "easing": "linear"
              }
             }
            ],
            "label": "2003",
            "method": "animate"
           },
           {
            "args": [
             [
              "2004"
             ],
             {
              "frame": {
               "duration": 0,
               "redraw": true
              },
              "fromcurrent": true,
              "mode": "immediate",
              "transition": {
               "duration": 0,
               "easing": "linear"
              }
             }
            ],
            "label": "2004",
            "method": "animate"
           },
           {
            "args": [
             [
              "2005"
             ],
             {
              "frame": {
               "duration": 0,
               "redraw": true
              },
              "fromcurrent": true,
              "mode": "immediate",
              "transition": {
               "duration": 0,
               "easing": "linear"
              }
             }
            ],
            "label": "2005",
            "method": "animate"
           },
           {
            "args": [
             [
              "2006"
             ],
             {
              "frame": {
               "duration": 0,
               "redraw": true
              },
              "fromcurrent": true,
              "mode": "immediate",
              "transition": {
               "duration": 0,
               "easing": "linear"
              }
             }
            ],
            "label": "2006",
            "method": "animate"
           },
           {
            "args": [
             [
              "2007"
             ],
             {
              "frame": {
               "duration": 0,
               "redraw": true
              },
              "fromcurrent": true,
              "mode": "immediate",
              "transition": {
               "duration": 0,
               "easing": "linear"
              }
             }
            ],
            "label": "2007",
            "method": "animate"
           },
           {
            "args": [
             [
              "2008"
             ],
             {
              "frame": {
               "duration": 0,
               "redraw": true
              },
              "fromcurrent": true,
              "mode": "immediate",
              "transition": {
               "duration": 0,
               "easing": "linear"
              }
             }
            ],
            "label": "2008",
            "method": "animate"
           },
           {
            "args": [
             [
              "2009"
             ],
             {
              "frame": {
               "duration": 0,
               "redraw": true
              },
              "fromcurrent": true,
              "mode": "immediate",
              "transition": {
               "duration": 0,
               "easing": "linear"
              }
             }
            ],
            "label": "2009",
            "method": "animate"
           },
           {
            "args": [
             [
              "2010"
             ],
             {
              "frame": {
               "duration": 0,
               "redraw": true
              },
              "fromcurrent": true,
              "mode": "immediate",
              "transition": {
               "duration": 0,
               "easing": "linear"
              }
             }
            ],
            "label": "2010",
            "method": "animate"
           },
           {
            "args": [
             [
              "2011"
             ],
             {
              "frame": {
               "duration": 0,
               "redraw": true
              },
              "fromcurrent": true,
              "mode": "immediate",
              "transition": {
               "duration": 0,
               "easing": "linear"
              }
             }
            ],
            "label": "2011",
            "method": "animate"
           },
           {
            "args": [
             [
              "2012"
             ],
             {
              "frame": {
               "duration": 0,
               "redraw": true
              },
              "fromcurrent": true,
              "mode": "immediate",
              "transition": {
               "duration": 0,
               "easing": "linear"
              }
             }
            ],
            "label": "2012",
            "method": "animate"
           },
           {
            "args": [
             [
              "2013"
             ],
             {
              "frame": {
               "duration": 0,
               "redraw": true
              },
              "fromcurrent": true,
              "mode": "immediate",
              "transition": {
               "duration": 0,
               "easing": "linear"
              }
             }
            ],
            "label": "2013",
            "method": "animate"
           },
           {
            "args": [
             [
              "2014"
             ],
             {
              "frame": {
               "duration": 0,
               "redraw": true
              },
              "fromcurrent": true,
              "mode": "immediate",
              "transition": {
               "duration": 0,
               "easing": "linear"
              }
             }
            ],
            "label": "2014",
            "method": "animate"
           },
           {
            "args": [
             [
              "2015"
             ],
             {
              "frame": {
               "duration": 0,
               "redraw": true
              },
              "fromcurrent": true,
              "mode": "immediate",
              "transition": {
               "duration": 0,
               "easing": "linear"
              }
             }
            ],
            "label": "2015",
            "method": "animate"
           },
           {
            "args": [
             [
              "2016"
             ],
             {
              "frame": {
               "duration": 0,
               "redraw": true
              },
              "fromcurrent": true,
              "mode": "immediate",
              "transition": {
               "duration": 0,
               "easing": "linear"
              }
             }
            ],
            "label": "2016",
            "method": "animate"
           },
           {
            "args": [
             [
              "2017"
             ],
             {
              "frame": {
               "duration": 0,
               "redraw": true
              },
              "fromcurrent": true,
              "mode": "immediate",
              "transition": {
               "duration": 0,
               "easing": "linear"
              }
             }
            ],
            "label": "2017",
            "method": "animate"
           },
           {
            "args": [
             [
              "2018"
             ],
             {
              "frame": {
               "duration": 0,
               "redraw": true
              },
              "fromcurrent": true,
              "mode": "immediate",
              "transition": {
               "duration": 0,
               "easing": "linear"
              }
             }
            ],
            "label": "2018",
            "method": "animate"
           },
           {
            "args": [
             [
              "2019"
             ],
             {
              "frame": {
               "duration": 0,
               "redraw": true
              },
              "fromcurrent": true,
              "mode": "immediate",
              "transition": {
               "duration": 0,
               "easing": "linear"
              }
             }
            ],
            "label": "2019",
            "method": "animate"
           },
           {
            "args": [
             [
              "2020"
             ],
             {
              "frame": {
               "duration": 0,
               "redraw": true
              },
              "fromcurrent": true,
              "mode": "immediate",
              "transition": {
               "duration": 0,
               "easing": "linear"
              }
             }
            ],
            "label": "2020",
            "method": "animate"
           },
           {
            "args": [
             [
              "2021"
             ],
             {
              "frame": {
               "duration": 0,
               "redraw": true
              },
              "fromcurrent": true,
              "mode": "immediate",
              "transition": {
               "duration": 0,
               "easing": "linear"
              }
             }
            ],
            "label": "2021",
            "method": "animate"
           },
           {
            "args": [
             [
              "2022"
             ],
             {
              "frame": {
               "duration": 0,
               "redraw": true
              },
              "fromcurrent": true,
              "mode": "immediate",
              "transition": {
               "duration": 0,
               "easing": "linear"
              }
             }
            ],
            "label": "2022",
            "method": "animate"
           },
           {
            "args": [
             [
              "2023"
             ],
             {
              "frame": {
               "duration": 0,
               "redraw": true
              },
              "fromcurrent": true,
              "mode": "immediate",
              "transition": {
               "duration": 0,
               "easing": "linear"
              }
             }
            ],
            "label": "2023",
            "method": "animate"
           }
          ],
          "x": 0.1,
          "xanchor": "left",
          "y": 0,
          "yanchor": "top"
         }
        ],
        "template": {
         "data": {
          "bar": [
           {
            "error_x": {
             "color": "#2a3f5f"
            },
            "error_y": {
             "color": "#2a3f5f"
            },
            "marker": {
             "line": {
              "color": "#E5ECF6",
              "width": 0.5
             },
             "pattern": {
              "fillmode": "overlay",
              "size": 10,
              "solidity": 0.2
             }
            },
            "type": "bar"
           }
          ],
          "barpolar": [
           {
            "marker": {
             "line": {
              "color": "#E5ECF6",
              "width": 0.5
             },
             "pattern": {
              "fillmode": "overlay",
              "size": 10,
              "solidity": 0.2
             }
            },
            "type": "barpolar"
           }
          ],
          "carpet": [
           {
            "aaxis": {
             "endlinecolor": "#2a3f5f",
             "gridcolor": "white",
             "linecolor": "white",
             "minorgridcolor": "white",
             "startlinecolor": "#2a3f5f"
            },
            "baxis": {
             "endlinecolor": "#2a3f5f",
             "gridcolor": "white",
             "linecolor": "white",
             "minorgridcolor": "white",
             "startlinecolor": "#2a3f5f"
            },
            "type": "carpet"
           }
          ],
          "choropleth": [
           {
            "colorbar": {
             "outlinewidth": 0,
             "ticks": ""
            },
            "type": "choropleth"
           }
          ],
          "contour": [
           {
            "colorbar": {
             "outlinewidth": 0,
             "ticks": ""
            },
            "colorscale": [
             [
              0,
              "#0d0887"
             ],
             [
              0.1111111111111111,
              "#46039f"
             ],
             [
              0.2222222222222222,
              "#7201a8"
             ],
             [
              0.3333333333333333,
              "#9c179e"
             ],
             [
              0.4444444444444444,
              "#bd3786"
             ],
             [
              0.5555555555555556,
              "#d8576b"
             ],
             [
              0.6666666666666666,
              "#ed7953"
             ],
             [
              0.7777777777777778,
              "#fb9f3a"
             ],
             [
              0.8888888888888888,
              "#fdca26"
             ],
             [
              1,
              "#f0f921"
             ]
            ],
            "type": "contour"
           }
          ],
          "contourcarpet": [
           {
            "colorbar": {
             "outlinewidth": 0,
             "ticks": ""
            },
            "type": "contourcarpet"
           }
          ],
          "heatmap": [
           {
            "colorbar": {
             "outlinewidth": 0,
             "ticks": ""
            },
            "colorscale": [
             [
              0,
              "#0d0887"
             ],
             [
              0.1111111111111111,
              "#46039f"
             ],
             [
              0.2222222222222222,
              "#7201a8"
             ],
             [
              0.3333333333333333,
              "#9c179e"
             ],
             [
              0.4444444444444444,
              "#bd3786"
             ],
             [
              0.5555555555555556,
              "#d8576b"
             ],
             [
              0.6666666666666666,
              "#ed7953"
             ],
             [
              0.7777777777777778,
              "#fb9f3a"
             ],
             [
              0.8888888888888888,
              "#fdca26"
             ],
             [
              1,
              "#f0f921"
             ]
            ],
            "type": "heatmap"
           }
          ],
          "histogram": [
           {
            "marker": {
             "pattern": {
              "fillmode": "overlay",
              "size": 10,
              "solidity": 0.2
             }
            },
            "type": "histogram"
           }
          ],
          "histogram2d": [
           {
            "colorbar": {
             "outlinewidth": 0,
             "ticks": ""
            },
            "colorscale": [
             [
              0,
              "#0d0887"
             ],
             [
              0.1111111111111111,
              "#46039f"
             ],
             [
              0.2222222222222222,
              "#7201a8"
             ],
             [
              0.3333333333333333,
              "#9c179e"
             ],
             [
              0.4444444444444444,
              "#bd3786"
             ],
             [
              0.5555555555555556,
              "#d8576b"
             ],
             [
              0.6666666666666666,
              "#ed7953"
             ],
             [
              0.7777777777777778,
              "#fb9f3a"
             ],
             [
              0.8888888888888888,
              "#fdca26"
             ],
             [
              1,
              "#f0f921"
             ]
            ],
            "type": "histogram2d"
           }
          ],
          "histogram2dcontour": [
           {
            "colorbar": {
             "outlinewidth": 0,
             "ticks": ""
            },
            "colorscale": [
             [
              0,
              "#0d0887"
             ],
             [
              0.1111111111111111,
              "#46039f"
             ],
             [
              0.2222222222222222,
              "#7201a8"
             ],
             [
              0.3333333333333333,
              "#9c179e"
             ],
             [
              0.4444444444444444,
              "#bd3786"
             ],
             [
              0.5555555555555556,
              "#d8576b"
             ],
             [
              0.6666666666666666,
              "#ed7953"
             ],
             [
              0.7777777777777778,
              "#fb9f3a"
             ],
             [
              0.8888888888888888,
              "#fdca26"
             ],
             [
              1,
              "#f0f921"
             ]
            ],
            "type": "histogram2dcontour"
           }
          ],
          "mesh3d": [
           {
            "colorbar": {
             "outlinewidth": 0,
             "ticks": ""
            },
            "type": "mesh3d"
           }
          ],
          "parcoords": [
           {
            "line": {
             "colorbar": {
              "outlinewidth": 0,
              "ticks": ""
             }
            },
            "type": "parcoords"
           }
          ],
          "pie": [
           {
            "automargin": true,
            "type": "pie"
           }
          ],
          "scatter": [
           {
            "fillpattern": {
             "fillmode": "overlay",
             "size": 10,
             "solidity": 0.2
            },
            "type": "scatter"
           }
          ],
          "scatter3d": [
           {
            "line": {
             "colorbar": {
              "outlinewidth": 0,
              "ticks": ""
             }
            },
            "marker": {
             "colorbar": {
              "outlinewidth": 0,
              "ticks": ""
             }
            },
            "type": "scatter3d"
           }
          ],
          "scattercarpet": [
           {
            "marker": {
             "colorbar": {
              "outlinewidth": 0,
              "ticks": ""
             }
            },
            "type": "scattercarpet"
           }
          ],
          "scattergeo": [
           {
            "marker": {
             "colorbar": {
              "outlinewidth": 0,
              "ticks": ""
             }
            },
            "type": "scattergeo"
           }
          ],
          "scattergl": [
           {
            "marker": {
             "colorbar": {
              "outlinewidth": 0,
              "ticks": ""
             }
            },
            "type": "scattergl"
           }
          ],
          "scattermap": [
           {
            "marker": {
             "colorbar": {
              "outlinewidth": 0,
              "ticks": ""
             }
            },
            "type": "scattermap"
           }
          ],
          "scattermapbox": [
           {
            "marker": {
             "colorbar": {
              "outlinewidth": 0,
              "ticks": ""
             }
            },
            "type": "scattermapbox"
           }
          ],
          "scatterpolar": [
           {
            "marker": {
             "colorbar": {
              "outlinewidth": 0,
              "ticks": ""
             }
            },
            "type": "scatterpolar"
           }
          ],
          "scatterpolargl": [
           {
            "marker": {
             "colorbar": {
              "outlinewidth": 0,
              "ticks": ""
             }
            },
            "type": "scatterpolargl"
           }
          ],
          "scatterternary": [
           {
            "marker": {
             "colorbar": {
              "outlinewidth": 0,
              "ticks": ""
             }
            },
            "type": "scatterternary"
           }
          ],
          "surface": [
           {
            "colorbar": {
             "outlinewidth": 0,
             "ticks": ""
            },
            "colorscale": [
             [
              0,
              "#0d0887"
             ],
             [
              0.1111111111111111,
              "#46039f"
             ],
             [
              0.2222222222222222,
              "#7201a8"
             ],
             [
              0.3333333333333333,
              "#9c179e"
             ],
             [
              0.4444444444444444,
              "#bd3786"
             ],
             [
              0.5555555555555556,
              "#d8576b"
             ],
             [
              0.6666666666666666,
              "#ed7953"
             ],
             [
              0.7777777777777778,
              "#fb9f3a"
             ],
             [
              0.8888888888888888,
              "#fdca26"
             ],
             [
              1,
              "#f0f921"
             ]
            ],
            "type": "surface"
           }
          ],
          "table": [
           {
            "cells": {
             "fill": {
              "color": "#EBF0F8"
             },
             "line": {
              "color": "white"
             }
            },
            "header": {
             "fill": {
              "color": "#C8D4E3"
             },
             "line": {
              "color": "white"
             }
            },
            "type": "table"
           }
          ]
         },
         "layout": {
          "annotationdefaults": {
           "arrowcolor": "#2a3f5f",
           "arrowhead": 0,
           "arrowwidth": 1
          },
          "autotypenumbers": "strict",
          "coloraxis": {
           "colorbar": {
            "outlinewidth": 0,
            "ticks": ""
           }
          },
          "colorscale": {
           "diverging": [
            [
             0,
             "#8e0152"
            ],
            [
             0.1,
             "#c51b7d"
            ],
            [
             0.2,
             "#de77ae"
            ],
            [
             0.3,
             "#f1b6da"
            ],
            [
             0.4,
             "#fde0ef"
            ],
            [
             0.5,
             "#f7f7f7"
            ],
            [
             0.6,
             "#e6f5d0"
            ],
            [
             0.7,
             "#b8e186"
            ],
            [
             0.8,
             "#7fbc41"
            ],
            [
             0.9,
             "#4d9221"
            ],
            [
             1,
             "#276419"
            ]
           ],
           "sequential": [
            [
             0,
             "#0d0887"
            ],
            [
             0.1111111111111111,
             "#46039f"
            ],
            [
             0.2222222222222222,
             "#7201a8"
            ],
            [
             0.3333333333333333,
             "#9c179e"
            ],
            [
             0.4444444444444444,
             "#bd3786"
            ],
            [
             0.5555555555555556,
             "#d8576b"
            ],
            [
             0.6666666666666666,
             "#ed7953"
            ],
            [
             0.7777777777777778,
             "#fb9f3a"
            ],
            [
             0.8888888888888888,
             "#fdca26"
            ],
            [
             1,
             "#f0f921"
            ]
           ],
           "sequentialminus": [
            [
             0,
             "#0d0887"
            ],
            [
             0.1111111111111111,
             "#46039f"
            ],
            [
             0.2222222222222222,
             "#7201a8"
            ],
            [
             0.3333333333333333,
             "#9c179e"
            ],
            [
             0.4444444444444444,
             "#bd3786"
            ],
            [
             0.5555555555555556,
             "#d8576b"
            ],
            [
             0.6666666666666666,
             "#ed7953"
            ],
            [
             0.7777777777777778,
             "#fb9f3a"
            ],
            [
             0.8888888888888888,
             "#fdca26"
            ],
            [
             1,
             "#f0f921"
            ]
           ]
          },
          "colorway": [
           "#636efa",
           "#EF553B",
           "#00cc96",
           "#ab63fa",
           "#FFA15A",
           "#19d3f3",
           "#FF6692",
           "#B6E880",
           "#FF97FF",
           "#FECB52"
          ],
          "font": {
           "color": "#2a3f5f"
          },
          "geo": {
           "bgcolor": "white",
           "lakecolor": "white",
           "landcolor": "#E5ECF6",
           "showlakes": true,
           "showland": true,
           "subunitcolor": "white"
          },
          "hoverlabel": {
           "align": "left"
          },
          "hovermode": "closest",
          "mapbox": {
           "style": "light"
          },
          "paper_bgcolor": "white",
          "plot_bgcolor": "#E5ECF6",
          "polar": {
           "angularaxis": {
            "gridcolor": "white",
            "linecolor": "white",
            "ticks": ""
           },
           "bgcolor": "#E5ECF6",
           "radialaxis": {
            "gridcolor": "white",
            "linecolor": "white",
            "ticks": ""
           }
          },
          "scene": {
           "xaxis": {
            "backgroundcolor": "#E5ECF6",
            "gridcolor": "white",
            "gridwidth": 2,
            "linecolor": "white",
            "showbackground": true,
            "ticks": "",
            "zerolinecolor": "white"
           },
           "yaxis": {
            "backgroundcolor": "#E5ECF6",
            "gridcolor": "white",
            "gridwidth": 2,
            "linecolor": "white",
            "showbackground": true,
            "ticks": "",
            "zerolinecolor": "white"
           },
           "zaxis": {
            "backgroundcolor": "#E5ECF6",
            "gridcolor": "white",
            "gridwidth": 2,
            "linecolor": "white",
            "showbackground": true,
            "ticks": "",
            "zerolinecolor": "white"
           }
          },
          "shapedefaults": {
           "line": {
            "color": "#2a3f5f"
           }
          },
          "ternary": {
           "aaxis": {
            "gridcolor": "white",
            "linecolor": "white",
            "ticks": ""
           },
           "baxis": {
            "gridcolor": "white",
            "linecolor": "white",
            "ticks": ""
           },
           "bgcolor": "#E5ECF6",
           "caxis": {
            "gridcolor": "white",
            "linecolor": "white",
            "ticks": ""
           }
          },
          "title": {
           "x": 0.05
          },
          "xaxis": {
           "automargin": true,
           "gridcolor": "white",
           "linecolor": "white",
           "ticks": "",
           "title": {
            "standoff": 15
           },
           "zerolinecolor": "white",
           "zerolinewidth": 2
          },
          "yaxis": {
           "automargin": true,
           "gridcolor": "white",
           "linecolor": "white",
           "ticks": "",
           "title": {
            "standoff": 15
           },
           "zerolinecolor": "white",
           "zerolinewidth": 2
          }
         }
        },
        "title": {
         "text": "Patent Count by U.S. State (1976–2023)"
        },
        "updatemenus": [
         {
          "buttons": [
           {
            "args": [
             null,
             {
              "frame": {
               "duration": 500,
               "redraw": true
              },
              "fromcurrent": true,
              "mode": "immediate",
              "transition": {
               "duration": 500,
               "easing": "linear"
              }
             }
            ],
            "label": "&#9654;",
            "method": "animate"
           },
           {
            "args": [
             [
              null
             ],
             {
              "frame": {
               "duration": 0,
               "redraw": true
              },
              "fromcurrent": true,
              "mode": "immediate",
              "transition": {
               "duration": 0,
               "easing": "linear"
              }
             }
            ],
            "label": "&#9724;",
            "method": "animate"
           }
          ],
          "direction": "left",
          "pad": {
           "r": 10,
           "t": 70
          },
          "showactive": false,
          "type": "buttons",
          "x": 0.1,
          "xanchor": "right",
          "y": 0,
          "yanchor": "top"
         }
        ]
       }
      }
     },
     "metadata": {},
     "output_type": "display_data"
    }
   ],
   "source": [
    "fig.show()"
   ]
  },
  {
   "cell_type": "code",
   "execution_count": 25,
   "id": "e9645be7",
   "metadata": {},
   "outputs": [],
   "source": [
    "df_filtered = df[df['year'].between(2018, 2023)]"
   ]
  },
  {
   "cell_type": "markdown",
   "id": "f40bd0ce",
   "metadata": {},
   "source": [
    "# 1. State-Level Patent Share & Growth Analysis\n",
    "\n",
    "The following two functions help us understand the dominance and growth of patent filings across U.S. states:\n",
    "\n",
    "- `compute_top_n_share(df, top_n=5)`:  \n",
    "  For each year, this function calculates the **percentage share of total patents** contributed by the top `n` states. It also lists which states make up the top group annually.\n",
    "\n",
    "- `compute_percent_change(df)`:  \n",
    "  This function compares average patent counts **before (2018–2019)** and **after COVID-19 (2021–2023)** for each state. It returns the **percent change in patent activity**, helping identify states with significant increases or declines.\n",
    "\n",
    "- This code identifies which states most frequently appeared in the top 5 for patent filings across all years.\n",
    "\n",
    "\n",
    "These insights help us analyze ho geographical patent trends have shifted over time.\n"
   ]
  },
  {
   "cell_type": "code",
   "execution_count": 26,
   "id": "354973ed",
   "metadata": {},
   "outputs": [
    {
     "data": {
      "text/html": [
       "<div>\n",
       "<style scoped>\n",
       "    .dataframe tbody tr th:only-of-type {\n",
       "        vertical-align: middle;\n",
       "    }\n",
       "\n",
       "    .dataframe tbody tr th {\n",
       "        vertical-align: top;\n",
       "    }\n",
       "\n",
       "    .dataframe thead th {\n",
       "        text-align: right;\n",
       "    }\n",
       "</style>\n",
       "<table border=\"1\" class=\"dataframe\">\n",
       "  <thead>\n",
       "    <tr style=\"text-align: right;\">\n",
       "      <th></th>\n",
       "      <th>year</th>\n",
       "      <th>top_5_state_share_percent</th>\n",
       "      <th>top_5_states</th>\n",
       "    </tr>\n",
       "  </thead>\n",
       "  <tbody>\n",
       "    <tr>\n",
       "      <th>0</th>\n",
       "      <td>1976</td>\n",
       "      <td>47.90</td>\n",
       "      <td>IL, NJ, CA, NY, PA</td>\n",
       "    </tr>\n",
       "    <tr>\n",
       "      <th>1</th>\n",
       "      <td>1977</td>\n",
       "      <td>48.20</td>\n",
       "      <td>CA, NY, NJ, IL, PA</td>\n",
       "    </tr>\n",
       "    <tr>\n",
       "      <th>2</th>\n",
       "      <td>1978</td>\n",
       "      <td>46.80</td>\n",
       "      <td>CA, NY, NJ, IL, PA</td>\n",
       "    </tr>\n",
       "    <tr>\n",
       "      <th>3</th>\n",
       "      <td>1979</td>\n",
       "      <td>45.86</td>\n",
       "      <td>CA, NJ, NY, IL, PA</td>\n",
       "    </tr>\n",
       "    <tr>\n",
       "      <th>4</th>\n",
       "      <td>1980</td>\n",
       "      <td>45.55</td>\n",
       "      <td>CA, NY, NJ, IL, PA</td>\n",
       "    </tr>\n",
       "    <tr>\n",
       "      <th>5</th>\n",
       "      <td>1981</td>\n",
       "      <td>43.96</td>\n",
       "      <td>CA, NY, NJ, PA, IL</td>\n",
       "    </tr>\n",
       "    <tr>\n",
       "      <th>6</th>\n",
       "      <td>1982</td>\n",
       "      <td>44.61</td>\n",
       "      <td>CA, NY, NJ, PA, IL</td>\n",
       "    </tr>\n",
       "    <tr>\n",
       "      <th>7</th>\n",
       "      <td>1983</td>\n",
       "      <td>43.59</td>\n",
       "      <td>CA, NY, NJ, PA, IL</td>\n",
       "    </tr>\n",
       "    <tr>\n",
       "      <th>8</th>\n",
       "      <td>1984</td>\n",
       "      <td>43.16</td>\n",
       "      <td>CA, NY, NJ, IL, PA</td>\n",
       "    </tr>\n",
       "    <tr>\n",
       "      <th>9</th>\n",
       "      <td>1985</td>\n",
       "      <td>42.94</td>\n",
       "      <td>CA, NY, NJ, IL, TX</td>\n",
       "    </tr>\n",
       "    <tr>\n",
       "      <th>10</th>\n",
       "      <td>1986</td>\n",
       "      <td>44.19</td>\n",
       "      <td>CA, NY, NJ, TX, IL</td>\n",
       "    </tr>\n",
       "    <tr>\n",
       "      <th>11</th>\n",
       "      <td>1987</td>\n",
       "      <td>43.49</td>\n",
       "      <td>CA, NY, NJ, IL, PA</td>\n",
       "    </tr>\n",
       "    <tr>\n",
       "      <th>12</th>\n",
       "      <td>1988</td>\n",
       "      <td>41.23</td>\n",
       "      <td>CA, NY, NJ, PA, TX</td>\n",
       "    </tr>\n",
       "    <tr>\n",
       "      <th>13</th>\n",
       "      <td>1989</td>\n",
       "      <td>42.09</td>\n",
       "      <td>CA, NY, NJ, TX, PA</td>\n",
       "    </tr>\n",
       "    <tr>\n",
       "      <th>14</th>\n",
       "      <td>1990</td>\n",
       "      <td>41.78</td>\n",
       "      <td>CA, NY, NJ, PA, TX</td>\n",
       "    </tr>\n",
       "    <tr>\n",
       "      <th>15</th>\n",
       "      <td>1991</td>\n",
       "      <td>43.55</td>\n",
       "      <td>CA, NY, NJ, TX, MA</td>\n",
       "    </tr>\n",
       "    <tr>\n",
       "      <th>16</th>\n",
       "      <td>1992</td>\n",
       "      <td>47.16</td>\n",
       "      <td>CA, MA, NY, TX, NJ</td>\n",
       "    </tr>\n",
       "    <tr>\n",
       "      <th>17</th>\n",
       "      <td>1993</td>\n",
       "      <td>49.14</td>\n",
       "      <td>CA, MA, NY, TX, NJ</td>\n",
       "    </tr>\n",
       "    <tr>\n",
       "      <th>18</th>\n",
       "      <td>1994</td>\n",
       "      <td>48.84</td>\n",
       "      <td>CA, NY, MA, TX, NJ</td>\n",
       "    </tr>\n",
       "    <tr>\n",
       "      <th>19</th>\n",
       "      <td>1995</td>\n",
       "      <td>52.47</td>\n",
       "      <td>CA, NY, IL, MA, MD</td>\n",
       "    </tr>\n",
       "    <tr>\n",
       "      <th>20</th>\n",
       "      <td>1996</td>\n",
       "      <td>44.42</td>\n",
       "      <td>CA, NY, MA, TX, MD</td>\n",
       "    </tr>\n",
       "    <tr>\n",
       "      <th>21</th>\n",
       "      <td>1997</td>\n",
       "      <td>42.93</td>\n",
       "      <td>CA, NY, TX, NJ, OH</td>\n",
       "    </tr>\n",
       "    <tr>\n",
       "      <th>22</th>\n",
       "      <td>1998</td>\n",
       "      <td>43.95</td>\n",
       "      <td>CA, NY, TX, NJ, IL</td>\n",
       "    </tr>\n",
       "    <tr>\n",
       "      <th>23</th>\n",
       "      <td>1999</td>\n",
       "      <td>48.39</td>\n",
       "      <td>CA, TX, NY, MA, NJ</td>\n",
       "    </tr>\n",
       "    <tr>\n",
       "      <th>24</th>\n",
       "      <td>2000</td>\n",
       "      <td>43.53</td>\n",
       "      <td>CA, NY, TX, NJ, MI</td>\n",
       "    </tr>\n",
       "    <tr>\n",
       "      <th>25</th>\n",
       "      <td>2001</td>\n",
       "      <td>43.74</td>\n",
       "      <td>CA, NY, TX, MI, PA</td>\n",
       "    </tr>\n",
       "    <tr>\n",
       "      <th>26</th>\n",
       "      <td>2002</td>\n",
       "      <td>45.49</td>\n",
       "      <td>CA, NY, TX, MI, NJ</td>\n",
       "    </tr>\n",
       "    <tr>\n",
       "      <th>27</th>\n",
       "      <td>2003</td>\n",
       "      <td>45.54</td>\n",
       "      <td>CA, NY, TX, MI, MA</td>\n",
       "    </tr>\n",
       "    <tr>\n",
       "      <th>28</th>\n",
       "      <td>2004</td>\n",
       "      <td>45.94</td>\n",
       "      <td>CA, NY, TX, MI, MA</td>\n",
       "    </tr>\n",
       "    <tr>\n",
       "      <th>29</th>\n",
       "      <td>2005</td>\n",
       "      <td>46.72</td>\n",
       "      <td>CA, TX, NY, MI, MA</td>\n",
       "    </tr>\n",
       "    <tr>\n",
       "      <th>30</th>\n",
       "      <td>2006</td>\n",
       "      <td>47.04</td>\n",
       "      <td>CA, TX, NY, MA, MI</td>\n",
       "    </tr>\n",
       "    <tr>\n",
       "      <th>31</th>\n",
       "      <td>2007</td>\n",
       "      <td>47.41</td>\n",
       "      <td>CA, TX, NY, MA, WA</td>\n",
       "    </tr>\n",
       "    <tr>\n",
       "      <th>32</th>\n",
       "      <td>2008</td>\n",
       "      <td>48.81</td>\n",
       "      <td>CA, TX, NY, WA, MA</td>\n",
       "    </tr>\n",
       "    <tr>\n",
       "      <th>33</th>\n",
       "      <td>2009</td>\n",
       "      <td>49.65</td>\n",
       "      <td>CA, TX, NY, WA, MA</td>\n",
       "    </tr>\n",
       "    <tr>\n",
       "      <th>34</th>\n",
       "      <td>2010</td>\n",
       "      <td>49.44</td>\n",
       "      <td>CA, NY, TX, WA, MA</td>\n",
       "    </tr>\n",
       "    <tr>\n",
       "      <th>35</th>\n",
       "      <td>2011</td>\n",
       "      <td>49.55</td>\n",
       "      <td>CA, NY, TX, MA, WA</td>\n",
       "    </tr>\n",
       "    <tr>\n",
       "      <th>36</th>\n",
       "      <td>2012</td>\n",
       "      <td>50.40</td>\n",
       "      <td>CA, TX, NY, WA, MA</td>\n",
       "    </tr>\n",
       "    <tr>\n",
       "      <th>37</th>\n",
       "      <td>2013</td>\n",
       "      <td>50.92</td>\n",
       "      <td>CA, NY, TX, MA, WA</td>\n",
       "    </tr>\n",
       "    <tr>\n",
       "      <th>38</th>\n",
       "      <td>2014</td>\n",
       "      <td>51.89</td>\n",
       "      <td>CA, TX, NY, WA, MA</td>\n",
       "    </tr>\n",
       "    <tr>\n",
       "      <th>39</th>\n",
       "      <td>2015</td>\n",
       "      <td>52.76</td>\n",
       "      <td>CA, TX, NY, WA, MA</td>\n",
       "    </tr>\n",
       "    <tr>\n",
       "      <th>40</th>\n",
       "      <td>2016</td>\n",
       "      <td>53.01</td>\n",
       "      <td>CA, NY, TX, WA, MA</td>\n",
       "    </tr>\n",
       "    <tr>\n",
       "      <th>41</th>\n",
       "      <td>2017</td>\n",
       "      <td>52.71</td>\n",
       "      <td>CA, NY, TX, WA, MA</td>\n",
       "    </tr>\n",
       "    <tr>\n",
       "      <th>42</th>\n",
       "      <td>2018</td>\n",
       "      <td>52.44</td>\n",
       "      <td>CA, TX, NY, MA, WA</td>\n",
       "    </tr>\n",
       "    <tr>\n",
       "      <th>43</th>\n",
       "      <td>2019</td>\n",
       "      <td>53.25</td>\n",
       "      <td>CA, TX, NY, WA, MA</td>\n",
       "    </tr>\n",
       "    <tr>\n",
       "      <th>44</th>\n",
       "      <td>2020</td>\n",
       "      <td>53.54</td>\n",
       "      <td>CA, TX, NY, WA, MA</td>\n",
       "    </tr>\n",
       "    <tr>\n",
       "      <th>45</th>\n",
       "      <td>2021</td>\n",
       "      <td>53.61</td>\n",
       "      <td>CA, TX, NY, WA, MA</td>\n",
       "    </tr>\n",
       "    <tr>\n",
       "      <th>46</th>\n",
       "      <td>2022</td>\n",
       "      <td>53.71</td>\n",
       "      <td>CA, TX, MA, WA, NY</td>\n",
       "    </tr>\n",
       "    <tr>\n",
       "      <th>47</th>\n",
       "      <td>2023</td>\n",
       "      <td>54.20</td>\n",
       "      <td>CA, TX, MA, WA, NY</td>\n",
       "    </tr>\n",
       "  </tbody>\n",
       "</table>\n",
       "</div>"
      ],
      "text/plain": [
       "    year  top_5_state_share_percent        top_5_states\n",
       "0   1976                      47.90  IL, NJ, CA, NY, PA\n",
       "1   1977                      48.20  CA, NY, NJ, IL, PA\n",
       "2   1978                      46.80  CA, NY, NJ, IL, PA\n",
       "3   1979                      45.86  CA, NJ, NY, IL, PA\n",
       "4   1980                      45.55  CA, NY, NJ, IL, PA\n",
       "5   1981                      43.96  CA, NY, NJ, PA, IL\n",
       "6   1982                      44.61  CA, NY, NJ, PA, IL\n",
       "7   1983                      43.59  CA, NY, NJ, PA, IL\n",
       "8   1984                      43.16  CA, NY, NJ, IL, PA\n",
       "9   1985                      42.94  CA, NY, NJ, IL, TX\n",
       "10  1986                      44.19  CA, NY, NJ, TX, IL\n",
       "11  1987                      43.49  CA, NY, NJ, IL, PA\n",
       "12  1988                      41.23  CA, NY, NJ, PA, TX\n",
       "13  1989                      42.09  CA, NY, NJ, TX, PA\n",
       "14  1990                      41.78  CA, NY, NJ, PA, TX\n",
       "15  1991                      43.55  CA, NY, NJ, TX, MA\n",
       "16  1992                      47.16  CA, MA, NY, TX, NJ\n",
       "17  1993                      49.14  CA, MA, NY, TX, NJ\n",
       "18  1994                      48.84  CA, NY, MA, TX, NJ\n",
       "19  1995                      52.47  CA, NY, IL, MA, MD\n",
       "20  1996                      44.42  CA, NY, MA, TX, MD\n",
       "21  1997                      42.93  CA, NY, TX, NJ, OH\n",
       "22  1998                      43.95  CA, NY, TX, NJ, IL\n",
       "23  1999                      48.39  CA, TX, NY, MA, NJ\n",
       "24  2000                      43.53  CA, NY, TX, NJ, MI\n",
       "25  2001                      43.74  CA, NY, TX, MI, PA\n",
       "26  2002                      45.49  CA, NY, TX, MI, NJ\n",
       "27  2003                      45.54  CA, NY, TX, MI, MA\n",
       "28  2004                      45.94  CA, NY, TX, MI, MA\n",
       "29  2005                      46.72  CA, TX, NY, MI, MA\n",
       "30  2006                      47.04  CA, TX, NY, MA, MI\n",
       "31  2007                      47.41  CA, TX, NY, MA, WA\n",
       "32  2008                      48.81  CA, TX, NY, WA, MA\n",
       "33  2009                      49.65  CA, TX, NY, WA, MA\n",
       "34  2010                      49.44  CA, NY, TX, WA, MA\n",
       "35  2011                      49.55  CA, NY, TX, MA, WA\n",
       "36  2012                      50.40  CA, TX, NY, WA, MA\n",
       "37  2013                      50.92  CA, NY, TX, MA, WA\n",
       "38  2014                      51.89  CA, TX, NY, WA, MA\n",
       "39  2015                      52.76  CA, TX, NY, WA, MA\n",
       "40  2016                      53.01  CA, NY, TX, WA, MA\n",
       "41  2017                      52.71  CA, NY, TX, WA, MA\n",
       "42  2018                      52.44  CA, TX, NY, MA, WA\n",
       "43  2019                      53.25  CA, TX, NY, WA, MA\n",
       "44  2020                      53.54  CA, TX, NY, WA, MA\n",
       "45  2021                      53.61  CA, TX, NY, WA, MA\n",
       "46  2022                      53.71  CA, TX, MA, WA, NY\n",
       "47  2023                      54.20  CA, TX, MA, WA, NY"
      ]
     },
     "execution_count": 26,
     "metadata": {},
     "output_type": "execute_result"
    }
   ],
   "source": [
    "def compute_top_n_share(df, top_n=5):\n",
    "    yearly_total = df.groupby('year').size().reset_index(name='total_patents')\n",
    "    yearly_state = df.groupby(['year', 'disambig_state']).size().reset_index(name='state_patents')\n",
    "    \n",
    "    result = []\n",
    "    for year in sorted(df['year'].unique()):\n",
    "        year_data = yearly_state[yearly_state['year'] == year]\n",
    "        total = yearly_total[yearly_total['year'] == year]['total_patents'].values[0]\n",
    "        top_states = year_data.sort_values('state_patents', ascending=False).head(top_n)\n",
    "\n",
    "        top_share = top_states['state_patents'].sum() / total * 100\n",
    "        top_state_names = top_states['disambig_state'].tolist()\n",
    "\n",
    "        result.append({\n",
    "            'year': year,\n",
    "            f'top_{top_n}_state_share_percent': round(top_share, 2),\n",
    "            f'top_{top_n}_states': ', '.join(top_state_names)\n",
    "        })\n",
    "    \n",
    "    return pd.DataFrame(result)\n",
    "compute_top_n_share(df)\n"
   ]
  },
  {
   "cell_type": "code",
   "execution_count": null,
   "id": "7296279c",
   "metadata": {},
   "outputs": [],
   "source": [
    "def compute_percent_change(df):\n",
    "    \"\"\"\n",
    "    Calculates the percent change in average patent counts per state between \n",
    "    pre-COVID (2018–2019) and post-COVID (2021–2023).\n",
    "\n",
    "    Parameters:\n",
    "    df (DataFrame): DataFrame with 'year' and 'disambig_state'.\n",
    "\n",
    "    Returns:\n",
    "    DataFrame: A DataFrame with 'disambig_state', 'pre_avg', 'post_avg', and 'percent_change'.\n",
    "\n",
    "    Example:\n",
    "    >>> import pandas as pd\n",
    "    >>> data = {'year': [2018, 2019, 2021, 2021, 2023], 'disambig_state': ['CA', 'CA', 'CA', 'TX', 'TX']}\n",
    "    >>> df = pd.DataFrame(data)\n",
    "    >>> result = compute_percent_change(df)\n",
    "    >>> round(result[result['disambig_state'] == 'CA']['percent_change'].values[0], 2)\n",
    "    0.0\n",
    "    >>> round(result[result['disambig_state'] == 'TX']['percent_change'].values[0], 2)\n",
    "    100.0\n",
    "    \"\"\"\n",
    "    pre = df[df['year'].isin([2018, 2019])].groupby('disambig_state').size().reset_index(name='pre_avg')\n",
    "    post = df[df['year'].isin([2021, 2022, 2023])].groupby('disambig_state').size().reset_index(name='post_avg')\n",
    "    \n",
    "    merged = pd.merge(pre, post, on='disambig_state')\n",
    "    merged['percent_change'] = ((merged['post_avg'] - merged['pre_avg']) / merged['pre_avg']) * 100\n",
    "    return merged.sort_values('percent_change', ascending=False)"
   ]
  },
  {
   "cell_type": "markdown",
   "id": "e300e53b",
   "metadata": {},
   "source": [
    "# 2. Average Patent Activity and State-Level Performance (2018–2023)\n",
    "\n",
    "In this section, we explore how many U.S. states file more patents than the national average each year.\n",
    "\n",
    "1. **`compute_avg_patents_per_state(df)`**  \n",
    "   Calculates the average number of patents filed per state for each year. This gives us a baseline to compare against.\n",
    "\n",
    "2. **`compute_states_above_yearly_avg(df)`**  \n",
    "   For each year, this function counts how many states filed **more patents than the average** number of patents filed by any state that year.\n",
    "\n",
    "3. We then filter the result to show data only from **2018 to 2023**, allowing us to focus on recent trends, including the post-pandemic period.\n",
    "\n",
    "4. Finally, we plot the number of states that performed above the average patent threshold each year, helping visualize changes in geographic innovation spread.\n",
    "\n",
    "This helps us understand whether patent filings have become more concentrated or more geographically distributed in recent years.\n"
   ]
  },
  {
   "cell_type": "code",
   "execution_count": 44,
   "id": "6cc96b49",
   "metadata": {},
   "outputs": [
    {
     "name": "stdout",
     "output_type": "stream",
     "text": [
      "    year  avg_patents_per_state\n",
      "0   1976               9.648649\n",
      "1   1977             434.288462\n",
      "2   1978            1032.846154\n",
      "3   1979             851.826923\n",
      "4   1980            1071.346154\n",
      "5   1981            1125.094340\n",
      "6   1982            1001.288462\n",
      "7   1983             980.403846\n",
      "8   1984            1064.981132\n",
      "9   1985             621.615385\n",
      "10  1986             159.000000\n",
      "11  1987              90.460000\n",
      "12  1988             600.500000\n",
      "13  1989            1403.018868\n",
      "14  1990            1371.096154\n",
      "15  1991             626.865385\n",
      "16  1992             195.058824\n",
      "17  1993              58.080000\n",
      "18  1994              26.461538\n",
      "19  1995              12.054054\n",
      "20  1996              20.111111\n",
      "21  1997             516.461538\n",
      "22  1998            1401.622642\n",
      "23  1999             682.538462\n",
      "24  2000             808.150943\n",
      "25  2001            1574.019231\n",
      "26  2002            1862.942308\n",
      "27  2003            2326.346154\n",
      "28  2004            2975.557692\n",
      "29  2005            2893.555556\n",
      "30  2006            3926.730769\n",
      "31  2007            3654.075472\n",
      "32  2008            3623.037037\n",
      "33  2009            4113.865385\n",
      "34  2010            5380.735849\n",
      "35  2011            5494.037736\n",
      "36  2012            6282.307692\n",
      "37  2013            6773.037037\n",
      "38  2014            7414.666667\n",
      "39  2015            7310.407407\n",
      "40  2016            7662.226415\n",
      "41  2017            7878.363636\n",
      "42  2018            7741.555556\n",
      "43  2019            9113.814815\n",
      "44  2020            9171.833333\n",
      "45  2021            8521.444444\n",
      "46  2022            8293.037736\n",
      "47  2023            8761.169811\n"
     ]
    }
   ],
   "source": [
    "def compute_avg_patents_per_state(df):\n",
    "    \"\"\"\n",
    "    Calculates the average number of patents filed per state for each year.\n",
    "\n",
    "    Parameters:\n",
    "    df (DataFrame): A DataFrame with at least 'year' and 'disambig_state' columns.\n",
    "\n",
    "    Returns:\n",
    "    DataFrame: A DataFrame with 'year' and 'avg_patents_per_state'.\n",
    "\n",
    "    Example:\n",
    "    >>> import pandas as pd\n",
    "    >>> data = {'year': [2020, 2020, 2020, 2021, 2021], 'disambig_state': ['CA', 'TX', 'CA', 'TX', 'NY']}\n",
    "    >>> df = pd.DataFrame(data)\n",
    "    >>> result = compute_avg_patents_per_state(df)\n",
    "    >>> result[result['year'] == 2020]['avg_patents_per_state'].values[0]\n",
    "    1.5\n",
    "    >>> result[result['year'] == 2021]['avg_patents_per_state'].values[0]\n",
    "    1.0\n",
    "    \"\"\"\n",
    "    # Count patents per (year, state)\n",
    "    grouped = df.groupby(['year', 'disambig_state']).size().reset_index(name='patent_count')\n",
    "    \n",
    "    # Now compute average patent count per state across all states each year\n",
    "    avg_per_year = grouped.groupby('year')['patent_count'].mean().reset_index(name='avg_patents_per_state')\n",
    "    \n",
    "    return avg_per_year\n",
    "\n",
    "avg_df = compute_avg_patents_per_state(df)\n",
    "print(avg_df)"
   ]
  },
  {
   "cell_type": "code",
   "execution_count": null,
   "id": "9c39b571",
   "metadata": {},
   "outputs": [],
   "source": [
    "def compute_states_above_yearly_avg(df):\n",
    "    \"\"\"\n",
    "    For each year, counts how many states had a patent count above the average that year.\n",
    "\n",
    "    Parameters:\n",
    "    df (DataFrame): DataFrame with 'year' and 'disambig_state' columns.\n",
    "\n",
    "    Returns:\n",
    "    DataFrame: A DataFrame with 'year' and 'states_above_avg' columns.\n",
    "\n",
    "    Example:\n",
    "    >>> import pandas as pd\n",
    "    >>> data = {'year': [2020, 2020, 2020, 2020, 2021, 2021], 'disambig_state': ['CA', 'CA', 'TX', 'NY', 'TX', 'NY']}\n",
    "    >>> df = pd.DataFrame(data)\n",
    "    >>> result = compute_states_above_yearly_avg(df)\n",
    "    >>> result[result['year'] == 2020]['states_above_avg'].values[0]\n",
    "    1\n",
    "    >>> result[result['year'] == 2021]['states_above_avg'].values[0]\n",
    "    1\n",
    "    \"\"\"\n",
    "\n",
    "    grouped = df.groupby(['year', 'disambig_state']).size().reset_index(name='patent_count')\n",
    "    yearly_avg = grouped.groupby('year')['patent_count'].mean().reset_index(name='avg')\n",
    "    merged = pd.merge(grouped, yearly_avg, on='year')\n",
    "    above_avg = merged[merged['patent_count'] > merged['avg']]\n",
    "    result = above_avg.groupby('year')['disambig_state'].count().reset_index(name='states_above_avg')\n",
    "\n",
    "    return result\n"
   ]
  },
  {
   "cell_type": "code",
   "execution_count": 30,
   "id": "bfec1861",
   "metadata": {},
   "outputs": [
    {
     "name": "stdout",
     "output_type": "stream",
     "text": [
      "    year  states_above_avg\n",
      "0   1976                13\n",
      "1   1977                13\n",
      "2   1978                12\n",
      "3   1979                14\n",
      "4   1980                14\n",
      "5   1981                13\n",
      "6   1982                14\n",
      "7   1983                14\n",
      "8   1984                14\n",
      "9   1985                15\n",
      "10  1986                15\n",
      "11  1987                13\n",
      "12  1988                14\n",
      "13  1989                14\n",
      "14  1990                13\n",
      "15  1991                14\n",
      "16  1992                14\n",
      "17  1993                14\n",
      "18  1994                13\n",
      "19  1995                11\n",
      "20  1996                12\n",
      "21  1997                15\n",
      "22  1998                17\n",
      "23  1999                15\n",
      "24  2000                16\n",
      "25  2001                16\n",
      "26  2002                16\n",
      "27  2003                16\n",
      "28  2004                17\n",
      "29  2005                18\n",
      "30  2006                17\n",
      "31  2007                15\n",
      "32  2008                17\n",
      "33  2009                15\n",
      "34  2010                13\n",
      "35  2011                13\n",
      "36  2012                13\n",
      "37  2013                14\n",
      "38  2014                14\n",
      "39  2015                14\n",
      "40  2016                15\n",
      "41  2017                15\n",
      "42  2018                14\n",
      "43  2019                15\n",
      "44  2020                15\n",
      "45  2021                14\n",
      "46  2022                14\n",
      "47  2023                16\n"
     ]
    }
   ],
   "source": [
    "states_above_avg = compute_states_above_yearly_avg(df)\n",
    "print(states_above_avg)"
   ]
  },
  {
   "cell_type": "code",
   "execution_count": 31,
   "id": "dfe53873",
   "metadata": {},
   "outputs": [
    {
     "name": "stdout",
     "output_type": "stream",
     "text": [
      "\n",
      "States Above Yearly Average Patents (2018–2023):\n",
      "     year  states_above_avg\n",
      "42  2018                14\n",
      "43  2019                15\n",
      "44  2020                15\n",
      "45  2021                14\n",
      "46  2022                14\n",
      "47  2023                16\n"
     ]
    },
    {
     "data": {
      "image/png": "[encoded data removed]",
      "text/plain": [
       "<Figure size 1000x500 with 1 Axes>"
      ]
     },
     "metadata": {},
     "output_type": "display_data"
    }
   ],
   "source": [
    "filtered_df = states_above_avg[(states_above_avg['year'] >= 2018) & (states_above_avg['year'] <= 2023)]\n",
    "\n",
    "print(\"\\nStates Above Yearly Average Patents (2018–2023):\\n\", filtered_df)\n",
    "\n",
    "plt.figure(figsize=(10, 5))\n",
    "plt.plot(filtered_df['year'], filtered_df['states_above_avg'], marker='o', color='blue')\n",
    "plt.title('States with Above-Average Patents Per Year (2018–2023)')\n",
    "plt.xlabel('Year')\n",
    "plt.ylabel('Number of States Above Yearly Average')\n",
    "plt.grid(True)\n",
    "plt.tight_layout()\n",
    "plt.show()"
   ]
  },
  {
   "cell_type": "code",
   "execution_count": 32,
   "id": "0c981fb8",
   "metadata": {},
   "outputs": [],
   "source": [
    "top_n_df = compute_top_n_share(df_filtered, top_n=5)\n",
    "percent_change_df = compute_percent_change(df_filtered)\n",
    "states_threshold_df = states_above_avg"
   ]
  },
  {
   "cell_type": "code",
   "execution_count": 33,
   "id": "2a0a8ce7",
   "metadata": {},
   "outputs": [
    {
     "data": {
      "text/html": [
       "<div>\n",
       "<style scoped>\n",
       "    .dataframe tbody tr th:only-of-type {\n",
       "        vertical-align: middle;\n",
       "    }\n",
       "\n",
       "    .dataframe tbody tr th {\n",
       "        vertical-align: top;\n",
       "    }\n",
       "\n",
       "    .dataframe thead th {\n",
       "        text-align: right;\n",
       "    }\n",
       "</style>\n",
       "<table border=\"1\" class=\"dataframe\">\n",
       "  <thead>\n",
       "    <tr style=\"text-align: right;\">\n",
       "      <th></th>\n",
       "      <th>year</th>\n",
       "      <th>top_5_state_share_percent</th>\n",
       "      <th>top_5_states</th>\n",
       "    </tr>\n",
       "  </thead>\n",
       "  <tbody>\n",
       "    <tr>\n",
       "      <th>0</th>\n",
       "      <td>2018</td>\n",
       "      <td>52.44</td>\n",
       "      <td>CA, TX, NY, MA, WA</td>\n",
       "    </tr>\n",
       "    <tr>\n",
       "      <th>1</th>\n",
       "      <td>2019</td>\n",
       "      <td>53.25</td>\n",
       "      <td>CA, TX, NY, WA, MA</td>\n",
       "    </tr>\n",
       "    <tr>\n",
       "      <th>2</th>\n",
       "      <td>2020</td>\n",
       "      <td>53.54</td>\n",
       "      <td>CA, TX, NY, WA, MA</td>\n",
       "    </tr>\n",
       "    <tr>\n",
       "      <th>3</th>\n",
       "      <td>2021</td>\n",
       "      <td>53.61</td>\n",
       "      <td>CA, TX, NY, WA, MA</td>\n",
       "    </tr>\n",
       "    <tr>\n",
       "      <th>4</th>\n",
       "      <td>2022</td>\n",
       "      <td>53.71</td>\n",
       "      <td>CA, TX, MA, WA, NY</td>\n",
       "    </tr>\n",
       "    <tr>\n",
       "      <th>5</th>\n",
       "      <td>2023</td>\n",
       "      <td>54.20</td>\n",
       "      <td>CA, TX, MA, WA, NY</td>\n",
       "    </tr>\n",
       "  </tbody>\n",
       "</table>\n",
       "</div>"
      ],
      "text/plain": [
       "   year  top_5_state_share_percent        top_5_states\n",
       "0  2018                      52.44  CA, TX, NY, MA, WA\n",
       "1  2019                      53.25  CA, TX, NY, WA, MA\n",
       "2  2020                      53.54  CA, TX, NY, WA, MA\n",
       "3  2021                      53.61  CA, TX, NY, WA, MA\n",
       "4  2022                      53.71  CA, TX, MA, WA, NY\n",
       "5  2023                      54.20  CA, TX, MA, WA, NY"
      ]
     },
     "execution_count": 33,
     "metadata": {},
     "output_type": "execute_result"
    }
   ],
   "source": [
    "top_n_df[:]"
   ]
  },
  {
   "cell_type": "code",
   "execution_count": 34,
   "id": "9ca96034",
   "metadata": {},
   "outputs": [
    {
     "name": "stdout",
     "output_type": "stream",
     "text": [
      "Top 5 State Share:\n",
      "    year  top_5_state_share_percent        top_5_states\n",
      "0  2018                      52.44  CA, TX, NY, MA, WA\n",
      "1  2019                      53.25  CA, TX, NY, WA, MA\n",
      "2  2020                      53.54  CA, TX, NY, WA, MA\n",
      "3  2021                      53.61  CA, TX, NY, WA, MA\n",
      "4  2022                      53.71  CA, TX, MA, WA, NY\n",
      "5  2023                      54.20  CA, TX, MA, WA, NY\n",
      "\n",
      "Percent Change (Pre vs Post COVID):\n",
      "    disambig_state  pre_avg  post_avg  percent_change\n",
      "48             VI        7        21      200.000000\n",
      "14             ID     4340     10013      130.714286\n",
      "27             MT      762      1483       94.619423\n",
      "47             VA    13977     24806       77.477284\n",
      "7              DC     1382      2447       77.062229\n"
     ]
    },
    {
     "data": {
      "image/png": "[encoded data removed]",
      "text/plain": [
       "<Figure size 1000x500 with 1 Axes>"
      ]
     },
     "metadata": {},
     "output_type": "display_data"
    }
   ],
   "source": [
    "print(\"Top 5 State Share:\\n\", top_n_df)\n",
    "print(\"\\nPercent Change (Pre vs Post COVID):\\n\", percent_change_df.head())\n",
    "\n",
    "plt.figure(figsize=(10, 5))\n",
    "plt.plot(top_n_df['year'], top_n_df['top_5_state_share_percent'], marker='o')\n",
    "plt.title('Top 5 States Share of Total Patents (2018–2023)')\n",
    "plt.xlabel('Year')\n",
    "plt.ylabel('Share (%)')\n",
    "plt.grid(True)\n",
    "plt.tight_layout()\n",
    "plt.show()\n",
    "\n",
    "\n"
   ]
  },
  {
   "cell_type": "code",
   "execution_count": 35,
   "id": "296fffcf",
   "metadata": {},
   "outputs": [
    {
     "data": {
      "text/html": [
       "<div>\n",
       "<style scoped>\n",
       "    .dataframe tbody tr th:only-of-type {\n",
       "        vertical-align: middle;\n",
       "    }\n",
       "\n",
       "    .dataframe tbody tr th {\n",
       "        vertical-align: top;\n",
       "    }\n",
       "\n",
       "    .dataframe thead th {\n",
       "        text-align: right;\n",
       "    }\n",
       "</style>\n",
       "<table border=\"1\" class=\"dataframe\">\n",
       "  <thead>\n",
       "    <tr style=\"text-align: right;\">\n",
       "      <th></th>\n",
       "      <th>state</th>\n",
       "      <th>appearances</th>\n",
       "    </tr>\n",
       "  </thead>\n",
       "  <tbody>\n",
       "    <tr>\n",
       "      <th>2</th>\n",
       "      <td>CA</td>\n",
       "      <td>48</td>\n",
       "    </tr>\n",
       "    <tr>\n",
       "      <th>3</th>\n",
       "      <td>NY</td>\n",
       "      <td>48</td>\n",
       "    </tr>\n",
       "    <tr>\n",
       "      <th>5</th>\n",
       "      <td>TX</td>\n",
       "      <td>37</td>\n",
       "    </tr>\n",
       "    <tr>\n",
       "      <th>6</th>\n",
       "      <td>MA</td>\n",
       "      <td>28</td>\n",
       "    </tr>\n",
       "    <tr>\n",
       "      <th>1</th>\n",
       "      <td>NJ</td>\n",
       "      <td>24</td>\n",
       "    </tr>\n",
       "    <tr>\n",
       "      <th>10</th>\n",
       "      <td>WA</td>\n",
       "      <td>17</td>\n",
       "    </tr>\n",
       "    <tr>\n",
       "      <th>0</th>\n",
       "      <td>IL</td>\n",
       "      <td>15</td>\n",
       "    </tr>\n",
       "    <tr>\n",
       "      <th>4</th>\n",
       "      <td>PA</td>\n",
       "      <td>14</td>\n",
       "    </tr>\n",
       "    <tr>\n",
       "      <th>9</th>\n",
       "      <td>MI</td>\n",
       "      <td>7</td>\n",
       "    </tr>\n",
       "    <tr>\n",
       "      <th>7</th>\n",
       "      <td>MD</td>\n",
       "      <td>1</td>\n",
       "    </tr>\n",
       "    <tr>\n",
       "      <th>8</th>\n",
       "      <td>OH</td>\n",
       "      <td>1</td>\n",
       "    </tr>\n",
       "  </tbody>\n",
       "</table>\n",
       "</div>"
      ],
      "text/plain": [
       "   state  appearances\n",
       "2     CA           48\n",
       "3     NY           48\n",
       "5     TX           37\n",
       "6     MA           28\n",
       "1     NJ           24\n",
       "10    WA           17\n",
       "0     IL           15\n",
       "4     PA           14\n",
       "9     MI            7\n",
       "7     MD            1\n",
       "8     OH            1"
      ]
     },
     "execution_count": 35,
     "metadata": {},
     "output_type": "execute_result"
    }
   ],
   "source": [
    "top_states_by_year = df.groupby(['year', 'disambig_state']).size().reset_index(name='count')\n",
    "top_states = []\n",
    "\n",
    "for year in sorted(df['year'].unique()):\n",
    "    top = top_states_by_year[top_states_by_year['year'] == year].nlargest(5, 'count')\n",
    "    top_states.extend(top['disambig_state'].tolist())\n",
    "\n",
    "# Frequency of appearance in top 5\n",
    "top_frequency = pd.DataFrame(Counter(top_states).items(), columns=['state', 'appearances'])\n",
    "top_frequency.sort_values(by='appearances', ascending=False)"
   ]
  },
  {
   "cell_type": "markdown",
   "id": "c87d3600",
   "metadata": {},
   "source": [
    "# 3. Percent Change in Patent Activity (Pre vs Post COVID)\n",
    "\n",
    "1. The bar chart below shows the **percent change in patent filings per state** when comparing pre-COVID years (2018–2019) with post-COVID years (2021–2023).  \n",
    "\n",
    "Each bar represents a U.S. state, and the color intensity indicates the degree of increase or decrease:\n",
    "- **Green** = strong increase in patent filings  \n",
    "- **Red** = significant decline in filings  \n",
    "- **Yellow** = relatively stable or small change\n",
    "\n",
    "This helps identify which states experienced a surge or drop in innovation activity following the pandemic.\n",
    "\n",
    "2. This section highlights U.S. states that experienced over 50% growth in patent filings when comparing pre-COVID years (2018–2019) to post-COVID years (2021–2023). These are the states showing significant upward momentum in innovation activity.\n",
    "\n",
    "3. The summary indicates the statistical values as suggested to be added by a peer in class\n"
   ]
  },
  {
   "cell_type": "code",
   "execution_count": 36,
   "id": "b32f1e17",
   "metadata": {},
   "outputs": [
    {
     "data": {
      "application/vnd.plotly.v1+json": {
       "config": {
        "plotlyServerURL": "https://plot.ly"
       },
       "data": [
        {
         "hovertemplate": "disambig_state=%{x}<br>Percent Change (%)=%{marker.color}<extra></extra>",
         "legendgroup": "",
         "marker": {
          "color": {
           "bdata": "AAAAAAAAaUBu27Zt21ZgQEp6kp6kp1dA22qm0oteU0CsleSN+0NTQPfG5Y8tSVJAPjTWh8a6UUCGl8tnPDpRQOn/CHOd4VBA859fnU0fUEBmHE4ubXpPQJCy4d2vOU9AcDN4bB+ITkDeq8uBsUJOQCA+x2zak01AI1kmPSNyTUD7ZEHRBQZNQIb7c1nhuEtAOPaYtSu/SkByBTG5gphKQGMndmIn9klACvq9+2KBSUC/aapAllVJQE20pNVHUklAte6XpEf4SECWn0L1InBIQK6rUvz+V0hAGqRBGqRRSEDKEV0RoUlHQICioXX8NkdAhnCMWz0cR0B58qYRMxpHQKYErxWGukVAkICaXS+yRUCeTOo2IVhFQCX0dXBiRURAkSWY7RwERECzVJDJCtxDQE4LlQokJUNAdwBoAFugQUBT+0vtL/VAQNfzAh/+1EBADBSmdkl7QEAkSZIkSZI8QMqiF7nUATxAYh5Rvu+UO0AfgmCUNmQ7QA/gR95LFTpAN5HdRHYTOkB+KQSAX0c5QNrRznPJ0jZAVCD/rDLOJ0DD1sZDvponQKqqqqqqqkDA",
           "dtype": "f8"
          },
          "coloraxis": "coloraxis",
          "pattern": {
           "shape": ""
          }
         },
         "name": "",
         "orientation": "v",
         "showlegend": false,
         "textposition": "auto",
         "type": "bar",
         "x": [
          "VI",
          "ID",
          "MT",
          "VA",
          "DC",
          "NV",
          "PR",
          "TN",
          "OK",
          "SD",
          "OR",
          "WI",
          "CA",
          "HI",
          "CO",
          "FL",
          "AZ",
          "TX",
          "PA",
          "IA",
          "AL",
          "MA",
          "ND",
          "DE",
          "MS",
          "OH",
          "RI",
          "KS",
          "MD",
          "KY",
          "GA",
          "NJ",
          "NH",
          "WY",
          "IL",
          "LA",
          "NC",
          "WA",
          "MO",
          "UT",
          "MN",
          "IN",
          "NE",
          "AK",
          "SC",
          "ME",
          "NM",
          "VT",
          "CT",
          "MI",
          "NY",
          "AR",
          "WV",
          "GU"
         ],
         "xaxis": "x",
         "y": {
          "bdata": "AAAAAAAAaUBu27Zt21ZgQEp6kp6kp1dA22qm0oteU0CsleSN+0NTQPfG5Y8tSVJAPjTWh8a6UUCGl8tnPDpRQOn/CHOd4VBA859fnU0fUEBmHE4ubXpPQJCy4d2vOU9AcDN4bB+ITkDeq8uBsUJOQCA+x2zak01AI1kmPSNyTUD7ZEHRBQZNQIb7c1nhuEtAOPaYtSu/SkByBTG5gphKQGMndmIn9klACvq9+2KBSUC/aapAllVJQE20pNVHUklAte6XpEf4SECWn0L1InBIQK6rUvz+V0hAGqRBGqRRSEDKEV0RoUlHQICioXX8NkdAhnCMWz0cR0B58qYRMxpHQKYErxWGukVAkICaXS+yRUCeTOo2IVhFQCX0dXBiRURAkSWY7RwERECzVJDJCtxDQE4LlQokJUNAdwBoAFugQUBT+0vtL/VAQNfzAh/+1EBADBSmdkl7QEAkSZIkSZI8QMqiF7nUATxAYh5Rvu+UO0AfgmCUNmQ7QA/gR95LFTpAN5HdRHYTOkB+KQSAX0c5QNrRznPJ0jZAVCD/rDLOJ0DD1sZDvponQKqqqqqqqkDA",
          "dtype": "f8"
         },
         "yaxis": "y"
        }
       ],
       "layout": {
        "barmode": "relative",
        "coloraxis": {
         "colorbar": {
          "title": {
           "text": "Percent Change (%)"
          }
         },
         "colorscale": [
          [
           0,
           "rgb(165,0,38)"
          ],
          [
           0.1,
           "rgb(215,48,39)"
          ],
          [
           0.2,
           "rgb(244,109,67)"
          ],
          [
           0.3,
           "rgb(253,174,97)"
          ],
          [
           0.4,
           "rgb(254,224,139)"
          ],
          [
           0.5,
           "rgb(255,255,191)"
          ],
          [
           0.6,
           "rgb(217,239,139)"
          ],
          [
           0.7,
           "rgb(166,217,106)"
          ],
          [
           0.8,
           "rgb(102,189,99)"
          ],
          [
           0.9,
           "rgb(26,152,80)"
          ],
          [
           1,
           "rgb(0,104,55)"
          ]
         ]
        },
        "legend": {
         "tracegroupgap": 0
        },
        "template": {
         "data": {
          "bar": [
           {
            "error_x": {
             "color": "#2a3f5f"
            },
            "error_y": {
             "color": "#2a3f5f"
            },
            "marker": {
             "line": {
              "color": "#E5ECF6",
              "width": 0.5
             },
             "pattern": {
              "fillmode": "overlay",
              "size": 10,
              "solidity": 0.2
             }
            },
            "type": "bar"
           }
          ],
          "barpolar": [
           {
            "marker": {
             "line": {
              "color": "#E5ECF6",
              "width": 0.5
             },
             "pattern": {
              "fillmode": "overlay",
              "size": 10,
              "solidity": 0.2
             }
            },
            "type": "barpolar"
           }
          ],
          "carpet": [
           {
            "aaxis": {
             "endlinecolor": "#2a3f5f",
             "gridcolor": "white",
             "linecolor": "white",
             "minorgridcolor": "white",
             "startlinecolor": "#2a3f5f"
            },
            "baxis": {
             "endlinecolor": "#2a3f5f",
             "gridcolor": "white",
             "linecolor": "white",
             "minorgridcolor": "white",
             "startlinecolor": "#2a3f5f"
            },
            "type": "carpet"
           }
          ],
          "choropleth": [
           {
            "colorbar": {
             "outlinewidth": 0,
             "ticks": ""
            },
            "type": "choropleth"
           }
          ],
          "contour": [
           {
            "colorbar": {
             "outlinewidth": 0,
             "ticks": ""
            },
            "colorscale": [
             [
              0,
              "#0d0887"
             ],
             [
              0.1111111111111111,
              "#46039f"
             ],
             [
              0.2222222222222222,
              "#7201a8"
             ],
             [
              0.3333333333333333,
              "#9c179e"
             ],
             [
              0.4444444444444444,
              "#bd3786"
             ],
             [
              0.5555555555555556,
              "#d8576b"
             ],
             [
              0.6666666666666666,
              "#ed7953"
             ],
             [
              0.7777777777777778,
              "#fb9f3a"
             ],
             [
              0.8888888888888888,
              "#fdca26"
             ],
             [
              1,
              "#f0f921"
             ]
            ],
            "type": "contour"
           }
          ],
          "contourcarpet": [
           {
            "colorbar": {
             "outlinewidth": 0,
             "ticks": ""
            },
            "type": "contourcarpet"
           }
          ],
          "heatmap": [
           {
            "colorbar": {
             "outlinewidth": 0,
             "ticks": ""
            },
            "colorscale": [
             [
              0,
              "#0d0887"
             ],
             [
              0.1111111111111111,
              "#46039f"
             ],
             [
              0.2222222222222222,
              "#7201a8"
             ],
             [
              0.3333333333333333,
              "#9c179e"
             ],
             [
              0.4444444444444444,
              "#bd3786"
             ],
             [
              0.5555555555555556,
              "#d8576b"
             ],
             [
              0.6666666666666666,
              "#ed7953"
             ],
             [
              0.7777777777777778,
              "#fb9f3a"
             ],
             [
              0.8888888888888888,
              "#fdca26"
             ],
             [
              1,
              "#f0f921"
             ]
            ],
            "type": "heatmap"
           }
          ],
          "histogram": [
           {
            "marker": {
             "pattern": {
              "fillmode": "overlay",
              "size": 10,
              "solidity": 0.2
             }
            },
            "type": "histogram"
           }
          ],
          "histogram2d": [
           {
            "colorbar": {
             "outlinewidth": 0,
             "ticks": ""
            },
            "colorscale": [
             [
              0,
              "#0d0887"
             ],
             [
              0.1111111111111111,
              "#46039f"
             ],
             [
              0.2222222222222222,
              "#7201a8"
             ],
             [
              0.3333333333333333,
              "#9c179e"
             ],
             [
              0.4444444444444444,
              "#bd3786"
             ],
             [
              0.5555555555555556,
              "#d8576b"
             ],
             [
              0.6666666666666666,
              "#ed7953"
             ],
             [
              0.7777777777777778,
              "#fb9f3a"
             ],
             [
              0.8888888888888888,
              "#fdca26"
             ],
             [
              1,
              "#f0f921"
             ]
            ],
            "type": "histogram2d"
           }
          ],
          "histogram2dcontour": [
           {
            "colorbar": {
             "outlinewidth": 0,
             "ticks": ""
            },
            "colorscale": [
             [
              0,
              "#0d0887"
             ],
             [
              0.1111111111111111,
              "#46039f"
             ],
             [
              0.2222222222222222,
              "#7201a8"
             ],
             [
              0.3333333333333333,
              "#9c179e"
             ],
             [
              0.4444444444444444,
              "#bd3786"
             ],
             [
              0.5555555555555556,
              "#d8576b"
             ],
             [
              0.6666666666666666,
              "#ed7953"
             ],
             [
              0.7777777777777778,
              "#fb9f3a"
             ],
             [
              0.8888888888888888,
              "#fdca26"
             ],
             [
              1,
              "#f0f921"
             ]
            ],
            "type": "histogram2dcontour"
           }
          ],
          "mesh3d": [
           {
            "colorbar": {
             "outlinewidth": 0,
             "ticks": ""
            },
            "type": "mesh3d"
           }
          ],
          "parcoords": [
           {
            "line": {
             "colorbar": {
              "outlinewidth": 0,
              "ticks": ""
             }
            },
            "type": "parcoords"
           }
          ],
          "pie": [
           {
            "automargin": true,
            "type": "pie"
           }
          ],
          "scatter": [
           {
            "fillpattern": {
             "fillmode": "overlay",
             "size": 10,
             "solidity": 0.2
            },
            "type": "scatter"
           }
          ],
          "scatter3d": [
           {
            "line": {
             "colorbar": {
              "outlinewidth": 0,
              "ticks": ""
             }
            },
            "marker": {
             "colorbar": {
              "outlinewidth": 0,
              "ticks": ""
             }
            },
            "type": "scatter3d"
           }
          ],
          "scattercarpet": [
           {
            "marker": {
             "colorbar": {
              "outlinewidth": 0,
              "ticks": ""
             }
            },
            "type": "scattercarpet"
           }
          ],
          "scattergeo": [
           {
            "marker": {
             "colorbar": {
              "outlinewidth": 0,
              "ticks": ""
             }
            },
            "type": "scattergeo"
           }
          ],
          "scattergl": [
           {
            "marker": {
             "colorbar": {
              "outlinewidth": 0,
              "ticks": ""
             }
            },
            "type": "scattergl"
           }
          ],
          "scattermap": [
           {
            "marker": {
             "colorbar": {
              "outlinewidth": 0,
              "ticks": ""
             }
            },
            "type": "scattermap"
           }
          ],
          "scattermapbox": [
           {
            "marker": {
             "colorbar": {
              "outlinewidth": 0,
              "ticks": ""
             }
            },
            "type": "scattermapbox"
           }
          ],
          "scatterpolar": [
           {
            "marker": {
             "colorbar": {
              "outlinewidth": 0,
              "ticks": ""
             }
            },
            "type": "scatterpolar"
           }
          ],
          "scatterpolargl": [
           {
            "marker": {
             "colorbar": {
              "outlinewidth": 0,
              "ticks": ""
             }
            },
            "type": "scatterpolargl"
           }
          ],
          "scatterternary": [
           {
            "marker": {
             "colorbar": {
              "outlinewidth": 0,
              "ticks": ""
             }
            },
            "type": "scatterternary"
           }
          ],
          "surface": [
           {
            "colorbar": {
             "outlinewidth": 0,
             "ticks": ""
            },
            "colorscale": [
             [
              0,
              "#0d0887"
             ],
             [
              0.1111111111111111,
              "#46039f"
             ],
             [
              0.2222222222222222,
              "#7201a8"
             ],
             [
              0.3333333333333333,
              "#9c179e"
             ],
             [
              0.4444444444444444,
              "#bd3786"
             ],
             [
              0.5555555555555556,
              "#d8576b"
             ],
             [
              0.6666666666666666,
              "#ed7953"
             ],
             [
              0.7777777777777778,
              "#fb9f3a"
             ],
             [
              0.8888888888888888,
              "#fdca26"
             ],
             [
              1,
              "#f0f921"
             ]
            ],
            "type": "surface"
           }
          ],
          "table": [
           {
            "cells": {
             "fill": {
              "color": "#EBF0F8"
             },
             "line": {
              "color": "white"
             }
            },
            "header": {
             "fill": {
              "color": "#C8D4E3"
             },
             "line": {
              "color": "white"
             }
            },
            "type": "table"
           }
          ]
         },
         "layout": {
          "annotationdefaults": {
           "arrowcolor": "#2a3f5f",
           "arrowhead": 0,
           "arrowwidth": 1
          },
          "autotypenumbers": "strict",
          "coloraxis": {
           "colorbar": {
            "outlinewidth": 0,
            "ticks": ""
           }
          },
          "colorscale": {
           "diverging": [
            [
             0,
             "#8e0152"
            ],
            [
             0.1,
             "#c51b7d"
            ],
            [
             0.2,
             "#de77ae"
            ],
            [
             0.3,
             "#f1b6da"
            ],
            [
             0.4,
             "#fde0ef"
            ],
            [
             0.5,
             "#f7f7f7"
            ],
            [
             0.6,
             "#e6f5d0"
            ],
            [
             0.7,
             "#b8e186"
            ],
            [
             0.8,
             "#7fbc41"
            ],
            [
             0.9,
             "#4d9221"
            ],
            [
             1,
             "#276419"
            ]
           ],
           "sequential": [
            [
             0,
             "#0d0887"
            ],
            [
             0.1111111111111111,
             "#46039f"
            ],
            [
             0.2222222222222222,
             "#7201a8"
            ],
            [
             0.3333333333333333,
             "#9c179e"
            ],
            [
             0.4444444444444444,
             "#bd3786"
            ],
            [
             0.5555555555555556,
             "#d8576b"
            ],
            [
             0.6666666666666666,
             "#ed7953"
            ],
            [
             0.7777777777777778,
             "#fb9f3a"
            ],
            [
             0.8888888888888888,
             "#fdca26"
            ],
            [
             1,
             "#f0f921"
            ]
           ],
           "sequentialminus": [
            [
             0,
             "#0d0887"
            ],
            [
             0.1111111111111111,
             "#46039f"
            ],
            [
             0.2222222222222222,
             "#7201a8"
            ],
            [
             0.3333333333333333,
             "#9c179e"
            ],
            [
             0.4444444444444444,
             "#bd3786"
            ],
            [
             0.5555555555555556,
             "#d8576b"
            ],
            [
             0.6666666666666666,
             "#ed7953"
            ],
            [
             0.7777777777777778,
             "#fb9f3a"
            ],
            [
             0.8888888888888888,
             "#fdca26"
            ],
            [
             1,
             "#f0f921"
            ]
           ]
          },
          "colorway": [
           "#636efa",
           "#EF553B",
           "#00cc96",
           "#ab63fa",
           "#FFA15A",
           "#19d3f3",
           "#FF6692",
           "#B6E880",
           "#FF97FF",
           "#FECB52"
          ],
          "font": {
           "color": "#2a3f5f"
          },
          "geo": {
           "bgcolor": "white",
           "lakecolor": "white",
           "landcolor": "#E5ECF6",
           "showlakes": true,
           "showland": true,
           "subunitcolor": "white"
          },
          "hoverlabel": {
           "align": "left"
          },
          "hovermode": "closest",
          "mapbox": {
           "style": "light"
          },
          "paper_bgcolor": "white",
          "plot_bgcolor": "#E5ECF6",
          "polar": {
           "angularaxis": {
            "gridcolor": "white",
            "linecolor": "white",
            "ticks": ""
           },
           "bgcolor": "#E5ECF6",
           "radialaxis": {
            "gridcolor": "white",
            "linecolor": "white",
            "ticks": ""
           }
          },
          "scene": {
           "xaxis": {
            "backgroundcolor": "#E5ECF6",
            "gridcolor": "white",
            "gridwidth": 2,
            "linecolor": "white",
            "showbackground": true,
            "ticks": "",
            "zerolinecolor": "white"
           },
           "yaxis": {
            "backgroundcolor": "#E5ECF6",
            "gridcolor": "white",
            "gridwidth": 2,
            "linecolor": "white",
            "showbackground": true,
            "ticks": "",
            "zerolinecolor": "white"
           },
           "zaxis": {
            "backgroundcolor": "#E5ECF6",
            "gridcolor": "white",
            "gridwidth": 2,
            "linecolor": "white",
            "showbackground": true,
            "ticks": "",
            "zerolinecolor": "white"
           }
          },
          "shapedefaults": {
           "line": {
            "color": "#2a3f5f"
           }
          },
          "ternary": {
           "aaxis": {
            "gridcolor": "white",
            "linecolor": "white",
            "ticks": ""
           },
           "baxis": {
            "gridcolor": "white",
            "linecolor": "white",
            "ticks": ""
           },
           "bgcolor": "#E5ECF6",
           "caxis": {
            "gridcolor": "white",
            "linecolor": "white",
            "ticks": ""
           }
          },
          "title": {
           "x": 0.05
          },
          "xaxis": {
           "automargin": true,
           "gridcolor": "white",
           "linecolor": "white",
           "ticks": "",
           "title": {
            "standoff": 15
           },
           "zerolinecolor": "white",
           "zerolinewidth": 2
          },
          "yaxis": {
           "automargin": true,
           "gridcolor": "white",
           "linecolor": "white",
           "ticks": "",
           "title": {
            "standoff": 15
           },
           "zerolinecolor": "white",
           "zerolinewidth": 2
          }
         }
        },
        "title": {
         "text": "Percent Change in Patent Count per State (Pre vs Post COVID)"
        },
        "xaxis": {
         "anchor": "y",
         "categoryorder": "total descending",
         "domain": [
          0,
          1
         ],
         "title": {
          "text": "disambig_state"
         }
        },
        "yaxis": {
         "anchor": "x",
         "domain": [
          0,
          1
         ],
         "title": {
          "text": "Percent Change (%)"
         }
        }
       }
      }
     },
     "metadata": {},
     "output_type": "display_data"
    }
   ],
   "source": [
    "\n",
    "fig = px.bar(percent_change_df.sort_values('percent_change', ascending=False),\n",
    "             x='disambig_state', y='percent_change',\n",
    "             title='Percent Change in Patent Count per State (Pre vs Post COVID)',\n",
    "             labels={'percent_change': 'Percent Change (%)'},\n",
    "             color='percent_change',\n",
    "             color_continuous_scale='RdYlGn')\n",
    "\n",
    "fig.update_layout(xaxis={'categoryorder':'total descending'})\n",
    "fig.show()"
   ]
  },
  {
   "cell_type": "code",
   "execution_count": 43,
   "id": "e39d24ba",
   "metadata": {},
   "outputs": [
    {
     "data": {
      "text/html": [
       "<div>\n",
       "<style scoped>\n",
       "    .dataframe tbody tr th:only-of-type {\n",
       "        vertical-align: middle;\n",
       "    }\n",
       "\n",
       "    .dataframe tbody tr th {\n",
       "        vertical-align: top;\n",
       "    }\n",
       "\n",
       "    .dataframe thead th {\n",
       "        text-align: right;\n",
       "    }\n",
       "</style>\n",
       "<table border=\"1\" class=\"dataframe\">\n",
       "  <thead>\n",
       "    <tr style=\"text-align: right;\">\n",
       "      <th></th>\n",
       "      <th>disambig_state</th>\n",
       "      <th>pre_avg</th>\n",
       "      <th>post_avg</th>\n",
       "      <th>percent_change</th>\n",
       "    </tr>\n",
       "  </thead>\n",
       "  <tbody>\n",
       "    <tr>\n",
       "      <th>48</th>\n",
       "      <td>VI</td>\n",
       "      <td>7</td>\n",
       "      <td>21</td>\n",
       "      <td>200.000000</td>\n",
       "    </tr>\n",
       "    <tr>\n",
       "      <th>14</th>\n",
       "      <td>ID</td>\n",
       "      <td>4340</td>\n",
       "      <td>10013</td>\n",
       "      <td>130.714286</td>\n",
       "    </tr>\n",
       "    <tr>\n",
       "      <th>27</th>\n",
       "      <td>MT</td>\n",
       "      <td>762</td>\n",
       "      <td>1483</td>\n",
       "      <td>94.619423</td>\n",
       "    </tr>\n",
       "    <tr>\n",
       "      <th>47</th>\n",
       "      <td>VA</td>\n",
       "      <td>13977</td>\n",
       "      <td>24806</td>\n",
       "      <td>77.477284</td>\n",
       "    </tr>\n",
       "    <tr>\n",
       "      <th>7</th>\n",
       "      <td>DC</td>\n",
       "      <td>1382</td>\n",
       "      <td>2447</td>\n",
       "      <td>77.062229</td>\n",
       "    </tr>\n",
       "    <tr>\n",
       "      <th>34</th>\n",
       "      <td>NV</td>\n",
       "      <td>3124</td>\n",
       "      <td>5409</td>\n",
       "      <td>73.143406</td>\n",
       "    </tr>\n",
       "    <tr>\n",
       "      <th>40</th>\n",
       "      <td>PR</td>\n",
       "      <td>196</td>\n",
       "      <td>335</td>\n",
       "      <td>70.918367</td>\n",
       "    </tr>\n",
       "    <tr>\n",
       "      <th>44</th>\n",
       "      <td>TN</td>\n",
       "      <td>6018</td>\n",
       "      <td>10165</td>\n",
       "      <td>68.909937</td>\n",
       "    </tr>\n",
       "    <tr>\n",
       "      <th>37</th>\n",
       "      <td>OK</td>\n",
       "      <td>2873</td>\n",
       "      <td>4813</td>\n",
       "      <td>67.525235</td>\n",
       "    </tr>\n",
       "    <tr>\n",
       "      <th>43</th>\n",
       "      <td>SD</td>\n",
       "      <td>597</td>\n",
       "      <td>982</td>\n",
       "      <td>64.489112</td>\n",
       "    </tr>\n",
       "    <tr>\n",
       "      <th>38</th>\n",
       "      <td>OR</td>\n",
       "      <td>18786</td>\n",
       "      <td>30613</td>\n",
       "      <td>62.956457</td>\n",
       "    </tr>\n",
       "    <tr>\n",
       "      <th>51</th>\n",
       "      <td>WI</td>\n",
       "      <td>13686</td>\n",
       "      <td>22233</td>\n",
       "      <td>62.450680</td>\n",
       "    </tr>\n",
       "    <tr>\n",
       "      <th>4</th>\n",
       "      <td>CA</td>\n",
       "      <td>263367</td>\n",
       "      <td>424188</td>\n",
       "      <td>61.063459</td>\n",
       "    </tr>\n",
       "    <tr>\n",
       "      <th>12</th>\n",
       "      <td>HI</td>\n",
       "      <td>499</td>\n",
       "      <td>801</td>\n",
       "      <td>60.521042</td>\n",
       "    </tr>\n",
       "    <tr>\n",
       "      <th>5</th>\n",
       "      <td>CO</td>\n",
       "      <td>16215</td>\n",
       "      <td>25807</td>\n",
       "      <td>59.155103</td>\n",
       "    </tr>\n",
       "    <tr>\n",
       "      <th>9</th>\n",
       "      <td>FL</td>\n",
       "      <td>19760</td>\n",
       "      <td>31397</td>\n",
       "      <td>58.891700</td>\n",
       "    </tr>\n",
       "    <tr>\n",
       "      <th>3</th>\n",
       "      <td>AZ</td>\n",
       "      <td>14962</td>\n",
       "      <td>23647</td>\n",
       "      <td>58.047053</td>\n",
       "    </tr>\n",
       "    <tr>\n",
       "      <th>45</th>\n",
       "      <td>TX</td>\n",
       "      <td>61063</td>\n",
       "      <td>94919</td>\n",
       "      <td>55.444377</td>\n",
       "    </tr>\n",
       "    <tr>\n",
       "      <th>39</th>\n",
       "      <td>PA</td>\n",
       "      <td>24388</td>\n",
       "      <td>37434</td>\n",
       "      <td>53.493521</td>\n",
       "    </tr>\n",
       "    <tr>\n",
       "      <th>13</th>\n",
       "      <td>IA</td>\n",
       "      <td>5546</td>\n",
       "      <td>8496</td>\n",
       "      <td>53.191489</td>\n",
       "    </tr>\n",
       "    <tr>\n",
       "      <th>1</th>\n",
       "      <td>AL</td>\n",
       "      <td>2444</td>\n",
       "      <td>3713</td>\n",
       "      <td>51.923077</td>\n",
       "    </tr>\n",
       "    <tr>\n",
       "      <th>20</th>\n",
       "      <td>MA</td>\n",
       "      <td>49662</td>\n",
       "      <td>74995</td>\n",
       "      <td>51.010833</td>\n",
       "    </tr>\n",
       "    <tr>\n",
       "      <th>29</th>\n",
       "      <td>ND</td>\n",
       "      <td>673</td>\n",
       "      <td>1014</td>\n",
       "      <td>50.668648</td>\n",
       "    </tr>\n",
       "    <tr>\n",
       "      <th>8</th>\n",
       "      <td>DE</td>\n",
       "      <td>1789</td>\n",
       "      <td>2695</td>\n",
       "      <td>50.642817</td>\n",
       "    </tr>\n",
       "  </tbody>\n",
       "</table>\n",
       "</div>"
      ],
      "text/plain": [
       "   disambig_state  pre_avg  post_avg  percent_change\n",
       "48             VI        7        21      200.000000\n",
       "14             ID     4340     10013      130.714286\n",
       "27             MT      762      1483       94.619423\n",
       "47             VA    13977     24806       77.477284\n",
       "7              DC     1382      2447       77.062229\n",
       "34             NV     3124      5409       73.143406\n",
       "40             PR      196       335       70.918367\n",
       "44             TN     6018     10165       68.909937\n",
       "37             OK     2873      4813       67.525235\n",
       "43             SD      597       982       64.489112\n",
       "38             OR    18786     30613       62.956457\n",
       "51             WI    13686     22233       62.450680\n",
       "4              CA   263367    424188       61.063459\n",
       "12             HI      499       801       60.521042\n",
       "5              CO    16215     25807       59.155103\n",
       "9              FL    19760     31397       58.891700\n",
       "3              AZ    14962     23647       58.047053\n",
       "45             TX    61063     94919       55.444377\n",
       "39             PA    24388     37434       53.493521\n",
       "13             IA     5546      8496       53.191489\n",
       "1              AL     2444      3713       51.923077\n",
       "20             MA    49662     74995       51.010833\n",
       "29             ND      673      1014       50.668648\n",
       "8              DE     1789      2695       50.642817"
      ]
     },
     "metadata": {},
     "output_type": "display_data"
    }
   ],
   "source": [
    "high_growth_states = percent_change_df[percent_change_df['percent_change'] > 50]\n",
    "display(high_growth_states)"
   ]
  },
  {
   "cell_type": "code",
   "execution_count": 37,
   "id": "2a443ff0",
   "metadata": {},
   "outputs": [
    {
     "name": "stdout",
     "output_type": "stream",
     "text": [
      "count    5.600000e+01\n",
      "mean     1.417145e+05\n",
      "std      2.974905e+05\n",
      "min      1.000000e+00\n",
      "25%      1.212425e+04\n",
      "50%      4.912950e+04\n",
      "75%      1.496078e+05\n",
      "max      2.101519e+06\n",
      "dtype: float64\n"
     ]
    }
   ],
   "source": [
    "summary = df.groupby('disambig_state').size().describe()\n",
    "print(summary)"
   ]
  },
  {
   "cell_type": "markdown",
   "id": "25dcd770",
   "metadata": {},
   "source": [
    "# Total Patents File Export\n",
    "- This file will be used later for the calculation of Hypothesis 3"
   ]
  },
  {
   "cell_type": "code",
   "execution_count": 38,
   "id": "a367175b",
   "metadata": {},
   "outputs": [],
   "source": [
    "state_counts = new_merged_df.groupby('disambig_state').size().reset_index(name='patent_count')\n"
   ]
  },
  {
   "cell_type": "code",
   "execution_count": 39,
   "id": "ff4775ad",
   "metadata": {},
   "outputs": [
    {
     "name": "stdout",
     "output_type": "stream",
     "text": [
      "   disambig_state  patent_count\n",
      "0              AB         28685\n",
      "1              AK          1930\n",
      "2              AL         25834\n",
      "3              AR         13143\n",
      "4              AS             1\n",
      "..            ...           ...\n",
      "63             WA        374989\n",
      "64             WI        134070\n",
      "65             WV          8624\n",
      "66             WY          4153\n",
      "67             YT            86\n",
      "\n",
      "[68 rows x 2 columns]\n"
     ]
    }
   ],
   "source": [
    "print(state_counts)"
   ]
  },
  {
   "cell_type": "code",
   "execution_count": 40,
   "id": "8bdf1921",
   "metadata": {},
   "outputs": [],
   "source": [
    "state_counts.to_csv('./data/total_patents.csv', index=False)\n"
   ]
  }
 ],
 "metadata": {
  "kernelspec": {
   "display_name": "Python 3",
   "language": "python",
   "name": "python3"
  },
  "language_info": {
   "codemirror_mode": {
    "name": "ipython",
    "version": 3
   },
   "file_extension": ".py",
   "mimetype": "text/x-python",
   "name": "python",
   "nbconvert_exporter": "python",
   "pygments_lexer": "ipython3",
   "version": "3.13.1"
  }
 },
 "nbformat": 4,
 "nbformat_minor": 5
}
