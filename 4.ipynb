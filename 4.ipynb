{
 "cells": [
  {
   "cell_type": "markdown",
   "id": "1262b16da22608fb",
   "metadata": {},
   "source": [
    "4. Assignee Type and Geographic Concentration\n",
    "We hypothesize that patents assigned to organizations (companies, universities, government) show a more concentrated geographic footprint compared to patents with individual or no clear assignee. Specifically, we expect corporate-assigned patents to cluster around business hubs (California and New York), while individually filed patents may appear more dispersed."
   ]
  },
  {
   "cell_type": "code",
   "execution_count": 1,
   "id": "initial_id",
   "metadata": {
    "ExecuteTime": {
     "end_time": "2025-05-07T04:57:29.286060Z",
     "start_time": "2025-05-07T04:57:27.270810Z"
    },
    "collapsed": true
   },
   "outputs": [],
   "source": [
    "import pandas as pd\n",
    "import plotly.graph_objects as go\n",
    "import plotly.express as px\n",
    "import plotly.io as pio\n",
    "import json\n",
    "import requests"
   ]
  },
  {
   "cell_type": "code",
   "execution_count": 2,
   "id": "945d665d08b63c27",
   "metadata": {
    "ExecuteTime": {
     "end_time": "2025-05-07T04:57:30.227046Z",
     "start_time": "2025-05-07T04:57:29.907947Z"
    }
   },
   "outputs": [
    {
     "data": {
      "text/html": [
       "<div>\n",
       "<style scoped>\n",
       "    .dataframe tbody tr th:only-of-type {\n",
       "        vertical-align: middle;\n",
       "    }\n",
       "\n",
       "    .dataframe tbody tr th {\n",
       "        vertical-align: top;\n",
       "    }\n",
       "\n",
       "    .dataframe thead th {\n",
       "        text-align: right;\n",
       "    }\n",
       "</style>\n",
       "<table border=\"1\" class=\"dataframe\">\n",
       "  <thead>\n",
       "    <tr style=\"text-align: right;\">\n",
       "      <th></th>\n",
       "      <th>location_id</th>\n",
       "      <th>disambig_city</th>\n",
       "      <th>disambig_state</th>\n",
       "      <th>disambig_country</th>\n",
       "      <th>latitude</th>\n",
       "      <th>longitude</th>\n",
       "      <th>county</th>\n",
       "      <th>state_fips</th>\n",
       "      <th>county_fips</th>\n",
       "    </tr>\n",
       "  </thead>\n",
       "  <tbody>\n",
       "    <tr>\n",
       "      <th>0</th>\n",
       "      <td>00235947-16c8-11ed-9b5f-1234bde3cd05</td>\n",
       "      <td>Westfield</td>\n",
       "      <td>PA</td>\n",
       "      <td>US</td>\n",
       "      <td>41.919237</td>\n",
       "      <td>-77.538874</td>\n",
       "      <td>Tioga</td>\n",
       "      <td>42.0</td>\n",
       "      <td>117.0</td>\n",
       "    </tr>\n",
       "    <tr>\n",
       "      <th>1</th>\n",
       "      <td>00236a27-16c8-11ed-9b5f-1234bde3cd05</td>\n",
       "      <td>Helfenstein</td>\n",
       "      <td>PA</td>\n",
       "      <td>US</td>\n",
       "      <td>40.750499</td>\n",
       "      <td>-76.447334</td>\n",
       "      <td>Schuylkill County</td>\n",
       "      <td>42.0</td>\n",
       "      <td>107.0</td>\n",
       "    </tr>\n",
       "    <tr>\n",
       "      <th>2</th>\n",
       "      <td>00236f47-16c8-11ed-9b5f-1234bde3cd05</td>\n",
       "      <td>Pine Forge</td>\n",
       "      <td>PA</td>\n",
       "      <td>US</td>\n",
       "      <td>40.281920</td>\n",
       "      <td>-75.692236</td>\n",
       "      <td>Berks County</td>\n",
       "      <td>42.0</td>\n",
       "      <td>11.0</td>\n",
       "    </tr>\n",
       "    <tr>\n",
       "      <th>3</th>\n",
       "      <td>00237418-16c8-11ed-9b5f-1234bde3cd05</td>\n",
       "      <td>Partlow</td>\n",
       "      <td>VA</td>\n",
       "      <td>US</td>\n",
       "      <td>38.038748</td>\n",
       "      <td>-77.638876</td>\n",
       "      <td>Spotsylvania County</td>\n",
       "      <td>51.0</td>\n",
       "      <td>177.0</td>\n",
       "    </tr>\n",
       "    <tr>\n",
       "      <th>4</th>\n",
       "      <td>002378d7-16c8-11ed-9b5f-1234bde3cd05</td>\n",
       "      <td>Stumpy Point</td>\n",
       "      <td>NC</td>\n",
       "      <td>US</td>\n",
       "      <td>35.698506</td>\n",
       "      <td>-75.740453</td>\n",
       "      <td>Dare</td>\n",
       "      <td>37.0</td>\n",
       "      <td>55.0</td>\n",
       "    </tr>\n",
       "  </tbody>\n",
       "</table>\n",
       "</div>"
      ],
      "text/plain": [
       "                            location_id disambig_city disambig_state  \\\n",
       "0  00235947-16c8-11ed-9b5f-1234bde3cd05     Westfield             PA   \n",
       "1  00236a27-16c8-11ed-9b5f-1234bde3cd05   Helfenstein             PA   \n",
       "2  00236f47-16c8-11ed-9b5f-1234bde3cd05    Pine Forge             PA   \n",
       "3  00237418-16c8-11ed-9b5f-1234bde3cd05       Partlow             VA   \n",
       "4  002378d7-16c8-11ed-9b5f-1234bde3cd05  Stumpy Point             NC   \n",
       "\n",
       "  disambig_country   latitude  longitude               county  state_fips  \\\n",
       "0               US  41.919237 -77.538874                Tioga        42.0   \n",
       "1               US  40.750499 -76.447334    Schuylkill County        42.0   \n",
       "2               US  40.281920 -75.692236         Berks County        42.0   \n",
       "3               US  38.038748 -77.638876  Spotsylvania County        51.0   \n",
       "4               US  35.698506 -75.740453                 Dare        37.0   \n",
       "\n",
       "   county_fips  \n",
       "0        117.0  \n",
       "1        107.0  \n",
       "2         11.0  \n",
       "3        177.0  \n",
       "4         55.0  "
      ]
     },
     "execution_count": 2,
     "metadata": {},
     "output_type": "execute_result"
    }
   ],
   "source": [
    "loc_df = pd.read_csv(\"data/g_location_disambiguated.tsv\", sep=\"\\t\", header=0)\n",
    "loc_df[:5]"
   ]
  },
  {
   "cell_type": "code",
   "execution_count": 3,
   "id": "8edc514ca9da318c",
   "metadata": {
    "ExecuteTime": {
     "end_time": "2025-05-07T04:57:41.207873Z",
     "start_time": "2025-05-07T04:57:30.337233Z"
    }
   },
   "outputs": [
    {
     "name": "stderr",
     "output_type": "stream",
     "text": [
      "/var/folders/p9/bgpcjxgn0rz4pvkjs39ch9740000gn/T/ipykernel_4090/3683190229.py:1: DtypeWarning: Columns (0,2,4) have mixed types. Specify dtype option on import or set low_memory=False.\n",
      "  app_df = pd.read_csv(\"g_application.tsv\", sep=\"\\t\", header=0)\n"
     ]
    },
    {
     "data": {
      "text/html": [
       "<div>\n",
       "<style scoped>\n",
       "    .dataframe tbody tr th:only-of-type {\n",
       "        vertical-align: middle;\n",
       "    }\n",
       "\n",
       "    .dataframe tbody tr th {\n",
       "        vertical-align: top;\n",
       "    }\n",
       "\n",
       "    .dataframe thead th {\n",
       "        text-align: right;\n",
       "    }\n",
       "</style>\n",
       "<table border=\"1\" class=\"dataframe\">\n",
       "  <thead>\n",
       "    <tr style=\"text-align: right;\">\n",
       "      <th></th>\n",
       "      <th>application_id</th>\n",
       "      <th>patent_id</th>\n",
       "      <th>patent_application_type</th>\n",
       "      <th>filing_date</th>\n",
       "      <th>series_code</th>\n",
       "      <th>rule_47_flag</th>\n",
       "    </tr>\n",
       "  </thead>\n",
       "  <tbody>\n",
       "    <tr>\n",
       "      <th>0</th>\n",
       "      <td>05497504</td>\n",
       "      <td>3963197</td>\n",
       "      <td>05</td>\n",
       "      <td>1074-08-14</td>\n",
       "      <td>05</td>\n",
       "      <td>0.0</td>\n",
       "    </tr>\n",
       "    <tr>\n",
       "      <th>1</th>\n",
       "      <td>05508062</td>\n",
       "      <td>3933359</td>\n",
       "      <td>05</td>\n",
       "      <td>1074-09-23</td>\n",
       "      <td>05</td>\n",
       "      <td>0.0</td>\n",
       "    </tr>\n",
       "    <tr>\n",
       "      <th>2</th>\n",
       "      <td>05518254</td>\n",
       "      <td>3941467</td>\n",
       "      <td>05</td>\n",
       "      <td>1074-10-29</td>\n",
       "      <td>05</td>\n",
       "      <td>0.0</td>\n",
       "    </tr>\n",
       "    <tr>\n",
       "      <th>3</th>\n",
       "      <td>05518570</td>\n",
       "      <td>3936670</td>\n",
       "      <td>05</td>\n",
       "      <td>1074-10-29</td>\n",
       "      <td>05</td>\n",
       "      <td>0.0</td>\n",
       "    </tr>\n",
       "    <tr>\n",
       "      <th>4</th>\n",
       "      <td>05555245</td>\n",
       "      <td>4003574</td>\n",
       "      <td>05</td>\n",
       "      <td>1075-03-04</td>\n",
       "      <td>05</td>\n",
       "      <td>0.0</td>\n",
       "    </tr>\n",
       "  </tbody>\n",
       "</table>\n",
       "</div>"
      ],
      "text/plain": [
       "  application_id patent_id patent_application_type filing_date series_code  \\\n",
       "0       05497504   3963197                      05  1074-08-14          05   \n",
       "1       05508062   3933359                      05  1074-09-23          05   \n",
       "2       05518254   3941467                      05  1074-10-29          05   \n",
       "3       05518570   3936670                      05  1074-10-29          05   \n",
       "4       05555245   4003574                      05  1075-03-04          05   \n",
       "\n",
       "   rule_47_flag  \n",
       "0           0.0  \n",
       "1           0.0  \n",
       "2           0.0  \n",
       "3           0.0  \n",
       "4           0.0  "
      ]
     },
     "execution_count": 3,
     "metadata": {},
     "output_type": "execute_result"
    }
   ],
   "source": [
    "app_df = pd.read_csv(\"data/g_application.tsv\", sep=\"\\t\", header=0)\n",
    "app_df[:5]"
   ]
  },
  {
   "cell_type": "code",
   "execution_count": 4,
   "id": "aadb59f301abddbd",
   "metadata": {
    "ExecuteTime": {
     "end_time": "2025-05-07T04:58:04.026326Z",
     "start_time": "2025-05-07T04:57:41.369927Z"
    }
   },
   "outputs": [
    {
     "data": {
      "text/html": [
       "<div>\n",
       "<style scoped>\n",
       "    .dataframe tbody tr th:only-of-type {\n",
       "        vertical-align: middle;\n",
       "    }\n",
       "\n",
       "    .dataframe tbody tr th {\n",
       "        vertical-align: top;\n",
       "    }\n",
       "\n",
       "    .dataframe thead th {\n",
       "        text-align: right;\n",
       "    }\n",
       "</style>\n",
       "<table border=\"1\" class=\"dataframe\">\n",
       "  <thead>\n",
       "    <tr style=\"text-align: right;\">\n",
       "      <th></th>\n",
       "      <th>patent_id</th>\n",
       "      <th>assignee_sequence</th>\n",
       "      <th>assignee_id</th>\n",
       "      <th>disambig_assignee_individual_name_first</th>\n",
       "      <th>disambig_assignee_individual_name_last</th>\n",
       "      <th>disambig_assignee_organization</th>\n",
       "      <th>assignee_type</th>\n",
       "      <th>location_id</th>\n",
       "    </tr>\n",
       "  </thead>\n",
       "  <tbody>\n",
       "    <tr>\n",
       "      <th>0</th>\n",
       "      <td>4488683</td>\n",
       "      <td>0</td>\n",
       "      <td>7f675c65-8447-40ca-8147-b9c093a37237</td>\n",
       "      <td>NaN</td>\n",
       "      <td>NaN</td>\n",
       "      <td>Metal Works Ramat David</td>\n",
       "      <td>3.0</td>\n",
       "      <td>50dc5d46-16c8-11ed-9b5f-1234bde3cd05</td>\n",
       "    </tr>\n",
       "    <tr>\n",
       "      <th>1</th>\n",
       "      <td>11872626</td>\n",
       "      <td>0</td>\n",
       "      <td>225f1f9f-3540-4c39-9ae7-7621dd54ac76</td>\n",
       "      <td>NaN</td>\n",
       "      <td>NaN</td>\n",
       "      <td>DIVERGENT TECHNOLOGIES, INC.</td>\n",
       "      <td>2.0</td>\n",
       "      <td>15c69712-16c8-11ed-9b5f-1234bde3cd05</td>\n",
       "    </tr>\n",
       "    <tr>\n",
       "      <th>2</th>\n",
       "      <td>5856666</td>\n",
       "      <td>0</td>\n",
       "      <td>94fe09ed-98d1-416b-83b5-98ee41249b5c</td>\n",
       "      <td>NaN</td>\n",
       "      <td>NaN</td>\n",
       "      <td>U.S. Philips Corporation</td>\n",
       "      <td>2.0</td>\n",
       "      <td>92237ca2-16c8-11ed-9b5f-1234bde3cd05</td>\n",
       "    </tr>\n",
       "    <tr>\n",
       "      <th>3</th>\n",
       "      <td>5204210</td>\n",
       "      <td>0</td>\n",
       "      <td>d1a6baec-354d-4ab2-b952-0dc79e430a4b</td>\n",
       "      <td>NaN</td>\n",
       "      <td>NaN</td>\n",
       "      <td>Xerox Corporation</td>\n",
       "      <td>2.0</td>\n",
       "      <td>0cd1998f-16c8-11ed-9b5f-1234bde3cd05</td>\n",
       "    </tr>\n",
       "    <tr>\n",
       "      <th>4</th>\n",
       "      <td>5302149</td>\n",
       "      <td>1</td>\n",
       "      <td>9fe92432-4ade-44f4-9be2-d4fc8e92054b</td>\n",
       "      <td>NaN</td>\n",
       "      <td>NaN</td>\n",
       "      <td>Commonwealth Scientific and Industrial Researc...</td>\n",
       "      <td>3.0</td>\n",
       "      <td>4d36742f-16c8-11ed-9b5f-1234bde3cd05</td>\n",
       "    </tr>\n",
       "  </tbody>\n",
       "</table>\n",
       "</div>"
      ],
      "text/plain": [
       "  patent_id  assignee_sequence                           assignee_id  \\\n",
       "0   4488683                  0  7f675c65-8447-40ca-8147-b9c093a37237   \n",
       "1  11872626                  0  225f1f9f-3540-4c39-9ae7-7621dd54ac76   \n",
       "2   5856666                  0  94fe09ed-98d1-416b-83b5-98ee41249b5c   \n",
       "3   5204210                  0  d1a6baec-354d-4ab2-b952-0dc79e430a4b   \n",
       "4   5302149                  1  9fe92432-4ade-44f4-9be2-d4fc8e92054b   \n",
       "\n",
       "  disambig_assignee_individual_name_first  \\\n",
       "0                                     NaN   \n",
       "1                                     NaN   \n",
       "2                                     NaN   \n",
       "3                                     NaN   \n",
       "4                                     NaN   \n",
       "\n",
       "  disambig_assignee_individual_name_last  \\\n",
       "0                                    NaN   \n",
       "1                                    NaN   \n",
       "2                                    NaN   \n",
       "3                                    NaN   \n",
       "4                                    NaN   \n",
       "\n",
       "                      disambig_assignee_organization  assignee_type  \\\n",
       "0                            Metal Works Ramat David            3.0   \n",
       "1                       DIVERGENT TECHNOLOGIES, INC.            2.0   \n",
       "2                           U.S. Philips Corporation            2.0   \n",
       "3                                  Xerox Corporation            2.0   \n",
       "4  Commonwealth Scientific and Industrial Researc...            3.0   \n",
       "\n",
       "                            location_id  \n",
       "0  50dc5d46-16c8-11ed-9b5f-1234bde3cd05  \n",
       "1  15c69712-16c8-11ed-9b5f-1234bde3cd05  \n",
       "2  92237ca2-16c8-11ed-9b5f-1234bde3cd05  \n",
       "3  0cd1998f-16c8-11ed-9b5f-1234bde3cd05  \n",
       "4  4d36742f-16c8-11ed-9b5f-1234bde3cd05  "
      ]
     },
     "execution_count": 4,
     "metadata": {},
     "output_type": "execute_result"
    }
   ],
   "source": [
    "assign_df = pd.read_csv(\"data/g_assignee_disambiguated.tsv\", sep=\"\\t\", header=0)\n",
    "assign_df[:5]"
   ]
  },
  {
   "cell_type": "code",
   "execution_count": 5,
   "id": "435a9f908cf75164",
   "metadata": {
    "ExecuteTime": {
     "end_time": "2025-05-07T04:58:04.266971Z",
     "start_time": "2025-05-07T04:58:04.237877Z"
    }
   },
   "outputs": [],
   "source": [
    "#assign_df['assignee_type'].value_counts()"
   ]
  },
  {
   "cell_type": "code",
   "execution_count": 6,
   "id": "6562dd7cc5af7497",
   "metadata": {
    "ExecuteTime": {
     "end_time": "2025-05-07T04:58:37.452475Z",
     "start_time": "2025-05-07T04:58:04.639799Z"
    }
   },
   "outputs": [],
   "source": [
    "patent_df = app_df.merge(\n",
    "    assign_df[['patent_id', 'location_id', 'assignee_type']],\n",
    "    on=\"patent_id\",\n",
    "    how=\"left\")\n",
    "patent_df = patent_df.merge(\n",
    "    loc_df[['location_id', 'disambig_state', 'disambig_country', 'latitude', 'longitude', 'state_fips', 'county_fips']],\n",
    "    on=\"location_id\",\n",
    "    how=\"left\")"
   ]
  },
  {
   "cell_type": "code",
   "execution_count": 7,
   "id": "1d73ad97ac694fdb",
   "metadata": {
    "ExecuteTime": {
     "end_time": "2025-05-07T04:59:08.422286Z",
     "start_time": "2025-05-07T04:59:08.337242Z"
    }
   },
   "outputs": [
    {
     "data": {
      "text/html": [
       "<div>\n",
       "<style scoped>\n",
       "    .dataframe tbody tr th:only-of-type {\n",
       "        vertical-align: middle;\n",
       "    }\n",
       "\n",
       "    .dataframe tbody tr th {\n",
       "        vertical-align: top;\n",
       "    }\n",
       "\n",
       "    .dataframe thead th {\n",
       "        text-align: right;\n",
       "    }\n",
       "</style>\n",
       "<table border=\"1\" class=\"dataframe\">\n",
       "  <thead>\n",
       "    <tr style=\"text-align: right;\">\n",
       "      <th></th>\n",
       "      <th>application_id</th>\n",
       "      <th>patent_id</th>\n",
       "      <th>patent_application_type</th>\n",
       "      <th>filing_date</th>\n",
       "      <th>series_code</th>\n",
       "      <th>rule_47_flag</th>\n",
       "      <th>location_id</th>\n",
       "      <th>assignee_type</th>\n",
       "      <th>disambig_state</th>\n",
       "      <th>disambig_country</th>\n",
       "      <th>latitude</th>\n",
       "      <th>longitude</th>\n",
       "      <th>state_fips</th>\n",
       "      <th>county_fips</th>\n",
       "    </tr>\n",
       "  </thead>\n",
       "  <tbody>\n",
       "    <tr>\n",
       "      <th>0</th>\n",
       "      <td>05497504</td>\n",
       "      <td>3963197</td>\n",
       "      <td>05</td>\n",
       "      <td>1074-08-14</td>\n",
       "      <td>05</td>\n",
       "      <td>0.0</td>\n",
       "      <td>NaN</td>\n",
       "      <td>3.0</td>\n",
       "      <td>NaN</td>\n",
       "      <td>NaN</td>\n",
       "      <td>NaN</td>\n",
       "      <td>NaN</td>\n",
       "      <td>NaN</td>\n",
       "      <td>NaN</td>\n",
       "    </tr>\n",
       "    <tr>\n",
       "      <th>1</th>\n",
       "      <td>05508062</td>\n",
       "      <td>3933359</td>\n",
       "      <td>05</td>\n",
       "      <td>1074-09-23</td>\n",
       "      <td>05</td>\n",
       "      <td>0.0</td>\n",
       "      <td>NaN</td>\n",
       "      <td>NaN</td>\n",
       "      <td>NaN</td>\n",
       "      <td>NaN</td>\n",
       "      <td>NaN</td>\n",
       "      <td>NaN</td>\n",
       "      <td>NaN</td>\n",
       "      <td>NaN</td>\n",
       "    </tr>\n",
       "    <tr>\n",
       "      <th>2</th>\n",
       "      <td>05518254</td>\n",
       "      <td>3941467</td>\n",
       "      <td>05</td>\n",
       "      <td>1074-10-29</td>\n",
       "      <td>05</td>\n",
       "      <td>0.0</td>\n",
       "      <td>a26e22db-16c8-11ed-9b5f-1234bde3cd05</td>\n",
       "      <td>2.0</td>\n",
       "      <td>CA</td>\n",
       "      <td>US</td>\n",
       "      <td>37.444329</td>\n",
       "      <td>-122.159847</td>\n",
       "      <td>6.0</td>\n",
       "      <td>85.0</td>\n",
       "    </tr>\n",
       "    <tr>\n",
       "      <th>3</th>\n",
       "      <td>05518570</td>\n",
       "      <td>3936670</td>\n",
       "      <td>05</td>\n",
       "      <td>1074-10-29</td>\n",
       "      <td>05</td>\n",
       "      <td>0.0</td>\n",
       "      <td>NaN</td>\n",
       "      <td>NaN</td>\n",
       "      <td>NaN</td>\n",
       "      <td>NaN</td>\n",
       "      <td>NaN</td>\n",
       "      <td>NaN</td>\n",
       "      <td>NaN</td>\n",
       "      <td>NaN</td>\n",
       "    </tr>\n",
       "    <tr>\n",
       "      <th>4</th>\n",
       "      <td>05555245</td>\n",
       "      <td>4003574</td>\n",
       "      <td>05</td>\n",
       "      <td>1075-03-04</td>\n",
       "      <td>05</td>\n",
       "      <td>0.0</td>\n",
       "      <td>a05a9b40-16c8-11ed-9b5f-1234bde3cd05</td>\n",
       "      <td>2.0</td>\n",
       "      <td>NJ</td>\n",
       "      <td>US</td>\n",
       "      <td>39.486278</td>\n",
       "      <td>-75.025426</td>\n",
       "      <td>34.0</td>\n",
       "      <td>11.0</td>\n",
       "    </tr>\n",
       "  </tbody>\n",
       "</table>\n",
       "</div>"
      ],
      "text/plain": [
       "  application_id patent_id patent_application_type filing_date series_code  \\\n",
       "0       05497504   3963197                      05  1074-08-14          05   \n",
       "1       05508062   3933359                      05  1074-09-23          05   \n",
       "2       05518254   3941467                      05  1074-10-29          05   \n",
       "3       05518570   3936670                      05  1074-10-29          05   \n",
       "4       05555245   4003574                      05  1075-03-04          05   \n",
       "\n",
       "   rule_47_flag                           location_id  assignee_type  \\\n",
       "0           0.0                                   NaN            3.0   \n",
       "1           0.0                                   NaN            NaN   \n",
       "2           0.0  a26e22db-16c8-11ed-9b5f-1234bde3cd05            2.0   \n",
       "3           0.0                                   NaN            NaN   \n",
       "4           0.0  a05a9b40-16c8-11ed-9b5f-1234bde3cd05            2.0   \n",
       "\n",
       "  disambig_state disambig_country   latitude   longitude  state_fips  \\\n",
       "0            NaN              NaN        NaN         NaN         NaN   \n",
       "1            NaN              NaN        NaN         NaN         NaN   \n",
       "2             CA               US  37.444329 -122.159847         6.0   \n",
       "3            NaN              NaN        NaN         NaN         NaN   \n",
       "4             NJ               US  39.486278  -75.025426        34.0   \n",
       "\n",
       "   county_fips  \n",
       "0          NaN  \n",
       "1          NaN  \n",
       "2         85.0  \n",
       "3          NaN  \n",
       "4         11.0  "
      ]
     },
     "execution_count": 7,
     "metadata": {},
     "output_type": "execute_result"
    }
   ],
   "source": [
    "patent_df[:5]"
   ]
  },
  {
   "cell_type": "code",
   "execution_count": 8,
   "id": "afcf64eb10a35168",
   "metadata": {
    "ExecuteTime": {
     "end_time": "2025-05-07T04:59:15.244949Z",
     "start_time": "2025-05-07T04:59:09.114927Z"
    }
   },
   "outputs": [],
   "source": [
    "us_patent_df = patent_df[patent_df['disambig_country'] == 'US']"
   ]
  },
  {
   "cell_type": "code",
   "execution_count": 9,
   "id": "3c930fdb7a77e1b4",
   "metadata": {
    "ExecuteTime": {
     "end_time": "2025-05-07T05:02:11.099068Z",
     "start_time": "2025-05-07T05:02:11.024518Z"
    }
   },
   "outputs": [
    {
     "data": {
      "text/plain": [
       "4195067"
      ]
     },
     "execution_count": 9,
     "metadata": {},
     "output_type": "execute_result"
    }
   ],
   "source": [
    "len(us_patent_df)"
   ]
  },
  {
   "cell_type": "code",
   "execution_count": 10,
   "id": "3bb955f27901c535",
   "metadata": {
    "ExecuteTime": {
     "end_time": "2025-05-07T05:02:29.031232Z",
     "start_time": "2025-05-07T05:02:18.680750Z"
    }
   },
   "outputs": [
    {
     "name": "stderr",
     "output_type": "stream",
     "text": [
      "/var/folders/p9/bgpcjxgn0rz4pvkjs39ch9740000gn/T/ipykernel_4090/1108498838.py:2: SettingWithCopyWarning: \n",
      "A value is trying to be set on a copy of a slice from a DataFrame.\n",
      "Try using .loc[row_indexer,col_indexer] = value instead\n",
      "\n",
      "See the caveats in the documentation: https://pandas.pydata.org/pandas-docs/stable/user_guide/indexing.html#returning-a-view-versus-a-copy\n",
      "  cleaned_patent_df['assignee_type'] = cleaned_patent_df['assignee_type'].astype(int)\n",
      "/var/folders/p9/bgpcjxgn0rz4pvkjs39ch9740000gn/T/ipykernel_4090/1108498838.py:3: SettingWithCopyWarning: \n",
      "A value is trying to be set on a copy of a slice from a DataFrame.\n",
      "Try using .loc[row_indexer,col_indexer] = value instead\n",
      "\n",
      "See the caveats in the documentation: https://pandas.pydata.org/pandas-docs/stable/user_guide/indexing.html#returning-a-view-versus-a-copy\n",
      "  cleaned_patent_df['state_fips'] = cleaned_patent_df['state_fips'].astype(int).astype(str).str.zfill(2)\n",
      "/var/folders/p9/bgpcjxgn0rz4pvkjs39ch9740000gn/T/ipykernel_4090/1108498838.py:4: SettingWithCopyWarning: \n",
      "A value is trying to be set on a copy of a slice from a DataFrame.\n",
      "Try using .loc[row_indexer,col_indexer] = value instead\n",
      "\n",
      "See the caveats in the documentation: https://pandas.pydata.org/pandas-docs/stable/user_guide/indexing.html#returning-a-view-versus-a-copy\n",
      "  cleaned_patent_df['county_fips'] = cleaned_patent_df['county_fips'].astype(int).astype(str).str.zfill(3)\n",
      "/var/folders/p9/bgpcjxgn0rz4pvkjs39ch9740000gn/T/ipykernel_4090/1108498838.py:5: SettingWithCopyWarning: \n",
      "A value is trying to be set on a copy of a slice from a DataFrame.\n",
      "Try using .loc[row_indexer,col_indexer] = value instead\n",
      "\n",
      "See the caveats in the documentation: https://pandas.pydata.org/pandas-docs/stable/user_guide/indexing.html#returning-a-view-versus-a-copy\n",
      "  cleaned_patent_df['county_fips'] = cleaned_patent_df['state_fips'] + cleaned_patent_df['county_fips']\n"
     ]
    }
   ],
   "source": [
    "cleaned_patent_df = us_patent_df.dropna(subset=['assignee_type', 'state_fips', 'county_fips'])\n",
    "cleaned_patent_df['assignee_type'] = cleaned_patent_df['assignee_type'].astype(int)\n",
    "cleaned_patent_df['state_fips'] = cleaned_patent_df['state_fips'].astype(int).astype(str).str.zfill(2)\n",
    "cleaned_patent_df['county_fips'] = cleaned_patent_df['county_fips'].astype(int).astype(str).str.zfill(3)\n",
    "cleaned_patent_df['county_fips'] = cleaned_patent_df['state_fips'] + cleaned_patent_df['county_fips']"
   ]
  },
  {
   "cell_type": "code",
   "execution_count": 11,
   "id": "60706f6ae40126de",
   "metadata": {
    "ExecuteTime": {
     "end_time": "2025-05-07T05:02:29.299201Z",
     "start_time": "2025-05-07T05:02:29.142946Z"
    }
   },
   "outputs": [
    {
     "name": "stderr",
     "output_type": "stream",
     "text": [
      "/var/folders/p9/bgpcjxgn0rz4pvkjs39ch9740000gn/T/ipykernel_4090/570149089.py:1: SettingWithCopyWarning: \n",
      "A value is trying to be set on a copy of a slice from a DataFrame.\n",
      "Try using .loc[row_indexer,col_indexer] = value instead\n",
      "\n",
      "See the caveats in the documentation: https://pandas.pydata.org/pandas-docs/stable/user_guide/indexing.html#returning-a-view-versus-a-copy\n",
      "  cleaned_patent_df['type_name'] = cleaned_patent_df['assignee_type'].map({\n"
     ]
    }
   ],
   "source": [
    "cleaned_patent_df['type_name'] = cleaned_patent_df['assignee_type'].map({\n",
    "    1:'individual', 2:'company', 3:'company', 4:'individual', 5:'individual', 6:'government',\n",
    "    7:'government', 8:'government', 9:'government'\n",
    "})"
   ]
  },
  {
   "cell_type": "code",
   "execution_count": 12,
   "id": "ee1a4b9434370941",
   "metadata": {
    "ExecuteTime": {
     "end_time": "2025-05-07T05:02:29.935722Z",
     "start_time": "2025-05-07T05:02:29.673634Z"
    }
   },
   "outputs": [
    {
     "data": {
      "text/plain": [
       "type_name\n",
       "company       4070917\n",
       "government      49378\n",
       "individual      45038\n",
       "Name: count, dtype: int64"
      ]
     },
     "execution_count": 12,
     "metadata": {},
     "output_type": "execute_result"
    }
   ],
   "source": [
    "cleaned_patent_df['type_name'].value_counts()"
   ]
  },
  {
   "cell_type": "code",
   "execution_count": 13,
   "id": "ef712602c58a9df2",
   "metadata": {
    "ExecuteTime": {
     "end_time": "2025-05-07T05:02:29.983487Z",
     "start_time": "2025-05-07T05:02:29.975206Z"
    }
   },
   "outputs": [
    {
     "data": {
      "text/plain": [
       "4168865"
      ]
     },
     "execution_count": 13,
     "metadata": {},
     "output_type": "execute_result"
    }
   ],
   "source": [
    "len(cleaned_patent_df)"
   ]
  },
  {
   "cell_type": "code",
   "execution_count": 14,
   "id": "302b5ff5d08e6cd0",
   "metadata": {
    "ExecuteTime": {
     "end_time": "2025-05-07T05:02:35.253405Z",
     "start_time": "2025-05-07T05:02:30.041488Z"
    }
   },
   "outputs": [],
   "source": [
    "#cleaned_sample_df = cleaned_patent_df.sample(n=500000, random_state=42)\n",
    "\n",
    "company_sample_n = 50000\n",
    "# Keep all 'individual' and 'government' records\n",
    "filtered_df = cleaned_patent_df[cleaned_patent_df['type_name'].isin(['individual', 'government'])]\n",
    "\n",
    "# Randomly sample 'company' records\n",
    "company_sample = cleaned_patent_df[cleaned_patent_df['type_name'] == 'company'].sample(n=company_sample_n, random_state=42)\n",
    "\n",
    "# Combine them\n",
    "cleaned_sample_df = pd.concat([filtered_df, company_sample]).reset_index(drop=True)"
   ]
  },
  {
   "cell_type": "code",
   "execution_count": 15,
   "id": "6a702c1effb1870e",
   "metadata": {
    "ExecuteTime": {
     "end_time": "2025-05-07T05:02:35.448767Z",
     "start_time": "2025-05-07T05:02:35.420898Z"
    }
   },
   "outputs": [
    {
     "data": {
      "text/plain": [
       "type_name\n",
       "company       50000\n",
       "government    49378\n",
       "individual    45038\n",
       "Name: count, dtype: int64"
      ]
     },
     "execution_count": 15,
     "metadata": {},
     "output_type": "execute_result"
    }
   ],
   "source": [
    "cleaned_sample_df['type_name'].value_counts()"
   ]
  },
  {
   "cell_type": "code",
   "execution_count": 16,
   "id": "841cf28b9c4d205e",
   "metadata": {
    "ExecuteTime": {
     "end_time": "2025-05-07T05:02:36.816087Z",
     "start_time": "2025-05-07T05:02:35.638206Z"
    }
   },
   "outputs": [],
   "source": [
    "# Download U.S. counties GeoJSON (simplified)\n",
    "geojson_url = \"https://raw.githubusercontent.com/plotly/datasets/master/geojson-counties-fips.json\"\n",
    "counties_geo = requests.get(geojson_url).json()"
   ]
  },
  {
   "cell_type": "code",
   "execution_count": 17,
   "id": "1181bcaba82415b0",
   "metadata": {
    "ExecuteTime": {
     "end_time": "2025-05-07T05:02:40.237203Z",
     "start_time": "2025-05-07T05:02:36.947708Z"
    }
   },
   "outputs": [],
   "source": [
    "# Choropleth for individual density\n",
    "fig = px.scatter_geo(\n",
    "    cleaned_sample_df,\n",
    "    lat='latitude',\n",
    "    lon='longitude',\n",
    "    color='type_name',  # color by assignee type\n",
    "    scope='usa',\n",
    "    hover_name='type_name',  # or another field like 'assignee_name'\n",
    "    title='Patent Applications by Assignee Type in the U.S.',\n",
    "    color_discrete_map={\n",
    "        'company': 'blue',\n",
    "        'government': 'green',\n",
    "        'individual': 'red'\n",
    "    }\n",
    ")\n",
    "\n",
    "# Update layout for map styling\n",
    "#fig.update_geos(fitbounds=\"locations\", visible=False)\n",
    "fig.update_layout(margin={\"r\":0,\"t\":40,\"l\":0,\"b\":0})\n",
    "\n",
    "pio.renderers.default = 'browser'\n",
    "fig.show()"
   ]
  },
  {
   "cell_type": "code",
   "execution_count": 18,
   "id": "df95cfb2225b1847",
   "metadata": {
    "ExecuteTime": {
     "end_time": "2025-05-07T05:02:43.263110Z",
     "start_time": "2025-05-07T05:02:41.002581Z"
    }
   },
   "outputs": [],
   "source": [
    "density_by_county_type = (cleaned_patent_df.groupby(['county_fips', 'type_name']).size().reset_index(name='count'))\n",
    "density_by_county_type_sub = (cleaned_sample_df.groupby(['county_fips', 'type_name']).size().reset_index(name='count'))\n",
    "# For each county, keep the row with the highest count\n",
    "dominant_type = density_by_county_type.sort_values('count', ascending=False).drop_duplicates('county_fips')\n",
    "dominant_type_sub = density_by_county_type_sub.sort_values('count', ascending=False).drop_duplicates('county_fips')"
   ]
  },
  {
   "cell_type": "code",
   "execution_count": 19,
   "id": "73fbbfc3023e46e6",
   "metadata": {
    "ExecuteTime": {
     "end_time": "2025-05-07T05:02:59.177405Z",
     "start_time": "2025-05-07T05:02:43.438038Z"
    }
   },
   "outputs": [],
   "source": [
    "# Loop over assignee types and create maps\n",
    "for assignee in ['individual', 'company', 'government']:\n",
    "    sub_df = density_by_county_type[density_by_county_type['type_name'] == assignee]\n",
    "\n",
    "    fig = px.choropleth(\n",
    "        sub_df,\n",
    "        geojson=counties_geo,\n",
    "        locations='county_fips',\n",
    "        color='count',\n",
    "        color_continuous_scale='Blues',\n",
    "        scope='usa',\n",
    "        title=f'Patent Density by County — {assignee.capitalize()} Assignee',\n",
    "    )\n",
    "   # fig.update_geos(fitbounds=\"locations\", visible=False)\n",
    "    fig.update_layout(margin={\"r\":0,\"t\":40,\"l\":0,\"b\":0})\n",
    "    pio.renderers.default = 'browser'\n",
    "    fig.show()"
   ]
  },
  {
   "cell_type": "code",
   "execution_count": 20,
   "id": "c48c4f744e887b66",
   "metadata": {
    "ExecuteTime": {
     "end_time": "2025-05-07T05:03:08.934182Z",
     "start_time": "2025-05-07T05:03:04.511364Z"
    }
   },
   "outputs": [],
   "source": [
    "# Plot for sample by 50000 for the company\n",
    "fig = px.choropleth(\n",
    "    dominant_type_sub,\n",
    "    geojson=counties_geo,\n",
    "    locations='county_fips',\n",
    "    color='type_name',\n",
    "    color_discrete_map={\n",
    "        'individual': 'red',\n",
    "        'company': 'blue',\n",
    "        'government': 'green'\n",
    "    },\n",
    "    scope='usa',\n",
    "    title='Dominant Patent Assignee Type by County'\n",
    ")\n",
    "\n",
    "#fig.update_geos(fitbounds=\"locations\", visible=False)\n",
    "fig.update_layout(margin={\"r\":0,\"t\":40,\"l\":0,\"b\":0})\n",
    "\n",
    "pio.renderers.default = 'browser'\n",
    "fig.show()"
   ]
  },
  {
   "cell_type": "code",
   "execution_count": 21,
   "id": "325a02d811865b49",
   "metadata": {
    "ExecuteTime": {
     "end_time": "2025-05-07T05:03:29.030215Z",
     "start_time": "2025-05-07T05:03:24.406915Z"
    }
   },
   "outputs": [],
   "source": [
    "# Plot for whole density\n",
    "fig = px.choropleth(\n",
    "    dominant_type,\n",
    "    geojson=counties_geo,\n",
    "    locations='county_fips',\n",
    "    color='type_name',\n",
    "    color_discrete_map={\n",
    "        'individual': 'red',\n",
    "        'company': 'blue',\n",
    "        'government': 'green'\n",
    "    },\n",
    "    scope='usa',\n",
    "    title='Dominant Patent Assignee Type by County'\n",
    ")\n",
    "\n",
    "#fig.update_geos(fitbounds=\"locations\", visible=False)\n",
    "fig.update_layout(margin={\"r\":0,\"t\":40,\"l\":0,\"b\":0})\n",
    "\n",
    "pio.renderers.default = 'browser'\n",
    "fig.show()"
   ]
  },
  {
   "cell_type": "code",
   "execution_count": 22,
   "id": "80a60bdddd360df0",
   "metadata": {
    "ExecuteTime": {
     "end_time": "2025-05-07T05:03:45.710842Z",
     "start_time": "2025-05-07T05:03:45.005907Z"
    }
   },
   "outputs": [],
   "source": [
    "# Group and count patents per state per assignee type\n",
    "state_counts = (cleaned_patent_df.groupby(['disambig_state', 'type_name']).size().reset_index(name='count'))"
   ]
  },
  {
   "cell_type": "code",
   "execution_count": 23,
   "id": "2640ded9f0aaedef",
   "metadata": {
    "ExecuteTime": {
     "end_time": "2025-05-07T05:04:01.717039Z",
     "start_time": "2025-05-07T05:04:00.656661Z"
    }
   },
   "outputs": [],
   "source": [
    "fig = px.bar(\n",
    "    state_counts,\n",
    "    x='disambig_state',\n",
    "    y='count',\n",
    "    color='type_name',\n",
    "    title='Patent Count by State and Assignee Type',\n",
    "    labels={'count': 'Number of Patents', 'disambig_state': 'State'},\n",
    "    barmode='stack',  # or 'stack' for stacked bars\n",
    "    category_orders={'disambig_state': sorted(state_counts['disambig_state'].unique())}\n",
    ")\n",
    "\n",
    "fig.update_layout(\n",
    "    xaxis_tickangle=-45,\n",
    "    xaxis=dict(\n",
    "        tickmode='linear',   # force evenly spaced ticks\n",
    "        dtick=1              # one tick per category\n",
    "    )\n",
    ")\n",
    "pio.renderers.default = 'browser'\n",
    "fig.show()"
   ]
  },
  {
   "cell_type": "code",
   "execution_count": 24,
   "id": "e3b168739c54ba44",
   "metadata": {
    "ExecuteTime": {
     "end_time": "2025-05-07T05:04:01.916134Z",
     "start_time": "2025-05-07T05:04:01.890138Z"
    }
   },
   "outputs": [],
   "source": [
    "# Get unique assignee types\n",
    "assignee_types = state_counts['type_name'].unique()\n",
    "states = sorted(state_counts['disambig_state'].unique())\n",
    "# Create a bar trace for each assignee type\n",
    "fig = go.Figure()\n",
    "for atype in assignee_types:\n",
    "    df_sub = state_counts[state_counts['type_name'] == atype]\n",
    "    fig.add_trace(go.Bar(\n",
    "        x=df_sub['disambig_state'],\n",
    "        y=df_sub['count'],\n",
    "        name=atype,\n",
    "        visible=(atype == 'individual')  # Show only one at a time initially\n",
    "    ))"
   ]
  },
  {
   "cell_type": "code",
   "execution_count": 25,
   "id": "7dd2e355be568ae4",
   "metadata": {
    "ExecuteTime": {
     "end_time": "2025-05-07T05:04:02.083256Z",
     "start_time": "2025-05-07T05:04:02.074280Z"
    }
   },
   "outputs": [],
   "source": [
    "# Create dropdown buttons\n",
    "buttons = []\n",
    "for i, atype in enumerate(assignee_types):\n",
    "    visibility = [False] * len(assignee_types)\n",
    "    visibility[i] = True\n",
    "    buttons.append(dict(label=atype, method=\"update\", args=[{\"visible\": visibility}, {\"title\": f\"Patents by State — {atype.capitalize()}\"}]))"
   ]
  },
  {
   "cell_type": "code",
   "execution_count": 26,
   "id": "5c5d0320bcba6287",
   "metadata": {
    "ExecuteTime": {
     "end_time": "2025-05-07T05:04:03.450173Z",
     "start_time": "2025-05-07T05:04:02.165250Z"
    }
   },
   "outputs": [],
   "source": [
    "# Add dropdown to layout\n",
    "fig.update_layout(\n",
    "    updatemenus=[{\n",
    "        \"buttons\": buttons,\n",
    "        \"direction\": \"down\",\n",
    "        \"showactive\": True,\n",
    "        \"x\": 0.0,\n",
    "        \"xanchor\": \"left\",\n",
    "        \"y\": 1.15,\n",
    "        \"yanchor\": \"top\"\n",
    "    }],\n",
    "    xaxis=dict(\n",
    "        tickmode='linear',\n",
    "        dtick=1\n",
    "    ),\n",
    "    xaxis_tickangle=-45,\n",
    "    barmode='stack',  # still allows stacked view per state if you switch back\n",
    "    title=\"Patents by State — Individual\"\n",
    ")\n",
    "pio.renderers.default = 'browser'\n",
    "fig.show()"
   ]
  },
  {
   "cell_type": "code",
   "execution_count": null,
   "id": "2698c9d00633f252",
   "metadata": {},
   "outputs": [],
   "source": []
  }
 ],
 "metadata": {
  "kernelspec": {
   "display_name": "Python 3",
   "language": "python",
   "name": "python3"
  },
  "language_info": {
   "codemirror_mode": {
    "name": "ipython",
    "version": 3
   },
   "file_extension": ".py",
   "mimetype": "text/x-python",
   "name": "python",
   "nbconvert_exporter": "python",
   "pygments_lexer": "ipython3",
   "version": "3.13.1"
  }
 },
 "nbformat": 4,
 "nbformat_minor": 5
}
