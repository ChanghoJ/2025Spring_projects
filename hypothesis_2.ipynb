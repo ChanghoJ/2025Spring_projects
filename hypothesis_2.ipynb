{
 "cells": [
  {
   "metadata": {},
   "cell_type": "markdown",
   "source": [
    "# Hypothesis 2: Proximity to Research Institutions and Patent Density\n",
    "- We expect that counties with prominent research universities (e.g., Stanford, MIT, UIUC) consistently see higher patent activity. This hypothesis explores whether proximity to academic research hubs correlates with innovation output.\n",
    "- From feedback, we heard it would be great to make function on distance caculation, but hypothesis 2 is more about gathered around counties rather than distance.\n",
    "- Datasets used in hypothesis 2: g_location_disambiguated.tsv, g_inventor_disambiguated.tsv, Colleges_and_Universities_-3122497483864735259.csv, and 2025-Public-Data-File.xlsx\n",
    "- We decided to approach in 3 ways.\n",
    "1. Brief check through scatter map\n",
    "2. County density map\n",
    "3. Summary statistics of counties' patent application quantity by counties with university vs. without university"
   ],
   "id": "373f0837e9723349"
  },
  {
   "metadata": {},
   "cell_type": "markdown",
   "source": "## Package import",
   "id": "5fd3a74a40a8c6ea"
  },
  {
   "cell_type": "code",
   "id": "initial_id",
   "metadata": {
    "collapsed": true,
    "ExecuteTime": {
     "end_time": "2025-05-14T15:39:05.539651Z",
     "start_time": "2025-05-14T15:39:04.117922Z"
    }
   },
   "source": [
    "import pandas as pd\n",
    "import plotly.graph_objects as go\n",
    "import plotly.express as px\n",
    "import plotly.io as pio\n",
    "import json\n",
    "import requests\n",
    "from assist_scripts import merge, fips_merger"
   ],
   "outputs": [],
   "execution_count": 1
  },
  {
   "metadata": {},
   "cell_type": "markdown",
   "source": [
    "## Import files\n",
    "- Patent application location dataset, \"g_location_disambiguated.tsv\":\"https://s3.amazonaws.com/data.patentsview.org/download/g_location_disambiguated.tsv.zip\"\n",
    "- Patent inventor dataset, \"g_inventor_disambiguated.tsv\":\"https://s3.amazonaws.com/data.patentsview.org/download/g_inventor_disambiguated.tsv.zip\"\n",
    "- List of universities with location information, \"Colleges_and_Universities_-3122497483864735259.csv\":\"https://hifld-geoplatform.hub.arcgis.com/datasets/geoplatform::colleges-and-universities/about\"\n",
    "- List universities with research spending filter, \"2025-Public-Data-File.xlsx\":\"https://carnegieclassifications.acenet.edu/wp-content/uploads/2025/04/2025-Public-Data-File.xlsx\""
   ],
   "id": "10299c0f0e2cbef3"
  },
  {
   "metadata": {
    "ExecuteTime": {
     "end_time": "2025-05-14T15:39:05.869583Z",
     "start_time": "2025-05-14T15:39:05.547820Z"
    }
   },
   "cell_type": "code",
   "source": [
    "# dataset about location of patent application, includes location ID, latitude, and longitude those are necessary for the mapping\n",
    "location_df = pd.read_csv(\"data/g_location_disambiguated.tsv\", sep=\"\\t\", header=0,\n",
    "                          usecols=['location_id', 'disambig_state', 'disambig_country', 'latitude', 'longitude', 'state_fips', 'county_fips'],\n",
    "                          dtype={'location_id': str, 'disambig_state': str, 'disambig_country': str, 'latitude': float, 'longitude': float}\n",
    "                          )"
   ],
   "id": "2e9b73d1abb95443",
   "outputs": [],
   "execution_count": 2
  },
  {
   "metadata": {
    "ExecuteTime": {
     "end_time": "2025-05-14T15:39:26.980935Z",
     "start_time": "2025-05-14T15:39:06.292526Z"
    }
   },
   "cell_type": "code",
   "source": [
    "# dataset about inventor of technology that has patent application, which will be connected with location dataset for indicate each inventor's location\n",
    "inventor_df = pd.read_csv(\"data/g_inventor_disambiguated.tsv\", sep=\"\\t\", header=0,\n",
    "                          usecols=['location_id'],\n",
    "                          dtype={'location_id': str})"
   ],
   "id": "40f240da65e17a52",
   "outputs": [],
   "execution_count": 3
  },
  {
   "metadata": {
    "ExecuteTime": {
     "end_time": "2025-05-14T15:39:27.114709Z",
     "start_time": "2025-05-14T15:39:27.038083Z"
    }
   },
   "cell_type": "code",
   "source": [
    "# dataset about university latitude and longitude\n",
    "university_df = pd.read_csv(\"data/Colleges_and_Universities_-3122497483864735259.csv\",\n",
    "                            usecols=['IPEDSID', 'COUNTYFIPS', 'LATITUDE', 'LONGITUDE'],\n",
    "                            dtype={'IPEDSID': str, 'COUNTYFIPS': str, 'LATITUDE': float, 'LONGITUDE': float})"
   ],
   "id": "3213c78d4bb747ea",
   "outputs": [],
   "execution_count": 4
  },
  {
   "metadata": {
    "ExecuteTime": {
     "end_time": "2025-05-14T15:39:30.663009Z",
     "start_time": "2025-05-14T15:39:27.143098Z"
    }
   },
   "cell_type": "code",
   "source": [
    "# dataset about university that indicate research university\n",
    "research_df = pd.read_excel(\"data/2025-Public-Data-File.xlsx\", sheet_name=\"data\",\n",
    "                            usecols=['unitid', 'instnm', 'research2025'],\n",
    "                            dtype={'unitid': str, 'instnm': str, 'research2025': int})"
   ],
   "id": "f5d529d59ac73ef",
   "outputs": [],
   "execution_count": 5
  },
  {
   "metadata": {
    "ExecuteTime": {
     "end_time": "2025-05-14T15:39:30.924905Z",
     "start_time": "2025-05-14T15:39:30.689629Z"
    }
   },
   "cell_type": "code",
   "source": [
    "# Download U.S. counties GeoJSON (simplified)\n",
    "geojson_url = \"https://raw.githubusercontent.com/plotly/datasets/master/geojson-counties-fips.json\"\n",
    "counties_geo = requests.get(geojson_url).json()"
   ],
   "id": "eda730712626107",
   "outputs": [],
   "execution_count": 6
  },
  {
   "metadata": {},
   "cell_type": "markdown",
   "source": "## 1. Scatter map",
   "id": "40484748b018092a"
  },
  {
   "metadata": {},
   "cell_type": "markdown",
   "source": "### 1-1. Merging dataframes for combining required data for analysis",
   "id": "ac29da7546c1d2d3"
  },
  {
   "metadata": {
    "ExecuteTime": {
     "end_time": "2025-05-14T15:39:49.330214Z",
     "start_time": "2025-05-14T15:39:30.951039Z"
    }
   },
   "cell_type": "code",
   "source": [
    "# The merge code from chatgpt, I asked how to add location data to the inventor table\n",
    "# Merging inventor dataset with location dataset for getting latitude and longitude, and country of inventor\n",
    "inv_loc_df = merge(merge_on_df=inventor_df, merge_from_df=location_df,\n",
    "                  merge_from_keep=['location_id', 'latitude', 'longitude', 'state_fips', 'county_fips', 'disambig_country'],\n",
    "          foreign_key_left=\"location_id\")"
   ],
   "id": "655c92734e2b9161",
   "outputs": [],
   "execution_count": 7
  },
  {
   "metadata": {
    "ExecuteTime": {
     "end_time": "2025-05-14T15:39:49.405446Z",
     "start_time": "2025-05-14T15:39:49.384500Z"
    }
   },
   "cell_type": "code",
   "source": [
    "# Filter out rows with universities with very high spending on research\n",
    "research_df = research_df[research_df['research2025'] == 1]\n",
    "\n",
    "# Merge with filtered university dataframe with location information (latitude and longitude) for plotting points on map\n",
    "reseach_uni_df = merge(merge_on_df=research_df, merge_from_df=university_df,\n",
    "                  merge_from_keep=[\"IPEDSID\", 'COUNTYFIPS', 'LATITUDE', 'LONGITUDE'],\n",
    "          foreign_key_left=\"unitid\", foreign_key_right=\"IPEDSID\")\n",
    "\n",
    "# Dropping IPEDSID since this is same as unitid, dropping unecssary column\n",
    "reseach_uni_df = reseach_uni_df.drop(columns=[\"IPEDSID\"])"
   ],
   "id": "e5868282a230a5ab",
   "outputs": [],
   "execution_count": 8
  },
  {
   "metadata": {
    "ExecuteTime": {
     "end_time": "2025-05-14T15:39:52.632300Z",
     "start_time": "2025-05-14T15:39:49.503713Z"
    }
   },
   "cell_type": "code",
   "source": [
    "# Limit patent applicants, the inventors to US only\n",
    "us_inv_loc_df = inv_loc_df[inv_loc_df['disambig_country'] == 'US']\n",
    "\n",
    "# Then sample out by 500,000 as the dataset contains too much samples to visualized (lagged)\n",
    "# https://pandas.pydata.org/docs/reference/api/pandas.DataFrame.sample.html/\n",
    "loc_sample_df = us_inv_loc_df.sample(n=500000, random_state=42)"
   ],
   "id": "1d02e97b6807ca01",
   "outputs": [],
   "execution_count": 9
  },
  {
   "metadata": {},
   "cell_type": "markdown",
   "source": [
    "### 1-2. Visualization on scatter map\n",
    "- This is visualization that blue dots are individual inventors with patents, whereas red starts are very high spending research universities on a U.S. territory map.\n",
    "- loc_sample_df, the subsampled version of dataset used for performance issue.\n",
    "- Got an assistence from ChatGPT for the plot"
   ],
   "id": "cbe5bdc2ee1939af"
  },
  {
   "metadata": {
    "ExecuteTime": {
     "end_time": "2025-05-14T15:40:01.962277Z",
     "start_time": "2025-05-14T15:39:52.669041Z"
    }
   },
   "cell_type": "code",
   "source": [
    "# The plotly codes are from ChatGPT\n",
    "fig = go.Figure()\n",
    "\n",
    "# 🟦 Add individuals\n",
    "fig.add_trace(go.Scattergeo(\n",
    "    lon = loc_sample_df['longitude'],\n",
    "    lat = loc_sample_df['latitude'],\n",
    "    hovertext = loc_sample_df['location_id'],  # or individual ID\n",
    "    mode = 'markers',\n",
    "    marker=dict(\n",
    "        size=4,\n",
    "        color='blue',\n",
    "        opacity=0.6\n",
    "    ),\n",
    "    name='Patent'\n",
    "))\n",
    "\n",
    "# 🟥 Add universities\n",
    "fig.add_trace(go.Scattergeo(\n",
    "    lon = reseach_uni_df['LONGITUDE'],\n",
    "    lat = reseach_uni_df['LATITUDE'],\n",
    "    hovertext = reseach_uni_df['instnm'],\n",
    "    mode = 'markers',\n",
    "    marker=dict(\n",
    "        size=7,\n",
    "        color='red',\n",
    "        symbol='star'\n",
    "    ),\n",
    "    textposition='top center',\n",
    "    name='Universities'\n",
    "))\n",
    "\n",
    "# 🌎 Map layout\n",
    "fig.update_layout(\n",
    "    title='Individuals and Universities on USA Map',\n",
    "    geo=dict(\n",
    "        scope='usa',\n",
    "        showland=True,\n",
    "        landcolor='lightgray',\n",
    "        showlakes=True,\n",
    "        lakecolor='lightblue',\n",
    "    ),\n",
    "    legend=dict(\n",
    "        yanchor=\"top\",\n",
    "        y=0.99,\n",
    "        xanchor=\"left\",\n",
    "        x=0.01\n",
    "    )\n",
    ")\n",
    "\n",
    "# uncomment out below if you want to show in a separate browser or window\n",
    "#pio.renderers.default = 'browser'\n",
    "fig.show()"
   ],
   "id": "d5a477ec39a39e86",
   "outputs": [],
   "execution_count": 10
  },
  {
   "metadata": {},
   "cell_type": "markdown",
   "source": [
    "#### Result for scatter map\n",
    "- In a brief sense, it looks like patent applicants (inventors) likely gathered around area nearby research universities.\n",
    "- Still not clear enough to makes the conclusion, so proceed to the next visualization"
   ],
   "id": "4b34bfacccebef2f"
  },
  {
   "metadata": {},
   "cell_type": "markdown",
   "source": [
    "## County density map\n",
    "- This is a density heatmap based on number of patent application by inventors with red starts as universities\n",
    "- Helped from ChatGPT, for the visualization part"
   ],
   "id": "e4703f064b90dd19"
  },
  {
   "metadata": {
    "ExecuteTime": {
     "end_time": "2025-05-14T15:40:47.809776Z",
     "start_time": "2025-05-14T15:40:01.991709Z"
    }
   },
   "cell_type": "code",
   "source": [
    "# Also got helped form ChatGPT for the density visualization\n",
    "## Drop rows with missing FIPS values\n",
    "clean_df = inv_loc_df.dropna(subset=['state_fips', 'county_fips'])\n",
    "\n",
    "# Convert to integers (handle float like 17.0 → 17)\n",
    "# Combine to full 5-digit county FIPS code (e.g., 17031 for Cook County, IL)\n",
    "clean_df['county_fips'] = fips_merger(clean_df['state_fips'], clean_df['county_fips'])\n",
    "\n",
    "# Count individuals per county\n",
    "county_counts = clean_df['county_fips'].value_counts().reset_index()\n",
    "county_counts.columns = ['county_fips', 'count']"
   ],
   "id": "27d2c60c9d4e3531",
   "outputs": [
    {
     "name": "stderr",
     "output_type": "stream",
     "text": [
      "/var/folders/2j/sh023cfx5kd0tgwfn0nptbrc0000gn/T/ipykernel_12571/1829273765.py:7: SettingWithCopyWarning:\n",
      "\n",
      "\n",
      "A value is trying to be set on a copy of a slice from a DataFrame.\n",
      "Try using .loc[row_indexer,col_indexer] = value instead\n",
      "\n",
      "See the caveats in the documentation: https://pandas.pydata.org/pandas-docs/stable/user_guide/indexing.html#returning-a-view-versus-a-copy\n",
      "\n"
     ]
    }
   ],
   "execution_count": 11
  },
  {
   "metadata": {
    "ExecuteTime": {
     "end_time": "2025-05-14T15:41:03.337058Z",
     "start_time": "2025-05-14T15:41:00.294229Z"
    }
   },
   "cell_type": "code",
   "source": [
    "# Also got helped form ChatGPT for the density visualization\n",
    "# Choropleth for individual density\n",
    "fig = px.choropleth(\n",
    "    county_counts,\n",
    "    geojson=counties_geo,\n",
    "    locations='county_fips',\n",
    "    color='count',\n",
    "    color_continuous_scale=\"Blues\",\n",
    "   # range_color=(0, 12),\n",
    "    scope=\"usa\",\n",
    "    labels={'count': 'Patents'},\n",
    "    title=\"Patent Density per County with Universities\"\n",
    ")\n",
    "\n",
    "# Add universities as points\n",
    "fig.add_trace(go.Scattergeo(\n",
    "    lon = reseach_uni_df['LONGITUDE'],\n",
    "    lat = reseach_uni_df['LATITUDE'],\n",
    "    hovertext = reseach_uni_df['instnm'],\n",
    "    mode = 'markers',\n",
    "    marker=dict(\n",
    "        size=7,\n",
    "        color='red',\n",
    "        symbol='star'\n",
    "    ),\n",
    "    name='Universities'\n",
    "))\n",
    "\n",
    "# Update layout for map styling\n",
    "fig.update_layout(margin={\"r\":0,\"t\":40,\"l\":0,\"b\":0})\n",
    "\n",
    "#pio.renderers.default = 'browser'\n",
    "fig.show()"
   ],
   "id": "faba06f8a9b0fc23",
   "outputs": [],
   "execution_count": 12
  },
  {
   "metadata": {},
   "cell_type": "markdown",
   "source": "- According to the visualizations, it is hard to compare counties with and without the universities",
   "id": "e9aa6e3ec5232288"
  },
  {
   "metadata": {},
   "cell_type": "markdown",
   "source": [
    "## Summary statistics\n",
    "- Calculated summary statistics for counties' patent application amount with university vs. without university\n",
    "- Helped from ChatGPT"
   ],
   "id": "2d72207fa97b692"
  },
  {
   "metadata": {
    "ExecuteTime": {
     "end_time": "2025-05-14T15:41:08.139328Z",
     "start_time": "2025-05-14T15:41:08.098192Z"
    }
   },
   "cell_type": "code",
   "source": [
    "# 1. mean density of patent application count for university counties\n",
    "# - Add (total patent count for the county / total patent applications) for university counties\n",
    "# - Divided by number of counties occupied with universities\n",
    "# 2. mean density of patent application count for other than university counties\n",
    "\n",
    "univ_counties = set(reseach_uni_df['COUNTYFIPS'])\n",
    "\n",
    "# Flag whether each county has a university\n",
    "county_counts['has_university'] = county_counts['county_fips'].isin(univ_counties)\n",
    "\n",
    "# Compare average density\n",
    "summary = county_counts.groupby('has_university')['count'].describe()\n",
    "print(summary)"
   ],
   "id": "fe6eff586f4b32e0",
   "outputs": [
    {
     "name": "stdout",
     "output_type": "stream",
     "text": [
      "                 count          mean           std    min     25%      50%  \\\n",
      "has_university                                                               \n",
      "False           3022.0   1623.593977   7647.321405    1.0    31.0    124.0   \n",
      "True             153.0  41576.032680  98580.299467  530.0  4368.0  13235.0   \n",
      "\n",
      "                    75%       max  \n",
      "has_university                     \n",
      "False             544.5  213359.0  \n",
      "True            35304.0  962585.0  \n"
     ]
    }
   ],
   "execution_count": 13
  },
  {
   "metadata": {},
   "cell_type": "markdown",
   "source": [
    "- The summary statistic results show that high mean, but unreliable due to huge gap between min and max patent application amount.\n",
    "- So, by checking minimum, median, maximum, we can conclude counties with universities have more patent applicants\n",
    "- This is comparable result as counties with universities are small (153 vs 3022) but showed higher minimum, median, and maximum patent applicants.\n",
    "- Therefore, the hypothesis 2, counties with prominent research universities (e.g., Stanford, MIT, UIUC) consistently see higher patent activity, is likely right according to minimum, median, and maximum amount of patent applicants are more around universities."
   ],
   "id": "d8b7e1714fe7c582"
  }
 ],
 "metadata": {
  "kernelspec": {
   "display_name": "Python 3",
   "language": "python",
   "name": "python3"
  },
  "language_info": {
   "codemirror_mode": {
    "name": "ipython",
    "version": 2
   },
   "file_extension": ".py",
   "mimetype": "text/x-python",
   "name": "python",
   "nbconvert_exporter": "python",
   "pygments_lexer": "ipython2",
   "version": "2.7.6"
  }
 },
 "nbformat": 4,
 "nbformat_minor": 5
}
