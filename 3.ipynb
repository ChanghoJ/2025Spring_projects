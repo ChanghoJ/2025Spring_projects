{
 "cells": [
  {
   "cell_type": "code",
   "execution_count": 1,
   "id": "bc5c6f3b",
   "metadata": {},
   "outputs": [],
   "source": [
    "import geopandas as gpd\n",
    "import pandas as pd\n",
    "import matplotlib.pyplot as plt\n",
    "from shapely.geometry import Point\n",
    "import plotly.express as px\n",
    "import seaborn as sns\n",
    "from scipy.stats import zscore\n"
   ]
  },
  {
   "cell_type": "code",
   "execution_count": 2,
   "id": "cb465de8",
   "metadata": {},
   "outputs": [
    {
     "name": "stderr",
     "output_type": "stream",
     "text": [
      "/var/folders/p9/bgpcjxgn0rz4pvkjs39ch9740000gn/T/ipykernel_1322/2776524783.py:1: DtypeWarning: Columns (0) have mixed types. Specify dtype option on import or set low_memory=False.\n",
      "  ai_df = pd.read_csv(\"ai_model_predictions.csv\")\n",
      "/var/folders/p9/bgpcjxgn0rz4pvkjs39ch9740000gn/T/ipykernel_1322/2776524783.py:4: DtypeWarning: Columns (0,2,4) have mixed types. Specify dtype option on import or set low_memory=False.\n",
      "  application_df = pd.read_csv(\"g_application.tsv\", sep=\"\\t\")\n"
     ]
    }
   ],
   "source": [
    "ai_df = pd.read_csv(\"ai_model_predictions.csv\")\n",
    "attorney_df = pd.read_csv(\"g_attorney_disambiguated.tsv\", sep=\"\\t\")\n",
    "location_df = pd.read_csv(\"g_location_disambiguated.tsv\", sep=\"\\t\")\n",
    "application_df = pd.read_csv(\"g_application.tsv\", sep=\"\\t\")\n",
    "inventor_df = pd.read_csv(\"g_inventor_disambiguated.tsv\", sep=\"\\t\")"
   ]
  },
  {
   "cell_type": "code",
   "execution_count": 3,
   "id": "0c332383",
   "metadata": {},
   "outputs": [],
   "source": [
    "ai_df[\"pub_dt\"] = pd.to_datetime(ai_df[\"pub_dt\"])\n",
    "ai_df[\"year\"] = ai_df[\"pub_dt\"].dt.year"
   ]
  },
  {
   "cell_type": "code",
   "execution_count": 4,
   "id": "355daeef",
   "metadata": {},
   "outputs": [
    {
     "data": {
      "text/html": [
       "<div>\n",
       "<style scoped>\n",
       "    .dataframe tbody tr th:only-of-type {\n",
       "        vertical-align: middle;\n",
       "    }\n",
       "\n",
       "    .dataframe tbody tr th {\n",
       "        vertical-align: top;\n",
       "    }\n",
       "\n",
       "    .dataframe thead th {\n",
       "        text-align: right;\n",
       "    }\n",
       "</style>\n",
       "<table border=\"1\" class=\"dataframe\">\n",
       "  <thead>\n",
       "    <tr style=\"text-align: right;\">\n",
       "      <th></th>\n",
       "      <th>doc_id</th>\n",
       "      <th>flag_patent</th>\n",
       "      <th>pub_dt</th>\n",
       "      <th>predict50_any_ai</th>\n",
       "      <th>predict86_any_ai</th>\n",
       "      <th>predict93_any_ai</th>\n",
       "      <th>predict50_ml</th>\n",
       "      <th>predict86_ml</th>\n",
       "      <th>predict93_ml</th>\n",
       "      <th>ai_score_ml</th>\n",
       "      <th>...</th>\n",
       "      <th>predict86_hardware</th>\n",
       "      <th>predict93_hardware</th>\n",
       "      <th>ai_score_hardware</th>\n",
       "      <th>year</th>\n",
       "      <th>application_id</th>\n",
       "      <th>patent_id</th>\n",
       "      <th>patent_application_type</th>\n",
       "      <th>filing_date</th>\n",
       "      <th>series_code</th>\n",
       "      <th>rule_47_flag</th>\n",
       "    </tr>\n",
       "  </thead>\n",
       "  <tbody>\n",
       "    <tr>\n",
       "      <th>0</th>\n",
       "      <td>10000000</td>\n",
       "      <td>1</td>\n",
       "      <td>2018-06-19</td>\n",
       "      <td>0</td>\n",
       "      <td>0</td>\n",
       "      <td>0</td>\n",
       "      <td>0</td>\n",
       "      <td>0</td>\n",
       "      <td>0</td>\n",
       "      <td>0.000036</td>\n",
       "      <td>...</td>\n",
       "      <td>0</td>\n",
       "      <td>0</td>\n",
       "      <td>0.001062</td>\n",
       "      <td>2018</td>\n",
       "      <td>14643719</td>\n",
       "      <td>10000000</td>\n",
       "      <td>14</td>\n",
       "      <td>2015-03-10</td>\n",
       "      <td>14</td>\n",
       "      <td>0.0</td>\n",
       "    </tr>\n",
       "    <tr>\n",
       "      <th>1</th>\n",
       "      <td>10000001</td>\n",
       "      <td>1</td>\n",
       "      <td>2018-06-19</td>\n",
       "      <td>0</td>\n",
       "      <td>0</td>\n",
       "      <td>0</td>\n",
       "      <td>0</td>\n",
       "      <td>0</td>\n",
       "      <td>0</td>\n",
       "      <td>0.000183</td>\n",
       "      <td>...</td>\n",
       "      <td>0</td>\n",
       "      <td>0</td>\n",
       "      <td>0.000073</td>\n",
       "      <td>2018</td>\n",
       "      <td>14962323</td>\n",
       "      <td>10000001</td>\n",
       "      <td>14</td>\n",
       "      <td>2015-12-08</td>\n",
       "      <td>14</td>\n",
       "      <td>0.0</td>\n",
       "    </tr>\n",
       "    <tr>\n",
       "      <th>2</th>\n",
       "      <td>10000002</td>\n",
       "      <td>1</td>\n",
       "      <td>2018-06-19</td>\n",
       "      <td>1</td>\n",
       "      <td>1</td>\n",
       "      <td>1</td>\n",
       "      <td>0</td>\n",
       "      <td>0</td>\n",
       "      <td>0</td>\n",
       "      <td>0.000987</td>\n",
       "      <td>...</td>\n",
       "      <td>0</td>\n",
       "      <td>0</td>\n",
       "      <td>0.000369</td>\n",
       "      <td>2018</td>\n",
       "      <td>15107519</td>\n",
       "      <td>10000002</td>\n",
       "      <td>15</td>\n",
       "      <td>2014-12-30</td>\n",
       "      <td>15</td>\n",
       "      <td>0.0</td>\n",
       "    </tr>\n",
       "    <tr>\n",
       "      <th>3</th>\n",
       "      <td>10000003</td>\n",
       "      <td>1</td>\n",
       "      <td>2018-06-19</td>\n",
       "      <td>0</td>\n",
       "      <td>0</td>\n",
       "      <td>0</td>\n",
       "      <td>0</td>\n",
       "      <td>0</td>\n",
       "      <td>0</td>\n",
       "      <td>0.000066</td>\n",
       "      <td>...</td>\n",
       "      <td>0</td>\n",
       "      <td>0</td>\n",
       "      <td>0.000518</td>\n",
       "      <td>2018</td>\n",
       "      <td>14437961</td>\n",
       "      <td>10000003</td>\n",
       "      <td>14</td>\n",
       "      <td>2013-03-12</td>\n",
       "      <td>14</td>\n",
       "      <td>0.0</td>\n",
       "    </tr>\n",
       "    <tr>\n",
       "      <th>4</th>\n",
       "      <td>10000004</td>\n",
       "      <td>1</td>\n",
       "      <td>2018-06-19</td>\n",
       "      <td>0</td>\n",
       "      <td>0</td>\n",
       "      <td>0</td>\n",
       "      <td>0</td>\n",
       "      <td>0</td>\n",
       "      <td>0</td>\n",
       "      <td>0.000163</td>\n",
       "      <td>...</td>\n",
       "      <td>0</td>\n",
       "      <td>0</td>\n",
       "      <td>0.000068</td>\n",
       "      <td>2018</td>\n",
       "      <td>14973198</td>\n",
       "      <td>10000004</td>\n",
       "      <td>14</td>\n",
       "      <td>2015-12-17</td>\n",
       "      <td>14</td>\n",
       "      <td>0.0</td>\n",
       "    </tr>\n",
       "  </tbody>\n",
       "</table>\n",
       "<p>5 rows × 45 columns</p>\n",
       "</div>"
      ],
      "text/plain": [
       "     doc_id  flag_patent     pub_dt  predict50_any_ai  predict86_any_ai  \\\n",
       "0  10000000            1 2018-06-19                 0                 0   \n",
       "1  10000001            1 2018-06-19                 0                 0   \n",
       "2  10000002            1 2018-06-19                 1                 1   \n",
       "3  10000003            1 2018-06-19                 0                 0   \n",
       "4  10000004            1 2018-06-19                 0                 0   \n",
       "\n",
       "   predict93_any_ai  predict50_ml  predict86_ml  predict93_ml  ai_score_ml  \\\n",
       "0                 0             0             0             0     0.000036   \n",
       "1                 0             0             0             0     0.000183   \n",
       "2                 1             0             0             0     0.000987   \n",
       "3                 0             0             0             0     0.000066   \n",
       "4                 0             0             0             0     0.000163   \n",
       "\n",
       "   ...  predict86_hardware  predict93_hardware  ai_score_hardware  year  \\\n",
       "0  ...                   0                   0           0.001062  2018   \n",
       "1  ...                   0                   0           0.000073  2018   \n",
       "2  ...                   0                   0           0.000369  2018   \n",
       "3  ...                   0                   0           0.000518  2018   \n",
       "4  ...                   0                   0           0.000068  2018   \n",
       "\n",
       "   application_id  patent_id  patent_application_type  filing_date  \\\n",
       "0        14643719   10000000                       14   2015-03-10   \n",
       "1        14962323   10000001                       14   2015-12-08   \n",
       "2        15107519   10000002                       15   2014-12-30   \n",
       "3        14437961   10000003                       14   2013-03-12   \n",
       "4        14973198   10000004                       14   2015-12-17   \n",
       "\n",
       "   series_code  rule_47_flag  \n",
       "0           14           0.0  \n",
       "1           14           0.0  \n",
       "2           15           0.0  \n",
       "3           14           0.0  \n",
       "4           14           0.0  \n",
       "\n",
       "[5 rows x 45 columns]"
      ]
     },
     "execution_count": 4,
     "metadata": {},
     "output_type": "execute_result"
    }
   ],
   "source": [
    "merged_df = pd.merge(ai_df, application_df, left_on='appl_id', right_on='application_id', how='left')\n",
    "merged_df[-5:]\n",
    "merged_df.drop(columns=['appl_id'], inplace=True)\n",
    "merged_df[:5]"
   ]
  },
  {
   "cell_type": "code",
   "execution_count": 5,
   "id": "33f84497",
   "metadata": {},
   "outputs": [
    {
     "data": {
      "text/html": [
       "<div>\n",
       "<style scoped>\n",
       "    .dataframe tbody tr th:only-of-type {\n",
       "        vertical-align: middle;\n",
       "    }\n",
       "\n",
       "    .dataframe tbody tr th {\n",
       "        vertical-align: top;\n",
       "    }\n",
       "\n",
       "    .dataframe thead th {\n",
       "        text-align: right;\n",
       "    }\n",
       "</style>\n",
       "<table border=\"1\" class=\"dataframe\">\n",
       "  <thead>\n",
       "    <tr style=\"text-align: right;\">\n",
       "      <th></th>\n",
       "      <th>doc_id</th>\n",
       "      <th>flag_patent</th>\n",
       "      <th>pub_dt</th>\n",
       "      <th>predict50_any_ai</th>\n",
       "      <th>predict86_any_ai</th>\n",
       "      <th>predict93_any_ai</th>\n",
       "      <th>predict50_ml</th>\n",
       "      <th>predict86_ml</th>\n",
       "      <th>predict93_ml</th>\n",
       "      <th>ai_score_ml</th>\n",
       "      <th>...</th>\n",
       "      <th>patent_application_type</th>\n",
       "      <th>filing_date</th>\n",
       "      <th>series_code</th>\n",
       "      <th>rule_47_flag</th>\n",
       "      <th>attorney_sequence</th>\n",
       "      <th>attorney_id</th>\n",
       "      <th>disambig_attorney_name_first</th>\n",
       "      <th>disambig_attorney_name_last</th>\n",
       "      <th>disambig_attorney_organization</th>\n",
       "      <th>attorney_country</th>\n",
       "    </tr>\n",
       "  </thead>\n",
       "  <tbody>\n",
       "    <tr>\n",
       "      <th>0</th>\n",
       "      <td>10000000</td>\n",
       "      <td>1</td>\n",
       "      <td>2018-06-19</td>\n",
       "      <td>0</td>\n",
       "      <td>0</td>\n",
       "      <td>0</td>\n",
       "      <td>0</td>\n",
       "      <td>0</td>\n",
       "      <td>0</td>\n",
       "      <td>0.000036</td>\n",
       "      <td>...</td>\n",
       "      <td>14</td>\n",
       "      <td>2015-03-10</td>\n",
       "      <td>14</td>\n",
       "      <td>0.0</td>\n",
       "      <td>0.0</td>\n",
       "      <td>b3c98f20e3e28fd54083915ad978353c</td>\n",
       "      <td>NaN</td>\n",
       "      <td>NaN</td>\n",
       "      <td>Munck Wilson Mandala, LLP</td>\n",
       "      <td>NaN</td>\n",
       "    </tr>\n",
       "    <tr>\n",
       "      <th>1</th>\n",
       "      <td>10000001</td>\n",
       "      <td>1</td>\n",
       "      <td>2018-06-19</td>\n",
       "      <td>0</td>\n",
       "      <td>0</td>\n",
       "      <td>0</td>\n",
       "      <td>0</td>\n",
       "      <td>0</td>\n",
       "      <td>0</td>\n",
       "      <td>0.000183</td>\n",
       "      <td>...</td>\n",
       "      <td>14</td>\n",
       "      <td>2015-12-08</td>\n",
       "      <td>14</td>\n",
       "      <td>0.0</td>\n",
       "      <td>0.0</td>\n",
       "      <td>e6f577eb0680dac0003c00a6ed8806c0</td>\n",
       "      <td>NaN</td>\n",
       "      <td>NaN</td>\n",
       "      <td>K&amp;L Gates LLP</td>\n",
       "      <td>NaN</td>\n",
       "    </tr>\n",
       "    <tr>\n",
       "      <th>2</th>\n",
       "      <td>10000002</td>\n",
       "      <td>1</td>\n",
       "      <td>2018-06-19</td>\n",
       "      <td>1</td>\n",
       "      <td>1</td>\n",
       "      <td>1</td>\n",
       "      <td>0</td>\n",
       "      <td>0</td>\n",
       "      <td>0</td>\n",
       "      <td>0.000987</td>\n",
       "      <td>...</td>\n",
       "      <td>15</td>\n",
       "      <td>2014-12-30</td>\n",
       "      <td>15</td>\n",
       "      <td>0.0</td>\n",
       "      <td>0.0</td>\n",
       "      <td>1841e0cfc9cd02b68b0ec6269adda229</td>\n",
       "      <td>NaN</td>\n",
       "      <td>NaN</td>\n",
       "      <td>Lex IP Meister, PLLC</td>\n",
       "      <td>NaN</td>\n",
       "    </tr>\n",
       "    <tr>\n",
       "      <th>3</th>\n",
       "      <td>10000003</td>\n",
       "      <td>1</td>\n",
       "      <td>2018-06-19</td>\n",
       "      <td>0</td>\n",
       "      <td>0</td>\n",
       "      <td>0</td>\n",
       "      <td>0</td>\n",
       "      <td>0</td>\n",
       "      <td>0</td>\n",
       "      <td>0.000066</td>\n",
       "      <td>...</td>\n",
       "      <td>14</td>\n",
       "      <td>2013-03-12</td>\n",
       "      <td>14</td>\n",
       "      <td>0.0</td>\n",
       "      <td>0.0</td>\n",
       "      <td>380f74ad81a6fdf6e937ad2352257058</td>\n",
       "      <td>NaN</td>\n",
       "      <td>NaN</td>\n",
       "      <td>Grossman, Tucker, Perreault &amp; Pfleger, PLLC</td>\n",
       "      <td>NaN</td>\n",
       "    </tr>\n",
       "    <tr>\n",
       "      <th>4</th>\n",
       "      <td>10000004</td>\n",
       "      <td>1</td>\n",
       "      <td>2018-06-19</td>\n",
       "      <td>0</td>\n",
       "      <td>0</td>\n",
       "      <td>0</td>\n",
       "      <td>0</td>\n",
       "      <td>0</td>\n",
       "      <td>0</td>\n",
       "      <td>0.000163</td>\n",
       "      <td>...</td>\n",
       "      <td>14</td>\n",
       "      <td>2015-12-17</td>\n",
       "      <td>14</td>\n",
       "      <td>0.0</td>\n",
       "      <td>0.0</td>\n",
       "      <td>0c34dbbb2964ace1b1b5ebad6bd09a54</td>\n",
       "      <td>NaN</td>\n",
       "      <td>NaN</td>\n",
       "      <td>Defillo &amp; Associates, Inc.</td>\n",
       "      <td>NaN</td>\n",
       "    </tr>\n",
       "  </tbody>\n",
       "</table>\n",
       "<p>5 rows × 51 columns</p>\n",
       "</div>"
      ],
      "text/plain": [
       "     doc_id  flag_patent     pub_dt  predict50_any_ai  predict86_any_ai  \\\n",
       "0  10000000            1 2018-06-19                 0                 0   \n",
       "1  10000001            1 2018-06-19                 0                 0   \n",
       "2  10000002            1 2018-06-19                 1                 1   \n",
       "3  10000003            1 2018-06-19                 0                 0   \n",
       "4  10000004            1 2018-06-19                 0                 0   \n",
       "\n",
       "   predict93_any_ai  predict50_ml  predict86_ml  predict93_ml  ai_score_ml  \\\n",
       "0                 0             0             0             0     0.000036   \n",
       "1                 0             0             0             0     0.000183   \n",
       "2                 1             0             0             0     0.000987   \n",
       "3                 0             0             0             0     0.000066   \n",
       "4                 0             0             0             0     0.000163   \n",
       "\n",
       "   ...  patent_application_type  filing_date  series_code  rule_47_flag  \\\n",
       "0  ...                       14   2015-03-10           14           0.0   \n",
       "1  ...                       14   2015-12-08           14           0.0   \n",
       "2  ...                       15   2014-12-30           15           0.0   \n",
       "3  ...                       14   2013-03-12           14           0.0   \n",
       "4  ...                       14   2015-12-17           14           0.0   \n",
       "\n",
       "   attorney_sequence                       attorney_id  \\\n",
       "0                0.0  b3c98f20e3e28fd54083915ad978353c   \n",
       "1                0.0  e6f577eb0680dac0003c00a6ed8806c0   \n",
       "2                0.0  1841e0cfc9cd02b68b0ec6269adda229   \n",
       "3                0.0  380f74ad81a6fdf6e937ad2352257058   \n",
       "4                0.0  0c34dbbb2964ace1b1b5ebad6bd09a54   \n",
       "\n",
       "   disambig_attorney_name_first  disambig_attorney_name_last  \\\n",
       "0                           NaN                          NaN   \n",
       "1                           NaN                          NaN   \n",
       "2                           NaN                          NaN   \n",
       "3                           NaN                          NaN   \n",
       "4                           NaN                          NaN   \n",
       "\n",
       "                disambig_attorney_organization  attorney_country  \n",
       "0                    Munck Wilson Mandala, LLP               NaN  \n",
       "1                                K&L Gates LLP               NaN  \n",
       "2                         Lex IP Meister, PLLC               NaN  \n",
       "3  Grossman, Tucker, Perreault & Pfleger, PLLC               NaN  \n",
       "4                   Defillo & Associates, Inc.               NaN  \n",
       "\n",
       "[5 rows x 51 columns]"
      ]
     },
     "execution_count": 5,
     "metadata": {},
     "output_type": "execute_result"
    }
   ],
   "source": [
    "#merge for getting location_id in this merged dataset using the inventor dataset\n",
    "new_df = pd.merge(merged_df, attorney_df, on='patent_id', how='left')\n",
    "new_df[:5]"
   ]
  },
  {
   "cell_type": "code",
   "execution_count": 6,
   "id": "c03bef2c",
   "metadata": {},
   "outputs": [
    {
     "data": {
      "text/plain": [
       "Index(['doc_id', 'flag_patent', 'pub_dt', 'predict50_any_ai',\n",
       "       'predict86_any_ai', 'predict93_any_ai', 'predict50_ml', 'predict86_ml',\n",
       "       'predict93_ml', 'ai_score_ml', 'predict50_evo', 'predict86_evo',\n",
       "       'predict93_evo', 'ai_score_evo', 'predict50_nlp', 'predict86_nlp',\n",
       "       'predict93_nlp', 'ai_score_nlp', 'predict50_speech', 'predict86_speech',\n",
       "       'predict93_speech', 'ai_score_speech', 'predict50_vision',\n",
       "       'predict86_vision', 'predict93_vision', 'ai_score_vision',\n",
       "       'predict50_planning', 'predict86_planning', 'predict93_planning',\n",
       "       'ai_score_planning', 'predict50_kr', 'predict86_kr', 'predict93_kr',\n",
       "       'ai_score_kr', 'predict50_hardware', 'predict86_hardware',\n",
       "       'predict93_hardware', 'ai_score_hardware', 'year', 'application_id',\n",
       "       'patent_id', 'patent_application_type', 'filing_date', 'series_code',\n",
       "       'rule_47_flag', 'attorney_sequence', 'attorney_id',\n",
       "       'disambig_attorney_name_first', 'disambig_attorney_name_last',\n",
       "       'disambig_attorney_organization', 'attorney_country'],\n",
       "      dtype='object')"
      ]
     },
     "execution_count": 6,
     "metadata": {},
     "output_type": "execute_result"
    }
   ],
   "source": [
    "new_df.columns"
   ]
  },
  {
   "cell_type": "code",
   "execution_count": 7,
   "id": "e9f7c25f",
   "metadata": {},
   "outputs": [],
   "source": [
    "df = new_df"
   ]
  },
  {
   "cell_type": "code",
   "execution_count": 8,
   "id": "0425ca79",
   "metadata": {},
   "outputs": [
    {
     "data": {
      "text/html": [
       "<div>\n",
       "<style scoped>\n",
       "    .dataframe tbody tr th:only-of-type {\n",
       "        vertical-align: middle;\n",
       "    }\n",
       "\n",
       "    .dataframe tbody tr th {\n",
       "        vertical-align: top;\n",
       "    }\n",
       "\n",
       "    .dataframe thead th {\n",
       "        text-align: right;\n",
       "    }\n",
       "</style>\n",
       "<table border=\"1\" class=\"dataframe\">\n",
       "  <thead>\n",
       "    <tr style=\"text-align: right;\">\n",
       "      <th></th>\n",
       "      <th>doc_id</th>\n",
       "      <th>flag_patent</th>\n",
       "      <th>pub_dt</th>\n",
       "      <th>predict50_any_ai</th>\n",
       "      <th>predict86_any_ai</th>\n",
       "      <th>predict93_any_ai</th>\n",
       "      <th>predict50_ml</th>\n",
       "      <th>predict86_ml</th>\n",
       "      <th>predict93_ml</th>\n",
       "      <th>ai_score_ml</th>\n",
       "      <th>...</th>\n",
       "      <th>patent_application_type</th>\n",
       "      <th>filing_date</th>\n",
       "      <th>series_code</th>\n",
       "      <th>rule_47_flag</th>\n",
       "      <th>attorney_sequence</th>\n",
       "      <th>attorney_id</th>\n",
       "      <th>disambig_attorney_name_first</th>\n",
       "      <th>disambig_attorney_name_last</th>\n",
       "      <th>disambig_attorney_organization</th>\n",
       "      <th>attorney_country</th>\n",
       "    </tr>\n",
       "  </thead>\n",
       "  <tbody>\n",
       "    <tr>\n",
       "      <th>0</th>\n",
       "      <td>10000000</td>\n",
       "      <td>1</td>\n",
       "      <td>2018-06-19</td>\n",
       "      <td>0</td>\n",
       "      <td>0</td>\n",
       "      <td>0</td>\n",
       "      <td>0</td>\n",
       "      <td>0</td>\n",
       "      <td>0</td>\n",
       "      <td>0.000036</td>\n",
       "      <td>...</td>\n",
       "      <td>14</td>\n",
       "      <td>2015-03-10</td>\n",
       "      <td>14</td>\n",
       "      <td>0.0</td>\n",
       "      <td>0.0</td>\n",
       "      <td>b3c98f20e3e28fd54083915ad978353c</td>\n",
       "      <td>NaN</td>\n",
       "      <td>NaN</td>\n",
       "      <td>Munck Wilson Mandala, LLP</td>\n",
       "      <td>NaN</td>\n",
       "    </tr>\n",
       "    <tr>\n",
       "      <th>1</th>\n",
       "      <td>10000001</td>\n",
       "      <td>1</td>\n",
       "      <td>2018-06-19</td>\n",
       "      <td>0</td>\n",
       "      <td>0</td>\n",
       "      <td>0</td>\n",
       "      <td>0</td>\n",
       "      <td>0</td>\n",
       "      <td>0</td>\n",
       "      <td>0.000183</td>\n",
       "      <td>...</td>\n",
       "      <td>14</td>\n",
       "      <td>2015-12-08</td>\n",
       "      <td>14</td>\n",
       "      <td>0.0</td>\n",
       "      <td>0.0</td>\n",
       "      <td>e6f577eb0680dac0003c00a6ed8806c0</td>\n",
       "      <td>NaN</td>\n",
       "      <td>NaN</td>\n",
       "      <td>K&amp;L Gates LLP</td>\n",
       "      <td>NaN</td>\n",
       "    </tr>\n",
       "    <tr>\n",
       "      <th>2</th>\n",
       "      <td>10000002</td>\n",
       "      <td>1</td>\n",
       "      <td>2018-06-19</td>\n",
       "      <td>1</td>\n",
       "      <td>1</td>\n",
       "      <td>1</td>\n",
       "      <td>0</td>\n",
       "      <td>0</td>\n",
       "      <td>0</td>\n",
       "      <td>0.000987</td>\n",
       "      <td>...</td>\n",
       "      <td>15</td>\n",
       "      <td>2014-12-30</td>\n",
       "      <td>15</td>\n",
       "      <td>0.0</td>\n",
       "      <td>0.0</td>\n",
       "      <td>1841e0cfc9cd02b68b0ec6269adda229</td>\n",
       "      <td>NaN</td>\n",
       "      <td>NaN</td>\n",
       "      <td>Lex IP Meister, PLLC</td>\n",
       "      <td>NaN</td>\n",
       "    </tr>\n",
       "    <tr>\n",
       "      <th>3</th>\n",
       "      <td>10000003</td>\n",
       "      <td>1</td>\n",
       "      <td>2018-06-19</td>\n",
       "      <td>0</td>\n",
       "      <td>0</td>\n",
       "      <td>0</td>\n",
       "      <td>0</td>\n",
       "      <td>0</td>\n",
       "      <td>0</td>\n",
       "      <td>0.000066</td>\n",
       "      <td>...</td>\n",
       "      <td>14</td>\n",
       "      <td>2013-03-12</td>\n",
       "      <td>14</td>\n",
       "      <td>0.0</td>\n",
       "      <td>0.0</td>\n",
       "      <td>380f74ad81a6fdf6e937ad2352257058</td>\n",
       "      <td>NaN</td>\n",
       "      <td>NaN</td>\n",
       "      <td>Grossman, Tucker, Perreault &amp; Pfleger, PLLC</td>\n",
       "      <td>NaN</td>\n",
       "    </tr>\n",
       "    <tr>\n",
       "      <th>4</th>\n",
       "      <td>10000004</td>\n",
       "      <td>1</td>\n",
       "      <td>2018-06-19</td>\n",
       "      <td>0</td>\n",
       "      <td>0</td>\n",
       "      <td>0</td>\n",
       "      <td>0</td>\n",
       "      <td>0</td>\n",
       "      <td>0</td>\n",
       "      <td>0.000163</td>\n",
       "      <td>...</td>\n",
       "      <td>14</td>\n",
       "      <td>2015-12-17</td>\n",
       "      <td>14</td>\n",
       "      <td>0.0</td>\n",
       "      <td>0.0</td>\n",
       "      <td>0c34dbbb2964ace1b1b5ebad6bd09a54</td>\n",
       "      <td>NaN</td>\n",
       "      <td>NaN</td>\n",
       "      <td>Defillo &amp; Associates, Inc.</td>\n",
       "      <td>NaN</td>\n",
       "    </tr>\n",
       "    <tr>\n",
       "      <th>...</th>\n",
       "      <td>...</td>\n",
       "      <td>...</td>\n",
       "      <td>...</td>\n",
       "      <td>...</td>\n",
       "      <td>...</td>\n",
       "      <td>...</td>\n",
       "      <td>...</td>\n",
       "      <td>...</td>\n",
       "      <td>...</td>\n",
       "      <td>...</td>\n",
       "      <td>...</td>\n",
       "      <td>...</td>\n",
       "      <td>...</td>\n",
       "      <td>...</td>\n",
       "      <td>...</td>\n",
       "      <td>...</td>\n",
       "      <td>...</td>\n",
       "      <td>...</td>\n",
       "      <td>...</td>\n",
       "      <td>...</td>\n",
       "      <td>...</td>\n",
       "    </tr>\n",
       "    <tr>\n",
       "      <th>17780820</th>\n",
       "      <td>RE47180</td>\n",
       "      <td>1</td>\n",
       "      <td>2018-12-25</td>\n",
       "      <td>0</td>\n",
       "      <td>0</td>\n",
       "      <td>0</td>\n",
       "      <td>0</td>\n",
       "      <td>0</td>\n",
       "      <td>0</td>\n",
       "      <td>0.000134</td>\n",
       "      <td>...</td>\n",
       "      <td>15</td>\n",
       "      <td>2016-11-02</td>\n",
       "      <td>15</td>\n",
       "      <td>0.0</td>\n",
       "      <td>1.0</td>\n",
       "      <td>4b2be3bd4001a8fb69c5aa79c904cb52</td>\n",
       "      <td>Michael A.</td>\n",
       "      <td>Glenn</td>\n",
       "      <td>NaN</td>\n",
       "      <td>NaN</td>\n",
       "    </tr>\n",
       "    <tr>\n",
       "      <th>17780821</th>\n",
       "      <td>RE47180</td>\n",
       "      <td>1</td>\n",
       "      <td>2018-12-25</td>\n",
       "      <td>0</td>\n",
       "      <td>0</td>\n",
       "      <td>0</td>\n",
       "      <td>0</td>\n",
       "      <td>0</td>\n",
       "      <td>0</td>\n",
       "      <td>0.000134</td>\n",
       "      <td>...</td>\n",
       "      <td>15</td>\n",
       "      <td>2016-11-02</td>\n",
       "      <td>15</td>\n",
       "      <td>0.0</td>\n",
       "      <td>0.0</td>\n",
       "      <td>5b244d5a5242cbce914c9917814efdb9</td>\n",
       "      <td>NaN</td>\n",
       "      <td>NaN</td>\n",
       "      <td>Perkins Coie LLP</td>\n",
       "      <td>NaN</td>\n",
       "    </tr>\n",
       "    <tr>\n",
       "      <th>17780822</th>\n",
       "      <td>RE47181</td>\n",
       "      <td>1</td>\n",
       "      <td>2018-12-25</td>\n",
       "      <td>0</td>\n",
       "      <td>0</td>\n",
       "      <td>0</td>\n",
       "      <td>0</td>\n",
       "      <td>0</td>\n",
       "      <td>0</td>\n",
       "      <td>0.000399</td>\n",
       "      <td>...</td>\n",
       "      <td>15</td>\n",
       "      <td>2016-02-04</td>\n",
       "      <td>15</td>\n",
       "      <td>0.0</td>\n",
       "      <td>0.0</td>\n",
       "      <td>8cdfc20c7a4ef6e2bc1cd3a3cd816022</td>\n",
       "      <td>NaN</td>\n",
       "      <td>NaN</td>\n",
       "      <td>Birch, Stewart, Kolasch &amp; Birch, LLP</td>\n",
       "      <td>NaN</td>\n",
       "    </tr>\n",
       "    <tr>\n",
       "      <th>17780823</th>\n",
       "      <td>RE47182</td>\n",
       "      <td>1</td>\n",
       "      <td>2018-12-25</td>\n",
       "      <td>0</td>\n",
       "      <td>0</td>\n",
       "      <td>0</td>\n",
       "      <td>0</td>\n",
       "      <td>0</td>\n",
       "      <td>0</td>\n",
       "      <td>0.000291</td>\n",
       "      <td>...</td>\n",
       "      <td>14</td>\n",
       "      <td>2015-12-30</td>\n",
       "      <td>14</td>\n",
       "      <td>0.0</td>\n",
       "      <td>NaN</td>\n",
       "      <td>NaN</td>\n",
       "      <td>NaN</td>\n",
       "      <td>NaN</td>\n",
       "      <td>NaN</td>\n",
       "      <td>NaN</td>\n",
       "    </tr>\n",
       "    <tr>\n",
       "      <th>17780824</th>\n",
       "      <td>RE47183</td>\n",
       "      <td>1</td>\n",
       "      <td>2018-12-25</td>\n",
       "      <td>0</td>\n",
       "      <td>0</td>\n",
       "      <td>0</td>\n",
       "      <td>0</td>\n",
       "      <td>0</td>\n",
       "      <td>0</td>\n",
       "      <td>0.000001</td>\n",
       "      <td>...</td>\n",
       "      <td>14</td>\n",
       "      <td>2015-03-04</td>\n",
       "      <td>14</td>\n",
       "      <td>0.0</td>\n",
       "      <td>0.0</td>\n",
       "      <td>f990a212bbe8c6c19710ec74247957be</td>\n",
       "      <td>NaN</td>\n",
       "      <td>NaN</td>\n",
       "      <td>Dentons US LLP</td>\n",
       "      <td>NaN</td>\n",
       "    </tr>\n",
       "  </tbody>\n",
       "</table>\n",
       "<p>806584 rows × 51 columns</p>\n",
       "</div>"
      ],
      "text/plain": [
       "            doc_id  flag_patent     pub_dt  predict50_any_ai  \\\n",
       "0         10000000            1 2018-06-19                 0   \n",
       "1         10000001            1 2018-06-19                 0   \n",
       "2         10000002            1 2018-06-19                 1   \n",
       "3         10000003            1 2018-06-19                 0   \n",
       "4         10000004            1 2018-06-19                 0   \n",
       "...            ...          ...        ...               ...   \n",
       "17780820   RE47180            1 2018-12-25                 0   \n",
       "17780821   RE47180            1 2018-12-25                 0   \n",
       "17780822   RE47181            1 2018-12-25                 0   \n",
       "17780823   RE47182            1 2018-12-25                 0   \n",
       "17780824   RE47183            1 2018-12-25                 0   \n",
       "\n",
       "          predict86_any_ai  predict93_any_ai  predict50_ml  predict86_ml  \\\n",
       "0                        0                 0             0             0   \n",
       "1                        0                 0             0             0   \n",
       "2                        1                 1             0             0   \n",
       "3                        0                 0             0             0   \n",
       "4                        0                 0             0             0   \n",
       "...                    ...               ...           ...           ...   \n",
       "17780820                 0                 0             0             0   \n",
       "17780821                 0                 0             0             0   \n",
       "17780822                 0                 0             0             0   \n",
       "17780823                 0                 0             0             0   \n",
       "17780824                 0                 0             0             0   \n",
       "\n",
       "          predict93_ml  ai_score_ml  ...  patent_application_type  \\\n",
       "0                    0     0.000036  ...                       14   \n",
       "1                    0     0.000183  ...                       14   \n",
       "2                    0     0.000987  ...                       15   \n",
       "3                    0     0.000066  ...                       14   \n",
       "4                    0     0.000163  ...                       14   \n",
       "...                ...          ...  ...                      ...   \n",
       "17780820             0     0.000134  ...                       15   \n",
       "17780821             0     0.000134  ...                       15   \n",
       "17780822             0     0.000399  ...                       15   \n",
       "17780823             0     0.000291  ...                       14   \n",
       "17780824             0     0.000001  ...                       14   \n",
       "\n",
       "          filing_date  series_code  rule_47_flag  attorney_sequence  \\\n",
       "0          2015-03-10           14           0.0                0.0   \n",
       "1          2015-12-08           14           0.0                0.0   \n",
       "2          2014-12-30           15           0.0                0.0   \n",
       "3          2013-03-12           14           0.0                0.0   \n",
       "4          2015-12-17           14           0.0                0.0   \n",
       "...               ...          ...           ...                ...   \n",
       "17780820   2016-11-02           15           0.0                1.0   \n",
       "17780821   2016-11-02           15           0.0                0.0   \n",
       "17780822   2016-02-04           15           0.0                0.0   \n",
       "17780823   2015-12-30           14           0.0                NaN   \n",
       "17780824   2015-03-04           14           0.0                0.0   \n",
       "\n",
       "                               attorney_id  disambig_attorney_name_first  \\\n",
       "0         b3c98f20e3e28fd54083915ad978353c                           NaN   \n",
       "1         e6f577eb0680dac0003c00a6ed8806c0                           NaN   \n",
       "2         1841e0cfc9cd02b68b0ec6269adda229                           NaN   \n",
       "3         380f74ad81a6fdf6e937ad2352257058                           NaN   \n",
       "4         0c34dbbb2964ace1b1b5ebad6bd09a54                           NaN   \n",
       "...                                    ...                           ...   \n",
       "17780820  4b2be3bd4001a8fb69c5aa79c904cb52                    Michael A.   \n",
       "17780821  5b244d5a5242cbce914c9917814efdb9                           NaN   \n",
       "17780822  8cdfc20c7a4ef6e2bc1cd3a3cd816022                           NaN   \n",
       "17780823                               NaN                           NaN   \n",
       "17780824  f990a212bbe8c6c19710ec74247957be                           NaN   \n",
       "\n",
       "          disambig_attorney_name_last  \\\n",
       "0                                 NaN   \n",
       "1                                 NaN   \n",
       "2                                 NaN   \n",
       "3                                 NaN   \n",
       "4                                 NaN   \n",
       "...                               ...   \n",
       "17780820                        Glenn   \n",
       "17780821                          NaN   \n",
       "17780822                          NaN   \n",
       "17780823                          NaN   \n",
       "17780824                          NaN   \n",
       "\n",
       "                       disambig_attorney_organization  attorney_country  \n",
       "0                           Munck Wilson Mandala, LLP               NaN  \n",
       "1                                       K&L Gates LLP               NaN  \n",
       "2                                Lex IP Meister, PLLC               NaN  \n",
       "3         Grossman, Tucker, Perreault & Pfleger, PLLC               NaN  \n",
       "4                          Defillo & Associates, Inc.               NaN  \n",
       "...                                               ...               ...  \n",
       "17780820                                          NaN               NaN  \n",
       "17780821                             Perkins Coie LLP               NaN  \n",
       "17780822         Birch, Stewart, Kolasch & Birch, LLP               NaN  \n",
       "17780823                                          NaN               NaN  \n",
       "17780824                               Dentons US LLP               NaN  \n",
       "\n",
       "[806584 rows x 51 columns]"
      ]
     },
     "execution_count": 8,
     "metadata": {},
     "output_type": "execute_result"
    }
   ],
   "source": [
    "check = df[df['year'] == 2018]\n",
    "check\n"
   ]
  },
  {
   "cell_type": "code",
   "execution_count": 9,
   "id": "b510f51f",
   "metadata": {},
   "outputs": [
    {
     "data": {
      "text/plain": [
       "515039"
      ]
     },
     "execution_count": 9,
     "metadata": {},
     "output_type": "execute_result"
    }
   ],
   "source": [
    "check['disambig_attorney_organization'].notna().sum()\n"
   ]
  },
  {
   "cell_type": "code",
   "execution_count": 10,
   "id": "c9154c88",
   "metadata": {},
   "outputs": [],
   "source": [
    "df['has_attorney'] = ~df['disambig_attorney_organization'].isna()\n",
    "\n"
   ]
  },
  {
   "cell_type": "code",
   "execution_count": 11,
   "id": "06cc8b35",
   "metadata": {},
   "outputs": [],
   "source": [
    "df_attorney = df[df['has_attorney']]\n",
    "#df_attorney[df_attorney['year'] == 2000]\n",
    "#thos proves that the rows were just not sorted but the table has values for all"
   ]
  },
  {
   "cell_type": "code",
   "execution_count": 12,
   "id": "9d5991e5",
   "metadata": {},
   "outputs": [],
   "source": [
    "df_no_attorney = df[~df['has_attorney']]\n"
   ]
  },
  {
   "cell_type": "code",
   "execution_count": 13,
   "id": "512d105c",
   "metadata": {},
   "outputs": [],
   "source": [
    "top_attorneys = (\n",
    "    df_attorney['disambig_attorney_organization']\n",
    "    .value_counts()\n",
    "    .head(5)\n",
    "    .reset_index()\n",
    ")\n",
    "top_attorneys.columns = ['attorney_organization', 'patent_count']"
   ]
  },
  {
   "cell_type": "code",
   "execution_count": 14,
   "id": "7b62dcb6",
   "metadata": {},
   "outputs": [
    {
     "name": "stdout",
     "output_type": "stream",
     "text": [
      "Top 5 Most Popular Attorneys by Patent Count:\n",
      "\n",
      "1. Sughrue Mion, PLLC — 157541 patents\n",
      "2. Birch, Stewart, Kolasch & Birch, LLP — 119657 patents\n",
      "3. Fish & Richardson P.C. — 117477 patents\n",
      "4. Oblon, McClelland, Maier & Neustadt, L.L.P. — 92151 patents\n",
      "5. Harness, Dickey & Pierce, P.L.C. — 87949 patents\n"
     ]
    }
   ],
   "source": [
    "top_5_names = top_attorneys['attorney_organization']\n",
    "print(\"Top 5 Most Popular Attorneys by Patent Count:\\n\")\n",
    "for idx, row in top_attorneys.iterrows():\n",
    "    print(f\"{idx+1}. {row['attorney_organization']} — {row['patent_count']} patents\")"
   ]
  },
  {
   "cell_type": "code",
   "execution_count": 15,
   "id": "38103046",
   "metadata": {},
   "outputs": [],
   "source": [
    "top_5_attorney_patents = df_attorney[\n",
    "    df_attorney['disambig_attorney_organization'].isin(top_5_names)\n",
    "]"
   ]
  },
  {
   "cell_type": "code",
   "execution_count": 16,
   "id": "87570473",
   "metadata": {},
   "outputs": [],
   "source": [
    "merged_investor_df = pd.merge(top_5_attorney_patents, inventor_df, on = 'patent_id', how='left')"
   ]
  },
  {
   "cell_type": "code",
   "execution_count": 17,
   "id": "13a6b15f",
   "metadata": {},
   "outputs": [],
   "source": [
    "merged_loc_df = pd.merge(merged_investor_df, location_df , on='location_id', how='left')\n"
   ]
  },
  {
   "cell_type": "code",
   "execution_count": 18,
   "id": "dcfb31bf",
   "metadata": {},
   "outputs": [],
   "source": [
    "attorney_state_counts = (\n",
    "    merged_loc_df.groupby(['disambig_attorney_organization', 'disambig_state'])\n",
    "    .size()\n",
    "    .reset_index(name='patent_count')\n",
    ")"
   ]
  },
  {
   "cell_type": "code",
   "execution_count": 19,
   "id": "1940c36b",
   "metadata": {},
   "outputs": [
    {
     "data": {
      "text/html": [
       "<div>\n",
       "<style scoped>\n",
       "    .dataframe tbody tr th:only-of-type {\n",
       "        vertical-align: middle;\n",
       "    }\n",
       "\n",
       "    .dataframe tbody tr th {\n",
       "        vertical-align: top;\n",
       "    }\n",
       "\n",
       "    .dataframe thead th {\n",
       "        text-align: right;\n",
       "    }\n",
       "</style>\n",
       "<table border=\"1\" class=\"dataframe\">\n",
       "  <thead>\n",
       "    <tr style=\"text-align: right;\">\n",
       "      <th></th>\n",
       "      <th>disambig_attorney_organization</th>\n",
       "      <th>disambig_state</th>\n",
       "      <th>patent_count</th>\n",
       "    </tr>\n",
       "  </thead>\n",
       "  <tbody>\n",
       "    <tr>\n",
       "      <th>0</th>\n",
       "      <td>Birch, Stewart, Kolasch &amp; Birch, LLP</td>\n",
       "      <td>AB</td>\n",
       "      <td>55</td>\n",
       "    </tr>\n",
       "    <tr>\n",
       "      <th>1</th>\n",
       "      <td>Birch, Stewart, Kolasch &amp; Birch, LLP</td>\n",
       "      <td>AL</td>\n",
       "      <td>21</td>\n",
       "    </tr>\n",
       "    <tr>\n",
       "      <th>2</th>\n",
       "      <td>Birch, Stewart, Kolasch &amp; Birch, LLP</td>\n",
       "      <td>AR</td>\n",
       "      <td>8</td>\n",
       "    </tr>\n",
       "    <tr>\n",
       "      <th>3</th>\n",
       "      <td>Birch, Stewart, Kolasch &amp; Birch, LLP</td>\n",
       "      <td>AZ</td>\n",
       "      <td>53</td>\n",
       "    </tr>\n",
       "    <tr>\n",
       "      <th>4</th>\n",
       "      <td>Birch, Stewart, Kolasch &amp; Birch, LLP</td>\n",
       "      <td>BC</td>\n",
       "      <td>66</td>\n",
       "    </tr>\n",
       "    <tr>\n",
       "      <th>...</th>\n",
       "      <td>...</td>\n",
       "      <td>...</td>\n",
       "      <td>...</td>\n",
       "    </tr>\n",
       "    <tr>\n",
       "      <th>287</th>\n",
       "      <td>Sughrue Mion, PLLC</td>\n",
       "      <td>VT</td>\n",
       "      <td>146</td>\n",
       "    </tr>\n",
       "    <tr>\n",
       "      <th>288</th>\n",
       "      <td>Sughrue Mion, PLLC</td>\n",
       "      <td>WA</td>\n",
       "      <td>418</td>\n",
       "    </tr>\n",
       "    <tr>\n",
       "      <th>289</th>\n",
       "      <td>Sughrue Mion, PLLC</td>\n",
       "      <td>WI</td>\n",
       "      <td>66</td>\n",
       "    </tr>\n",
       "    <tr>\n",
       "      <th>290</th>\n",
       "      <td>Sughrue Mion, PLLC</td>\n",
       "      <td>WV</td>\n",
       "      <td>26</td>\n",
       "    </tr>\n",
       "    <tr>\n",
       "      <th>291</th>\n",
       "      <td>Sughrue Mion, PLLC</td>\n",
       "      <td>WY</td>\n",
       "      <td>7</td>\n",
       "    </tr>\n",
       "  </tbody>\n",
       "</table>\n",
       "<p>292 rows × 3 columns</p>\n",
       "</div>"
      ],
      "text/plain": [
       "           disambig_attorney_organization disambig_state  patent_count\n",
       "0    Birch, Stewart, Kolasch & Birch, LLP             AB            55\n",
       "1    Birch, Stewart, Kolasch & Birch, LLP             AL            21\n",
       "2    Birch, Stewart, Kolasch & Birch, LLP             AR             8\n",
       "3    Birch, Stewart, Kolasch & Birch, LLP             AZ            53\n",
       "4    Birch, Stewart, Kolasch & Birch, LLP             BC            66\n",
       "..                                    ...            ...           ...\n",
       "287                    Sughrue Mion, PLLC             VT           146\n",
       "288                    Sughrue Mion, PLLC             WA           418\n",
       "289                    Sughrue Mion, PLLC             WI            66\n",
       "290                    Sughrue Mion, PLLC             WV            26\n",
       "291                    Sughrue Mion, PLLC             WY             7\n",
       "\n",
       "[292 rows x 3 columns]"
      ]
     },
     "execution_count": 19,
     "metadata": {},
     "output_type": "execute_result"
    }
   ],
   "source": [
    "attorney_state_counts"
   ]
  },
  {
   "cell_type": "code",
   "execution_count": 20,
   "id": "79ec0239",
   "metadata": {},
   "outputs": [],
   "source": [
    "attorney_state_counts = (\n",
    "    merged_loc_df\n",
    "    .groupby(['disambig_attorney_organization', 'disambig_state'])\n",
    "    .size()\n",
    "    .reset_index(name='patent_count')\n",
    ")"
   ]
  },
  {
   "cell_type": "code",
   "execution_count": 21,
   "id": "7c811735",
   "metadata": {},
   "outputs": [
    {
     "data": {
      "image/png": "[encoded data removed]",
      "text/plain": [
       "<Figure size 1200x600 with 1 Axes>"
      ]
     },
     "metadata": {},
     "output_type": "display_data"
    }
   ],
   "source": [
    "yearly_counts = (\n",
    "    merged_loc_df\n",
    "    .groupby(['year', 'disambig_attorney_organization'])\n",
    "    .size()\n",
    "    .reset_index(name='patent_count')\n",
    ")\n",
    "\n",
    "plt.figure(figsize=(12, 6))\n",
    "sns.barplot(data=yearly_counts,\n",
    "            x='year',\n",
    "            y='patent_count',\n",
    "            hue='disambig_attorney_organization',\n",
    "            palette='Set2')\n",
    "\n",
    "plt.title('Yearly Patent Filing Trends for Top 5 Attorney Organizations')\n",
    "plt.xlabel('Year')\n",
    "plt.ylabel('Patent Count')\n",
    "plt.legend(title='Attorney Organization')\n",
    "plt.xticks(rotation=45)\n",
    "plt.tight_layout()\n",
    "plt.show()"
   ]
  },
  {
   "cell_type": "code",
   "execution_count": 22,
   "id": "ebc52d4f",
   "metadata": {},
   "outputs": [],
   "source": [
    "state_patent_stats = (\n",
    "    merged_loc_df.groupby('disambig_state')\n",
    "    .agg(total_patents=('patent_id', 'count'),\n",
    "         unique_attorneys=('disambig_attorney_organization', 'nunique'))\n",
    "    .reset_index()\n",
    "    .sort_values('total_patents', ascending=False)\n",
    ")"
   ]
  },
  {
   "cell_type": "code",
   "execution_count": 23,
   "id": "b828e21f",
   "metadata": {},
   "outputs": [
    {
     "name": "stderr",
     "output_type": "stream",
     "text": [
      "/var/folders/p9/bgpcjxgn0rz4pvkjs39ch9740000gn/T/ipykernel_1322/4052101328.py:2: FutureWarning: \n",
      "\n",
      "Passing `palette` without assigning `hue` is deprecated and will be removed in v0.14.0. Assign the `x` variable to `hue` and set `legend=False` for the same effect.\n",
      "\n",
      "  sns.barplot(data=state_patent_stats.head(15), x='disambig_state', y='total_patents', palette='Blues_d')\n"
     ]
    },
    {
     "ename": "TypeError",
     "evalue": "text() missing 1 required positional argument: 's'",
     "output_type": "error",
     "traceback": [
      "\u001b[31m---------------------------------------------------------------------------\u001b[39m",
      "\u001b[31mTypeError\u001b[39m                                 Traceback (most recent call last)",
      "\u001b[36mCell\u001b[39m\u001b[36m \u001b[39m\u001b[32mIn[23]\u001b[39m\u001b[32m, line 6\u001b[39m\n\u001b[32m      4\u001b[39m \u001b[38;5;66;03m# Annotate with number of attorneys used\u001b[39;00m\n\u001b[32m      5\u001b[39m \u001b[38;5;28;01mfor\u001b[39;00m i, row \u001b[38;5;129;01min\u001b[39;00m state_patent_stats.head(\u001b[32m15\u001b[39m).iterrows():\n\u001b[32m----> \u001b[39m\u001b[32m6\u001b[39m     \u001b[43mplt\u001b[49m\u001b[43m.\u001b[49m\u001b[43mtext\u001b[49m\u001b[43m(\u001b[49m\u001b[43mi\u001b[49m\u001b[43m,\u001b[49m\u001b[43m \u001b[49m\u001b[43mrow\u001b[49m\u001b[43m[\u001b[49m\u001b[33;43m'\u001b[39;49m\u001b[33;43mtotal_patents\u001b[39;49m\u001b[33;43m'\u001b[39;49m\u001b[43m]\u001b[49m\u001b[43m \u001b[49m\u001b[43m+\u001b[49m\u001b[43m \u001b[49m\u001b[32;43m100\u001b[39;49m\u001b[43m,\u001b[49m\n\u001b[32m      7\u001b[39m \u001b[43m             \u001b[49m\u001b[43mha\u001b[49m\u001b[43m=\u001b[49m\u001b[33;43m'\u001b[39;49m\u001b[33;43mcenter\u001b[39;49m\u001b[33;43m'\u001b[39;49m\u001b[43m,\u001b[49m\u001b[43m \u001b[49m\u001b[43mfontsize\u001b[49m\u001b[43m=\u001b[49m\u001b[32;43m9\u001b[39;49m\u001b[43m)\u001b[49m\n\u001b[32m      9\u001b[39m plt.title(\u001b[33m'\u001b[39m\u001b[33mTotal Patents per State (with Attorney Involvement)\u001b[39m\u001b[33m'\u001b[39m)\n\u001b[32m     10\u001b[39m plt.xlabel(\u001b[33m'\u001b[39m\u001b[33mState\u001b[39m\u001b[33m'\u001b[39m)\n",
      "\u001b[31mTypeError\u001b[39m: text() missing 1 required positional argument: 's'"
     ]
    },
    {
     "data": {
      "image/png": "[encoded data removed]",
      "text/plain": [
       "<Figure size 1200x600 with 1 Axes>"
      ]
     },
     "metadata": {},
     "output_type": "display_data"
    }
   ],
   "source": [
    "plt.figure(figsize=(12, 6))\n",
    "sns.barplot(data=state_patent_stats.head(15), x='disambig_state', y='total_patents', palette='Blues_d')\n",
    "\n",
    "# Annotate with number of attorneys used\n",
    "for i, row in state_patent_stats.head(15).iterrows():\n",
    "    plt.text(i, row['total_patents'] + 100,\n",
    "             ha='center', fontsize=9)\n",
    "\n",
    "plt.title('Total Patents per State (with Attorney Involvement)')\n",
    "plt.xlabel('State')\n",
    "plt.ylabel('Patent Count')\n",
    "plt.tight_layout()\n",
    "plt.show()"
   ]
  },
  {
   "cell_type": "code",
   "execution_count": 24,
   "id": "3e9489c7",
   "metadata": {},
   "outputs": [],
   "source": [
    "total_patents = pd.read_csv('total_patents.csv')"
   ]
  },
  {
   "cell_type": "code",
   "execution_count": 25,
   "id": "db8c8ee2",
   "metadata": {},
   "outputs": [
    {
     "data": {
      "text/html": [
       "<div>\n",
       "<style scoped>\n",
       "    .dataframe tbody tr th:only-of-type {\n",
       "        vertical-align: middle;\n",
       "    }\n",
       "\n",
       "    .dataframe tbody tr th {\n",
       "        vertical-align: top;\n",
       "    }\n",
       "\n",
       "    .dataframe thead th {\n",
       "        text-align: right;\n",
       "    }\n",
       "</style>\n",
       "<table border=\"1\" class=\"dataframe\">\n",
       "  <thead>\n",
       "    <tr style=\"text-align: right;\">\n",
       "      <th></th>\n",
       "      <th>disambig_state</th>\n",
       "      <th>patent_count</th>\n",
       "    </tr>\n",
       "  </thead>\n",
       "  <tbody>\n",
       "    <tr>\n",
       "      <th>0</th>\n",
       "      <td>AK</td>\n",
       "      <td>1930</td>\n",
       "    </tr>\n",
       "    <tr>\n",
       "      <th>1</th>\n",
       "      <td>AL</td>\n",
       "      <td>25834</td>\n",
       "    </tr>\n",
       "    <tr>\n",
       "      <th>2</th>\n",
       "      <td>AR</td>\n",
       "      <td>13143</td>\n",
       "    </tr>\n",
       "    <tr>\n",
       "      <th>3</th>\n",
       "      <td>AS</td>\n",
       "      <td>1</td>\n",
       "    </tr>\n",
       "    <tr>\n",
       "      <th>4</th>\n",
       "      <td>AZ</td>\n",
       "      <td>132693</td>\n",
       "    </tr>\n",
       "  </tbody>\n",
       "</table>\n",
       "</div>"
      ],
      "text/plain": [
       "  disambig_state  patent_count\n",
       "0             AK          1930\n",
       "1             AL         25834\n",
       "2             AR         13143\n",
       "3             AS             1\n",
       "4             AZ        132693"
      ]
     },
     "execution_count": 25,
     "metadata": {},
     "output_type": "execute_result"
    }
   ],
   "source": [
    "total_patents.head() #AS is American Samoa which is a minor island state"
   ]
  },
  {
   "cell_type": "code",
   "execution_count": 26,
   "id": "f322e9d0",
   "metadata": {},
   "outputs": [
    {
     "data": {
      "text/html": [
       "<div>\n",
       "<style scoped>\n",
       "    .dataframe tbody tr th:only-of-type {\n",
       "        vertical-align: middle;\n",
       "    }\n",
       "\n",
       "    .dataframe tbody tr th {\n",
       "        vertical-align: top;\n",
       "    }\n",
       "\n",
       "    .dataframe thead th {\n",
       "        text-align: right;\n",
       "    }\n",
       "</style>\n",
       "<table border=\"1\" class=\"dataframe\">\n",
       "  <thead>\n",
       "    <tr style=\"text-align: right;\">\n",
       "      <th></th>\n",
       "      <th>disambig_state</th>\n",
       "      <th>patent_count_with_atotrney</th>\n",
       "    </tr>\n",
       "  </thead>\n",
       "  <tbody>\n",
       "    <tr>\n",
       "      <th>0</th>\n",
       "      <td>AB</td>\n",
       "      <td>1352</td>\n",
       "    </tr>\n",
       "    <tr>\n",
       "      <th>1</th>\n",
       "      <td>AK</td>\n",
       "      <td>11</td>\n",
       "    </tr>\n",
       "    <tr>\n",
       "      <th>2</th>\n",
       "      <td>AL</td>\n",
       "      <td>936</td>\n",
       "    </tr>\n",
       "    <tr>\n",
       "      <th>3</th>\n",
       "      <td>AR</td>\n",
       "      <td>108</td>\n",
       "    </tr>\n",
       "    <tr>\n",
       "      <th>4</th>\n",
       "      <td>AZ</td>\n",
       "      <td>2831</td>\n",
       "    </tr>\n",
       "  </tbody>\n",
       "</table>\n",
       "</div>"
      ],
      "text/plain": [
       "  disambig_state  patent_count_with_atotrney\n",
       "0             AB                        1352\n",
       "1             AK                          11\n",
       "2             AL                         936\n",
       "3             AR                         108\n",
       "4             AZ                        2831"
      ]
     },
     "execution_count": 26,
     "metadata": {},
     "output_type": "execute_result"
    }
   ],
   "source": [
    "attorney_state_counts = (\n",
    "    merged_loc_df\n",
    "    .groupby(['disambig_state'])\n",
    "    .size()\n",
    "    .reset_index(name='patent_count_with_atotrney')\n",
    ")\n",
    "attorney_state_counts.head()"
   ]
  },
  {
   "cell_type": "code",
   "execution_count": 27,
   "id": "9fcfa68b",
   "metadata": {},
   "outputs": [
    {
     "name": "stdout",
     "output_type": "stream",
     "text": [
      "   disambig_state  total_patents  patent_count_with_atotrney\n",
      "0              AK           1930                          11\n",
      "1              AL          25834                         936\n",
      "2              AR          13143                         108\n",
      "3              AZ         132693                        2831\n",
      "4              CA        2101519                       85242\n",
      "5              CO         148240                        3446\n",
      "6              CT         151272                        2977\n",
      "7              DC           9068                         828\n",
      "8              DE          27695                        2217\n",
      "9              FL         183803                        4530\n",
      "10             GA         118464                        2231\n",
      "11             HI           5150                          53\n",
      "12             IA          52159                         494\n",
      "13             ID          57246                         324\n",
      "14             IL         293116                        4790\n",
      "15             IN         115628                        1850\n",
      "16             KS          38884                         566\n",
      "17             KY          36146                         435\n",
      "18             LA          22391                         205\n",
      "19             MA         406219                       31937\n",
      "20             MD         110916                        8110\n",
      "21             ME          13800                         347\n",
      "22             MI         322505                       22929\n",
      "23             MN         244431                        9018\n",
      "24             MO          69263                        5408\n",
      "25             MS           8770                         283\n",
      "26             MT           7432                          88\n",
      "27             NC         183059                        3690\n",
      "28             ND           5734                         217\n",
      "29             NE          15243                        1053\n",
      "30             NH          49599                        3785\n",
      "31             NJ         295039                        6100\n",
      "32             NM          25560                         232\n",
      "33             NV          30582                         470\n",
      "34             NY         518958                        9236\n",
      "35             OH         247969                        4993\n",
      "36             OK          38653                         456\n",
      "37             OR         149053                        2002\n",
      "38             PA         262159                        7460\n",
      "39             PR           1701                          11\n",
      "40             RI          19086                         851\n",
      "41             SC          48660                         554\n",
      "42             SD           5373                          55\n",
      "43             TN          60110                        1936\n",
      "44             TX         526406                       10488\n",
      "45             UT          67597                         791\n",
      "46             VA         114841                       11306\n",
      "47             VI             52                           2\n",
      "48             VT          30997                         618\n",
      "49             WA         374989                        6013\n",
      "50             WI         134070                        1811\n",
      "51             WV           8624                         226\n",
      "52             WY           4153                         104\n"
     ]
    }
   ],
   "source": [
    "merged_df = pd.merge(\n",
    "    total_patents.rename(columns={'patent_count': 'total_patents'}),\n",
    "    attorney_state_counts.rename(columns={'patent_count': 'patent_count_with_atotrney'}),\n",
    "    on='disambig_state',\n",
    "    how='inner'\n",
    ")\n",
    "\n",
    "print(merged_df)"
   ]
  },
  {
   "cell_type": "code",
   "execution_count": 28,
   "id": "9d0e58a5",
   "metadata": {},
   "outputs": [
    {
     "name": "stdout",
     "output_type": "stream",
     "text": [
      "   disambig_state  attorney_involvement_percent\n",
      "46             VA                          9.84\n",
      "7              DC                          9.13\n",
      "8              DE                          8.01\n",
      "19             MA                          7.86\n",
      "24             MO                          7.81\n",
      "30             NH                          7.63\n",
      "20             MD                          7.31\n",
      "22             MI                          7.11\n",
      "29             NE                          6.91\n",
      "40             RI                          4.46\n",
      "4              CA                          4.06\n",
      "47             VI                          3.85\n",
      "28             ND                          3.78\n",
      "23             MN                          3.69\n",
      "1              AL                          3.62\n",
      "25             MS                          3.23\n",
      "43             TN                          3.22\n",
      "38             PA                          2.85\n",
      "51             WV                          2.62\n",
      "21             ME                          2.51\n",
      "52             WY                          2.50\n",
      "9              FL                          2.46\n",
      "5              CO                          2.32\n",
      "3              AZ                          2.13\n",
      "31             NJ                          2.07\n",
      "27             NC                          2.02\n",
      "35             OH                          2.01\n",
      "44             TX                          1.99\n",
      "48             VT                          1.99\n",
      "6              CT                          1.97\n",
      "10             GA                          1.88\n",
      "34             NY                          1.78\n",
      "14             IL                          1.63\n",
      "49             WA                          1.60\n",
      "15             IN                          1.60\n",
      "33             NV                          1.54\n",
      "16             KS                          1.46\n",
      "50             WI                          1.35\n",
      "37             OR                          1.34\n",
      "17             KY                          1.20\n",
      "26             MT                          1.18\n",
      "36             OK                          1.18\n",
      "45             UT                          1.17\n",
      "41             SC                          1.14\n",
      "11             HI                          1.03\n",
      "42             SD                          1.02\n",
      "12             IA                          0.95\n",
      "18             LA                          0.92\n",
      "32             NM                          0.91\n",
      "2              AR                          0.82\n",
      "39             PR                          0.65\n",
      "13             ID                          0.57\n",
      "0              AK                          0.57\n"
     ]
    }
   ],
   "source": [
    "merged_df['attorney_involvement_percent'] = (\n",
    "    merged_df['patent_count_with_atotrney'] / merged_df['total_patents'] * 100\n",
    ").round(2)  # Round to 2 decimal places for readability\n",
    "\n",
    "print(merged_df[['disambig_state', 'attorney_involvement_percent']]\n",
    "      .sort_values('attorney_involvement_percent', ascending=False))"
   ]
  },
  {
   "cell_type": "code",
   "execution_count": 29,
   "id": "9c3700a2",
   "metadata": {},
   "outputs": [
    {
     "data": {
      "application/vnd.plotly.v1+json": {
       "config": {
        "plotlyServerURL": "https://plot.ly"
       },
       "data": [
        {
         "coloraxis": "coloraxis",
         "geo": "geo",
         "hovertemplate": "disambig_state=%{location}<br>Attorney %=%{z}<extra></extra>",
         "locationmode": "USA-states",
         "locations": [
          "AK",
          "AL",
          "AR",
          "AZ",
          "CA",
          "CO",
          "CT",
          "DC",
          "DE",
          "FL",
          "GA",
          "HI",
          "IA",
          "ID",
          "IL",
          "IN",
          "KS",
          "KY",
          "LA",
          "MA",
          "MD",
          "ME",
          "MI",
          "MN",
          "MO",
          "MS",
          "MT",
          "NC",
          "ND",
          "NE",
          "NH",
          "NJ",
          "NM",
          "NV",
          "NY",
          "OH",
          "OK",
          "OR",
          "PA",
          "PR",
          "RI",
          "SC",
          "SD",
          "TN",
          "TX",
          "UT",
          "VA",
          "VI",
          "VT",
          "WA",
          "WI",
          "WV",
          "WY"
         ],
         "name": "",
         "type": "choropleth",
         "z": {
          "bdata": "PQrXo3A94j/2KFyPwvUMQD0K16NwPeo/CtejcD0KAUA9CtejcD0QQI/C9ShcjwJAhetRuB6F/z/D9Shcj0IiQIXrUbgeBSBArkfhehSuA0AUrkfhehT+P3sUrkfhevA/ZmZmZmZm7j89CtejcD3iPxSuR+F6FPo/mpmZmZmZ+T9cj8L1KFz3PzMzMzMzM/M/cT0K16Nw7T9xPQrXo3AfQD0K16NwPR1AFK5H4XoUBEBxPQrXo3AcQIXrUbgehQ1APQrXo3A9H0DXo3A9CtcJQOF6FK5H4fI/KVyPwvUoAEA9CtejcD0OQKRwPQrXoxtAhetRuB6FHkCPwvUoXI8AQB+F61G4Hu0/pHA9Ctej+D97FK5H4Xr8PxSuR+F6FABA4XoUrkfh8j9xPQrXo3D1P83MzMzMzAZAzczMzMzM5D/Xo3A9CtcRQD0K16NwPfI/UrgehetR8D/D9Shcj8IJQNejcD0K1/8/uB6F61G48j+uR+F6FK4jQM3MzMzMzA5A16NwPQrX/z+amZmZmZn5P5qZmZmZmfU/9ihcj8L1BEAAAAAAAAAEQA==",
          "dtype": "f8"
         }
        }
       ],
       "layout": {
        "coloraxis": {
         "colorbar": {
          "title": {
           "text": "Attorney %"
          }
         },
         "colorscale": [
          [
           0,
           "#0d0887"
          ],
          [
           0.1111111111111111,
           "#46039f"
          ],
          [
           0.2222222222222222,
           "#7201a8"
          ],
          [
           0.3333333333333333,
           "#9c179e"
          ],
          [
           0.4444444444444444,
           "#bd3786"
          ],
          [
           0.5555555555555556,
           "#d8576b"
          ],
          [
           0.6666666666666666,
           "#ed7953"
          ],
          [
           0.7777777777777778,
           "#fb9f3a"
          ],
          [
           0.8888888888888888,
           "#fdca26"
          ],
          [
           1,
           "#f0f921"
          ]
         ]
        },
        "geo": {
         "center": {},
         "domain": {
          "x": [
           0,
           1
          ],
          "y": [
           0,
           1
          ]
         },
         "scope": "usa"
        },
        "legend": {
         "tracegroupgap": 0
        },
        "template": {
         "data": {
          "bar": [
           {
            "error_x": {
             "color": "#2a3f5f"
            },
            "error_y": {
             "color": "#2a3f5f"
            },
            "marker": {
             "line": {
              "color": "#E5ECF6",
              "width": 0.5
             },
             "pattern": {
              "fillmode": "overlay",
              "size": 10,
              "solidity": 0.2
             }
            },
            "type": "bar"
           }
          ],
          "barpolar": [
           {
            "marker": {
             "line": {
              "color": "#E5ECF6",
              "width": 0.5
             },
             "pattern": {
              "fillmode": "overlay",
              "size": 10,
              "solidity": 0.2
             }
            },
            "type": "barpolar"
           }
          ],
          "carpet": [
           {
            "aaxis": {
             "endlinecolor": "#2a3f5f",
             "gridcolor": "white",
             "linecolor": "white",
             "minorgridcolor": "white",
             "startlinecolor": "#2a3f5f"
            },
            "baxis": {
             "endlinecolor": "#2a3f5f",
             "gridcolor": "white",
             "linecolor": "white",
             "minorgridcolor": "white",
             "startlinecolor": "#2a3f5f"
            },
            "type": "carpet"
           }
          ],
          "choropleth": [
           {
            "colorbar": {
             "outlinewidth": 0,
             "ticks": ""
            },
            "type": "choropleth"
           }
          ],
          "contour": [
           {
            "colorbar": {
             "outlinewidth": 0,
             "ticks": ""
            },
            "colorscale": [
             [
              0,
              "#0d0887"
             ],
             [
              0.1111111111111111,
              "#46039f"
             ],
             [
              0.2222222222222222,
              "#7201a8"
             ],
             [
              0.3333333333333333,
              "#9c179e"
             ],
             [
              0.4444444444444444,
              "#bd3786"
             ],
             [
              0.5555555555555556,
              "#d8576b"
             ],
             [
              0.6666666666666666,
              "#ed7953"
             ],
             [
              0.7777777777777778,
              "#fb9f3a"
             ],
             [
              0.8888888888888888,
              "#fdca26"
             ],
             [
              1,
              "#f0f921"
             ]
            ],
            "type": "contour"
           }
          ],
          "contourcarpet": [
           {
            "colorbar": {
             "outlinewidth": 0,
             "ticks": ""
            },
            "type": "contourcarpet"
           }
          ],
          "heatmap": [
           {
            "colorbar": {
             "outlinewidth": 0,
             "ticks": ""
            },
            "colorscale": [
             [
              0,
              "#0d0887"
             ],
             [
              0.1111111111111111,
              "#46039f"
             ],
             [
              0.2222222222222222,
              "#7201a8"
             ],
             [
              0.3333333333333333,
              "#9c179e"
             ],
             [
              0.4444444444444444,
              "#bd3786"
             ],
             [
              0.5555555555555556,
              "#d8576b"
             ],
             [
              0.6666666666666666,
              "#ed7953"
             ],
             [
              0.7777777777777778,
              "#fb9f3a"
             ],
             [
              0.8888888888888888,
              "#fdca26"
             ],
             [
              1,
              "#f0f921"
             ]
            ],
            "type": "heatmap"
           }
          ],
          "histogram": [
           {
            "marker": {
             "pattern": {
              "fillmode": "overlay",
              "size": 10,
              "solidity": 0.2
             }
            },
            "type": "histogram"
           }
          ],
          "histogram2d": [
           {
            "colorbar": {
             "outlinewidth": 0,
             "ticks": ""
            },
            "colorscale": [
             [
              0,
              "#0d0887"
             ],
             [
              0.1111111111111111,
              "#46039f"
             ],
             [
              0.2222222222222222,
              "#7201a8"
             ],
             [
              0.3333333333333333,
              "#9c179e"
             ],
             [
              0.4444444444444444,
              "#bd3786"
             ],
             [
              0.5555555555555556,
              "#d8576b"
             ],
             [
              0.6666666666666666,
              "#ed7953"
             ],
             [
              0.7777777777777778,
              "#fb9f3a"
             ],
             [
              0.8888888888888888,
              "#fdca26"
             ],
             [
              1,
              "#f0f921"
             ]
            ],
            "type": "histogram2d"
           }
          ],
          "histogram2dcontour": [
           {
            "colorbar": {
             "outlinewidth": 0,
             "ticks": ""
            },
            "colorscale": [
             [
              0,
              "#0d0887"
             ],
             [
              0.1111111111111111,
              "#46039f"
             ],
             [
              0.2222222222222222,
              "#7201a8"
             ],
             [
              0.3333333333333333,
              "#9c179e"
             ],
             [
              0.4444444444444444,
              "#bd3786"
             ],
             [
              0.5555555555555556,
              "#d8576b"
             ],
             [
              0.6666666666666666,
              "#ed7953"
             ],
             [
              0.7777777777777778,
              "#fb9f3a"
             ],
             [
              0.8888888888888888,
              "#fdca26"
             ],
             [
              1,
              "#f0f921"
             ]
            ],
            "type": "histogram2dcontour"
           }
          ],
          "mesh3d": [
           {
            "colorbar": {
             "outlinewidth": 0,
             "ticks": ""
            },
            "type": "mesh3d"
           }
          ],
          "parcoords": [
           {
            "line": {
             "colorbar": {
              "outlinewidth": 0,
              "ticks": ""
             }
            },
            "type": "parcoords"
           }
          ],
          "pie": [
           {
            "automargin": true,
            "type": "pie"
           }
          ],
          "scatter": [
           {
            "fillpattern": {
             "fillmode": "overlay",
             "size": 10,
             "solidity": 0.2
            },
            "type": "scatter"
           }
          ],
          "scatter3d": [
           {
            "line": {
             "colorbar": {
              "outlinewidth": 0,
              "ticks": ""
             }
            },
            "marker": {
             "colorbar": {
              "outlinewidth": 0,
              "ticks": ""
             }
            },
            "type": "scatter3d"
           }
          ],
          "scattercarpet": [
           {
            "marker": {
             "colorbar": {
              "outlinewidth": 0,
              "ticks": ""
             }
            },
            "type": "scattercarpet"
           }
          ],
          "scattergeo": [
           {
            "marker": {
             "colorbar": {
              "outlinewidth": 0,
              "ticks": ""
             }
            },
            "type": "scattergeo"
           }
          ],
          "scattergl": [
           {
            "marker": {
             "colorbar": {
              "outlinewidth": 0,
              "ticks": ""
             }
            },
            "type": "scattergl"
           }
          ],
          "scattermap": [
           {
            "marker": {
             "colorbar": {
              "outlinewidth": 0,
              "ticks": ""
             }
            },
            "type": "scattermap"
           }
          ],
          "scattermapbox": [
           {
            "marker": {
             "colorbar": {
              "outlinewidth": 0,
              "ticks": ""
             }
            },
            "type": "scattermapbox"
           }
          ],
          "scatterpolar": [
           {
            "marker": {
             "colorbar": {
              "outlinewidth": 0,
              "ticks": ""
             }
            },
            "type": "scatterpolar"
           }
          ],
          "scatterpolargl": [
           {
            "marker": {
             "colorbar": {
              "outlinewidth": 0,
              "ticks": ""
             }
            },
            "type": "scatterpolargl"
           }
          ],
          "scatterternary": [
           {
            "marker": {
             "colorbar": {
              "outlinewidth": 0,
              "ticks": ""
             }
            },
            "type": "scatterternary"
           }
          ],
          "surface": [
           {
            "colorbar": {
             "outlinewidth": 0,
             "ticks": ""
            },
            "colorscale": [
             [
              0,
              "#0d0887"
             ],
             [
              0.1111111111111111,
              "#46039f"
             ],
             [
              0.2222222222222222,
              "#7201a8"
             ],
             [
              0.3333333333333333,
              "#9c179e"
             ],
             [
              0.4444444444444444,
              "#bd3786"
             ],
             [
              0.5555555555555556,
              "#d8576b"
             ],
             [
              0.6666666666666666,
              "#ed7953"
             ],
             [
              0.7777777777777778,
              "#fb9f3a"
             ],
             [
              0.8888888888888888,
              "#fdca26"
             ],
             [
              1,
              "#f0f921"
             ]
            ],
            "type": "surface"
           }
          ],
          "table": [
           {
            "cells": {
             "fill": {
              "color": "#EBF0F8"
             },
             "line": {
              "color": "white"
             }
            },
            "header": {
             "fill": {
              "color": "#C8D4E3"
             },
             "line": {
              "color": "white"
             }
            },
            "type": "table"
           }
          ]
         },
         "layout": {
          "annotationdefaults": {
           "arrowcolor": "#2a3f5f",
           "arrowhead": 0,
           "arrowwidth": 1
          },
          "autotypenumbers": "strict",
          "coloraxis": {
           "colorbar": {
            "outlinewidth": 0,
            "ticks": ""
           }
          },
          "colorscale": {
           "diverging": [
            [
             0,
             "#8e0152"
            ],
            [
             0.1,
             "#c51b7d"
            ],
            [
             0.2,
             "#de77ae"
            ],
            [
             0.3,
             "#f1b6da"
            ],
            [
             0.4,
             "#fde0ef"
            ],
            [
             0.5,
             "#f7f7f7"
            ],
            [
             0.6,
             "#e6f5d0"
            ],
            [
             0.7,
             "#b8e186"
            ],
            [
             0.8,
             "#7fbc41"
            ],
            [
             0.9,
             "#4d9221"
            ],
            [
             1,
             "#276419"
            ]
           ],
           "sequential": [
            [
             0,
             "#0d0887"
            ],
            [
             0.1111111111111111,
             "#46039f"
            ],
            [
             0.2222222222222222,
             "#7201a8"
            ],
            [
             0.3333333333333333,
             "#9c179e"
            ],
            [
             0.4444444444444444,
             "#bd3786"
            ],
            [
             0.5555555555555556,
             "#d8576b"
            ],
            [
             0.6666666666666666,
             "#ed7953"
            ],
            [
             0.7777777777777778,
             "#fb9f3a"
            ],
            [
             0.8888888888888888,
             "#fdca26"
            ],
            [
             1,
             "#f0f921"
            ]
           ],
           "sequentialminus": [
            [
             0,
             "#0d0887"
            ],
            [
             0.1111111111111111,
             "#46039f"
            ],
            [
             0.2222222222222222,
             "#7201a8"
            ],
            [
             0.3333333333333333,
             "#9c179e"
            ],
            [
             0.4444444444444444,
             "#bd3786"
            ],
            [
             0.5555555555555556,
             "#d8576b"
            ],
            [
             0.6666666666666666,
             "#ed7953"
            ],
            [
             0.7777777777777778,
             "#fb9f3a"
            ],
            [
             0.8888888888888888,
             "#fdca26"
            ],
            [
             1,
             "#f0f921"
            ]
           ]
          },
          "colorway": [
           "#636efa",
           "#EF553B",
           "#00cc96",
           "#ab63fa",
           "#FFA15A",
           "#19d3f3",
           "#FF6692",
           "#B6E880",
           "#FF97FF",
           "#FECB52"
          ],
          "font": {
           "color": "#2a3f5f"
          },
          "geo": {
           "bgcolor": "white",
           "lakecolor": "white",
           "landcolor": "#E5ECF6",
           "showlakes": true,
           "showland": true,
           "subunitcolor": "white"
          },
          "hoverlabel": {
           "align": "left"
          },
          "hovermode": "closest",
          "mapbox": {
           "style": "light"
          },
          "paper_bgcolor": "white",
          "plot_bgcolor": "#E5ECF6",
          "polar": {
           "angularaxis": {
            "gridcolor": "white",
            "linecolor": "white",
            "ticks": ""
           },
           "bgcolor": "#E5ECF6",
           "radialaxis": {
            "gridcolor": "white",
            "linecolor": "white",
            "ticks": ""
           }
          },
          "scene": {
           "xaxis": {
            "backgroundcolor": "#E5ECF6",
            "gridcolor": "white",
            "gridwidth": 2,
            "linecolor": "white",
            "showbackground": true,
            "ticks": "",
            "zerolinecolor": "white"
           },
           "yaxis": {
            "backgroundcolor": "#E5ECF6",
            "gridcolor": "white",
            "gridwidth": 2,
            "linecolor": "white",
            "showbackground": true,
            "ticks": "",
            "zerolinecolor": "white"
           },
           "zaxis": {
            "backgroundcolor": "#E5ECF6",
            "gridcolor": "white",
            "gridwidth": 2,
            "linecolor": "white",
            "showbackground": true,
            "ticks": "",
            "zerolinecolor": "white"
           }
          },
          "shapedefaults": {
           "line": {
            "color": "#2a3f5f"
           }
          },
          "ternary": {
           "aaxis": {
            "gridcolor": "white",
            "linecolor": "white",
            "ticks": ""
           },
           "baxis": {
            "gridcolor": "white",
            "linecolor": "white",
            "ticks": ""
           },
           "bgcolor": "#E5ECF6",
           "caxis": {
            "gridcolor": "white",
            "linecolor": "white",
            "ticks": ""
           }
          },
          "title": {
           "x": 0.05
          },
          "xaxis": {
           "automargin": true,
           "gridcolor": "white",
           "linecolor": "white",
           "ticks": "",
           "title": {
            "standoff": 15
           },
           "zerolinecolor": "white",
           "zerolinewidth": 2
          },
          "yaxis": {
           "automargin": true,
           "gridcolor": "white",
           "linecolor": "white",
           "ticks": "",
           "title": {
            "standoff": 15
           },
           "zerolinecolor": "white",
           "zerolinewidth": 2
          }
         }
        },
        "title": {
         "text": "Attorney Involvement Rate by State"
        }
       }
      }
     },
     "metadata": {},
     "output_type": "display_data"
    }
   ],
   "source": [
    "fig = px.choropleth(\n",
    "    merged_df,\n",
    "    locations='disambig_state',\n",
    "    locationmode='USA-states',\n",
    "    color='attorney_involvement_percent',\n",
    "    scope='usa',\n",
    "    color_continuous_scale='Plasma',\n",
    "    labels={'attorney_involvement_percent': 'Attorney %'},\n",
    "    title='Attorney Involvement Rate by State'\n",
    ")\n",
    "fig.show()"
   ]
  },
  {
   "cell_type": "code",
   "execution_count": 30,
   "id": "27d2b08c",
   "metadata": {},
   "outputs": [],
   "source": [
    "merged_df['attorney_involvement_percent'] = (\n",
    "    merged_df['patent_count_with_atotrney'] / merged_df['total_patents'] * 100\n",
    ")"
   ]
  },
  {
   "cell_type": "code",
   "execution_count": 31,
   "id": "75e6a23b",
   "metadata": {},
   "outputs": [],
   "source": [
    "top_states = merged_df.sort_values('attorney_involvement_percent', ascending=False).head(10)\n"
   ]
  },
  {
   "cell_type": "code",
   "execution_count": 32,
   "id": "272806ac",
   "metadata": {},
   "outputs": [
    {
     "name": "stderr",
     "output_type": "stream",
     "text": [
      "/var/folders/p9/bgpcjxgn0rz4pvkjs39ch9740000gn/T/ipykernel_1322/1965161003.py:2: FutureWarning:\n",
      "\n",
      "\n",
      "\n",
      "Passing `palette` without assigning `hue` is deprecated and will be removed in v0.14.0. Assign the `x` variable to `hue` and set `legend=False` for the same effect.\n",
      "\n",
      "\n"
     ]
    },
    {
     "data": {
      "image/png": "[encoded data removed]",
      "text/plain": [
       "<Figure size 1200x600 with 1 Axes>"
      ]
     },
     "metadata": {},
     "output_type": "display_data"
    }
   ],
   "source": [
    "plt.figure(figsize=(12, 6))\n",
    "sns.barplot(data=top_states, x='disambig_state', y='attorney_involvement_percent', palette='Blues_d')\n",
    "plt.title('Top 10 States by Attorney Involvement Rate')\n",
    "plt.xlabel('State')\n",
    "plt.ylabel('Attorney Involvement (%)')\n",
    "\n",
    "\n",
    "plt.tight_layout()\n",
    "plt.show()"
   ]
  },
  {
   "cell_type": "code",
   "execution_count": 33,
   "id": "4b2780b7",
   "metadata": {},
   "outputs": [
    {
     "data": {
      "text/plain": [
       "Index(['doc_id', 'flag_patent', 'pub_dt', 'predict50_any_ai',\n",
       "       'predict86_any_ai', 'predict93_any_ai', 'predict50_ml', 'predict86_ml',\n",
       "       'predict93_ml', 'ai_score_ml', 'predict50_evo', 'predict86_evo',\n",
       "       'predict93_evo', 'ai_score_evo', 'predict50_nlp', 'predict86_nlp',\n",
       "       'predict93_nlp', 'ai_score_nlp', 'predict50_speech', 'predict86_speech',\n",
       "       'predict93_speech', 'ai_score_speech', 'predict50_vision',\n",
       "       'predict86_vision', 'predict93_vision', 'ai_score_vision',\n",
       "       'predict50_planning', 'predict86_planning', 'predict93_planning',\n",
       "       'ai_score_planning', 'predict50_kr', 'predict86_kr', 'predict93_kr',\n",
       "       'ai_score_kr', 'predict50_hardware', 'predict86_hardware',\n",
       "       'predict93_hardware', 'ai_score_hardware', 'year', 'application_id',\n",
       "       'patent_id', 'patent_application_type', 'filing_date', 'series_code',\n",
       "       'rule_47_flag', 'attorney_sequence', 'attorney_id',\n",
       "       'disambig_attorney_name_first', 'disambig_attorney_name_last',\n",
       "       'disambig_attorney_organization', 'attorney_country', 'has_attorney'],\n",
       "      dtype='object')"
      ]
     },
     "execution_count": 33,
     "metadata": {},
     "output_type": "execute_result"
    }
   ],
   "source": [
    "df_no_attorney.columns"
   ]
  },
  {
   "cell_type": "code",
   "execution_count": 34,
   "id": "18a255ef",
   "metadata": {},
   "outputs": [
    {
     "data": {
      "text/html": [
       "<div>\n",
       "<style scoped>\n",
       "    .dataframe tbody tr th:only-of-type {\n",
       "        vertical-align: middle;\n",
       "    }\n",
       "\n",
       "    .dataframe tbody tr th {\n",
       "        vertical-align: top;\n",
       "    }\n",
       "\n",
       "    .dataframe thead th {\n",
       "        text-align: right;\n",
       "    }\n",
       "</style>\n",
       "<table border=\"1\" class=\"dataframe\">\n",
       "  <thead>\n",
       "    <tr style=\"text-align: right;\">\n",
       "      <th></th>\n",
       "      <th>doc_id</th>\n",
       "      <th>flag_patent</th>\n",
       "      <th>pub_dt</th>\n",
       "      <th>predict50_any_ai</th>\n",
       "      <th>predict86_any_ai</th>\n",
       "      <th>predict93_any_ai</th>\n",
       "      <th>predict50_ml</th>\n",
       "      <th>predict86_ml</th>\n",
       "      <th>predict93_ml</th>\n",
       "      <th>ai_score_ml</th>\n",
       "      <th>...</th>\n",
       "      <th>filing_date</th>\n",
       "      <th>series_code</th>\n",
       "      <th>rule_47_flag</th>\n",
       "      <th>attorney_sequence</th>\n",
       "      <th>attorney_id</th>\n",
       "      <th>disambig_attorney_name_first</th>\n",
       "      <th>disambig_attorney_name_last</th>\n",
       "      <th>disambig_attorney_organization</th>\n",
       "      <th>attorney_country</th>\n",
       "      <th>has_attorney</th>\n",
       "    </tr>\n",
       "  </thead>\n",
       "  <tbody>\n",
       "    <tr>\n",
       "      <th>5</th>\n",
       "      <td>10000004</td>\n",
       "      <td>1</td>\n",
       "      <td>2018-06-19</td>\n",
       "      <td>0</td>\n",
       "      <td>0</td>\n",
       "      <td>0</td>\n",
       "      <td>0</td>\n",
       "      <td>0</td>\n",
       "      <td>0</td>\n",
       "      <td>0.000163</td>\n",
       "      <td>...</td>\n",
       "      <td>2015-12-17</td>\n",
       "      <td>14</td>\n",
       "      <td>0.0</td>\n",
       "      <td>1.0</td>\n",
       "      <td>b44752ad3f26c6c7dc7932002cd1563b</td>\n",
       "      <td>Evelyn A.</td>\n",
       "      <td>Defillo</td>\n",
       "      <td>NaN</td>\n",
       "      <td>NaN</td>\n",
       "      <td>False</td>\n",
       "    </tr>\n",
       "    <tr>\n",
       "      <th>10</th>\n",
       "      <td>10000009</td>\n",
       "      <td>1</td>\n",
       "      <td>2018-06-19</td>\n",
       "      <td>0</td>\n",
       "      <td>0</td>\n",
       "      <td>0</td>\n",
       "      <td>0</td>\n",
       "      <td>0</td>\n",
       "      <td>0</td>\n",
       "      <td>0.000153</td>\n",
       "      <td>...</td>\n",
       "      <td>2015-02-05</td>\n",
       "      <td>14</td>\n",
       "      <td>0.0</td>\n",
       "      <td>0.0</td>\n",
       "      <td>d21e642f9bb7c290f6027bc948364c34</td>\n",
       "      <td>Thomas</td>\n",
       "      <td>Schneck</td>\n",
       "      <td>NaN</td>\n",
       "      <td>US</td>\n",
       "      <td>False</td>\n",
       "    </tr>\n",
       "    <tr>\n",
       "      <th>27</th>\n",
       "      <td>10000028</td>\n",
       "      <td>1</td>\n",
       "      <td>2018-06-19</td>\n",
       "      <td>0</td>\n",
       "      <td>0</td>\n",
       "      <td>0</td>\n",
       "      <td>0</td>\n",
       "      <td>0</td>\n",
       "      <td>0</td>\n",
       "      <td>0.000283</td>\n",
       "      <td>...</td>\n",
       "      <td>2013-08-13</td>\n",
       "      <td>14</td>\n",
       "      <td>0.0</td>\n",
       "      <td>NaN</td>\n",
       "      <td>NaN</td>\n",
       "      <td>NaN</td>\n",
       "      <td>NaN</td>\n",
       "      <td>NaN</td>\n",
       "      <td>NaN</td>\n",
       "      <td>False</td>\n",
       "    </tr>\n",
       "    <tr>\n",
       "      <th>30</th>\n",
       "      <td>10000031</td>\n",
       "      <td>1</td>\n",
       "      <td>2018-06-19</td>\n",
       "      <td>0</td>\n",
       "      <td>0</td>\n",
       "      <td>0</td>\n",
       "      <td>0</td>\n",
       "      <td>0</td>\n",
       "      <td>0</td>\n",
       "      <td>0.000253</td>\n",
       "      <td>...</td>\n",
       "      <td>2014-09-09</td>\n",
       "      <td>14</td>\n",
       "      <td>0.0</td>\n",
       "      <td>NaN</td>\n",
       "      <td>NaN</td>\n",
       "      <td>NaN</td>\n",
       "      <td>NaN</td>\n",
       "      <td>NaN</td>\n",
       "      <td>NaN</td>\n",
       "      <td>False</td>\n",
       "    </tr>\n",
       "    <tr>\n",
       "      <th>31</th>\n",
       "      <td>10000032</td>\n",
       "      <td>1</td>\n",
       "      <td>2018-06-19</td>\n",
       "      <td>0</td>\n",
       "      <td>0</td>\n",
       "      <td>0</td>\n",
       "      <td>0</td>\n",
       "      <td>0</td>\n",
       "      <td>0</td>\n",
       "      <td>0.000039</td>\n",
       "      <td>...</td>\n",
       "      <td>2012-04-10</td>\n",
       "      <td>14</td>\n",
       "      <td>0.0</td>\n",
       "      <td>0.0</td>\n",
       "      <td>974bb4f8fe098c942e89822d07878072</td>\n",
       "      <td>Norman B.</td>\n",
       "      <td>Thot</td>\n",
       "      <td>NaN</td>\n",
       "      <td>NaN</td>\n",
       "      <td>False</td>\n",
       "    </tr>\n",
       "  </tbody>\n",
       "</table>\n",
       "<p>5 rows × 52 columns</p>\n",
       "</div>"
      ],
      "text/plain": [
       "      doc_id  flag_patent     pub_dt  predict50_any_ai  predict86_any_ai  \\\n",
       "5   10000004            1 2018-06-19                 0                 0   \n",
       "10  10000009            1 2018-06-19                 0                 0   \n",
       "27  10000028            1 2018-06-19                 0                 0   \n",
       "30  10000031            1 2018-06-19                 0                 0   \n",
       "31  10000032            1 2018-06-19                 0                 0   \n",
       "\n",
       "    predict93_any_ai  predict50_ml  predict86_ml  predict93_ml  ai_score_ml  \\\n",
       "5                  0             0             0             0     0.000163   \n",
       "10                 0             0             0             0     0.000153   \n",
       "27                 0             0             0             0     0.000283   \n",
       "30                 0             0             0             0     0.000253   \n",
       "31                 0             0             0             0     0.000039   \n",
       "\n",
       "    ...  filing_date  series_code  rule_47_flag  attorney_sequence  \\\n",
       "5   ...   2015-12-17           14           0.0                1.0   \n",
       "10  ...   2015-02-05           14           0.0                0.0   \n",
       "27  ...   2013-08-13           14           0.0                NaN   \n",
       "30  ...   2014-09-09           14           0.0                NaN   \n",
       "31  ...   2012-04-10           14           0.0                0.0   \n",
       "\n",
       "                         attorney_id  disambig_attorney_name_first  \\\n",
       "5   b44752ad3f26c6c7dc7932002cd1563b                     Evelyn A.   \n",
       "10  d21e642f9bb7c290f6027bc948364c34                        Thomas   \n",
       "27                               NaN                           NaN   \n",
       "30                               NaN                           NaN   \n",
       "31  974bb4f8fe098c942e89822d07878072                     Norman B.   \n",
       "\n",
       "    disambig_attorney_name_last  disambig_attorney_organization  \\\n",
       "5                       Defillo                             NaN   \n",
       "10                      Schneck                             NaN   \n",
       "27                          NaN                             NaN   \n",
       "30                          NaN                             NaN   \n",
       "31                         Thot                             NaN   \n",
       "\n",
       "    attorney_country  has_attorney  \n",
       "5                NaN         False  \n",
       "10                US         False  \n",
       "27               NaN         False  \n",
       "30               NaN         False  \n",
       "31               NaN         False  \n",
       "\n",
       "[5 rows x 52 columns]"
      ]
     },
     "execution_count": 34,
     "metadata": {},
     "output_type": "execute_result"
    }
   ],
   "source": [
    "df_no_attorney.head()"
   ]
  },
  {
   "cell_type": "code",
   "execution_count": 35,
   "id": "91157773",
   "metadata": {},
   "outputs": [],
   "source": [
    "merged_investor_df = pd.merge(df_no_attorney, inventor_df, on = 'patent_id', how='left')"
   ]
  },
  {
   "cell_type": "code",
   "execution_count": 36,
   "id": "be8079a8",
   "metadata": {},
   "outputs": [
    {
     "data": {
      "text/html": [
       "<div>\n",
       "<style scoped>\n",
       "    .dataframe tbody tr th:only-of-type {\n",
       "        vertical-align: middle;\n",
       "    }\n",
       "\n",
       "    .dataframe tbody tr th {\n",
       "        vertical-align: top;\n",
       "    }\n",
       "\n",
       "    .dataframe thead th {\n",
       "        text-align: right;\n",
       "    }\n",
       "</style>\n",
       "<table border=\"1\" class=\"dataframe\">\n",
       "  <thead>\n",
       "    <tr style=\"text-align: right;\">\n",
       "      <th></th>\n",
       "      <th>doc_id</th>\n",
       "      <th>flag_patent</th>\n",
       "      <th>pub_dt</th>\n",
       "      <th>predict50_any_ai</th>\n",
       "      <th>predict86_any_ai</th>\n",
       "      <th>predict93_any_ai</th>\n",
       "      <th>predict50_ml</th>\n",
       "      <th>predict86_ml</th>\n",
       "      <th>predict93_ml</th>\n",
       "      <th>ai_score_ml</th>\n",
       "      <th>...</th>\n",
       "      <th>gender_code</th>\n",
       "      <th>location_id</th>\n",
       "      <th>disambig_city</th>\n",
       "      <th>disambig_state</th>\n",
       "      <th>disambig_country</th>\n",
       "      <th>latitude</th>\n",
       "      <th>longitude</th>\n",
       "      <th>county</th>\n",
       "      <th>state_fips</th>\n",
       "      <th>county_fips</th>\n",
       "    </tr>\n",
       "  </thead>\n",
       "  <tbody>\n",
       "    <tr>\n",
       "      <th>0</th>\n",
       "      <td>10000004</td>\n",
       "      <td>1</td>\n",
       "      <td>2018-06-19</td>\n",
       "      <td>0</td>\n",
       "      <td>0</td>\n",
       "      <td>0</td>\n",
       "      <td>0</td>\n",
       "      <td>0</td>\n",
       "      <td>0</td>\n",
       "      <td>0.000163</td>\n",
       "      <td>...</td>\n",
       "      <td>M</td>\n",
       "      <td>74ce52e1-16c8-11ed-9b5f-1234bde3cd05</td>\n",
       "      <td>Monterrey</td>\n",
       "      <td>NaN</td>\n",
       "      <td>MX</td>\n",
       "      <td>25.680202</td>\n",
       "      <td>-100.315258</td>\n",
       "      <td>NaN</td>\n",
       "      <td>NaN</td>\n",
       "      <td>NaN</td>\n",
       "    </tr>\n",
       "    <tr>\n",
       "      <th>1</th>\n",
       "      <td>10000004</td>\n",
       "      <td>1</td>\n",
       "      <td>2018-06-19</td>\n",
       "      <td>0</td>\n",
       "      <td>0</td>\n",
       "      <td>0</td>\n",
       "      <td>0</td>\n",
       "      <td>0</td>\n",
       "      <td>0</td>\n",
       "      <td>0.000163</td>\n",
       "      <td>...</td>\n",
       "      <td>M</td>\n",
       "      <td>74ce52e1-16c8-11ed-9b5f-1234bde3cd05</td>\n",
       "      <td>Monterrey</td>\n",
       "      <td>NaN</td>\n",
       "      <td>MX</td>\n",
       "      <td>25.680202</td>\n",
       "      <td>-100.315258</td>\n",
       "      <td>NaN</td>\n",
       "      <td>NaN</td>\n",
       "      <td>NaN</td>\n",
       "    </tr>\n",
       "    <tr>\n",
       "      <th>2</th>\n",
       "      <td>10000009</td>\n",
       "      <td>1</td>\n",
       "      <td>2018-06-19</td>\n",
       "      <td>0</td>\n",
       "      <td>0</td>\n",
       "      <td>0</td>\n",
       "      <td>0</td>\n",
       "      <td>0</td>\n",
       "      <td>0</td>\n",
       "      <td>0.000153</td>\n",
       "      <td>...</td>\n",
       "      <td>M</td>\n",
       "      <td>c6999d14-16c7-11ed-9b5f-1234bde3cd05</td>\n",
       "      <td>Hayward</td>\n",
       "      <td>CA</td>\n",
       "      <td>US</td>\n",
       "      <td>37.668821</td>\n",
       "      <td>-122.080796</td>\n",
       "      <td>Alameda</td>\n",
       "      <td>6.0</td>\n",
       "      <td>1.0</td>\n",
       "    </tr>\n",
       "    <tr>\n",
       "      <th>3</th>\n",
       "      <td>10000028</td>\n",
       "      <td>1</td>\n",
       "      <td>2018-06-19</td>\n",
       "      <td>0</td>\n",
       "      <td>0</td>\n",
       "      <td>0</td>\n",
       "      <td>0</td>\n",
       "      <td>0</td>\n",
       "      <td>0</td>\n",
       "      <td>0.000283</td>\n",
       "      <td>...</td>\n",
       "      <td>M</td>\n",
       "      <td>d7e118b7-16c7-11ed-9b5f-1234bde3cd05</td>\n",
       "      <td>Inver Grove Heights</td>\n",
       "      <td>MN</td>\n",
       "      <td>US</td>\n",
       "      <td>44.847904</td>\n",
       "      <td>-93.042812</td>\n",
       "      <td>Dakota</td>\n",
       "      <td>27.0</td>\n",
       "      <td>37.0</td>\n",
       "    </tr>\n",
       "    <tr>\n",
       "      <th>4</th>\n",
       "      <td>10000028</td>\n",
       "      <td>1</td>\n",
       "      <td>2018-06-19</td>\n",
       "      <td>0</td>\n",
       "      <td>0</td>\n",
       "      <td>0</td>\n",
       "      <td>0</td>\n",
       "      <td>0</td>\n",
       "      <td>0</td>\n",
       "      <td>0.000283</td>\n",
       "      <td>...</td>\n",
       "      <td>M</td>\n",
       "      <td>cb5e57a6-16c7-11ed-9b5f-1234bde3cd05</td>\n",
       "      <td>Windom</td>\n",
       "      <td>MN</td>\n",
       "      <td>US</td>\n",
       "      <td>43.866346</td>\n",
       "      <td>-95.116937</td>\n",
       "      <td>Cottonwood</td>\n",
       "      <td>27.0</td>\n",
       "      <td>33.0</td>\n",
       "    </tr>\n",
       "  </tbody>\n",
       "</table>\n",
       "<p>5 rows × 66 columns</p>\n",
       "</div>"
      ],
      "text/plain": [
       "     doc_id  flag_patent     pub_dt  predict50_any_ai  predict86_any_ai  \\\n",
       "0  10000004            1 2018-06-19                 0                 0   \n",
       "1  10000004            1 2018-06-19                 0                 0   \n",
       "2  10000009            1 2018-06-19                 0                 0   \n",
       "3  10000028            1 2018-06-19                 0                 0   \n",
       "4  10000028            1 2018-06-19                 0                 0   \n",
       "\n",
       "   predict93_any_ai  predict50_ml  predict86_ml  predict93_ml  ai_score_ml  \\\n",
       "0                 0             0             0             0     0.000163   \n",
       "1                 0             0             0             0     0.000163   \n",
       "2                 0             0             0             0     0.000153   \n",
       "3                 0             0             0             0     0.000283   \n",
       "4                 0             0             0             0     0.000283   \n",
       "\n",
       "   ...  gender_code                           location_id  \\\n",
       "0  ...            M  74ce52e1-16c8-11ed-9b5f-1234bde3cd05   \n",
       "1  ...            M  74ce52e1-16c8-11ed-9b5f-1234bde3cd05   \n",
       "2  ...            M  c6999d14-16c7-11ed-9b5f-1234bde3cd05   \n",
       "3  ...            M  d7e118b7-16c7-11ed-9b5f-1234bde3cd05   \n",
       "4  ...            M  cb5e57a6-16c7-11ed-9b5f-1234bde3cd05   \n",
       "\n",
       "         disambig_city  disambig_state  disambig_country   latitude  \\\n",
       "0            Monterrey             NaN                MX  25.680202   \n",
       "1            Monterrey             NaN                MX  25.680202   \n",
       "2              Hayward              CA                US  37.668821   \n",
       "3  Inver Grove Heights              MN                US  44.847904   \n",
       "4               Windom              MN                US  43.866346   \n",
       "\n",
       "    longitude      county  state_fips  county_fips  \n",
       "0 -100.315258         NaN         NaN          NaN  \n",
       "1 -100.315258         NaN         NaN          NaN  \n",
       "2 -122.080796     Alameda         6.0          1.0  \n",
       "3  -93.042812      Dakota        27.0         37.0  \n",
       "4  -95.116937  Cottonwood        27.0         33.0  \n",
       "\n",
       "[5 rows x 66 columns]"
      ]
     },
     "execution_count": 36,
     "metadata": {},
     "output_type": "execute_result"
    }
   ],
   "source": [
    "merged_loc_df = pd.merge(merged_investor_df, location_df , on='location_id', how='left')\n",
    "merged_loc_df.head()\n"
   ]
  },
  {
   "cell_type": "code",
   "execution_count": 37,
   "id": "9fe26379",
   "metadata": {},
   "outputs": [],
   "source": [
    "df = merged_loc_df[merged_loc_df['disambig_state'].notna()]\n"
   ]
  },
  {
   "cell_type": "code",
   "execution_count": 38,
   "id": "532b31dd",
   "metadata": {},
   "outputs": [
    {
     "data": {
      "text/html": [
       "<div>\n",
       "<style scoped>\n",
       "    .dataframe tbody tr th:only-of-type {\n",
       "        vertical-align: middle;\n",
       "    }\n",
       "\n",
       "    .dataframe tbody tr th {\n",
       "        vertical-align: top;\n",
       "    }\n",
       "\n",
       "    .dataframe thead th {\n",
       "        text-align: right;\n",
       "    }\n",
       "</style>\n",
       "<table border=\"1\" class=\"dataframe\">\n",
       "  <thead>\n",
       "    <tr style=\"text-align: right;\">\n",
       "      <th></th>\n",
       "      <th>doc_id</th>\n",
       "      <th>flag_patent</th>\n",
       "      <th>pub_dt</th>\n",
       "      <th>predict50_any_ai</th>\n",
       "      <th>predict86_any_ai</th>\n",
       "      <th>predict93_any_ai</th>\n",
       "      <th>predict50_ml</th>\n",
       "      <th>predict86_ml</th>\n",
       "      <th>predict93_ml</th>\n",
       "      <th>ai_score_ml</th>\n",
       "      <th>...</th>\n",
       "      <th>gender_code</th>\n",
       "      <th>location_id</th>\n",
       "      <th>disambig_city</th>\n",
       "      <th>disambig_state</th>\n",
       "      <th>disambig_country</th>\n",
       "      <th>latitude</th>\n",
       "      <th>longitude</th>\n",
       "      <th>county</th>\n",
       "      <th>state_fips</th>\n",
       "      <th>county_fips</th>\n",
       "    </tr>\n",
       "  </thead>\n",
       "  <tbody>\n",
       "    <tr>\n",
       "      <th>2</th>\n",
       "      <td>10000009</td>\n",
       "      <td>1</td>\n",
       "      <td>2018-06-19</td>\n",
       "      <td>0</td>\n",
       "      <td>0</td>\n",
       "      <td>0</td>\n",
       "      <td>0</td>\n",
       "      <td>0</td>\n",
       "      <td>0</td>\n",
       "      <td>0.000153</td>\n",
       "      <td>...</td>\n",
       "      <td>M</td>\n",
       "      <td>c6999d14-16c7-11ed-9b5f-1234bde3cd05</td>\n",
       "      <td>Hayward</td>\n",
       "      <td>CA</td>\n",
       "      <td>US</td>\n",
       "      <td>37.668821</td>\n",
       "      <td>-122.080796</td>\n",
       "      <td>Alameda</td>\n",
       "      <td>6.0</td>\n",
       "      <td>1.0</td>\n",
       "    </tr>\n",
       "    <tr>\n",
       "      <th>3</th>\n",
       "      <td>10000028</td>\n",
       "      <td>1</td>\n",
       "      <td>2018-06-19</td>\n",
       "      <td>0</td>\n",
       "      <td>0</td>\n",
       "      <td>0</td>\n",
       "      <td>0</td>\n",
       "      <td>0</td>\n",
       "      <td>0</td>\n",
       "      <td>0.000283</td>\n",
       "      <td>...</td>\n",
       "      <td>M</td>\n",
       "      <td>d7e118b7-16c7-11ed-9b5f-1234bde3cd05</td>\n",
       "      <td>Inver Grove Heights</td>\n",
       "      <td>MN</td>\n",
       "      <td>US</td>\n",
       "      <td>44.847904</td>\n",
       "      <td>-93.042812</td>\n",
       "      <td>Dakota</td>\n",
       "      <td>27.0</td>\n",
       "      <td>37.0</td>\n",
       "    </tr>\n",
       "    <tr>\n",
       "      <th>4</th>\n",
       "      <td>10000028</td>\n",
       "      <td>1</td>\n",
       "      <td>2018-06-19</td>\n",
       "      <td>0</td>\n",
       "      <td>0</td>\n",
       "      <td>0</td>\n",
       "      <td>0</td>\n",
       "      <td>0</td>\n",
       "      <td>0</td>\n",
       "      <td>0.000283</td>\n",
       "      <td>...</td>\n",
       "      <td>M</td>\n",
       "      <td>cb5e57a6-16c7-11ed-9b5f-1234bde3cd05</td>\n",
       "      <td>Windom</td>\n",
       "      <td>MN</td>\n",
       "      <td>US</td>\n",
       "      <td>43.866346</td>\n",
       "      <td>-95.116937</td>\n",
       "      <td>Cottonwood</td>\n",
       "      <td>27.0</td>\n",
       "      <td>33.0</td>\n",
       "    </tr>\n",
       "    <tr>\n",
       "      <th>5</th>\n",
       "      <td>10000028</td>\n",
       "      <td>1</td>\n",
       "      <td>2018-06-19</td>\n",
       "      <td>0</td>\n",
       "      <td>0</td>\n",
       "      <td>0</td>\n",
       "      <td>0</td>\n",
       "      <td>0</td>\n",
       "      <td>0</td>\n",
       "      <td>0.000283</td>\n",
       "      <td>...</td>\n",
       "      <td>M</td>\n",
       "      <td>cc7235d2-16c7-11ed-9b5f-1234bde3cd05</td>\n",
       "      <td>Mendota Heights</td>\n",
       "      <td>MN</td>\n",
       "      <td>US</td>\n",
       "      <td>44.883577</td>\n",
       "      <td>-93.138275</td>\n",
       "      <td>Dakota</td>\n",
       "      <td>27.0</td>\n",
       "      <td>37.0</td>\n",
       "    </tr>\n",
       "    <tr>\n",
       "      <th>6</th>\n",
       "      <td>10000028</td>\n",
       "      <td>1</td>\n",
       "      <td>2018-06-19</td>\n",
       "      <td>0</td>\n",
       "      <td>0</td>\n",
       "      <td>0</td>\n",
       "      <td>0</td>\n",
       "      <td>0</td>\n",
       "      <td>0</td>\n",
       "      <td>0.000283</td>\n",
       "      <td>...</td>\n",
       "      <td>M</td>\n",
       "      <td>d1bea169-16c7-11ed-9b5f-1234bde3cd05</td>\n",
       "      <td>Hudson</td>\n",
       "      <td>WI</td>\n",
       "      <td>US</td>\n",
       "      <td>44.975127</td>\n",
       "      <td>-92.755628</td>\n",
       "      <td>St. Croix</td>\n",
       "      <td>55.0</td>\n",
       "      <td>109.0</td>\n",
       "    </tr>\n",
       "  </tbody>\n",
       "</table>\n",
       "<p>5 rows × 66 columns</p>\n",
       "</div>"
      ],
      "text/plain": [
       "     doc_id  flag_patent     pub_dt  predict50_any_ai  predict86_any_ai  \\\n",
       "2  10000009            1 2018-06-19                 0                 0   \n",
       "3  10000028            1 2018-06-19                 0                 0   \n",
       "4  10000028            1 2018-06-19                 0                 0   \n",
       "5  10000028            1 2018-06-19                 0                 0   \n",
       "6  10000028            1 2018-06-19                 0                 0   \n",
       "\n",
       "   predict93_any_ai  predict50_ml  predict86_ml  predict93_ml  ai_score_ml  \\\n",
       "2                 0             0             0             0     0.000153   \n",
       "3                 0             0             0             0     0.000283   \n",
       "4                 0             0             0             0     0.000283   \n",
       "5                 0             0             0             0     0.000283   \n",
       "6                 0             0             0             0     0.000283   \n",
       "\n",
       "   ...  gender_code                           location_id  \\\n",
       "2  ...            M  c6999d14-16c7-11ed-9b5f-1234bde3cd05   \n",
       "3  ...            M  d7e118b7-16c7-11ed-9b5f-1234bde3cd05   \n",
       "4  ...            M  cb5e57a6-16c7-11ed-9b5f-1234bde3cd05   \n",
       "5  ...            M  cc7235d2-16c7-11ed-9b5f-1234bde3cd05   \n",
       "6  ...            M  d1bea169-16c7-11ed-9b5f-1234bde3cd05   \n",
       "\n",
       "         disambig_city  disambig_state  disambig_country   latitude  \\\n",
       "2              Hayward              CA                US  37.668821   \n",
       "3  Inver Grove Heights              MN                US  44.847904   \n",
       "4               Windom              MN                US  43.866346   \n",
       "5      Mendota Heights              MN                US  44.883577   \n",
       "6               Hudson              WI                US  44.975127   \n",
       "\n",
       "    longitude      county  state_fips  county_fips  \n",
       "2 -122.080796     Alameda         6.0          1.0  \n",
       "3  -93.042812      Dakota        27.0         37.0  \n",
       "4  -95.116937  Cottonwood        27.0         33.0  \n",
       "5  -93.138275      Dakota        27.0         37.0  \n",
       "6  -92.755628   St. Croix        55.0        109.0  \n",
       "\n",
       "[5 rows x 66 columns]"
      ]
     },
     "execution_count": 38,
     "metadata": {},
     "output_type": "execute_result"
    }
   ],
   "source": [
    "df.head()"
   ]
  },
  {
   "cell_type": "code",
   "execution_count": 39,
   "id": "c56299ed",
   "metadata": {},
   "outputs": [
    {
     "data": {
      "text/html": [
       "<div>\n",
       "<style scoped>\n",
       "    .dataframe tbody tr th:only-of-type {\n",
       "        vertical-align: middle;\n",
       "    }\n",
       "\n",
       "    .dataframe tbody tr th {\n",
       "        vertical-align: top;\n",
       "    }\n",
       "\n",
       "    .dataframe thead th {\n",
       "        text-align: right;\n",
       "    }\n",
       "</style>\n",
       "<table border=\"1\" class=\"dataframe\">\n",
       "  <thead>\n",
       "    <tr style=\"text-align: right;\">\n",
       "      <th></th>\n",
       "      <th>disambig_state</th>\n",
       "      <th>patent_count_without_atotrney</th>\n",
       "    </tr>\n",
       "  </thead>\n",
       "  <tbody>\n",
       "    <tr>\n",
       "      <th>0</th>\n",
       "      <td>AB</td>\n",
       "      <td>26922</td>\n",
       "    </tr>\n",
       "    <tr>\n",
       "      <th>1</th>\n",
       "      <td>AK</td>\n",
       "      <td>1974</td>\n",
       "    </tr>\n",
       "    <tr>\n",
       "      <th>2</th>\n",
       "      <td>AL</td>\n",
       "      <td>27369</td>\n",
       "    </tr>\n",
       "    <tr>\n",
       "      <th>3</th>\n",
       "      <td>AR</td>\n",
       "      <td>11939</td>\n",
       "    </tr>\n",
       "    <tr>\n",
       "      <th>4</th>\n",
       "      <td>AS</td>\n",
       "      <td>1</td>\n",
       "    </tr>\n",
       "  </tbody>\n",
       "</table>\n",
       "</div>"
      ],
      "text/plain": [
       "  disambig_state  patent_count_without_atotrney\n",
       "0             AB                          26922\n",
       "1             AK                           1974\n",
       "2             AL                          27369\n",
       "3             AR                          11939\n",
       "4             AS                              1"
      ]
     },
     "execution_count": 39,
     "metadata": {},
     "output_type": "execute_result"
    }
   ],
   "source": [
    "no_attorney_state_counts = (\n",
    "    df\n",
    "    .groupby(['disambig_state'])\n",
    "    .size()\n",
    "    .reset_index(name='patent_count_without_atotrney')\n",
    ")\n",
    "no_attorney_state_counts.head()"
   ]
  },
  {
   "cell_type": "code",
   "execution_count": 40,
   "id": "d57881d6",
   "metadata": {},
   "outputs": [
    {
     "data": {
      "application/vnd.plotly.v1+json": {
       "config": {
        "plotlyServerURL": "https://plot.ly"
       },
       "data": [
        {
         "coloraxis": "coloraxis",
         "geo": "geo",
         "hovertemplate": "disambig_state=%{location}<br>patent_count_without_atotrney=%{z}<extra></extra>",
         "locationmode": "USA-states",
         "locations": [
          "AB",
          "AK",
          "AL",
          "AR",
          "AS",
          "AZ",
          "BC",
          "CA",
          "CO",
          "CT",
          "DC",
          "DE",
          "FL",
          "GA",
          "GU",
          "HI",
          "IA",
          "ID",
          "IL",
          "IN",
          "KS",
          "KY",
          "LA",
          "MA",
          "MB",
          "MD",
          "ME",
          "MH",
          "MI",
          "MN",
          "MO",
          "MP",
          "MS",
          "MT",
          "NB",
          "NC",
          "ND",
          "NE",
          "NH",
          "NJ",
          "NL",
          "NM",
          "NS",
          "NT",
          "NV",
          "NY",
          "OH",
          "OK",
          "ON",
          "OR",
          "PA",
          "PR",
          "QC",
          "RI",
          "SC",
          "SD",
          "SK",
          "TN",
          "TX",
          "UT",
          "VA",
          "VI",
          "VT",
          "WA",
          "WI",
          "WV",
          "WY",
          "YT"
         ],
         "name": "",
         "type": "choropleth",
         "z": {
          "bdata": "KmkAALYHAADpagAAoy4AAAEAAAA73gEAGXsAAO1hGQDqGwIA5HoCAFUbAACUkQAAW8YCAB17AQATAAAAmhQAAB7BAADCWQAAx20EANKdAQBrfQAAcowAADRtAADhRQYAgjIAAAa9AQDQNQAATAsAAAXtBABOXgMAddUAAAQAAACGIAAACRcAAIINAACx7QIA+hYAANktAAD+pwAAVuUFAFwEAAAoewAAKQ4AABEAAADdUQAAUWcKAEyKBAD9iAAAzk0CAN1GAQDM3QQA4wgAADLEAABpRgAA7LgAAFAPAACuIwAATfoAADtBCwB52AAAStgBACIAAACCvQAAqqYFAMRjAQAlKQAAqA0AAFUAAAA=",
          "dtype": "i4"
         }
        }
       ],
       "layout": {
        "coloraxis": {
         "colorbar": {
          "title": {
           "text": "patent_count_without_atotrney"
          }
         },
         "colorscale": [
          [
           0,
           "rgb(255,245,240)"
          ],
          [
           0.125,
           "rgb(254,224,210)"
          ],
          [
           0.25,
           "rgb(252,187,161)"
          ],
          [
           0.375,
           "rgb(252,146,114)"
          ],
          [
           0.5,
           "rgb(251,106,74)"
          ],
          [
           0.625,
           "rgb(239,59,44)"
          ],
          [
           0.75,
           "rgb(203,24,29)"
          ],
          [
           0.875,
           "rgb(165,15,21)"
          ],
          [
           1,
           "rgb(103,0,13)"
          ]
         ]
        },
        "geo": {
         "center": {},
         "domain": {
          "x": [
           0,
           1
          ],
          "y": [
           0,
           1
          ]
         },
         "scope": "usa"
        },
        "legend": {
         "tracegroupgap": 0
        },
        "template": {
         "data": {
          "bar": [
           {
            "error_x": {
             "color": "#2a3f5f"
            },
            "error_y": {
             "color": "#2a3f5f"
            },
            "marker": {
             "line": {
              "color": "#E5ECF6",
              "width": 0.5
             },
             "pattern": {
              "fillmode": "overlay",
              "size": 10,
              "solidity": 0.2
             }
            },
            "type": "bar"
           }
          ],
          "barpolar": [
           {
            "marker": {
             "line": {
              "color": "#E5ECF6",
              "width": 0.5
             },
             "pattern": {
              "fillmode": "overlay",
              "size": 10,
              "solidity": 0.2
             }
            },
            "type": "barpolar"
           }
          ],
          "carpet": [
           {
            "aaxis": {
             "endlinecolor": "#2a3f5f",
             "gridcolor": "white",
             "linecolor": "white",
             "minorgridcolor": "white",
             "startlinecolor": "#2a3f5f"
            },
            "baxis": {
             "endlinecolor": "#2a3f5f",
             "gridcolor": "white",
             "linecolor": "white",
             "minorgridcolor": "white",
             "startlinecolor": "#2a3f5f"
            },
            "type": "carpet"
           }
          ],
          "choropleth": [
           {
            "colorbar": {
             "outlinewidth": 0,
             "ticks": ""
            },
            "type": "choropleth"
           }
          ],
          "contour": [
           {
            "colorbar": {
             "outlinewidth": 0,
             "ticks": ""
            },
            "colorscale": [
             [
              0,
              "#0d0887"
             ],
             [
              0.1111111111111111,
              "#46039f"
             ],
             [
              0.2222222222222222,
              "#7201a8"
             ],
             [
              0.3333333333333333,
              "#9c179e"
             ],
             [
              0.4444444444444444,
              "#bd3786"
             ],
             [
              0.5555555555555556,
              "#d8576b"
             ],
             [
              0.6666666666666666,
              "#ed7953"
             ],
             [
              0.7777777777777778,
              "#fb9f3a"
             ],
             [
              0.8888888888888888,
              "#fdca26"
             ],
             [
              1,
              "#f0f921"
             ]
            ],
            "type": "contour"
           }
          ],
          "contourcarpet": [
           {
            "colorbar": {
             "outlinewidth": 0,
             "ticks": ""
            },
            "type": "contourcarpet"
           }
          ],
          "heatmap": [
           {
            "colorbar": {
             "outlinewidth": 0,
             "ticks": ""
            },
            "colorscale": [
             [
              0,
              "#0d0887"
             ],
             [
              0.1111111111111111,
              "#46039f"
             ],
             [
              0.2222222222222222,
              "#7201a8"
             ],
             [
              0.3333333333333333,
              "#9c179e"
             ],
             [
              0.4444444444444444,
              "#bd3786"
             ],
             [
              0.5555555555555556,
              "#d8576b"
             ],
             [
              0.6666666666666666,
              "#ed7953"
             ],
             [
              0.7777777777777778,
              "#fb9f3a"
             ],
             [
              0.8888888888888888,
              "#fdca26"
             ],
             [
              1,
              "#f0f921"
             ]
            ],
            "type": "heatmap"
           }
          ],
          "histogram": [
           {
            "marker": {
             "pattern": {
              "fillmode": "overlay",
              "size": 10,
              "solidity": 0.2
             }
            },
            "type": "histogram"
           }
          ],
          "histogram2d": [
           {
            "colorbar": {
             "outlinewidth": 0,
             "ticks": ""
            },
            "colorscale": [
             [
              0,
              "#0d0887"
             ],
             [
              0.1111111111111111,
              "#46039f"
             ],
             [
              0.2222222222222222,
              "#7201a8"
             ],
             [
              0.3333333333333333,
              "#9c179e"
             ],
             [
              0.4444444444444444,
              "#bd3786"
             ],
             [
              0.5555555555555556,
              "#d8576b"
             ],
             [
              0.6666666666666666,
              "#ed7953"
             ],
             [
              0.7777777777777778,
              "#fb9f3a"
             ],
             [
              0.8888888888888888,
              "#fdca26"
             ],
             [
              1,
              "#f0f921"
             ]
            ],
            "type": "histogram2d"
           }
          ],
          "histogram2dcontour": [
           {
            "colorbar": {
             "outlinewidth": 0,
             "ticks": ""
            },
            "colorscale": [
             [
              0,
              "#0d0887"
             ],
             [
              0.1111111111111111,
              "#46039f"
             ],
             [
              0.2222222222222222,
              "#7201a8"
             ],
             [
              0.3333333333333333,
              "#9c179e"
             ],
             [
              0.4444444444444444,
              "#bd3786"
             ],
             [
              0.5555555555555556,
              "#d8576b"
             ],
             [
              0.6666666666666666,
              "#ed7953"
             ],
             [
              0.7777777777777778,
              "#fb9f3a"
             ],
             [
              0.8888888888888888,
              "#fdca26"
             ],
             [
              1,
              "#f0f921"
             ]
            ],
            "type": "histogram2dcontour"
           }
          ],
          "mesh3d": [
           {
            "colorbar": {
             "outlinewidth": 0,
             "ticks": ""
            },
            "type": "mesh3d"
           }
          ],
          "parcoords": [
           {
            "line": {
             "colorbar": {
              "outlinewidth": 0,
              "ticks": ""
             }
            },
            "type": "parcoords"
           }
          ],
          "pie": [
           {
            "automargin": true,
            "type": "pie"
           }
          ],
          "scatter": [
           {
            "fillpattern": {
             "fillmode": "overlay",
             "size": 10,
             "solidity": 0.2
            },
            "type": "scatter"
           }
          ],
          "scatter3d": [
           {
            "line": {
             "colorbar": {
              "outlinewidth": 0,
              "ticks": ""
             }
            },
            "marker": {
             "colorbar": {
              "outlinewidth": 0,
              "ticks": ""
             }
            },
            "type": "scatter3d"
           }
          ],
          "scattercarpet": [
           {
            "marker": {
             "colorbar": {
              "outlinewidth": 0,
              "ticks": ""
             }
            },
            "type": "scattercarpet"
           }
          ],
          "scattergeo": [
           {
            "marker": {
             "colorbar": {
              "outlinewidth": 0,
              "ticks": ""
             }
            },
            "type": "scattergeo"
           }
          ],
          "scattergl": [
           {
            "marker": {
             "colorbar": {
              "outlinewidth": 0,
              "ticks": ""
             }
            },
            "type": "scattergl"
           }
          ],
          "scattermap": [
           {
            "marker": {
             "colorbar": {
              "outlinewidth": 0,
              "ticks": ""
             }
            },
            "type": "scattermap"
           }
          ],
          "scattermapbox": [
           {
            "marker": {
             "colorbar": {
              "outlinewidth": 0,
              "ticks": ""
             }
            },
            "type": "scattermapbox"
           }
          ],
          "scatterpolar": [
           {
            "marker": {
             "colorbar": {
              "outlinewidth": 0,
              "ticks": ""
             }
            },
            "type": "scatterpolar"
           }
          ],
          "scatterpolargl": [
           {
            "marker": {
             "colorbar": {
              "outlinewidth": 0,
              "ticks": ""
             }
            },
            "type": "scatterpolargl"
           }
          ],
          "scatterternary": [
           {
            "marker": {
             "colorbar": {
              "outlinewidth": 0,
              "ticks": ""
             }
            },
            "type": "scatterternary"
           }
          ],
          "surface": [
           {
            "colorbar": {
             "outlinewidth": 0,
             "ticks": ""
            },
            "colorscale": [
             [
              0,
              "#0d0887"
             ],
             [
              0.1111111111111111,
              "#46039f"
             ],
             [
              0.2222222222222222,
              "#7201a8"
             ],
             [
              0.3333333333333333,
              "#9c179e"
             ],
             [
              0.4444444444444444,
              "#bd3786"
             ],
             [
              0.5555555555555556,
              "#d8576b"
             ],
             [
              0.6666666666666666,
              "#ed7953"
             ],
             [
              0.7777777777777778,
              "#fb9f3a"
             ],
             [
              0.8888888888888888,
              "#fdca26"
             ],
             [
              1,
              "#f0f921"
             ]
            ],
            "type": "surface"
           }
          ],
          "table": [
           {
            "cells": {
             "fill": {
              "color": "#EBF0F8"
             },
             "line": {
              "color": "white"
             }
            },
            "header": {
             "fill": {
              "color": "#C8D4E3"
             },
             "line": {
              "color": "white"
             }
            },
            "type": "table"
           }
          ]
         },
         "layout": {
          "annotationdefaults": {
           "arrowcolor": "#2a3f5f",
           "arrowhead": 0,
           "arrowwidth": 1
          },
          "autotypenumbers": "strict",
          "coloraxis": {
           "colorbar": {
            "outlinewidth": 0,
            "ticks": ""
           }
          },
          "colorscale": {
           "diverging": [
            [
             0,
             "#8e0152"
            ],
            [
             0.1,
             "#c51b7d"
            ],
            [
             0.2,
             "#de77ae"
            ],
            [
             0.3,
             "#f1b6da"
            ],
            [
             0.4,
             "#fde0ef"
            ],
            [
             0.5,
             "#f7f7f7"
            ],
            [
             0.6,
             "#e6f5d0"
            ],
            [
             0.7,
             "#b8e186"
            ],
            [
             0.8,
             "#7fbc41"
            ],
            [
             0.9,
             "#4d9221"
            ],
            [
             1,
             "#276419"
            ]
           ],
           "sequential": [
            [
             0,
             "#0d0887"
            ],
            [
             0.1111111111111111,
             "#46039f"
            ],
            [
             0.2222222222222222,
             "#7201a8"
            ],
            [
             0.3333333333333333,
             "#9c179e"
            ],
            [
             0.4444444444444444,
             "#bd3786"
            ],
            [
             0.5555555555555556,
             "#d8576b"
            ],
            [
             0.6666666666666666,
             "#ed7953"
            ],
            [
             0.7777777777777778,
             "#fb9f3a"
            ],
            [
             0.8888888888888888,
             "#fdca26"
            ],
            [
             1,
             "#f0f921"
            ]
           ],
           "sequentialminus": [
            [
             0,
             "#0d0887"
            ],
            [
             0.1111111111111111,
             "#46039f"
            ],
            [
             0.2222222222222222,
             "#7201a8"
            ],
            [
             0.3333333333333333,
             "#9c179e"
            ],
            [
             0.4444444444444444,
             "#bd3786"
            ],
            [
             0.5555555555555556,
             "#d8576b"
            ],
            [
             0.6666666666666666,
             "#ed7953"
            ],
            [
             0.7777777777777778,
             "#fb9f3a"
            ],
            [
             0.8888888888888888,
             "#fdca26"
            ],
            [
             1,
             "#f0f921"
            ]
           ]
          },
          "colorway": [
           "#636efa",
           "#EF553B",
           "#00cc96",
           "#ab63fa",
           "#FFA15A",
           "#19d3f3",
           "#FF6692",
           "#B6E880",
           "#FF97FF",
           "#FECB52"
          ],
          "font": {
           "color": "#2a3f5f"
          },
          "geo": {
           "bgcolor": "white",
           "lakecolor": "white",
           "landcolor": "#E5ECF6",
           "showlakes": true,
           "showland": true,
           "subunitcolor": "white"
          },
          "hoverlabel": {
           "align": "left"
          },
          "hovermode": "closest",
          "mapbox": {
           "style": "light"
          },
          "paper_bgcolor": "white",
          "plot_bgcolor": "#E5ECF6",
          "polar": {
           "angularaxis": {
            "gridcolor": "white",
            "linecolor": "white",
            "ticks": ""
           },
           "bgcolor": "#E5ECF6",
           "radialaxis": {
            "gridcolor": "white",
            "linecolor": "white",
            "ticks": ""
           }
          },
          "scene": {
           "xaxis": {
            "backgroundcolor": "#E5ECF6",
            "gridcolor": "white",
            "gridwidth": 2,
            "linecolor": "white",
            "showbackground": true,
            "ticks": "",
            "zerolinecolor": "white"
           },
           "yaxis": {
            "backgroundcolor": "#E5ECF6",
            "gridcolor": "white",
            "gridwidth": 2,
            "linecolor": "white",
            "showbackground": true,
            "ticks": "",
            "zerolinecolor": "white"
           },
           "zaxis": {
            "backgroundcolor": "#E5ECF6",
            "gridcolor": "white",
            "gridwidth": 2,
            "linecolor": "white",
            "showbackground": true,
            "ticks": "",
            "zerolinecolor": "white"
           }
          },
          "shapedefaults": {
           "line": {
            "color": "#2a3f5f"
           }
          },
          "ternary": {
           "aaxis": {
            "gridcolor": "white",
            "linecolor": "white",
            "ticks": ""
           },
           "baxis": {
            "gridcolor": "white",
            "linecolor": "white",
            "ticks": ""
           },
           "bgcolor": "#E5ECF6",
           "caxis": {
            "gridcolor": "white",
            "linecolor": "white",
            "ticks": ""
           }
          },
          "title": {
           "x": 0.05
          },
          "xaxis": {
           "automargin": true,
           "gridcolor": "white",
           "linecolor": "white",
           "ticks": "",
           "title": {
            "standoff": 15
           },
           "zerolinecolor": "white",
           "zerolinewidth": 2
          },
          "yaxis": {
           "automargin": true,
           "gridcolor": "white",
           "linecolor": "white",
           "ticks": "",
           "title": {
            "standoff": 15
           },
           "zerolinecolor": "white",
           "zerolinewidth": 2
          }
         }
        },
        "title": {
         "text": "Patent Filings Without Attorney Involvement by State"
        }
       }
      }
     },
     "metadata": {},
     "output_type": "display_data"
    }
   ],
   "source": [
    "fig = px.choropleth(\n",
    "    no_attorney_state_counts,\n",
    "    locations='disambig_state',\n",
    "    locationmode='USA-states',\n",
    "    color='patent_count_without_atotrney',\n",
    "    scope='usa',\n",
    "    color_continuous_scale='Reds',\n",
    "    title='Patent Filings Without Attorney Involvement by State'\n",
    ")\n",
    "\n",
    "fig.show()"
   ]
  },
  {
   "cell_type": "code",
   "execution_count": 41,
   "id": "00f04f16",
   "metadata": {},
   "outputs": [],
   "source": [
    "non_attorney_yearly = df.groupby('year').size().reset_index(name='no_attorney_count')\n",
    "total_yearly = new_df.groupby('year').size().reset_index(name='total_count')\n",
    "\n",
    "merged = pd.merge(non_attorney_yearly, total_yearly, on='year')\n",
    "merged['no_attorney_percent'] = (merged['no_attorney_count'] / merged['total_count']) * 100\n",
    "merged['percent_change'] = merged['no_attorney_percent'].pct_change() * 100\n"
   ]
  },
  {
   "cell_type": "code",
   "execution_count": 49,
   "id": "8e7cd134",
   "metadata": {},
   "outputs": [
    {
     "data": {
      "image/png": "[encoded data removed]",
      "text/plain": [
       "<Figure size 1000x600 with 1 Axes>"
      ]
     },
     "metadata": {},
     "output_type": "display_data"
    }
   ],
   "source": [
    "plt.figure(figsize=(10, 6))\n",
    "plt.plot(merged['year'], merged['no_attorney_count'], marker='o', linewidth=2, color='tomato')\n",
    "plt.title('Percentage of Patents Filed Without Attorney by Year')\n",
    "plt.xlabel('Year')\n",
    "plt.ylabel('No-Attorney Filing Rate (%)')\n",
    "plt.grid(True)\n",
    "\n",
    "\n",
    "plt.tight_layout()\n",
    "plt.show()"
   ]
  },
  {
   "cell_type": "code",
   "execution_count": 50,
   "id": "90e21f54",
   "metadata": {},
   "outputs": [
    {
     "data": {
      "image/png": "[encoded data removed]",
      "text/plain": [
       "<Figure size 1000x600 with 1 Axes>"
      ]
     },
     "metadata": {},
     "output_type": "display_data"
    }
   ],
   "source": [
    "plt.figure(figsize=(10, 6))\n",
    "plt.plot(merged['year'], merged['no_attorney_percent'], marker='o', linewidth=2, color='tomato')\n",
    "plt.title('Percentage of Patents Filed Without Attorney by Year')\n",
    "plt.xlabel('Year')\n",
    "plt.ylabel('No-Attorney Filing Rate (%)')\n",
    "plt.grid(True)\n",
    "\n",
    "\n",
    "plt.tight_layout()\n",
    "plt.show()"
   ]
  },
  {
   "cell_type": "code",
   "execution_count": 43,
   "id": "0cd00ac1",
   "metadata": {},
   "outputs": [],
   "source": [
    "state_total = df.groupby('disambig_state').size().reset_index(name='total_patents')\n",
    "state_no_attorney = df.groupby('disambig_state').size().reset_index(name='no_attorney_patents')\n",
    "\n",
    "merged_state = pd.merge(state_total, state_no_attorney, on='disambig_state')\n",
    "merged_state['no_attorney_rate'] = (merged_state['no_attorney_patents'] / merged_state['total_patents']) * 100\n"
   ]
  },
  {
   "cell_type": "code",
   "execution_count": 44,
   "id": "b0f013fc",
   "metadata": {},
   "outputs": [],
   "source": [
    "state_year_counts = df.groupby(['disambig_state', 'year']).size().reset_index(name='count')\n"
   ]
  },
  {
   "cell_type": "code",
   "execution_count": 45,
   "id": "b0135230",
   "metadata": {},
   "outputs": [
    {
     "data": {
      "text/html": [
       "<div>\n",
       "<style scoped>\n",
       "    .dataframe tbody tr th:only-of-type {\n",
       "        vertical-align: middle;\n",
       "    }\n",
       "\n",
       "    .dataframe tbody tr th {\n",
       "        vertical-align: top;\n",
       "    }\n",
       "\n",
       "    .dataframe thead th {\n",
       "        text-align: right;\n",
       "    }\n",
       "</style>\n",
       "<table border=\"1\" class=\"dataframe\">\n",
       "  <thead>\n",
       "    <tr style=\"text-align: right;\">\n",
       "      <th>year</th>\n",
       "      <th>1976</th>\n",
       "      <th>1977</th>\n",
       "      <th>1978</th>\n",
       "      <th>1979</th>\n",
       "      <th>1980</th>\n",
       "      <th>1981</th>\n",
       "      <th>1982</th>\n",
       "      <th>1983</th>\n",
       "      <th>1984</th>\n",
       "      <th>1985</th>\n",
       "      <th>...</th>\n",
       "      <th>2014</th>\n",
       "      <th>2015</th>\n",
       "      <th>2016</th>\n",
       "      <th>2017</th>\n",
       "      <th>2018</th>\n",
       "      <th>2019</th>\n",
       "      <th>2020</th>\n",
       "      <th>2021</th>\n",
       "      <th>2022</th>\n",
       "      <th>2023</th>\n",
       "    </tr>\n",
       "    <tr>\n",
       "      <th>disambig_state</th>\n",
       "      <th></th>\n",
       "      <th></th>\n",
       "      <th></th>\n",
       "      <th></th>\n",
       "      <th></th>\n",
       "      <th></th>\n",
       "      <th></th>\n",
       "      <th></th>\n",
       "      <th></th>\n",
       "      <th></th>\n",
       "      <th></th>\n",
       "      <th></th>\n",
       "      <th></th>\n",
       "      <th></th>\n",
       "      <th></th>\n",
       "      <th></th>\n",
       "      <th></th>\n",
       "      <th></th>\n",
       "      <th></th>\n",
       "      <th></th>\n",
       "      <th></th>\n",
       "    </tr>\n",
       "  </thead>\n",
       "  <tbody>\n",
       "    <tr>\n",
       "      <th>AB</th>\n",
       "      <td>0.0</td>\n",
       "      <td>43.0</td>\n",
       "      <td>172.0</td>\n",
       "      <td>108.0</td>\n",
       "      <td>93.0</td>\n",
       "      <td>92.0</td>\n",
       "      <td>126.0</td>\n",
       "      <td>91.0</td>\n",
       "      <td>118.0</td>\n",
       "      <td>61.0</td>\n",
       "      <td>...</td>\n",
       "      <td>1225.0</td>\n",
       "      <td>1410.0</td>\n",
       "      <td>1542.0</td>\n",
       "      <td>1670.0</td>\n",
       "      <td>1700.0</td>\n",
       "      <td>1804.0</td>\n",
       "      <td>1882.0</td>\n",
       "      <td>1552.0</td>\n",
       "      <td>1380.0</td>\n",
       "      <td>1079.0</td>\n",
       "    </tr>\n",
       "    <tr>\n",
       "      <th>AK</th>\n",
       "      <td>0.0</td>\n",
       "      <td>12.0</td>\n",
       "      <td>9.0</td>\n",
       "      <td>11.0</td>\n",
       "      <td>14.0</td>\n",
       "      <td>14.0</td>\n",
       "      <td>15.0</td>\n",
       "      <td>19.0</td>\n",
       "      <td>10.0</td>\n",
       "      <td>11.0</td>\n",
       "      <td>...</td>\n",
       "      <td>71.0</td>\n",
       "      <td>59.0</td>\n",
       "      <td>121.0</td>\n",
       "      <td>153.0</td>\n",
       "      <td>91.0</td>\n",
       "      <td>121.0</td>\n",
       "      <td>94.0</td>\n",
       "      <td>73.0</td>\n",
       "      <td>91.0</td>\n",
       "      <td>49.0</td>\n",
       "    </tr>\n",
       "    <tr>\n",
       "      <th>AL</th>\n",
       "      <td>4.0</td>\n",
       "      <td>186.0</td>\n",
       "      <td>416.0</td>\n",
       "      <td>381.0</td>\n",
       "      <td>384.0</td>\n",
       "      <td>415.0</td>\n",
       "      <td>316.0</td>\n",
       "      <td>362.0</td>\n",
       "      <td>408.0</td>\n",
       "      <td>247.0</td>\n",
       "      <td>...</td>\n",
       "      <td>1383.0</td>\n",
       "      <td>1042.0</td>\n",
       "      <td>1314.0</td>\n",
       "      <td>1279.0</td>\n",
       "      <td>1125.0</td>\n",
       "      <td>1296.0</td>\n",
       "      <td>1360.0</td>\n",
       "      <td>1303.0</td>\n",
       "      <td>896.0</td>\n",
       "      <td>924.0</td>\n",
       "    </tr>\n",
       "    <tr>\n",
       "      <th>AR</th>\n",
       "      <td>0.0</td>\n",
       "      <td>35.0</td>\n",
       "      <td>64.0</td>\n",
       "      <td>63.0</td>\n",
       "      <td>71.0</td>\n",
       "      <td>57.0</td>\n",
       "      <td>61.0</td>\n",
       "      <td>60.0</td>\n",
       "      <td>56.0</td>\n",
       "      <td>20.0</td>\n",
       "      <td>...</td>\n",
       "      <td>513.0</td>\n",
       "      <td>513.0</td>\n",
       "      <td>535.0</td>\n",
       "      <td>707.0</td>\n",
       "      <td>864.0</td>\n",
       "      <td>1123.0</td>\n",
       "      <td>843.0</td>\n",
       "      <td>772.0</td>\n",
       "      <td>602.0</td>\n",
       "      <td>535.0</td>\n",
       "    </tr>\n",
       "    <tr>\n",
       "      <th>AS</th>\n",
       "      <td>0.0</td>\n",
       "      <td>0.0</td>\n",
       "      <td>0.0</td>\n",
       "      <td>0.0</td>\n",
       "      <td>0.0</td>\n",
       "      <td>0.0</td>\n",
       "      <td>0.0</td>\n",
       "      <td>0.0</td>\n",
       "      <td>1.0</td>\n",
       "      <td>0.0</td>\n",
       "      <td>...</td>\n",
       "      <td>0.0</td>\n",
       "      <td>0.0</td>\n",
       "      <td>0.0</td>\n",
       "      <td>0.0</td>\n",
       "      <td>0.0</td>\n",
       "      <td>0.0</td>\n",
       "      <td>0.0</td>\n",
       "      <td>0.0</td>\n",
       "      <td>0.0</td>\n",
       "      <td>0.0</td>\n",
       "    </tr>\n",
       "  </tbody>\n",
       "</table>\n",
       "<p>5 rows × 48 columns</p>\n",
       "</div>"
      ],
      "text/plain": [
       "year            1976   1977   1978   1979   1980   1981   1982   1983   1984  \\\n",
       "disambig_state                                                                 \n",
       "AB               0.0   43.0  172.0  108.0   93.0   92.0  126.0   91.0  118.0   \n",
       "AK               0.0   12.0    9.0   11.0   14.0   14.0   15.0   19.0   10.0   \n",
       "AL               4.0  186.0  416.0  381.0  384.0  415.0  316.0  362.0  408.0   \n",
       "AR               0.0   35.0   64.0   63.0   71.0   57.0   61.0   60.0   56.0   \n",
       "AS               0.0    0.0    0.0    0.0    0.0    0.0    0.0    0.0    1.0   \n",
       "\n",
       "year             1985  ...    2014    2015    2016    2017    2018    2019  \\\n",
       "disambig_state         ...                                                   \n",
       "AB               61.0  ...  1225.0  1410.0  1542.0  1670.0  1700.0  1804.0   \n",
       "AK               11.0  ...    71.0    59.0   121.0   153.0    91.0   121.0   \n",
       "AL              247.0  ...  1383.0  1042.0  1314.0  1279.0  1125.0  1296.0   \n",
       "AR               20.0  ...   513.0   513.0   535.0   707.0   864.0  1123.0   \n",
       "AS                0.0  ...     0.0     0.0     0.0     0.0     0.0     0.0   \n",
       "\n",
       "year              2020    2021    2022    2023  \n",
       "disambig_state                                  \n",
       "AB              1882.0  1552.0  1380.0  1079.0  \n",
       "AK                94.0    73.0    91.0    49.0  \n",
       "AL              1360.0  1303.0   896.0   924.0  \n",
       "AR               843.0   772.0   602.0   535.0  \n",
       "AS                 0.0     0.0     0.0     0.0  \n",
       "\n",
       "[5 rows x 48 columns]"
      ]
     },
     "execution_count": 45,
     "metadata": {},
     "output_type": "execute_result"
    }
   ],
   "source": [
    "pivot_df = state_year_counts.pivot(index='disambig_state', columns='year', values='count').fillna(0)\n",
    "pivot_df.head()"
   ]
  },
  {
   "cell_type": "code",
   "execution_count": null,
   "id": "971c9522",
   "metadata": {},
   "outputs": [],
   "source": [
    "if 2010 in pivot_df.columns and 2023 in pivot_df.columns:\n",
    "    pivot_df['percent_change_2010_2023'] = (\n",
    "        (pivot_df[2023] - pivot_df[2010]) / pivot_df[2010].replace(0, 1) * 100\n",
    "    )\n",
    "else:\n",
    "    print(\"Ensure your dataset includes both 2010 and 2023.\")"
   ]
  },
  {
   "cell_type": "code",
   "execution_count": 47,
   "id": "b984e02c",
   "metadata": {},
   "outputs": [],
   "source": [
    "top_states = pivot_df.sort_values('percent_change_2010_2023', ascending=False).head(10).reset_index()\n"
   ]
  },
  {
   "cell_type": "code",
   "execution_count": 48,
   "id": "ff16bcdc",
   "metadata": {},
   "outputs": [
    {
     "data": {
      "image/png": "[encoded data removed]",
      "text/plain": [
       "<Figure size 1200x600 with 1 Axes>"
      ]
     },
     "metadata": {},
     "output_type": "display_data"
    }
   ],
   "source": [
    "plt.figure(figsize=(12, 6))\n",
    "plt.bar(top_states['disambig_state'], top_states['percent_change_2010_2023'], color='teal')\n",
    "plt.title('Top 10 States by Increase in Non-Attorney Filings (2010–2023)')\n",
    "plt.xlabel('State')\n",
    "plt.ylabel('Percent Increase (%)')\n",
    "plt.xticks(rotation=45)\n",
    "plt.tight_layout()\n",
    "plt.show()"
   ]
  }
 ],
 "metadata": {
  "kernelspec": {
   "display_name": "Python 3",
   "language": "python",
   "name": "python3"
  },
  "language_info": {
   "codemirror_mode": {
    "name": "ipython",
    "version": 3
   },
   "file_extension": ".py",
   "mimetype": "text/x-python",
   "name": "python",
   "nbconvert_exporter": "python",
   "pygments_lexer": "ipython3",
   "version": "3.13.1"
  }
 },
 "nbformat": 4,
 "nbformat_minor": 5
}
