{
 "cells": [
  {
   "metadata": {},
   "cell_type": "markdown",
   "source": [
    "# Hypotehsis 4: Assignee Type and Concentration\n",
    "- We hypothesize that patents assigned to organizations (companies, universities, government) show a more concentrated geographic footprint compared to patents with individual or no clear assignee.\n",
    "- Specifically, we expect corporate-assigned patents to cluster around business hubs (e.g. California and New York), while individually filed patents may appear more dispersed.\n",
    "- We checked this by comparing patent amount of individual vs. company by county level\n",
    "- Prepared 3 visualizations and 1 statistical test\n",
    "1. Scatter map for a brief overview\n",
    "2. Density map\n",
    "3. Bar plot for clearer comparison\n",
    "4. Mann–Whitney U Test for comparing distribution of rural and urban area for assigned organizations"
   ],
   "id": "44ef6290bc0c08b3"
  },
  {
   "metadata": {},
   "cell_type": "markdown",
   "source": "## Package import",
   "id": "c86375f7ab2015a2"
  },
  {
   "cell_type": "code",
   "id": "initial_id",
   "metadata": {
    "collapsed": true,
    "ExecuteTime": {
     "end_time": "2025-05-14T15:41:30.128592Z",
     "start_time": "2025-05-14T15:41:26.822533Z"
    }
   },
   "source": [
    "import pandas as pd\n",
    "import plotly.graph_objects as go\n",
    "import plotly.express as px\n",
    "import plotly.io as pio\n",
    "import json\n",
    "import requests\n",
    "from scipy.stats import mannwhitneyu\n",
    "\n",
    "# This is for importing custom functions\n",
    "from assist_scripts import merge, fips_merger"
   ],
   "outputs": [],
   "execution_count": 1
  },
  {
   "metadata": {},
   "cell_type": "markdown",
   "source": [
    "## Import files\n",
    "- Patent application dataset, \"g_application.tsv\":\"https://s3.amazonaws.com/data.patentsview.org/download/g_application.tsv.zip\"\n",
    "- Patent applicant assignee (individual, corporation, government) dataset, \"g_assignee_disambiguated.tsv\":\"https://s3.amazonaws.com/data.patentsview.org/download/g_assignee_disambiguated.tsv.zip\"\n",
    "- Patent application location dataset, \"g_location_disambiguated.tsv\":\"https://s3.amazonaws.com/data.patentsview.org/download/g_location_disambiguated.tsv.zip\"\n",
    "- Urban information filter on counties, \"data/2020_UA_COUNTY.xlsx\":\"https://www2.census.gov/geo/docs/reference/ua/2020_UA_COUNTY.xlsx\"\n"
   ],
   "id": "87e9ade1fcf61940"
  },
  {
   "metadata": {
    "ExecuteTime": {
     "end_time": "2025-05-14T15:41:42.179232Z",
     "start_time": "2025-05-14T15:41:30.494680Z"
    }
   },
   "cell_type": "code",
   "source": [
    "# dataset about patent applicants (contains fiiling date that is required for year-wise grouping, and each row is patent application)\n",
    "# This dataset will connected with assignee dataset that contains location information, as assignee may have more than one application\n",
    "application_df = pd.read_csv(\"data/g_application.tsv\", sep=\"\\t\", header=0,\n",
    "                             usecols=['application_id', 'patent_id'],\n",
    "                             dtype={'application_id': str, 'patent_id': str},\n",
    "                             encoding='unicode_escape'\n",
    "                             )"
   ],
   "id": "e35f1d51d50e5bd8",
   "outputs": [],
   "execution_count": 2
  },
  {
   "metadata": {
    "ExecuteTime": {
     "end_time": "2025-05-14T15:41:57.947319Z",
     "start_time": "2025-05-14T15:41:42.257250Z"
    }
   },
   "cell_type": "code",
   "source": [
    "# dataset about applicants (contains location ID required for indicate location by connected with latitude and longitude in location data below)\n",
    "assignee_df = pd.read_csv(\"data/g_assignee_disambiguated.tsv\", sep=\"\\t\", header=0,\n",
    "                          usecols=['patent_id', 'location_id', 'assignee_type'],\n",
    "                          dtype={'patent_id': str, 'location_id': str}\n",
    "                          )"
   ],
   "id": "166805bc5324244b",
   "outputs": [],
   "execution_count": 3
  },
  {
   "metadata": {
    "ExecuteTime": {
     "end_time": "2025-05-14T15:41:58.262592Z",
     "start_time": "2025-05-14T15:41:58.023909Z"
    }
   },
   "cell_type": "code",
   "source": [
    "# dataset about location of patent application, includes location ID, latitude, and longitude those are necessary for the mapping\n",
    "location_df = pd.read_csv(\"data/g_location_disambiguated.tsv\", sep=\"\\t\", header=0,\n",
    "                          usecols=['location_id', 'disambig_state', 'disambig_country', 'latitude', 'longitude', 'state_fips', 'county_fips'],\n",
    "                          dtype={'location_id': str, 'disambig_state': str, 'disambig_country': str, 'latitude': float, 'longitude': float}\n",
    "                          )"
   ],
   "id": "f9b7a616b2e4a62d",
   "outputs": [],
   "execution_count": 4
  },
  {
   "metadata": {
    "ExecuteTime": {
     "end_time": "2025-05-14T15:42:51.614849Z",
     "start_time": "2025-05-14T15:41:58.284001Z"
    }
   },
   "cell_type": "code",
   "source": [
    "# https://www.census.gov/programs-surveys/geography/guidance/geo-areas/urban-rural.html\n",
    "urban_county_df = pd.read_excel(\"data/2020_UA_COUNTY.xlsx\", sheet_name=\"2020_UA_COUNTY\",\n",
    "                            usecols=['STATE', 'COUNTY', 'ALAND_PCT_URB'],\n",
    "                            dtype={'STATE': str, 'COUNTY': str, 'ALAND_PCT_URB': float})"
   ],
   "id": "ed2c30abf4c216d5",
   "outputs": [],
   "execution_count": 5
  },
  {
   "metadata": {
    "ExecuteTime": {
     "end_time": "2025-05-14T15:42:52.002142Z",
     "start_time": "2025-05-14T15:42:51.653368Z"
    }
   },
   "cell_type": "code",
   "source": [
    "# Download U.S. counties GeoJSON (simplified)\n",
    "geojson_url = \"https://raw.githubusercontent.com/plotly/datasets/master/geojson-counties-fips.json\"\n",
    "counties_geo = requests.get(geojson_url).json()"
   ],
   "id": "5233e10172afefb5",
   "outputs": [],
   "execution_count": 6
  },
  {
   "metadata": {},
   "cell_type": "markdown",
   "source": "## 1. Scatter map",
   "id": "1acc6fac446260dc"
  },
  {
   "metadata": {},
   "cell_type": "markdown",
   "source": "### 1-1. Merging dataframes for combining required data for analysis",
   "id": "97a0c2eccb86b520"
  },
  {
   "metadata": {
    "ExecuteTime": {
     "end_time": "2025-05-14T15:43:23.633092Z",
     "start_time": "2025-05-14T15:42:52.028354Z"
    }
   },
   "cell_type": "code",
   "source": [
    "# we merged application, assignee, and location dataframes to get patent location information for each patent application\n",
    "\n",
    "# Merge application and assignee dataframes as application_df contains the actual applications and assignee_df contains the assignee type (indicidual, company, government) and location ID for each application\n",
    "patent_df = merge(merge_on_df=application_df, merge_from_df=assignee_df,\n",
    "                  merge_from_keep=['patent_id', 'location_id', 'assignee_type'],\n",
    "          foreign_key_left=\"patent_id\")\n",
    "\n",
    "# Merge patent_df with location_df to get latitude and longitude and FIPS for each patent application\n",
    "patent_df = merge(merge_on_df=patent_df, merge_from_df=location_df,\n",
    "                  merge_from_keep=['location_id', 'disambig_state', 'disambig_country', 'latitude', 'longitude', 'state_fips', 'county_fips'],\n",
    "          foreign_key_left=\"location_id\")"
   ],
   "id": "ffe6d3c38cc0ce15",
   "outputs": [],
   "execution_count": 7
  },
  {
   "metadata": {
    "ExecuteTime": {
     "end_time": "2025-05-14T15:43:24.969259Z",
     "start_time": "2025-05-14T15:43:23.706099Z"
    }
   },
   "cell_type": "code",
   "source": [
    "# Filter out patents with application within US\n",
    "us_patent_df = patent_df[patent_df['disambig_country'] == 'US']"
   ],
   "id": "62fe9de767551e74",
   "outputs": [],
   "execution_count": 8
  },
  {
   "metadata": {
    "ExecuteTime": {
     "end_time": "2025-05-14T15:43:30.531706Z",
     "start_time": "2025-05-14T15:43:25.000300Z"
    }
   },
   "cell_type": "code",
   "source": [
    "# create 5-digit FIPS code for counties in US\n",
    "cleaned_patent_df = us_patent_df.dropna(subset=['assignee_type', 'state_fips', 'county_fips'])\n",
    "cleaned_patent_df['assignee_type'] = cleaned_patent_df['assignee_type'].astype(int)\n",
    "# we first convert state_fips and county_fips to integer as they are float (contains decimal 0.0), and then convert to string to create 5-digit FIPS code for counties in US\n",
    "cleaned_patent_df['county_fips'] = fips_merger(cleaned_patent_df['state_fips'], cleaned_patent_df['county_fips'])"
   ],
   "id": "69795fd8806a3a6f",
   "outputs": [
    {
     "name": "stderr",
     "output_type": "stream",
     "text": [
      "/var/folders/2j/sh023cfx5kd0tgwfn0nptbrc0000gn/T/ipykernel_12544/2938995705.py:3: SettingWithCopyWarning: \n",
      "A value is trying to be set on a copy of a slice from a DataFrame.\n",
      "Try using .loc[row_indexer,col_indexer] = value instead\n",
      "\n",
      "See the caveats in the documentation: https://pandas.pydata.org/pandas-docs/stable/user_guide/indexing.html#returning-a-view-versus-a-copy\n",
      "  cleaned_patent_df['assignee_type'] = cleaned_patent_df['assignee_type'].astype(int)\n",
      "/var/folders/2j/sh023cfx5kd0tgwfn0nptbrc0000gn/T/ipykernel_12544/2938995705.py:5: SettingWithCopyWarning: \n",
      "A value is trying to be set on a copy of a slice from a DataFrame.\n",
      "Try using .loc[row_indexer,col_indexer] = value instead\n",
      "\n",
      "See the caveats in the documentation: https://pandas.pydata.org/pandas-docs/stable/user_guide/indexing.html#returning-a-view-versus-a-copy\n",
      "  cleaned_patent_df['county_fips'] = fips_merger(cleaned_patent_df['state_fips'], cleaned_patent_df['county_fips'])\n"
     ]
    }
   ],
   "execution_count": 9
  },
  {
   "metadata": {
    "ExecuteTime": {
     "end_time": "2025-05-14T15:43:30.778751Z",
     "start_time": "2025-05-14T15:43:30.605453Z"
    }
   },
   "cell_type": "code",
   "source": [
    "# we will convert assignee_type to string for easier mapping in visualization\n",
    "cleaned_patent_df.loc[:, 'type_name'] = cleaned_patent_df['assignee_type'].map({\n",
    "    1:'individual', 2:'company', 3:'company', 4:'individual', 5:'individual', 6:'government',\n",
    "    7:'government', 8:'government', 9:'government'\n",
    "})"
   ],
   "id": "8566566e1ae29fa5",
   "outputs": [
    {
     "name": "stderr",
     "output_type": "stream",
     "text": [
      "/var/folders/2j/sh023cfx5kd0tgwfn0nptbrc0000gn/T/ipykernel_12544/2866971456.py:2: SettingWithCopyWarning: \n",
      "A value is trying to be set on a copy of a slice from a DataFrame.\n",
      "Try using .loc[row_indexer,col_indexer] = value instead\n",
      "\n",
      "See the caveats in the documentation: https://pandas.pydata.org/pandas-docs/stable/user_guide/indexing.html#returning-a-view-versus-a-copy\n",
      "  cleaned_patent_df.loc[:, 'type_name'] = cleaned_patent_df['assignee_type'].map({\n"
     ]
    }
   ],
   "execution_count": 10
  },
  {
   "metadata": {
    "ExecuteTime": {
     "end_time": "2025-05-14T15:43:34.460059Z",
     "start_time": "2025-05-14T15:43:30.857712Z"
    }
   },
   "cell_type": "code",
   "source": [
    "# Keep all 'individual' and 'government' records\n",
    "filtered_df = cleaned_patent_df[cleaned_patent_df['type_name'].isin(['individual', 'government'])]\n",
    "\n",
    "# Randomly sample 50000 'company' records\n",
    "company_sample = cleaned_patent_df[cleaned_patent_df['type_name'] == 'company'].sample(n=50000, random_state=42)\n",
    "\n",
    "# Combine them\n",
    "cleaned_sample_df = pd.concat([filtered_df, company_sample]).reset_index(drop=True)"
   ],
   "id": "675acb0b327d4e58",
   "outputs": [],
   "execution_count": 11
  },
  {
   "metadata": {},
   "cell_type": "markdown",
   "source": [
    "### Function for visualization plot\n",
    "- The function contains scatter map, density map, and bar plot that will be used in hypothesis 4\n",
    "- Unfortunately, it was hard to apply to interactive visualization"
   ],
   "id": "5f90c573be25fe0b"
  },
  {
   "metadata": {
    "ExecuteTime": {
     "end_time": "2025-05-14T15:43:34.968087Z",
     "start_time": "2025-05-14T15:43:34.950256Z"
    }
   },
   "cell_type": "code",
   "source": [
    "def vizualization(geojson, dataset, viz_type: str, lon=None, lat=None, hover_txt=None,\n",
    "                  location_layout: str = None, color_by: str = None, title: str = None,\n",
    "                  color_disc_map: list[str] = None, label: str = None, add_trace: bool = False,\n",
    "                  bar_x=None, bar_y=None, bar_stack: bool = True):\n",
    "    '''\n",
    "    Visualize patent application data on USA map or other kinds of visualization\n",
    "\n",
    "    geojson: geojson for the visualization will be on USA map\n",
    "    viz_type: str, the type of visualization, can be 'choropleth', 'scattergeo', or 'bar'\n",
    "    lon: list, longitude of the patent application\n",
    "    lat: list, latitude of the patent application\n",
    "    hover_txt: the text that will be displayed when hovering over the patent application\n",
    "    location_layout: str, the column name of the location layout, can be 'state_fips' or 'county_fips'\n",
    "    color_by: str, the column name of the color by, can be 'type_name' or 'count'\n",
    "    title: str, the title of the visualization\n",
    "    color_disc_map: list, the list of color for the visualization, can be ['company', 'government', 'individual']\n",
    "    label: str, the label of the visualization, can be 'count' or 'disambig_state'\n",
    "    add_trace: boolean, whether to add a trace for the visualization\n",
    "    bar_x: str, the column name of the x axis of the bar chart\n",
    "    bar_y: str, the column name of the y axis of the bar chart\n",
    "    bar_stack: boolean, whether to stack the bar chart or not\n",
    "    return: None\n",
    "    '''\n",
    "    if viz_type == 'choropleth':\n",
    "        fig = px.choropleth(\n",
    "            dataset,\n",
    "            geojson=geojson,\n",
    "            locations=location_layout,\n",
    "            color=color_by,\n",
    "            color_continuous_scale=\"Blues\",\n",
    "            color_discrete_map={color_disc_map[0]: 'red', color_disc_map[1]: 'blue',\n",
    "                                color_disc_map[2]: 'green'} if color_disc_map else None,\n",
    "            scope=\"usa\",\n",
    "            labels={'count': label} if label else None,\n",
    "            title=title)\n",
    "        if add_trace is True:\n",
    "            fig.add_trace(go.Scattergeo(\n",
    "                lon=lon,\n",
    "                lat=lat,\n",
    "                hovertext=hover_txt,\n",
    "                mode='markers',\n",
    "                marker=dict(\n",
    "                    size=7,\n",
    "                    color='red',\n",
    "                    symbol='star'\n",
    "                ),\n",
    "                name='Universities'\n",
    "            ))\n",
    "        fig.update_layout(margin={\"r\": 0, \"t\": 40, \"l\": 0, \"b\": 0})\n",
    "     #   pio.renderers.default = 'browser'\n",
    "        fig.show()\n",
    "\n",
    "    elif viz_type == 'scattergeo':\n",
    "        fig = px.scatter_geo(\n",
    "            dataset,\n",
    "            lon=lon,\n",
    "            lat=lat,\n",
    "            color=color_by,  # color by assignee type\n",
    "            scope='usa',\n",
    "            hover_name=hover_txt,  # or another field like 'assignee_name'\n",
    "            title=title,\n",
    "            color_discrete_map={color_disc_map[0]: 'red', color_disc_map[1]: 'blue',\n",
    "                                color_disc_map[2]: 'green'} if color_disc_map else None,\n",
    "            labels={'count': label} if label else None)\n",
    "        fig.update_layout(margin={\"r\": 0, \"t\": 40, \"l\": 0, \"b\": 0})\n",
    "     #   pio.renderers.default = 'browser'\n",
    "        fig.show()\n",
    "\n",
    "    elif viz_type == 'bar':\n",
    "        fig = px.bar(\n",
    "            dataset,\n",
    "            x=bar_x,\n",
    "            y=bar_y,\n",
    "            color=color_by,\n",
    "            title=title,\n",
    "            labels={'count': 'Number of Patents', 'disambig_state': 'State'},\n",
    "            barmode='stack' if bar_stack is True else None,  # or 'stack' for stacked bars\n",
    "            category_orders={bar_x: sorted(dataset[bar_x].unique())}\n",
    "        )\n",
    "\n",
    "        fig.update_layout(\n",
    "            xaxis_tickangle=-45,\n",
    "            xaxis=dict(\n",
    "                tickmode='linear',  # force evenly spaced ticks\n",
    "                dtick=1  # one tick per category\n",
    "            ))\n",
    "       # pio.renderers.default = 'browser'\n",
    "        fig.show()"
   ],
   "id": "bdb60372f7375d0a",
   "outputs": [],
   "execution_count": 12
  },
  {
   "metadata": {
    "ExecuteTime": {
     "end_time": "2025-05-14T15:43:35.742450Z",
     "start_time": "2025-05-14T15:43:35.017340Z"
    }
   },
   "cell_type": "code",
   "source": [
    "# Subset data for reduce sample size on map\n",
    "density_by_county_type = (cleaned_patent_df.groupby(['county_fips', 'type_name']).size().reset_index(name='count'))\n",
    "density_by_county_type_sub = (cleaned_sample_df.groupby(['county_fips', 'type_name']).size().reset_index(name='count'))\n",
    "# For each county, keep the row with the highest count\n",
    "dominant_type = density_by_county_type.sort_values('count', ascending=False).drop_duplicates('county_fips')\n",
    "dominant_type_sub = density_by_county_type_sub.sort_values('count', ascending=False).drop_duplicates('county_fips')"
   ],
   "id": "abc364734aca9da3",
   "outputs": [],
   "execution_count": 13
  },
  {
   "metadata": {},
   "cell_type": "markdown",
   "source": [
    "## 1. Scatter map\n",
    "- This visualization shows data points on map by whether patent assignee is individual, government, or company in U.S.\n",
    "- Just like in the hypothesis 2, the map used subsampled version for performance issue.\n",
    "- Dataset subsetted by around 1/20 due to large sample size (n>10M)\n",
    "- Got an assistence from ChatGPT for the plot"
   ],
   "id": "3d16a71b03d04ae1"
  },
  {
   "metadata": {
    "ExecuteTime": {
     "end_time": "2025-05-14T15:43:48.473522Z",
     "start_time": "2025-05-14T15:43:35.794624Z"
    }
   },
   "cell_type": "code",
   "source": [
    "# Choropleth for individual density\n",
    "vizualization(geojson=counties_geo, dataset=cleaned_sample_df, viz_type='scattergeo',\n",
    "              lon='longitude', lat='latitude',\n",
    "              color_by='type_name', color_disc_map=['company', 'government', 'individual'], title='Patent Applications by Assignee Type in the U.S.', hover_txt='type_name')"
   ],
   "id": "3b910bc4357d23be",
   "outputs": [],
   "execution_count": 14
  },
  {
   "metadata": {},
   "cell_type": "markdown",
   "source": [
    "### Result from scatter map\n",
    "- Unclear about organizations are centered in urban area compare to the individual"
   ],
   "id": "7a68c84b6cda2f00"
  },
  {
   "metadata": {},
   "cell_type": "markdown",
   "source": [
    "## 2. Density map\n",
    "- This is the visualization by counties by density of patent application\n",
    "- First visualization shows 3 heatmaps by 'individual', 'company', 'government', how are they concentrate in counties\n",
    "- Second visualization shows map that colored with dominant patent application amount by 'individual', 'company', 'government'. Subset company samples by 50000, similar amount with individuals to check dominance over counties in same size of patent application.\n",
    "- Third is similar with the second but used full dataset that company not subsampled with 50000.\n",
    "- Got an assistence from ChatGPT for the plot"
   ],
   "id": "714227b662bbb239"
  },
  {
   "metadata": {
    "ExecuteTime": {
     "end_time": "2025-05-14T15:44:03.035379Z",
     "start_time": "2025-05-14T15:43:48.676909Z"
    }
   },
   "cell_type": "code",
   "source": [
    "# Loop over assignee types and create maps\n",
    "for assignee in ['individual', 'company', 'government']:\n",
    "    sub_df = density_by_county_type[density_by_county_type['type_name'] == assignee]\n",
    "    vizualization(geojson=counties_geo, dataset=sub_df, viz_type='choropleth',\n",
    "              location_layout='county_fips',\n",
    "              color_by='count', title=f'Patent Density by County — {assignee.capitalize()} Assignee')"
   ],
   "id": "b3e8f1ba3b354a47",
   "outputs": [],
   "execution_count": 15
  },
  {
   "metadata": {
    "ExecuteTime": {
     "end_time": "2025-05-14T15:44:09.587352Z",
     "start_time": "2025-05-14T15:44:03.266528Z"
    }
   },
   "cell_type": "code",
   "source": [
    "# Plot for sample by 50000 for the company\n",
    "vizualization(geojson=counties_geo, dataset=dominant_type_sub, viz_type='choropleth', location_layout='county_fips',\n",
    "              color_by='type_name', color_disc_map=['company', 'government', 'individual'], title='Dominant Patent Assignee Type by County')"
   ],
   "id": "966ed8b4dee1e027",
   "outputs": [],
   "execution_count": 16
  },
  {
   "metadata": {
    "ExecuteTime": {
     "end_time": "2025-05-14T15:44:15.076361Z",
     "start_time": "2025-05-14T15:44:09.848793Z"
    }
   },
   "cell_type": "code",
   "source": [
    "# Plot for whole dataset for the company\n",
    "vizualization(geojson=counties_geo, dataset=dominant_type, viz_type='choropleth', location_layout='county_fips',\n",
    "              color_by='type_name', color_disc_map=['company', 'government', 'individual'], title='Dominant Patent Assignee Type by County')"
   ],
   "id": "763061e31c4d9e77",
   "outputs": [],
   "execution_count": 17
  },
  {
   "metadata": {},
   "cell_type": "markdown",
   "source": [
    "### Result from density maps\n",
    "- Density map for individual and company shows companies are more spreaded\n",
    "- Density map with dominant patent assignee showed\n",
    "- - Individuals are majority if subset company with same size of individual patents\n",
    "- - Companies are majority if use full dataset"
   ],
   "id": "f72b0c07e1a5f0f8"
  },
  {
   "metadata": {},
   "cell_type": "markdown",
   "source": [
    "## 3. Bar plot\n",
    "- As previous visualizations were lack of explain in the main hypothesis: so assignee from company are more focused in area and individuals more spreaded?\n",
    "- We try to show this by state-wise (since county is too many to visualize in bar plot)\n",
    "- Prepared 2 bar plots,\n",
    "- one for stacked bar plot to see overall amount with concentration on patent application by assginee\n",
    "- another for interactive bar plot that user can choose assignee type from drop down menu, can individually check 'individual', 'company', and 'government' patent application density by states.\n",
    "- Got an assistence from ChatGPT for the plot"
   ],
   "id": "780b4d417c0cb702"
  },
  {
   "metadata": {
    "ExecuteTime": {
     "end_time": "2025-05-14T15:44:16.403497Z",
     "start_time": "2025-05-14T15:44:15.192645Z"
    }
   },
   "cell_type": "code",
   "source": [
    "# Group and count patents per state per assignee type\n",
    "state_counts = (cleaned_patent_df.groupby(['disambig_state', 'type_name']).size().reset_index(name='count'))"
   ],
   "id": "c2e2aef60cc559af",
   "outputs": [],
   "execution_count": 18
  },
  {
   "metadata": {
    "ExecuteTime": {
     "end_time": "2025-05-14T15:44:18.175038Z",
     "start_time": "2025-05-14T15:44:16.578569Z"
    }
   },
   "cell_type": "code",
   "source": [
    "# Plot for bar chart stacked with types of assignee ('company', 'government', 'individual')\n",
    "vizualization(geojson=counties_geo, dataset=state_counts, viz_type='bar', bar_x='disambig_state', bar_y='count',\n",
    "              color_by='type_name', title='Patent Count by State and Assignee Type')"
   ],
   "id": "f163a64a9957df81",
   "outputs": [],
   "execution_count": 19
  },
  {
   "metadata": {
    "ExecuteTime": {
     "end_time": "2025-05-14T15:44:19.767133Z",
     "start_time": "2025-05-14T15:44:18.288494Z"
    }
   },
   "cell_type": "code",
   "source": [
    "# Interactive bar plot with dropdown menu for types of assignee ('company', 'government', 'individual')\n",
    "# Also got helped from ChatGPT, for the creating button and apply to visualization\n",
    "# Get unique assignee types\n",
    "assignee_types = state_counts['type_name'].unique()\n",
    "states = sorted(state_counts['disambig_state'].unique())\n",
    "\n",
    "# Create dropdown buttons\n",
    "buttons = []\n",
    "for i, atype in enumerate(assignee_types):\n",
    "    visibility = [False] * len(assignee_types)\n",
    "    visibility[i] = True\n",
    "    buttons.append(dict(label=atype, method=\"update\", args=[{\"visible\": visibility}, {\"title\": f\"Patents by State — {atype.capitalize()}\"}]))\n",
    "\n",
    "# Create a bar trace for each assignee type\n",
    "fig = go.Figure()\n",
    "for atype in assignee_types:\n",
    "    df_sub = state_counts[state_counts['type_name'] == atype]\n",
    "    fig.add_trace(go.Bar(\n",
    "        x=df_sub['disambig_state'],\n",
    "        y=df_sub['count'],\n",
    "        name=atype,\n",
    "        visible=(atype == 'individual')  # Show only one at a time initially\n",
    "    ))\n",
    "\n",
    "# Add dropdown to layout\n",
    "fig.update_layout(\n",
    "    updatemenus=[{\n",
    "        \"buttons\": buttons,\n",
    "        \"direction\": \"down\",\n",
    "        \"showactive\": True,\n",
    "        \"x\": 0.0,\n",
    "        \"xanchor\": \"left\",\n",
    "        \"y\": 1.15,\n",
    "        \"yanchor\": \"top\"\n",
    "    }],\n",
    "    xaxis=dict(\n",
    "        tickmode='linear',\n",
    "        dtick=1\n",
    "    ),\n",
    "    xaxis_tickangle=-45,\n",
    "    barmode='stack',  # still allows stacked view per state if you switch back\n",
    "    title=\"Patents by State — Individual\"\n",
    ")\n",
    "#pio.renderers.default = 'browser'\n",
    "fig.show()"
   ],
   "id": "80ee23514acb8ce5",
   "outputs": [],
   "execution_count": 20
  },
  {
   "metadata": {},
   "cell_type": "markdown",
   "source": [
    "### Result from the bar plots\n",
    "- We can clearly see companies’ patent activity indeed centered states like California and New York.\n",
    "- However, is was the similar for individual patent activity\n",
    "- Hard to say organizations are more concentrated"
   ],
   "id": "5c1fea1fe3776498"
  },
  {
   "metadata": {},
   "cell_type": "markdown",
   "source": [
    "## 4. Mann–Whitney U Test\n",
    "- Still one final question remained, does companies more clustered around busniess hub and individuals are more spreaded?\n",
    "- We compared statistics by comparing amount of patent application by counties, Company assignee in urban vs. rural and Individual assignee in urban vs. rural.\n",
    "- Then applied Mann–Whitney U Test to check each assignee's patent application in urban and rural counties are different, which if both companies and individuals shown to be different, then the hypothesis likely wrong because they are both distribution are different in counties."
   ],
   "id": "6327e9b5efe7f866"
  },
  {
   "metadata": {
    "ExecuteTime": {
     "end_time": "2025-05-14T15:44:19.942814Z",
     "start_time": "2025-05-14T15:44:19.926841Z"
    }
   },
   "cell_type": "code",
   "source": [
    "# Filtering counties by urban percentage that is over 0%\n",
    "urban_county_df = urban_county_df[urban_county_df['ALAND_PCT_URB'] > 0].copy()"
   ],
   "id": "4984366cae72ea5e",
   "outputs": [],
   "execution_count": 21
  },
  {
   "metadata": {
    "ExecuteTime": {
     "end_time": "2025-05-14T15:44:20.034088Z",
     "start_time": "2025-05-14T15:44:20.026051Z"
    }
   },
   "cell_type": "code",
   "source": [
    "# create combined fips code for county\n",
    "urban_county_df['FIPS'] = urban_county_df['STATE'] + urban_county_df['COUNTY']"
   ],
   "id": "b67a8a6ff31078ca",
   "outputs": [],
   "execution_count": 22
  },
  {
   "metadata": {
    "ExecuteTime": {
     "end_time": "2025-05-14T15:44:20.501517Z",
     "start_time": "2025-05-14T15:44:20.456450Z"
    }
   },
   "cell_type": "code",
   "source": [
    "# create column for urban or not for each county based on fips code from urban_county_df\n",
    "density_by_county_type['is_urban'] = density_by_county_type['county_fips'].isin(urban_county_df['FIPS'])"
   ],
   "id": "fa4f85922e2df5ad",
   "outputs": [],
   "execution_count": 23
  },
  {
   "metadata": {
    "ExecuteTime": {
     "end_time": "2025-05-14T15:44:20.855090Z",
     "start_time": "2025-05-14T15:44:20.756639Z"
    }
   },
   "cell_type": "code",
   "source": [
    "def filter_urban(dataframe:pd.DataFrame, assign_type:str, county_type:bool) -> pd.DataFrame:\n",
    "    '''\n",
    "    :param dataframe: Pandas dataframe, filtered dataframe for each assignee type that contains only urban or rural counties\n",
    "    :param assign_type: string, assignee type for each patent application that is either 'individual' or 'company'\n",
    "    :param county_type: boolean, assignee type for each patent application that is either 'is_urban' or 'rural'\n",
    "    :return: Pandas dataframe, filtered dataframe for each assignee type that contains only urban or rural counties\n",
    "    '''\n",
    "    return dataframe[(dataframe['is_urban'] == county_type) & (dataframe['type_name'] == assign_type)]"
   ],
   "id": "66d939182357d527",
   "outputs": [],
   "execution_count": 24
  },
  {
   "metadata": {
    "ExecuteTime": {
     "end_time": "2025-05-14T15:44:21.105398Z",
     "start_time": "2025-05-14T15:44:21.083557Z"
    }
   },
   "cell_type": "code",
   "source": [
    "ind_urban_density_df = filter_urban(density_by_county_type, 'individual', True)\n",
    "ind_rural_density_df = filter_urban(density_by_county_type, 'individual', False)\n",
    "comp_urban_density_df = filter_urban(density_by_county_type, 'company', True)\n",
    "comp_rural_density_df = filter_urban(density_by_county_type, 'company', False)"
   ],
   "id": "622a890010153cb3",
   "outputs": [],
   "execution_count": 25
  },
  {
   "metadata": {
    "ExecuteTime": {
     "end_time": "2025-05-14T15:44:21.313760Z",
     "start_time": "2025-05-14T15:44:21.277318Z"
    }
   },
   "cell_type": "code",
   "source": [
    "# According to the Mann–Whitney U Test, the distributions are significantly different (p-value < 0.05)\n",
    "# we can conclude that the distribution of patent density for individuals is significantly different between urban and rural counties.\n",
    "mannwhitneyu(ind_urban_density_df['count'], ind_rural_density_df['count'], alternative='two-sided')"
   ],
   "id": "a8c3db33cf1f7cff",
   "outputs": [
    {
     "data": {
      "text/plain": [
       "MannwhitneyuResult(statistic=np.float64(379920.5), pvalue=np.float64(1.3803444705679366e-51))"
      ]
     },
     "execution_count": 26,
     "metadata": {},
     "output_type": "execute_result"
    }
   ],
   "execution_count": 26
  },
  {
   "metadata": {
    "ExecuteTime": {
     "end_time": "2025-05-14T15:44:21.923822Z",
     "start_time": "2025-05-14T15:44:21.883844Z"
    }
   },
   "cell_type": "code",
   "source": [
    "# we can conclude that the distribution of patent density for companies is significantly different between urban and rural counties.\n",
    "mannwhitneyu(comp_urban_density_df['count'], comp_rural_density_df['count'], alternative='two-sided')"
   ],
   "id": "1666d279014fe76b",
   "outputs": [
    {
     "data": {
      "text/plain": [
       "MannwhitneyuResult(statistic=np.float64(1308956.0), pvalue=np.float64(3.1239562045013912e-174))"
      ]
     },
     "execution_count": 27,
     "metadata": {},
     "output_type": "execute_result"
    }
   ],
   "execution_count": 27
  },
  {
   "metadata": {},
   "cell_type": "markdown",
   "source": [
    "### Result from the Mann–Whitney U Test\n",
    "- According to the Mann–Whitney U Test, the distributions are significantly different (p-value < 0.05) for company and individual assignees\n",
    "- we can conclude that the distribution of patent density for companies is significantly different between urban and rural counties.\n",
    "- Overall, according to the bar plots and Mann–Whitney U Test, individual also concentrated in urban counties, which \"hypothesis 4: We hypothesize that patents assigned to organizations (companies, universities, government) show a more concentrated geographic footprint compared to patents with individual or no clear assignee. Specifically, we expect corporate-assigned patents to cluster around business hubs (e.g. California and New York), while individually filed patents may appear more dispersed.\" is likely not right."
   ],
   "id": "71e36a7fa254ec6"
  },
  {
   "metadata": {},
   "cell_type": "markdown",
   "source": [
    "## AI usage\n",
    "- Visualizations and statistics codes are created with assistance of ChatGPT"
   ],
   "id": "b35e9551e9dcc453"
  }
 ],
 "metadata": {
  "kernelspec": {
   "display_name": "Python 3",
   "language": "python",
   "name": "python3"
  },
  "language_info": {
   "codemirror_mode": {
    "name": "ipython",
    "version": 2
   },
   "file_extension": ".py",
   "mimetype": "text/x-python",
   "name": "python",
   "nbconvert_exporter": "python",
   "pygments_lexer": "ipython2",
   "version": "2.7.6"
  }
 },
 "nbformat": 4,
 "nbformat_minor": 5
}
